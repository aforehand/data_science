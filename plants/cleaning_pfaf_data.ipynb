{
 "cells": [
  {
   "cell_type": "markdown",
   "metadata": {},
   "source": [
    "### clean data from PFAF"
   ]
  },
  {
   "cell_type": "code",
   "execution_count": 20,
   "metadata": {},
   "outputs": [],
   "source": [
    "import pandas as pd\n",
    "import re\n",
    "import numpy as np"
   ]
  },
  {
   "cell_type": "code",
   "execution_count": 118,
   "metadata": {},
   "outputs": [],
   "source": [
    "pfaf = pd.read_csv('pfaf_data.csv')"
   ]
  },
  {
   "cell_type": "code",
   "execution_count": 3,
   "metadata": {},
   "outputs": [],
   "source": [
    "pfaf.to_csv('pfaf_data_original.csv', index=False)"
   ]
  },
  {
   "cell_type": "code",
   "execution_count": 119,
   "metadata": {},
   "outputs": [],
   "source": [
    "pfaf = pfaf.drop_duplicates()"
   ]
  },
  {
   "cell_type": "code",
   "execution_count": 89,
   "metadata": {},
   "outputs": [
    {
     "data": {
      "text/plain": [
       "Index(['Care', 'Common Name', 'Cultivation details', 'Edibility Rating',\n",
       "       'Edible Uses', 'Family', 'Found In', 'Genus', 'Habitats',\n",
       "       'Known Hazards', 'Medicinal Rating', 'Medicinal Uses', 'Other Names',\n",
       "       'Other Uses', 'Physical Characteristics', 'Propagation', 'Range',\n",
       "       'Species', 'Summary', 'Synonyms', 'USDA hardiness', 'Weed Potential',\n",
       "       'Unnamed: 22'],\n",
       "      dtype='object')"
      ]
     },
     "execution_count": 89,
     "metadata": {},
     "output_type": "execute_result"
    }
   ],
   "source": [
    "pfaf.columns"
   ]
  },
  {
   "cell_type": "code",
   "execution_count": 90,
   "metadata": {},
   "outputs": [
    {
     "name": "stdout",
     "output_type": "stream",
     "text": [
      "Care 0\n",
      "Common Name 4009\n",
      "Cultivation details 4007\n",
      "Edibility Rating 4005\n",
      "Edible Uses 4007\n",
      "Family 4005\n",
      "Found In 5432\n",
      "Genus 0\n",
      "Habitats 4112\n",
      "Known Hazards 4005\n",
      "Medicinal Rating 4005\n",
      "Medicinal Uses 4005\n",
      "Other Names 5435\n",
      "Other Uses 4005\n",
      "Physical Characteristics 4005\n",
      "Propagation 4027\n",
      "Range 4006\n",
      "Species 0\n",
      "Summary 5145\n",
      "Synonyms 4823\n",
      "USDA hardiness 4005\n",
      "Weed Potential 5449\n",
      "Unnamed: 22 5577\n"
     ]
    }
   ],
   "source": [
    "for c in pfaf.columns:\n",
    "    print(c, pfaf[c].isnull().sum())"
   ]
  },
  {
   "cell_type": "code",
   "execution_count": 91,
   "metadata": {},
   "outputs": [
    {
     "data": {
      "text/plain": [
       "array([nan, '   (1 of 5)', '   (3 of 5)', '   (0 of 5)', '   (2 of 5)',\n",
       "       '   (4 of 5)', '   (5 of 5)'], dtype=object)"
      ]
     },
     "execution_count": 91,
     "metadata": {},
     "output_type": "execute_result"
    }
   ],
   "source": [
    "pfaf['Edibility Rating'].unique()"
   ]
  },
  {
   "cell_type": "code",
   "execution_count": 120,
   "metadata": {},
   "outputs": [],
   "source": [
    "pfaf.fillna('', inplace=True)\n",
    "pfaf['Edibility Rating'].replace('', '0', inplace=True)"
   ]
  },
  {
   "cell_type": "code",
   "execution_count": 121,
   "metadata": {},
   "outputs": [],
   "source": [
    "pfaf['Edibility Rating'] = pfaf['Edibility Rating'].str.extract(r'([0-9])').astype(int)"
   ]
  },
  {
   "cell_type": "code",
   "execution_count": 122,
   "metadata": {},
   "outputs": [
    {
     "data": {
      "text/plain": [
       "'Edible Parts: Inner bark\\nEdible Uses: Gum  Tea\\n\\nYoung shoot tips are used as a substitute for tea[177, 183]. The pitch obtained from the bark can be hardened (probably by immersing it in cold water[K]) and used as a chewing gum[257]. Inner bark[257]. No further information is given, but inner bark can be dried, ground into a powder and then used with grain flours etc to make bread and other preparations[257].'"
      ]
     },
     "execution_count": 122,
     "metadata": {},
     "output_type": "execute_result"
    }
   ],
   "source": [
    "pfaf['Edible Uses'].iloc[1]"
   ]
  },
  {
   "cell_type": "code",
   "execution_count": 123,
   "metadata": {},
   "outputs": [],
   "source": [
    "edible_cols = pfaf['Edible Uses'].str.split('\\n', expand=True)"
   ]
  },
  {
   "cell_type": "code",
   "execution_count": 124,
   "metadata": {},
   "outputs": [],
   "source": [
    "edible_cols[['Genus', 'Species']] = pfaf[['Genus', 'Species']]"
   ]
  },
  {
   "cell_type": "code",
   "execution_count": 132,
   "metadata": {},
   "outputs": [],
   "source": [
    "edible_cols.fillna('', inplace=True)"
   ]
  },
  {
   "cell_type": "code",
   "execution_count": 143,
   "metadata": {},
   "outputs": [
    {
     "data": {
      "text/plain": [
       "Counter({'Edible': 1188,\n",
       "         'Parts:': 1188,\n",
       "         'Inner': 59,\n",
       "         'bark': 59,\n",
       "         'Root': 282,\n",
       "         'Seed': 361,\n",
       "         'Seedpod': 42,\n",
       "         'Sap': 35,\n",
       "         'Leaves': 400,\n",
       "         'Flowers': 155,\n",
       "         'Fruit': 331,\n",
       "         'Stem': 86,\n",
       "         'Nectar': 5,\n",
       "         'Apical': 1,\n",
       "         'bud': 1,\n",
       "         'Oil': 80,\n",
       "         'Shoots': 1,\n",
       "         'Manna': 3,\n",
       "         'Pollen': 3})"
      ]
     },
     "execution_count": 143,
     "metadata": {},
     "output_type": "execute_result"
    }
   ],
   "source": [
    "from collections import Counter\n",
    "\n",
    "edible_parts_counts = Counter()\n",
    "edible_uses_counts = Counter()\n",
    "edible_cols[edible_cols[0].str.contains('Edible Parts')][0].str.split().apply(\n",
    "    edible_parts_counts.update)\n",
    "edible_cols[edible_cols[1].str.contains('Edible Uses')][1].str.split().apply(\n",
    "    edible_uses_counts.update)\n",
    "edible_parts_counts"
   ]
  },
  {
   "cell_type": "code",
   "execution_count": 134,
   "metadata": {},
   "outputs": [
    {
     "data": {
      "text/html": [
       "<div>\n",
       "<style scoped>\n",
       "    .dataframe tbody tr th:only-of-type {\n",
       "        vertical-align: middle;\n",
       "    }\n",
       "\n",
       "    .dataframe tbody tr th {\n",
       "        vertical-align: top;\n",
       "    }\n",
       "\n",
       "    .dataframe thead th {\n",
       "        text-align: right;\n",
       "    }\n",
       "</style>\n",
       "<table border=\"1\" class=\"dataframe\">\n",
       "  <thead>\n",
       "    <tr style=\"text-align: right;\">\n",
       "      <th></th>\n",
       "      <th>0</th>\n",
       "      <th>1</th>\n",
       "      <th>2</th>\n",
       "      <th>3</th>\n",
       "      <th>Genus</th>\n",
       "      <th>Species</th>\n",
       "    </tr>\n",
       "  </thead>\n",
       "  <tbody>\n",
       "    <tr>\n",
       "      <th>106</th>\n",
       "      <td>Edible Parts: Nectar  Seed</td>\n",
       "      <td>Edible Uses:</td>\n",
       "      <td></td>\n",
       "      <td>Seed - cooked. Said to be as sweet as a chestn...</td>\n",
       "      <td>Aesculus</td>\n",
       "      <td>flava</td>\n",
       "    </tr>\n",
       "    <tr>\n",
       "      <th>1658</th>\n",
       "      <td>Edible Parts: Fruit  Nectar</td>\n",
       "      <td>Edible Uses:</td>\n",
       "      <td></td>\n",
       "      <td>Fruit - raw[60, 105]. A sweet flavour[61]. The...</td>\n",
       "      <td>Comandra</td>\n",
       "      <td>umbellata</td>\n",
       "    </tr>\n",
       "    <tr>\n",
       "      <th>2858</th>\n",
       "      <td>Edible Parts: Nectar</td>\n",
       "      <td>Edible Uses: Tea</td>\n",
       "      <td></td>\n",
       "      <td>The plant has been boiled up as a tea[257]. Th...</td>\n",
       "      <td>Ipomopsis</td>\n",
       "      <td>aggregata</td>\n",
       "    </tr>\n",
       "    <tr>\n",
       "      <th>3132</th>\n",
       "      <td>Edible Parts: Fruit  Nectar</td>\n",
       "      <td>Edible Uses:</td>\n",
       "      <td></td>\n",
       "      <td>Fruit - raw or cooked[105, 177, 212]. Not tast...</td>\n",
       "      <td>Lonicera</td>\n",
       "      <td>ciliosa</td>\n",
       "    </tr>\n",
       "    <tr>\n",
       "      <th>3326</th>\n",
       "      <td>Edible Parts: Fruit  Nectar</td>\n",
       "      <td>Edible Uses:</td>\n",
       "      <td></td>\n",
       "      <td>Fruit - fresh or dried[61, 105, 183]. The frui...</td>\n",
       "      <td>Menziesia</td>\n",
       "      <td>ferruginea</td>\n",
       "    </tr>\n",
       "  </tbody>\n",
       "</table>\n",
       "</div>"
      ],
      "text/plain": [
       "                                0                 1 2  \\\n",
       "106    Edible Parts: Nectar  Seed      Edible Uses:     \n",
       "1658  Edible Parts: Fruit  Nectar      Edible Uses:     \n",
       "2858         Edible Parts: Nectar  Edible Uses: Tea     \n",
       "3132  Edible Parts: Fruit  Nectar      Edible Uses:     \n",
       "3326  Edible Parts: Fruit  Nectar      Edible Uses:     \n",
       "\n",
       "                                                      3      Genus     Species  \n",
       "106   Seed - cooked. Said to be as sweet as a chestn...   Aesculus       flava  \n",
       "1658  Fruit - raw[60, 105]. A sweet flavour[61]. The...   Comandra   umbellata  \n",
       "2858  The plant has been boiled up as a tea[257]. Th...  Ipomopsis   aggregata  \n",
       "3132  Fruit - raw or cooked[105, 177, 212]. Not tast...   Lonicera     ciliosa  \n",
       "3326  Fruit - fresh or dried[61, 105, 183]. The frui...  Menziesia  ferruginea  "
      ]
     },
     "execution_count": 134,
     "metadata": {},
     "output_type": "execute_result"
    }
   ],
   "source": [
    "edible_cols[edible_cols[0].str.contains('Nectar')]"
   ]
  },
  {
   "cell_type": "code",
   "execution_count": 135,
   "metadata": {},
   "outputs": [
    {
     "data": {
      "text/plain": [
       "'The plant has been boiled up as a tea[257]. The nectar is sucked from the flowers by children[257].'"
      ]
     },
     "execution_count": 135,
     "metadata": {},
     "output_type": "execute_result"
    }
   ],
   "source": [
    "edible_cols[3].loc[2858]"
   ]
  },
  {
   "cell_type": "code",
   "execution_count": 136,
   "metadata": {},
   "outputs": [
    {
     "data": {
      "text/html": [
       "<div>\n",
       "<style scoped>\n",
       "    .dataframe tbody tr th:only-of-type {\n",
       "        vertical-align: middle;\n",
       "    }\n",
       "\n",
       "    .dataframe tbody tr th {\n",
       "        vertical-align: top;\n",
       "    }\n",
       "\n",
       "    .dataframe thead th {\n",
       "        text-align: right;\n",
       "    }\n",
       "</style>\n",
       "<table border=\"1\" class=\"dataframe\">\n",
       "  <thead>\n",
       "    <tr style=\"text-align: right;\">\n",
       "      <th></th>\n",
       "      <th>0</th>\n",
       "      <th>1</th>\n",
       "      <th>2</th>\n",
       "      <th>3</th>\n",
       "      <th>Genus</th>\n",
       "      <th>Species</th>\n",
       "    </tr>\n",
       "  </thead>\n",
       "  <tbody>\n",
       "    <tr>\n",
       "      <th>2987</th>\n",
       "      <td>Edible Parts: Manna  Sap</td>\n",
       "      <td>Edible Uses: Gum  Sweetener</td>\n",
       "      <td></td>\n",
       "      <td>A gum, or resin, is produced under the bark. I...</td>\n",
       "      <td>Larix</td>\n",
       "      <td>occidentalis</td>\n",
       "    </tr>\n",
       "    <tr>\n",
       "      <th>4303</th>\n",
       "      <td>Edible Parts: Inner bark  Manna</td>\n",
       "      <td>Edible Uses: Coffee  Condiment  Gum  Tea</td>\n",
       "      <td></td>\n",
       "      <td>Young shoot tips - used as a flavouring in coo...</td>\n",
       "      <td>Pseudotsuga</td>\n",
       "      <td>menziesii</td>\n",
       "    </tr>\n",
       "    <tr>\n",
       "      <th>4653</th>\n",
       "      <td>Edible Parts: Flowers  Inner bark  Manna</td>\n",
       "      <td>Edible Uses: Tea</td>\n",
       "      <td></td>\n",
       "      <td>A honeydew can be obtained from the cut branch...</td>\n",
       "      <td>Salix</td>\n",
       "      <td>gooddingii</td>\n",
       "    </tr>\n",
       "  </tbody>\n",
       "</table>\n",
       "</div>"
      ],
      "text/plain": [
       "                                             0  \\\n",
       "2987                  Edible Parts: Manna  Sap   \n",
       "4303           Edible Parts: Inner bark  Manna   \n",
       "4653  Edible Parts: Flowers  Inner bark  Manna   \n",
       "\n",
       "                                             1 2  \\\n",
       "2987               Edible Uses: Gum  Sweetener     \n",
       "4303  Edible Uses: Coffee  Condiment  Gum  Tea     \n",
       "4653                          Edible Uses: Tea     \n",
       "\n",
       "                                                      3        Genus  \\\n",
       "2987  A gum, or resin, is produced under the bark. I...        Larix   \n",
       "4303  Young shoot tips - used as a flavouring in coo...  Pseudotsuga   \n",
       "4653  A honeydew can be obtained from the cut branch...        Salix   \n",
       "\n",
       "           Species  \n",
       "2987  occidentalis  \n",
       "4303     menziesii  \n",
       "4653    gooddingii  "
      ]
     },
     "execution_count": 136,
     "metadata": {},
     "output_type": "execute_result"
    }
   ],
   "source": [
    "edible_cols[edible_cols[0].str.contains('Manna')]"
   ]
  },
  {
   "cell_type": "code",
   "execution_count": 137,
   "metadata": {},
   "outputs": [
    {
     "data": {
      "text/html": [
       "<div>\n",
       "<style scoped>\n",
       "    .dataframe tbody tr th:only-of-type {\n",
       "        vertical-align: middle;\n",
       "    }\n",
       "\n",
       "    .dataframe tbody tr th {\n",
       "        vertical-align: top;\n",
       "    }\n",
       "\n",
       "    .dataframe thead th {\n",
       "        text-align: right;\n",
       "    }\n",
       "</style>\n",
       "<table border=\"1\" class=\"dataframe\">\n",
       "  <thead>\n",
       "    <tr style=\"text-align: right;\">\n",
       "      <th></th>\n",
       "      <th>0</th>\n",
       "      <th>1</th>\n",
       "      <th>2</th>\n",
       "      <th>3</th>\n",
       "      <th>Genus</th>\n",
       "      <th>Species</th>\n",
       "    </tr>\n",
       "  </thead>\n",
       "  <tbody>\n",
       "    <tr>\n",
       "      <th>4761</th>\n",
       "      <td>Edible Parts: Pollen  Root  Seed  Stem</td>\n",
       "      <td>Edible Uses:</td>\n",
       "      <td></td>\n",
       "      <td>Root - raw or cooked[172]. Rich in starch. Ste...</td>\n",
       "      <td>Scirpus</td>\n",
       "      <td>microcarpus</td>\n",
       "    </tr>\n",
       "    <tr>\n",
       "      <th>5378</th>\n",
       "      <td>Edible Parts: Flowers  Leaves  Oil  Pollen  Ro...</td>\n",
       "      <td>Edible Uses: Oil</td>\n",
       "      <td></td>\n",
       "      <td>Roots - raw or cooked[145]. Rich in starch[105...</td>\n",
       "      <td>Typha</td>\n",
       "      <td>domingensis</td>\n",
       "    </tr>\n",
       "    <tr>\n",
       "      <th>5379</th>\n",
       "      <td>Edible Parts: Flowers  Leaves  Oil  Pollen  Ro...</td>\n",
       "      <td>Edible Uses: Oil</td>\n",
       "      <td></td>\n",
       "      <td>Roots - raw or cooked[2, 12]. They can be boil...</td>\n",
       "      <td>Typha</td>\n",
       "      <td>latifolia</td>\n",
       "    </tr>\n",
       "  </tbody>\n",
       "</table>\n",
       "</div>"
      ],
      "text/plain": [
       "                                                      0                 1 2  \\\n",
       "4761             Edible Parts: Pollen  Root  Seed  Stem      Edible Uses:     \n",
       "5378  Edible Parts: Flowers  Leaves  Oil  Pollen  Ro...  Edible Uses: Oil     \n",
       "5379  Edible Parts: Flowers  Leaves  Oil  Pollen  Ro...  Edible Uses: Oil     \n",
       "\n",
       "                                                      3    Genus      Species  \n",
       "4761  Root - raw or cooked[172]. Rich in starch. Ste...  Scirpus  microcarpus  \n",
       "5378  Roots - raw or cooked[145]. Rich in starch[105...    Typha  domingensis  \n",
       "5379  Roots - raw or cooked[2, 12]. They can be boil...    Typha    latifolia  "
      ]
     },
     "execution_count": 137,
     "metadata": {},
     "output_type": "execute_result"
    }
   ],
   "source": [
    "edible_cols[edible_cols[0].str.contains('Pollen')]"
   ]
  },
  {
   "cell_type": "code",
   "execution_count": 138,
   "metadata": {},
   "outputs": [
    {
     "data": {
      "text/plain": [
       "76     Leaves - cooked[105]. Some caution is advised,...\n",
       "101         Seeds[257]. No further information is given.\n",
       "192    The heart of the plant is very rich in sacchar...\n",
       "278        Catkins - raw or cooked. A bitter taste[172].\n",
       "441    Young leaves - cooked[177]. Used as a potherb[...\n",
       "Name: 0, dtype: object"
      ]
     },
     "execution_count": 138,
     "metadata": {},
     "output_type": "execute_result"
    }
   ],
   "source": [
    "edible_cols[(~edible_cols[0].str.contains('Edible Parts:')) & \n",
    "            ~(edible_cols[0]=='') & ~(edible_cols[0]=='None known') & \n",
    "            ~(edible_cols[0]=='0')][0].head()"
   ]
  },
  {
   "cell_type": "code",
   "execution_count": 139,
   "metadata": {},
   "outputs": [],
   "source": [
    "edible_cols[3] = np.where(((~edible_cols[0].str.contains('Edible Parts:')) & \n",
    "            ~(edible_cols[0]=='') & ~(edible_cols[0]=='None known') & \n",
    "            ~(edible_cols[0]=='0')), edible_cols[0], edible_cols[3])"
   ]
  },
  {
   "cell_type": "code",
   "execution_count": 140,
   "metadata": {},
   "outputs": [
    {
     "data": {
      "text/plain": [
       "0          Leaves - cooked[105]. Some caution is advised,...\n",
       "1                                                           \n",
       "2                                                           \n",
       "3          Leaves - cooked[105]. Some caution is advised,...\n",
       "Genus                                                 Actaea\n",
       "Species                                             racemosa\n",
       "Name: 76, dtype: object"
      ]
     },
     "execution_count": 140,
     "metadata": {},
     "output_type": "execute_result"
    }
   ],
   "source": [
    "edible_cols.loc[76]"
   ]
  },
  {
   "cell_type": "code",
   "execution_count": 146,
   "metadata": {},
   "outputs": [],
   "source": [
    "pfaf['Edible inner bark'] = edible_cols[0].str.lower().str.contains('inner bark')\n",
    "pfaf['Edible roots'] = edible_cols[0].str.lower().str.contains('root')\n",
    "pfaf['Edible seeds'] = edible_cols[0].str.lower().str.contains('seed')\n",
    "pfaf['Edible seedpods'] = edible_cols[0].str.lower().str.contains('seedpod')\n",
    "pfaf['Edible sap'] = (edible_cols[0].str.lower().str.contains('sap') | \n",
    "                      edible_cols[0].str.lower().str.contains('manna'))\n",
    "pfaf['Edible leaves'] = edible_cols[0].str.lower().str.contains('leaves')\n",
    "pfaf['Edible flowers'] = edible_cols[0].str.lower().str.contains('flowers')\n",
    "pfaf['Edible fruit'] = edible_cols[0].str.lower().str.contains('fruit')\n",
    "pfaf['Edible stems'] = edible_cols[0].str.lower().str.contains('stem')\n",
    "pfaf['Edible oil'] = edible_cols[0].str.lower().str.contains('oil')\n",
    "pfaf['Edible shoots'] = edible_cols[3].str.lower().str.contains('shoots')"
   ]
  },
  {
   "cell_type": "code",
   "execution_count": 144,
   "metadata": {},
   "outputs": [
    {
     "data": {
      "text/plain": [
       "Counter({'Edible': 1188,\n",
       "         'Uses:': 1188,\n",
       "         'Gum': 61,\n",
       "         'Tea': 174,\n",
       "         'Condiment': 120,\n",
       "         'Drink': 38,\n",
       "         'Sweetener': 36,\n",
       "         'Oil': 80,\n",
       "         'Pectin': 7,\n",
       "         'Colouring': 7,\n",
       "         'Coffee': 58,\n",
       "         'Chocolate': 4,\n",
       "         'Milk': 2,\n",
       "         'Curdling': 3,\n",
       "         'agent': 3,\n",
       "         'Rutin': 1,\n",
       "         'Salt': 1,\n",
       "         'Stabilizer': 1,\n",
       "         'Gelatine': 1})"
      ]
     },
     "execution_count": 144,
     "metadata": {},
     "output_type": "execute_result"
    }
   ],
   "source": [
    "edible_uses_counts"
   ]
  },
  {
   "cell_type": "code",
   "execution_count": 149,
   "metadata": {},
   "outputs": [],
   "source": [
    "pfaf['Edible use gum'] = edible_cols[1].str.lower().str.contains('gum')\n",
    "pfaf['Edible use drink'] = (edible_cols[1].str.lower().str.contains('tea') | \n",
    "                            edible_cols[1].str.lower().str.contains('drink') |\n",
    "                            edible_cols[1].str.lower().str.contains('coffee'))\n",
    "pfaf['Edible use condiment'] = edible_cols[1].str.lower().str.contains('condiment')\n",
    "pfaf['Edible use sweetener'] = edible_cols[1].str.lower().str.contains('sweetener')\n",
    "pfaf['Edible use oil'] = edible_cols[1].str.lower().str.contains('oil')"
   ]
  },
  {
   "cell_type": "code",
   "execution_count": null,
   "metadata": {},
   "outputs": [],
   "source": []
  }
 ],
 "metadata": {
  "kernelspec": {
   "display_name": "Python 3",
   "language": "python",
   "name": "python3"
  },
  "language_info": {
   "codemirror_mode": {
    "name": "ipython",
    "version": 3
   },
   "file_extension": ".py",
   "mimetype": "text/x-python",
   "name": "python",
   "nbconvert_exporter": "python",
   "pygments_lexer": "ipython3",
   "version": "3.7.3"
  }
 },
 "nbformat": 4,
 "nbformat_minor": 4
}
