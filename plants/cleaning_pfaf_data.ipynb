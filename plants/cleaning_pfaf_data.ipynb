{
 "cells": [
  {
   "cell_type": "markdown",
   "metadata": {},
   "source": [
    "### clean data from PFAF"
   ]
  },
  {
   "cell_type": "code",
   "execution_count": 578,
   "metadata": {},
   "outputs": [],
   "source": [
    "import pandas as pd\n",
    "import re\n",
    "import numpy as np\n",
    "from collections import Counter"
   ]
  },
  {
   "cell_type": "code",
   "execution_count": 118,
   "metadata": {},
   "outputs": [],
   "source": [
    "pfaf = pd.read_csv('pfaf_data.csv')"
   ]
  },
  {
   "cell_type": "code",
   "execution_count": 3,
   "metadata": {},
   "outputs": [],
   "source": [
    "pfaf.to_csv('pfaf_data_original.csv', index=False)"
   ]
  },
  {
   "cell_type": "code",
   "execution_count": 119,
   "metadata": {},
   "outputs": [],
   "source": [
    "pfaf = pfaf.drop_duplicates()"
   ]
  },
  {
   "cell_type": "code",
   "execution_count": 89,
   "metadata": {},
   "outputs": [
    {
     "data": {
      "text/plain": [
       "Index(['Care', 'Common Name', 'Cultivation details', 'Edibility Rating',\n",
       "       'Edible Uses', 'Family', 'Found In', 'Genus', 'Habitats',\n",
       "       'Known Hazards', 'Medicinal Rating', 'Medicinal Uses', 'Other Names',\n",
       "       'Other Uses', 'Physical Characteristics', 'Propagation', 'Range',\n",
       "       'Species', 'Summary', 'Synonyms', 'USDA hardiness', 'Weed Potential',\n",
       "       'Unnamed: 22'],\n",
       "      dtype='object')"
      ]
     },
     "execution_count": 89,
     "metadata": {},
     "output_type": "execute_result"
    }
   ],
   "source": [
    "pfaf.columns"
   ]
  },
  {
   "cell_type": "code",
   "execution_count": 90,
   "metadata": {},
   "outputs": [
    {
     "name": "stdout",
     "output_type": "stream",
     "text": [
      "Care 0\n",
      "Common Name 4009\n",
      "Cultivation details 4007\n",
      "Edibility Rating 4005\n",
      "Edible Uses 4007\n",
      "Family 4005\n",
      "Found In 5432\n",
      "Genus 0\n",
      "Habitats 4112\n",
      "Known Hazards 4005\n",
      "Medicinal Rating 4005\n",
      "Medicinal Uses 4005\n",
      "Other Names 5435\n",
      "Other Uses 4005\n",
      "Physical Characteristics 4005\n",
      "Propagation 4027\n",
      "Range 4006\n",
      "Species 0\n",
      "Summary 5145\n",
      "Synonyms 4823\n",
      "USDA hardiness 4005\n",
      "Weed Potential 5449\n",
      "Unnamed: 22 5577\n"
     ]
    }
   ],
   "source": [
    "for c in pfaf.columns:\n",
    "    print(c, pfaf[c].isnull().sum())"
   ]
  },
  {
   "cell_type": "markdown",
   "metadata": {},
   "source": [
    "### edible uses"
   ]
  },
  {
   "cell_type": "code",
   "execution_count": 91,
   "metadata": {},
   "outputs": [
    {
     "data": {
      "text/plain": [
       "array([nan, '   (1 of 5)', '   (3 of 5)', '   (0 of 5)', '   (2 of 5)',\n",
       "       '   (4 of 5)', '   (5 of 5)'], dtype=object)"
      ]
     },
     "execution_count": 91,
     "metadata": {},
     "output_type": "execute_result"
    }
   ],
   "source": [
    "pfaf['Edibility Rating'].unique()"
   ]
  },
  {
   "cell_type": "code",
   "execution_count": 120,
   "metadata": {},
   "outputs": [],
   "source": [
    "pfaf.fillna('', inplace=True)\n",
    "pfaf['Edibility Rating'].replace('', '0', inplace=True)"
   ]
  },
  {
   "cell_type": "code",
   "execution_count": 121,
   "metadata": {},
   "outputs": [],
   "source": [
    "pfaf['Edibility Rating'] = pfaf['Edibility Rating'].str.extract(r'([0-9])').astype(int)"
   ]
  },
  {
   "cell_type": "code",
   "execution_count": 122,
   "metadata": {},
   "outputs": [
    {
     "data": {
      "text/plain": [
       "'Edible Parts: Inner bark\\nEdible Uses: Gum  Tea\\n\\nYoung shoot tips are used as a substitute for tea[177, 183]. The pitch obtained from the bark can be hardened (probably by immersing it in cold water[K]) and used as a chewing gum[257]. Inner bark[257]. No further information is given, but inner bark can be dried, ground into a powder and then used with grain flours etc to make bread and other preparations[257].'"
      ]
     },
     "execution_count": 122,
     "metadata": {},
     "output_type": "execute_result"
    }
   ],
   "source": [
    "pfaf['Edible Uses'].iloc[1]"
   ]
  },
  {
   "cell_type": "code",
   "execution_count": 123,
   "metadata": {},
   "outputs": [],
   "source": [
    "edible_cols = pfaf['Edible Uses'].str.split('\\n', expand=True)\n",
    "edible_cols[['Genus', 'Species']] = pfaf[['Genus', 'Species']]\n",
    "edible_cols.fillna('', inplace=True)"
   ]
  },
  {
   "cell_type": "code",
   "execution_count": 235,
   "metadata": {},
   "outputs": [
    {
     "data": {
      "text/plain": [
       "[('Edible', 1188),\n",
       " ('Parts:', 1188),\n",
       " ('Leaves', 400),\n",
       " ('Seed', 361),\n",
       " ('Fruit', 331),\n",
       " ('Root', 282),\n",
       " ('Flowers', 155),\n",
       " ('Stem', 86),\n",
       " ('Oil', 80),\n",
       " ('Inner', 59),\n",
       " ('bark', 59),\n",
       " ('Seedpod', 42),\n",
       " ('Sap', 35),\n",
       " ('Nectar', 5),\n",
       " ('Manna', 3),\n",
       " ('Pollen', 3),\n",
       " ('Apical', 1),\n",
       " ('bud', 1),\n",
       " ('Shoots', 1)]"
      ]
     },
     "execution_count": 235,
     "metadata": {},
     "output_type": "execute_result"
    }
   ],
   "source": [
    "edible_parts_counts = Counter()\n",
    "edible_uses_counts = Counter()\n",
    "edible_cols[edible_cols[0].str.contains('Edible Parts')][0].str.split().apply(\n",
    "    edible_parts_counts.update)\n",
    "edible_cols[edible_cols[1].str.contains('Edible Uses')][1].str.split().apply(\n",
    "    edible_uses_counts.update)\n",
    "edible_parts_counts.most_common()"
   ]
  },
  {
   "cell_type": "code",
   "execution_count": 134,
   "metadata": {},
   "outputs": [
    {
     "data": {
      "text/html": [
       "<div>\n",
       "<style scoped>\n",
       "    .dataframe tbody tr th:only-of-type {\n",
       "        vertical-align: middle;\n",
       "    }\n",
       "\n",
       "    .dataframe tbody tr th {\n",
       "        vertical-align: top;\n",
       "    }\n",
       "\n",
       "    .dataframe thead th {\n",
       "        text-align: right;\n",
       "    }\n",
       "</style>\n",
       "<table border=\"1\" class=\"dataframe\">\n",
       "  <thead>\n",
       "    <tr style=\"text-align: right;\">\n",
       "      <th></th>\n",
       "      <th>0</th>\n",
       "      <th>1</th>\n",
       "      <th>2</th>\n",
       "      <th>3</th>\n",
       "      <th>Genus</th>\n",
       "      <th>Species</th>\n",
       "    </tr>\n",
       "  </thead>\n",
       "  <tbody>\n",
       "    <tr>\n",
       "      <th>106</th>\n",
       "      <td>Edible Parts: Nectar  Seed</td>\n",
       "      <td>Edible Uses:</td>\n",
       "      <td></td>\n",
       "      <td>Seed - cooked. Said to be as sweet as a chestn...</td>\n",
       "      <td>Aesculus</td>\n",
       "      <td>flava</td>\n",
       "    </tr>\n",
       "    <tr>\n",
       "      <th>1658</th>\n",
       "      <td>Edible Parts: Fruit  Nectar</td>\n",
       "      <td>Edible Uses:</td>\n",
       "      <td></td>\n",
       "      <td>Fruit - raw[60, 105]. A sweet flavour[61]. The...</td>\n",
       "      <td>Comandra</td>\n",
       "      <td>umbellata</td>\n",
       "    </tr>\n",
       "    <tr>\n",
       "      <th>2858</th>\n",
       "      <td>Edible Parts: Nectar</td>\n",
       "      <td>Edible Uses: Tea</td>\n",
       "      <td></td>\n",
       "      <td>The plant has been boiled up as a tea[257]. Th...</td>\n",
       "      <td>Ipomopsis</td>\n",
       "      <td>aggregata</td>\n",
       "    </tr>\n",
       "    <tr>\n",
       "      <th>3132</th>\n",
       "      <td>Edible Parts: Fruit  Nectar</td>\n",
       "      <td>Edible Uses:</td>\n",
       "      <td></td>\n",
       "      <td>Fruit - raw or cooked[105, 177, 212]. Not tast...</td>\n",
       "      <td>Lonicera</td>\n",
       "      <td>ciliosa</td>\n",
       "    </tr>\n",
       "    <tr>\n",
       "      <th>3326</th>\n",
       "      <td>Edible Parts: Fruit  Nectar</td>\n",
       "      <td>Edible Uses:</td>\n",
       "      <td></td>\n",
       "      <td>Fruit - fresh or dried[61, 105, 183]. The frui...</td>\n",
       "      <td>Menziesia</td>\n",
       "      <td>ferruginea</td>\n",
       "    </tr>\n",
       "  </tbody>\n",
       "</table>\n",
       "</div>"
      ],
      "text/plain": [
       "                                0                 1 2  \\\n",
       "106    Edible Parts: Nectar  Seed      Edible Uses:     \n",
       "1658  Edible Parts: Fruit  Nectar      Edible Uses:     \n",
       "2858         Edible Parts: Nectar  Edible Uses: Tea     \n",
       "3132  Edible Parts: Fruit  Nectar      Edible Uses:     \n",
       "3326  Edible Parts: Fruit  Nectar      Edible Uses:     \n",
       "\n",
       "                                                      3      Genus     Species  \n",
       "106   Seed - cooked. Said to be as sweet as a chestn...   Aesculus       flava  \n",
       "1658  Fruit - raw[60, 105]. A sweet flavour[61]. The...   Comandra   umbellata  \n",
       "2858  The plant has been boiled up as a tea[257]. Th...  Ipomopsis   aggregata  \n",
       "3132  Fruit - raw or cooked[105, 177, 212]. Not tast...   Lonicera     ciliosa  \n",
       "3326  Fruit - fresh or dried[61, 105, 183]. The frui...  Menziesia  ferruginea  "
      ]
     },
     "execution_count": 134,
     "metadata": {},
     "output_type": "execute_result"
    }
   ],
   "source": [
    "edible_cols[edible_cols[0].str.contains('Nectar')]"
   ]
  },
  {
   "cell_type": "code",
   "execution_count": 135,
   "metadata": {},
   "outputs": [
    {
     "data": {
      "text/plain": [
       "'The plant has been boiled up as a tea[257]. The nectar is sucked from the flowers by children[257].'"
      ]
     },
     "execution_count": 135,
     "metadata": {},
     "output_type": "execute_result"
    }
   ],
   "source": [
    "edible_cols[3].loc[2858]"
   ]
  },
  {
   "cell_type": "code",
   "execution_count": 136,
   "metadata": {},
   "outputs": [
    {
     "data": {
      "text/html": [
       "<div>\n",
       "<style scoped>\n",
       "    .dataframe tbody tr th:only-of-type {\n",
       "        vertical-align: middle;\n",
       "    }\n",
       "\n",
       "    .dataframe tbody tr th {\n",
       "        vertical-align: top;\n",
       "    }\n",
       "\n",
       "    .dataframe thead th {\n",
       "        text-align: right;\n",
       "    }\n",
       "</style>\n",
       "<table border=\"1\" class=\"dataframe\">\n",
       "  <thead>\n",
       "    <tr style=\"text-align: right;\">\n",
       "      <th></th>\n",
       "      <th>0</th>\n",
       "      <th>1</th>\n",
       "      <th>2</th>\n",
       "      <th>3</th>\n",
       "      <th>Genus</th>\n",
       "      <th>Species</th>\n",
       "    </tr>\n",
       "  </thead>\n",
       "  <tbody>\n",
       "    <tr>\n",
       "      <th>2987</th>\n",
       "      <td>Edible Parts: Manna  Sap</td>\n",
       "      <td>Edible Uses: Gum  Sweetener</td>\n",
       "      <td></td>\n",
       "      <td>A gum, or resin, is produced under the bark. I...</td>\n",
       "      <td>Larix</td>\n",
       "      <td>occidentalis</td>\n",
       "    </tr>\n",
       "    <tr>\n",
       "      <th>4303</th>\n",
       "      <td>Edible Parts: Inner bark  Manna</td>\n",
       "      <td>Edible Uses: Coffee  Condiment  Gum  Tea</td>\n",
       "      <td></td>\n",
       "      <td>Young shoot tips - used as a flavouring in coo...</td>\n",
       "      <td>Pseudotsuga</td>\n",
       "      <td>menziesii</td>\n",
       "    </tr>\n",
       "    <tr>\n",
       "      <th>4653</th>\n",
       "      <td>Edible Parts: Flowers  Inner bark  Manna</td>\n",
       "      <td>Edible Uses: Tea</td>\n",
       "      <td></td>\n",
       "      <td>A honeydew can be obtained from the cut branch...</td>\n",
       "      <td>Salix</td>\n",
       "      <td>gooddingii</td>\n",
       "    </tr>\n",
       "  </tbody>\n",
       "</table>\n",
       "</div>"
      ],
      "text/plain": [
       "                                             0  \\\n",
       "2987                  Edible Parts: Manna  Sap   \n",
       "4303           Edible Parts: Inner bark  Manna   \n",
       "4653  Edible Parts: Flowers  Inner bark  Manna   \n",
       "\n",
       "                                             1 2  \\\n",
       "2987               Edible Uses: Gum  Sweetener     \n",
       "4303  Edible Uses: Coffee  Condiment  Gum  Tea     \n",
       "4653                          Edible Uses: Tea     \n",
       "\n",
       "                                                      3        Genus  \\\n",
       "2987  A gum, or resin, is produced under the bark. I...        Larix   \n",
       "4303  Young shoot tips - used as a flavouring in coo...  Pseudotsuga   \n",
       "4653  A honeydew can be obtained from the cut branch...        Salix   \n",
       "\n",
       "           Species  \n",
       "2987  occidentalis  \n",
       "4303     menziesii  \n",
       "4653    gooddingii  "
      ]
     },
     "execution_count": 136,
     "metadata": {},
     "output_type": "execute_result"
    }
   ],
   "source": [
    "edible_cols[edible_cols[0].str.contains('Manna')]"
   ]
  },
  {
   "cell_type": "code",
   "execution_count": 137,
   "metadata": {},
   "outputs": [
    {
     "data": {
      "text/html": [
       "<div>\n",
       "<style scoped>\n",
       "    .dataframe tbody tr th:only-of-type {\n",
       "        vertical-align: middle;\n",
       "    }\n",
       "\n",
       "    .dataframe tbody tr th {\n",
       "        vertical-align: top;\n",
       "    }\n",
       "\n",
       "    .dataframe thead th {\n",
       "        text-align: right;\n",
       "    }\n",
       "</style>\n",
       "<table border=\"1\" class=\"dataframe\">\n",
       "  <thead>\n",
       "    <tr style=\"text-align: right;\">\n",
       "      <th></th>\n",
       "      <th>0</th>\n",
       "      <th>1</th>\n",
       "      <th>2</th>\n",
       "      <th>3</th>\n",
       "      <th>Genus</th>\n",
       "      <th>Species</th>\n",
       "    </tr>\n",
       "  </thead>\n",
       "  <tbody>\n",
       "    <tr>\n",
       "      <th>4761</th>\n",
       "      <td>Edible Parts: Pollen  Root  Seed  Stem</td>\n",
       "      <td>Edible Uses:</td>\n",
       "      <td></td>\n",
       "      <td>Root - raw or cooked[172]. Rich in starch. Ste...</td>\n",
       "      <td>Scirpus</td>\n",
       "      <td>microcarpus</td>\n",
       "    </tr>\n",
       "    <tr>\n",
       "      <th>5378</th>\n",
       "      <td>Edible Parts: Flowers  Leaves  Oil  Pollen  Ro...</td>\n",
       "      <td>Edible Uses: Oil</td>\n",
       "      <td></td>\n",
       "      <td>Roots - raw or cooked[145]. Rich in starch[105...</td>\n",
       "      <td>Typha</td>\n",
       "      <td>domingensis</td>\n",
       "    </tr>\n",
       "    <tr>\n",
       "      <th>5379</th>\n",
       "      <td>Edible Parts: Flowers  Leaves  Oil  Pollen  Ro...</td>\n",
       "      <td>Edible Uses: Oil</td>\n",
       "      <td></td>\n",
       "      <td>Roots - raw or cooked[2, 12]. They can be boil...</td>\n",
       "      <td>Typha</td>\n",
       "      <td>latifolia</td>\n",
       "    </tr>\n",
       "  </tbody>\n",
       "</table>\n",
       "</div>"
      ],
      "text/plain": [
       "                                                      0                 1 2  \\\n",
       "4761             Edible Parts: Pollen  Root  Seed  Stem      Edible Uses:     \n",
       "5378  Edible Parts: Flowers  Leaves  Oil  Pollen  Ro...  Edible Uses: Oil     \n",
       "5379  Edible Parts: Flowers  Leaves  Oil  Pollen  Ro...  Edible Uses: Oil     \n",
       "\n",
       "                                                      3    Genus      Species  \n",
       "4761  Root - raw or cooked[172]. Rich in starch. Ste...  Scirpus  microcarpus  \n",
       "5378  Roots - raw or cooked[145]. Rich in starch[105...    Typha  domingensis  \n",
       "5379  Roots - raw or cooked[2, 12]. They can be boil...    Typha    latifolia  "
      ]
     },
     "execution_count": 137,
     "metadata": {},
     "output_type": "execute_result"
    }
   ],
   "source": [
    "edible_cols[edible_cols[0].str.contains('Pollen')]"
   ]
  },
  {
   "cell_type": "code",
   "execution_count": 138,
   "metadata": {},
   "outputs": [
    {
     "data": {
      "text/plain": [
       "76     Leaves - cooked[105]. Some caution is advised,...\n",
       "101         Seeds[257]. No further information is given.\n",
       "192    The heart of the plant is very rich in sacchar...\n",
       "278        Catkins - raw or cooked. A bitter taste[172].\n",
       "441    Young leaves - cooked[177]. Used as a potherb[...\n",
       "Name: 0, dtype: object"
      ]
     },
     "execution_count": 138,
     "metadata": {},
     "output_type": "execute_result"
    }
   ],
   "source": [
    "edible_cols[(~edible_cols[0].str.contains('Edible Parts:')) & \n",
    "            ~(edible_cols[0]=='') & ~(edible_cols[0]=='None known') & \n",
    "            ~(edible_cols[0]=='0')][0].head()"
   ]
  },
  {
   "cell_type": "code",
   "execution_count": 139,
   "metadata": {},
   "outputs": [],
   "source": [
    "edible_cols[3] = np.where(((~edible_cols[0].str.contains('Edible Parts:')) & \n",
    "            ~(edible_cols[0]=='') & ~(edible_cols[0]=='None known') & \n",
    "            ~(edible_cols[0]=='0')), edible_cols[0], edible_cols[3])"
   ]
  },
  {
   "cell_type": "code",
   "execution_count": 140,
   "metadata": {},
   "outputs": [
    {
     "data": {
      "text/plain": [
       "0          Leaves - cooked[105]. Some caution is advised,...\n",
       "1                                                           \n",
       "2                                                           \n",
       "3          Leaves - cooked[105]. Some caution is advised,...\n",
       "Genus                                                 Actaea\n",
       "Species                                             racemosa\n",
       "Name: 76, dtype: object"
      ]
     },
     "execution_count": 140,
     "metadata": {},
     "output_type": "execute_result"
    }
   ],
   "source": [
    "edible_cols.loc[76]"
   ]
  },
  {
   "cell_type": "code",
   "execution_count": 146,
   "metadata": {},
   "outputs": [],
   "source": [
    "pfaf['Edible inner bark'] = edible_cols[0].str.lower().str.contains('inner bark')\n",
    "pfaf['Edible roots'] = edible_cols[0].str.lower().str.contains('root')\n",
    "pfaf['Edible seeds'] = edible_cols[0].str.lower().str.contains('seed')\n",
    "pfaf['Edible seedpods'] = edible_cols[0].str.lower().str.contains('seedpod')\n",
    "pfaf['Edible sap'] = (edible_cols[0].str.lower().str.contains('sap') | \n",
    "                      edible_cols[0].str.lower().str.contains('manna'))\n",
    "pfaf['Edible leaves'] = edible_cols[0].str.lower().str.contains('leaves')\n",
    "pfaf['Edible flowers'] = edible_cols[0].str.lower().str.contains('flowers')\n",
    "pfaf['Edible fruit'] = edible_cols[0].str.lower().str.contains('fruit')\n",
    "pfaf['Edible stems'] = edible_cols[0].str.lower().str.contains('stem')\n",
    "pfaf['Edible oil'] = edible_cols[0].str.lower().str.contains('oil')\n",
    "pfaf['Edible shoots'] = edible_cols[3].str.lower().str.contains('shoots')"
   ]
  },
  {
   "cell_type": "code",
   "execution_count": 236,
   "metadata": {},
   "outputs": [
    {
     "data": {
      "text/plain": [
       "[('Edible', 1188),\n",
       " ('Uses:', 1188),\n",
       " ('Tea', 174),\n",
       " ('Condiment', 120),\n",
       " ('Oil', 80),\n",
       " ('Gum', 61),\n",
       " ('Coffee', 58),\n",
       " ('Drink', 38),\n",
       " ('Sweetener', 36),\n",
       " ('Pectin', 7),\n",
       " ('Colouring', 7),\n",
       " ('Chocolate', 4),\n",
       " ('Curdling', 3),\n",
       " ('agent', 3),\n",
       " ('Milk', 2),\n",
       " ('Rutin', 1),\n",
       " ('Salt', 1),\n",
       " ('Stabilizer', 1),\n",
       " ('Gelatine', 1)]"
      ]
     },
     "execution_count": 236,
     "metadata": {},
     "output_type": "execute_result"
    }
   ],
   "source": [
    "edible_uses_counts.most_common()"
   ]
  },
  {
   "cell_type": "code",
   "execution_count": 149,
   "metadata": {},
   "outputs": [],
   "source": [
    "pfaf['Edible use gum'] = edible_cols[1].str.lower().str.contains('gum')\n",
    "pfaf['Edible use drink'] = (edible_cols[1].str.lower().str.contains('tea') | \n",
    "                            edible_cols[1].str.lower().str.contains('drink') |\n",
    "                            edible_cols[1].str.lower().str.contains('coffee'))\n",
    "pfaf['Edible use condiment'] = edible_cols[1].str.lower().str.contains('condiment')\n",
    "pfaf['Edible use sweetener'] = edible_cols[1].str.lower().str.contains('sweetener')\n",
    "pfaf['Edible use oil'] = edible_cols[1].str.lower().str.contains('oil')"
   ]
  },
  {
   "cell_type": "code",
   "execution_count": 164,
   "metadata": {},
   "outputs": [],
   "source": [
    "pfaf['Edible description'] = edible_cols[3]"
   ]
  },
  {
   "cell_type": "code",
   "execution_count": 160,
   "metadata": {},
   "outputs": [],
   "source": [
    "pfaf.drop('Edible Uses', axis=1, inplace=True)"
   ]
  },
  {
   "cell_type": "code",
   "execution_count": 150,
   "metadata": {},
   "outputs": [],
   "source": [
    "pfaf.to_csv('pfaf_data.csv', index=False)"
   ]
  },
  {
   "cell_type": "markdown",
   "metadata": {},
   "source": [
    "### medicinal uses"
   ]
  },
  {
   "cell_type": "code",
   "execution_count": 151,
   "metadata": {},
   "outputs": [
    {
     "data": {
      "text/plain": [
       "array(['', '   (2 of 5)', '   (5 of 5)', '   (3 of 5)', '   (1 of 5)',\n",
       "       '   (0 of 5)', '   (4 of 5)'], dtype=object)"
      ]
     },
     "execution_count": 151,
     "metadata": {},
     "output_type": "execute_result"
    }
   ],
   "source": [
    "pfaf['Medicinal Rating'].unique()"
   ]
  },
  {
   "cell_type": "code",
   "execution_count": 153,
   "metadata": {},
   "outputs": [],
   "source": [
    "pfaf['Medicinal Rating'].replace('', '0', inplace=True)\n",
    "pfaf['Medicinal Rating'] = pfaf['Medicinal Rating'].str.extract(r'([0-9])').astype(int)"
   ]
  },
  {
   "cell_type": "code",
   "execution_count": 163,
   "metadata": {},
   "outputs": [
    {
     "data": {
      "text/plain": [
       "\"Plants For A Future can not take any responsibility for any adverse effects from the use of plants. Always seek advice from a professional before using a plant medicinally.\\n\\n\\nThis plant was used quite widely by native North American Indians. An infusion of the bark was used as a tonic and to treat stomach ailments, TB, haemorrhoids and various minor complaints[257]. The pitch, or resin, was also used to treat colds, sore throats etc[257]. The bark of this tree contains blisters that are filled with a resin called 'Canadian Balsam'[226]. Although the report does not mention the uses of this resin, it can almost certainly be used in the same ways as the resin of A. balsamea, as detailed below:- The resin obtained from this tree (see 'Uses notes' below) has been used throughout the world and is a very effective antiseptic and healing agent. It is used as a healing and analgesic protective covering for burns, bruises, wounds and sores[213, 222, 226]. It is also used to treat sore nipples[213] and is said to be one of the best curatives for a sore throat[245]. The resin is also antiscorbutic, diuretic, stimulant and tonic[4, 171, 222]. It is used internally in propriety mixtures to treat coughs and diarrhoea, though taken in excess it is purgative[238]. A warm liquid of the gummy sap was drunk as a treatment for gonorrhoea[212]. A tea made from the leaves is antiscorbutic[4, 171]. It is used in the treatment of coughs, colds and fevers[222]. The leaves and young shoots are best harvested in the spring and dried for later use[238].\""
      ]
     },
     "execution_count": 163,
     "metadata": {},
     "output_type": "execute_result"
    }
   ],
   "source": [
    "pfaf['Medicinal Uses'].iloc[1]"
   ]
  },
  {
   "cell_type": "code",
   "execution_count": 165,
   "metadata": {},
   "outputs": [],
   "source": [
    "medicinal_cols = pfaf['Medicinal Uses'].str.split('\\n', expand=True)\n",
    "medicinal_cols[['Genus', 'Species']] = pfaf[['Genus', 'Species']]\n",
    "medicinal_cols.fillna('', inplace=True)"
   ]
  },
  {
   "cell_type": "code",
   "execution_count": 166,
   "metadata": {},
   "outputs": [
    {
     "data": {
      "text/html": [
       "<div>\n",
       "<style scoped>\n",
       "    .dataframe tbody tr th:only-of-type {\n",
       "        vertical-align: middle;\n",
       "    }\n",
       "\n",
       "    .dataframe tbody tr th {\n",
       "        vertical-align: top;\n",
       "    }\n",
       "\n",
       "    .dataframe thead th {\n",
       "        text-align: right;\n",
       "    }\n",
       "</style>\n",
       "<table border=\"1\" class=\"dataframe\">\n",
       "  <thead>\n",
       "    <tr style=\"text-align: right;\">\n",
       "      <th></th>\n",
       "      <th>0</th>\n",
       "      <th>1</th>\n",
       "      <th>2</th>\n",
       "      <th>3</th>\n",
       "      <th>4</th>\n",
       "      <th>5</th>\n",
       "      <th>Genus</th>\n",
       "      <th>Species</th>\n",
       "    </tr>\n",
       "  </thead>\n",
       "  <tbody>\n",
       "    <tr>\n",
       "      <th>0</th>\n",
       "      <td></td>\n",
       "      <td></td>\n",
       "      <td></td>\n",
       "      <td></td>\n",
       "      <td></td>\n",
       "      <td></td>\n",
       "      <td>Abutilon</td>\n",
       "      <td>abutiloides</td>\n",
       "    </tr>\n",
       "    <tr>\n",
       "      <th>1</th>\n",
       "      <td>Plants For A Future can not take any responsib...</td>\n",
       "      <td></td>\n",
       "      <td></td>\n",
       "      <td>This plant was used quite widely by native Nor...</td>\n",
       "      <td></td>\n",
       "      <td></td>\n",
       "      <td>Abies</td>\n",
       "      <td>amabilis</td>\n",
       "    </tr>\n",
       "    <tr>\n",
       "      <th>2</th>\n",
       "      <td>Plants For A Future can not take any responsib...</td>\n",
       "      <td>Analgesic  Antiscorbutic  Antiseptic  Diuretic...</td>\n",
       "      <td></td>\n",
       "      <td></td>\n",
       "      <td>The resin obtained from the balsam fir (see 'U...</td>\n",
       "      <td></td>\n",
       "      <td>Abies</td>\n",
       "      <td>balsamea</td>\n",
       "    </tr>\n",
       "    <tr>\n",
       "      <th>6</th>\n",
       "      <td></td>\n",
       "      <td></td>\n",
       "      <td></td>\n",
       "      <td></td>\n",
       "      <td></td>\n",
       "      <td></td>\n",
       "      <td>Abutilon</td>\n",
       "      <td>berlandieri</td>\n",
       "    </tr>\n",
       "    <tr>\n",
       "      <th>7</th>\n",
       "      <td></td>\n",
       "      <td></td>\n",
       "      <td></td>\n",
       "      <td></td>\n",
       "      <td></td>\n",
       "      <td></td>\n",
       "      <td>Abies</td>\n",
       "      <td>bracteata</td>\n",
       "    </tr>\n",
       "  </tbody>\n",
       "</table>\n",
       "</div>"
      ],
      "text/plain": [
       "                                                   0  \\\n",
       "0                                                      \n",
       "1  Plants For A Future can not take any responsib...   \n",
       "2  Plants For A Future can not take any responsib...   \n",
       "6                                                      \n",
       "7                                                      \n",
       "\n",
       "                                                   1 2  \\\n",
       "0                                                        \n",
       "1                                                        \n",
       "2  Analgesic  Antiscorbutic  Antiseptic  Diuretic...     \n",
       "6                                                        \n",
       "7                                                        \n",
       "\n",
       "                                                   3  \\\n",
       "0                                                      \n",
       "1  This plant was used quite widely by native Nor...   \n",
       "2                                                      \n",
       "6                                                      \n",
       "7                                                      \n",
       "\n",
       "                                                   4 5     Genus      Species  \n",
       "0                                                       Abutilon  abutiloides  \n",
       "1                                                          Abies     amabilis  \n",
       "2  The resin obtained from the balsam fir (see 'U...       Abies     balsamea  \n",
       "6                                                       Abutilon  berlandieri  \n",
       "7                                                          Abies    bracteata  "
      ]
     },
     "execution_count": 166,
     "metadata": {},
     "output_type": "execute_result"
    }
   ],
   "source": [
    "medicinal_cols.head()"
   ]
  },
  {
   "cell_type": "code",
   "execution_count": 167,
   "metadata": {},
   "outputs": [
    {
     "data": {
      "text/plain": [
       "array(['',\n",
       "       'Plants For A Future can not take any responsibility for any adverse effects from the use of plants. Always seek advice from a professional before using a plant medicinally.'],\n",
       "      dtype=object)"
      ]
     },
     "execution_count": 167,
     "metadata": {},
     "output_type": "execute_result"
    }
   ],
   "source": [
    "medicinal_cols[0].unique()"
   ]
  },
  {
   "cell_type": "code",
   "execution_count": 237,
   "metadata": {},
   "outputs": [
    {
     "data": {
      "text/plain": [
       "[('Astringent', 248),\n",
       " ('Diuretic', 224),\n",
       " ('Poultice', 221),\n",
       " ('Tonic', 174),\n",
       " ('Febrifuge', 150),\n",
       " ('Stomachic', 132),\n",
       " ('Diaphoretic', 130),\n",
       " ('Ophthalmic', 95),\n",
       " ('Salve', 95),\n",
       " ('Antiseptic', 93),\n",
       " ('Laxative', 91),\n",
       " ('Emetic', 89),\n",
       " ('Analgesic', 86),\n",
       " ('Antirheumatic', 85),\n",
       " ('Expectorant', 81),\n",
       " ('Antispasmodic', 76),\n",
       " ('Skin', 72),\n",
       " ('Miscellany', 72),\n",
       " ('Pectoral', 71),\n",
       " ('Sedative', 66),\n",
       " ('Stimulant', 65),\n",
       " ('Odontalgic', 54),\n",
       " ('VD', 52),\n",
       " ('Carminative', 49),\n",
       " ('Cancer', 49),\n",
       " ('Anodyne', 48),\n",
       " ('Emmenagogue', 47),\n",
       " ('Birthing', 44),\n",
       " ('aid', 44),\n",
       " ('Vulnerary', 44),\n",
       " ('TB', 40),\n",
       " ('Cathartic', 40),\n",
       " ('Kidney', 40),\n",
       " ('Vermifuge', 38),\n",
       " ('Appetizer', 35),\n",
       " ('Alterative', 35),\n",
       " ('Anthelmintic', 34),\n",
       " (\"Women's\", 34),\n",
       " ('complaints', 34),\n",
       " ('Blood', 32),\n",
       " ('Parasiticide', 32),\n",
       " ('Hypotensive', 31),\n",
       " ('Antiinflammatory', 30),\n",
       " ('Cardiac', 30),\n",
       " ('Haemostatic', 29),\n",
       " ('Rubefacient', 28),\n",
       " ('Cardiotonic', 27),\n",
       " ('Purgative', 26),\n",
       " ('Contraceptive', 26),\n",
       " ('Stings', 26),\n",
       " ('Galactogogue', 25),\n",
       " ('Homeopathy', 24),\n",
       " ('Disinfectant', 22),\n",
       " ('Digestive', 22),\n",
       " ('Antiperiodic', 21),\n",
       " ('Warts', 21),\n",
       " ('purifier', 21),\n",
       " ('Nervine', 21),\n",
       " ('Styptic', 21),\n",
       " ('Narcotic', 20),\n",
       " ('Antiscorbutic', 19),\n",
       " ('Hypnotic', 19),\n",
       " ('Antidote', 18),\n",
       " ('Antiphlogistic', 18),\n",
       " ('Antidiarrhoeal', 17),\n",
       " ('Demulcent', 17),\n",
       " ('Antiasthmatic', 17),\n",
       " ('Antiemetic', 16),\n",
       " ('tonic', 16),\n",
       " ('Cholagogue', 16),\n",
       " ('Antibacterial', 16),\n",
       " ('Hypoglycaemic', 16),\n",
       " ('Depurative', 16),\n",
       " ('Antipruritic', 15),\n",
       " ('Abortifacient', 15),\n",
       " ('Aromatic', 14),\n",
       " ('Oxytoxic', 14),\n",
       " ('Bitter', 13),\n",
       " ('Hepatic', 12),\n",
       " ('Lithontripic', 12),\n",
       " ('Antihaemorrhoidal', 12),\n",
       " ('Sialagogue', 11),\n",
       " ('Antidandruff', 11),\n",
       " ('Aphrodisiac', 11),\n",
       " ('Emollient', 10),\n",
       " ('Resolvent', 9),\n",
       " ('Antiseborrheic', 9),\n",
       " ('Aperient', 9),\n",
       " ('Antitussive', 8),\n",
       " ('Irritant', 7),\n",
       " ('Adaptogen', 7),\n",
       " ('Vasodilator', 7),\n",
       " ('Foot', 6),\n",
       " ('care', 6),\n",
       " ('Sternutatory', 6),\n",
       " ('Hallucinogenic', 6),\n",
       " ('Detergent', 6),\n",
       " ('Infertility', 6),\n",
       " ('Deobstruent', 5),\n",
       " ('Antitumor', 5),\n",
       " ('Uterine', 5),\n",
       " ('Antiaphonic', 5),\n",
       " ('Antiviral', 5),\n",
       " ('Deodorant', 4),\n",
       " ('Antipyretic', 4),\n",
       " ('Refrigerant', 4),\n",
       " ('Cytostatic', 3),\n",
       " ('Antiscrophulatic', 3),\n",
       " ('Antifungal', 3),\n",
       " ('Plaster', 3),\n",
       " ('Anaesthetic', 2),\n",
       " ('Antiarthritic', 2),\n",
       " ('Antiflatulent', 2),\n",
       " ('Vesicant', 2),\n",
       " ('Antiecchymotic', 2),\n",
       " ('Antibiotic', 2),\n",
       " ('Antibilious', 2),\n",
       " ('Antipsoriatic', 2),\n",
       " ('Antianxiety', 2),\n",
       " ('Aromatherapy', 2),\n",
       " ('Hydrogogue', 2),\n",
       " ('Anaphrodisiac', 2),\n",
       " ('Anticholesterolemic', 2),\n",
       " ('Antidepressant', 2),\n",
       " ('Enuresis', 2),\n",
       " ('Antihalitosis', 1),\n",
       " ('Appetite', 1),\n",
       " ('Stimulants', 1),\n",
       " ('Acrid', 1),\n",
       " ('Mydriatic', 1),\n",
       " ('Mouthwash', 1),\n",
       " ('Anticoagulant', 1),\n",
       " ('Nutritive', 1),\n",
       " ('Vasoconstrictor', 1),\n",
       " ('Anticonvulsant', 1),\n",
       " ('Cytotoxic', 1)]"
      ]
     },
     "execution_count": 237,
     "metadata": {},
     "output_type": "execute_result"
    }
   ],
   "source": [
    "medicinal_counter = Counter()\n",
    "medicinal_cols[1].str.split().apply(medicinal_counter.update)\n",
    "medicinal_cols[2].str.split().apply(medicinal_counter.update)\n",
    "medicinal_counter.most_common()"
   ]
  },
  {
   "cell_type": "code",
   "execution_count": 197,
   "metadata": {},
   "outputs": [],
   "source": [
    "to_remove = ['Alterative', 'Aromatherapy', 'Homeopathy', 'Antiscorbutic', 'Tonic', \n",
    "             'tonic', 'Blood', 'purifier', 'Cardiotonic', 'Cholagogue', 'Uterine', \n",
    "             'complaints', 'Antihalitosis', 'care', 'Miscellany', 'aid', \n",
    "             'Aromatic', 'Deobstruent', 'Acrid', 'Enuresis', 'Nutritive']"
   ]
  },
  {
   "cell_type": "code",
   "execution_count": 198,
   "metadata": {},
   "outputs": [],
   "source": [
    "for use in medicinal_counter.keys():\n",
    "    pfaf[use] = (medicinal_cols[1].str.contains(use) | \n",
    "                 medicinal_cols[2].str.contains(use))"
   ]
  },
  {
   "cell_type": "code",
   "execution_count": 199,
   "metadata": {},
   "outputs": [],
   "source": [
    "pfaf['Laxative'] = (pfaf['Laxative'] | pfaf['Aperient'] | pfaf['Cathartic'])\n",
    "to_remove.append('Aperient')\n",
    "to_remove.append('Cathartic')\n",
    "pfaf['Purgative'] = (pfaf['Purgative'] | pfaf['Hydrogogue'])\n",
    "to_remove.append('Hydrogogue')\n",
    "pfaf['Cancer'] = (pfaf['Cancer'] | pfaf['Antitumor'] | pfaf['Cytostatic'] | \n",
    "                  pfaf['Cytotoxic'] | pfaf['Resolvent'])\n",
    "to_remove.append('Antitumor')\n",
    "to_remove.append('Cytostatic')\n",
    "to_remove.append('Cytotoxic')\n",
    "to_remove.append('Resolvent')\n",
    "pfaf['Fever'] = (pfaf['Antipyretic'] | pfaf['Febrifuge'])\n",
    "to_remove.append('Antipyretic')\n",
    "to_remove.append('Febrifuge')\n",
    "pfaf['Stimulant'] = (pfaf['Stimulant'] | pfaf['Stimulants'])\n",
    "to_remove.append('Stimulants')\n",
    "pfaf['Birthing'] = (pfaf['Birthing'] | pfaf['Oxytoxic'])\n",
    "to_remove.append('Oxytoxic')\n",
    "pfaf['Female misc'] = pfaf[\"Women's\"]\n",
    "to_remove.append(\"Women's\")"
   ]
  },
  {
   "cell_type": "code",
   "execution_count": 200,
   "metadata": {},
   "outputs": [],
   "source": [
    "pfaf.drop(to_remove, axis=1, inplace=True)"
   ]
  },
  {
   "cell_type": "code",
   "execution_count": 183,
   "metadata": {},
   "outputs": [],
   "source": [
    "pfaf['Medicinal description'] = (medicinal_cols[3] + \n",
    "    medicinal_cols[4] + medicinal_cols[5])"
   ]
  },
  {
   "cell_type": "markdown",
   "metadata": {},
   "source": [
    "### habitats"
   ]
  },
  {
   "cell_type": "code",
   "execution_count": 234,
   "metadata": {},
   "outputs": [
    {
     "data": {
      "text/plain": [
       "[('', 5497),\n",
       " (' Cultivated Beds', 545),\n",
       " ('Woodland Garden Sunny Edge', 446),\n",
       " (' Dappled Shade', 335),\n",
       " (' Shady Edge', 272),\n",
       " ('Woodland Garden Canopy', 194),\n",
       " ('Woodland Garden Dappled Shade', 193),\n",
       " (' Bog Garden', 181),\n",
       " (' Ground Cover', 91),\n",
       " (' not Deep Shade', 82),\n",
       " (' Pond', 73),\n",
       " (' Sunny Edge', 62),\n",
       " ('Woodland Garden Secondary', 54),\n",
       " (' Hedge', 39),\n",
       " (' Secondary', 35),\n",
       " (' Meadow', 28),\n",
       " (' South Wall. By. West Wall. By.', 24),\n",
       " (' East Wall. By. South Wall. By.', 22),\n",
       " (' East Wall. By. South Wall. By. West Wall. By.', 11),\n",
       " (' Lawn', 8),\n",
       " (' Hedgerow', 8),\n",
       " (' East Wall. In. South Wall. In. West Wall. In.', 8),\n",
       " (' North Wall. In. East Wall. In. West Wall. In.', 4),\n",
       " (' North Wall. In. East Wall. In.', 4),\n",
       " (' South Wall. By.', 2),\n",
       " (' North Wall. By. East Wall. By.', 2),\n",
       " ('Woodland Garden Cultivated Beds', 1),\n",
       " ('Woodland Garden Shady Edge', 1),\n",
       " (' East Wall. In. West Wall. In.', 1),\n",
       " (' East Wall. By. West Wall. By.', 1),\n",
       " (' East Wall. In.', 1)]"
      ]
     },
     "execution_count": 234,
     "metadata": {},
     "output_type": "execute_result"
    }
   ],
   "source": [
    "habitats = pfaf['Habitats'].copy()\n",
    "habitats_counts = Counter()\n",
    "habitats.str.split(';').apply(habitats_counts.update)\n",
    "habitats_counts.most_common()"
   ]
  },
  {
   "cell_type": "code",
   "execution_count": 159,
   "metadata": {},
   "outputs": [],
   "source": [
    "pfaf['Canopy'] = habitats.str.contains('Canopy')\n",
    "pfaf['Understory'] = habitats.str.contains('Secondary')\n",
    "pfaf['Cultivated Beds'] = habitats.str.contains('Cultivated Beds')\n",
    "pfaf['Dappled Shade'] = habitats.str.contains('Dappled Shade')\n",
    "pfaf['Sunny Edge'] = habitats.str.contains('Sunny Edge')\n",
    "pfaf['Ground Cover'] = habitats.str.contains('Ground Cover')\n",
    "pfaf['Meadow'] = habitats.str.contains('Meadow')\n",
    "pfaf['Shade Edge'] = habitats.str.contains('Shady Edge')\n",
    "pfaf['Bog'] = habitats.str.contains('Bog')\n",
    "pfaf['Hedge'] = habitats.str.contains('Hedge')\n",
    "pfaf['Pond'] = habitats.str.contains('Pond')"
   ]
  },
  {
   "cell_type": "code",
   "execution_count": 161,
   "metadata": {},
   "outputs": [],
   "source": [
    "pfaf.drop('Habitats', axis=1, inplace=True)"
   ]
  },
  {
   "cell_type": "code",
   "execution_count": 201,
   "metadata": {},
   "outputs": [],
   "source": [
    "pfaf.to_csv('pfaf_data.csv', index=False)"
   ]
  },
  {
   "cell_type": "markdown",
   "metadata": {},
   "source": [
    "### other uses"
   ]
  },
  {
   "cell_type": "code",
   "execution_count": 202,
   "metadata": {},
   "outputs": [
    {
     "data": {
      "text/plain": [
       "0                                                     \n",
       "1    Gum  Wood\\n\\nThe boughs are fragrant and can b...\n",
       "2    Adhesive  Fibre  Gum  Kindling  Microscope  Re...\n",
       "6                                                     \n",
       "7                                                     \n",
       "Name: Other Uses, dtype: object"
      ]
     },
     "execution_count": 202,
     "metadata": {},
     "output_type": "execute_result"
    }
   ],
   "source": [
    "pfaf['Other Uses'].head()"
   ]
  },
  {
   "cell_type": "code",
   "execution_count": 209,
   "metadata": {},
   "outputs": [],
   "source": [
    "other_uses_cols = pfaf['Other Uses'].str.split('\\n', expand=True)"
   ]
  },
  {
   "cell_type": "code",
   "execution_count": 210,
   "metadata": {},
   "outputs": [
    {
     "data": {
      "text/html": [
       "<div>\n",
       "<style scoped>\n",
       "    .dataframe tbody tr th:only-of-type {\n",
       "        vertical-align: middle;\n",
       "    }\n",
       "\n",
       "    .dataframe tbody tr th {\n",
       "        vertical-align: top;\n",
       "    }\n",
       "\n",
       "    .dataframe thead th {\n",
       "        text-align: right;\n",
       "    }\n",
       "</style>\n",
       "<table border=\"1\" class=\"dataframe\">\n",
       "  <thead>\n",
       "    <tr style=\"text-align: right;\">\n",
       "      <th></th>\n",
       "      <th>0</th>\n",
       "      <th>1</th>\n",
       "      <th>2</th>\n",
       "    </tr>\n",
       "  </thead>\n",
       "  <tbody>\n",
       "    <tr>\n",
       "      <th>0</th>\n",
       "      <td></td>\n",
       "      <td>None</td>\n",
       "      <td>None</td>\n",
       "    </tr>\n",
       "    <tr>\n",
       "      <th>1</th>\n",
       "      <td>Gum  Wood</td>\n",
       "      <td></td>\n",
       "      <td>The boughs are fragrant and can be hung in the...</td>\n",
       "    </tr>\n",
       "    <tr>\n",
       "      <th>2</th>\n",
       "      <td>Adhesive  Fibre  Gum  Kindling  Microscope  Re...</td>\n",
       "      <td></td>\n",
       "      <td>The balsamic resin 'Balm of Gilead'[11, 46] or...</td>\n",
       "    </tr>\n",
       "    <tr>\n",
       "      <th>6</th>\n",
       "      <td></td>\n",
       "      <td>None</td>\n",
       "      <td>None</td>\n",
       "    </tr>\n",
       "    <tr>\n",
       "      <th>7</th>\n",
       "      <td></td>\n",
       "      <td>None</td>\n",
       "      <td>None</td>\n",
       "    </tr>\n",
       "    <tr>\n",
       "      <th>8</th>\n",
       "      <td>Dye  Wood</td>\n",
       "      <td></td>\n",
       "      <td>A tan coloured dye can be obtained from the ba...</td>\n",
       "    </tr>\n",
       "    <tr>\n",
       "      <th>9</th>\n",
       "      <td>Adhesive  Gum  Microscope  Repellent  Resin  S...</td>\n",
       "      <td></td>\n",
       "      <td>Wood - light, soft, coarse grained, not strong...</td>\n",
       "    </tr>\n",
       "    <tr>\n",
       "      <th>10</th>\n",
       "      <td>None known</td>\n",
       "      <td>None</td>\n",
       "      <td>None</td>\n",
       "    </tr>\n",
       "    <tr>\n",
       "      <th>11</th>\n",
       "      <td></td>\n",
       "      <td>None</td>\n",
       "      <td>None</td>\n",
       "    </tr>\n",
       "    <tr>\n",
       "      <th>12</th>\n",
       "      <td>Baby care  Dye  Gum  Incense  Repellent  Roofi...</td>\n",
       "      <td></td>\n",
       "      <td>The aromatic leaves are used as a moth repelle...</td>\n",
       "    </tr>\n",
       "  </tbody>\n",
       "</table>\n",
       "</div>"
      ],
      "text/plain": [
       "                                                    0     1  \\\n",
       "0                                                      None   \n",
       "1                                           Gum  Wood         \n",
       "2   Adhesive  Fibre  Gum  Kindling  Microscope  Re...         \n",
       "6                                                      None   \n",
       "7                                                      None   \n",
       "8                                           Dye  Wood         \n",
       "9   Adhesive  Gum  Microscope  Repellent  Resin  S...         \n",
       "10                                         None known  None   \n",
       "11                                                     None   \n",
       "12  Baby care  Dye  Gum  Incense  Repellent  Roofi...         \n",
       "\n",
       "                                                    2  \n",
       "0                                                None  \n",
       "1   The boughs are fragrant and can be hung in the...  \n",
       "2   The balsamic resin 'Balm of Gilead'[11, 46] or...  \n",
       "6                                                None  \n",
       "7                                                None  \n",
       "8   A tan coloured dye can be obtained from the ba...  \n",
       "9   Wood - light, soft, coarse grained, not strong...  \n",
       "10                                               None  \n",
       "11                                               None  \n",
       "12  The aromatic leaves are used as a moth repelle...  "
      ]
     },
     "execution_count": 210,
     "metadata": {},
     "output_type": "execute_result"
    }
   ],
   "source": [
    "other_uses_cols[:10]"
   ]
  },
  {
   "cell_type": "code",
   "execution_count": 211,
   "metadata": {},
   "outputs": [
    {
     "data": {
      "text/plain": [
       "count     803\n",
       "unique      1\n",
       "top          \n",
       "freq      803\n",
       "Name: 1, dtype: object"
      ]
     },
     "execution_count": 211,
     "metadata": {},
     "output_type": "execute_result"
    }
   ],
   "source": [
    "other_uses_cols[1].describe()"
   ]
  },
  {
   "cell_type": "code",
   "execution_count": 227,
   "metadata": {},
   "outputs": [],
   "source": [
    "other_uses_cols.fillna('', inplace=True)"
   ]
  },
  {
   "cell_type": "code",
   "execution_count": 219,
   "metadata": {},
   "outputs": [],
   "source": [
    "other_uses_cols[1] = np.where(other_uses_cols[0].str.contains('\\.'), other_uses_cols[0], '')\n",
    "other_uses_cols[0] = np.where(other_uses_cols[1]=='', other_uses_cols[0], '')"
   ]
  },
  {
   "cell_type": "code",
   "execution_count": 228,
   "metadata": {},
   "outputs": [],
   "source": [
    "other_uses_cols[1] = other_uses_cols[1] + other_uses_cols[2]"
   ]
  },
  {
   "cell_type": "code",
   "execution_count": 230,
   "metadata": {},
   "outputs": [],
   "source": [
    "other_uses_cols.drop(2, axis=1, inplace=True)"
   ]
  },
  {
   "cell_type": "code",
   "execution_count": 238,
   "metadata": {},
   "outputs": [
    {
     "data": {
      "text/plain": [
       "[('', 5628),\n",
       " ('None', 584),\n",
       " ('known', 584),\n",
       " ('Dye', 274),\n",
       " ('Wood', 266),\n",
       " ('Repellent', 107),\n",
       " ('Fibre', 85),\n",
       " ('Oil', 80),\n",
       " ('Hedge', 78),\n",
       " ('Soil', 77),\n",
       " ('Tannin', 77),\n",
       " ('Miscellany', 72),\n",
       " ('Basketry', 71),\n",
       " ('Fuel', 70),\n",
       " ('stabilization', 66),\n",
       " ('Gum', 61),\n",
       " ('Soap', 50),\n",
       " ('Hair', 41),\n",
       " ('Herbicide', 38),\n",
       " ('Shelterbelt', 35),\n",
       " ('Incense', 32),\n",
       " ('Parasiticide', 32),\n",
       " ('Essential', 31),\n",
       " ('Latex', 30),\n",
       " ('Stuffing', 29),\n",
       " ('Weaving', 26),\n",
       " ('Paper', 25),\n",
       " ('Resin', 23),\n",
       " ('String', 23),\n",
       " ('Adhesive', 22),\n",
       " ('Disinfectant', 22),\n",
       " ('Insecticide', 22),\n",
       " ('Pioneer', 19),\n",
       " ('Broom', 18),\n",
       " ('Tinder', 18),\n",
       " ('Mordant', 17),\n",
       " ('Rootstock', 16),\n",
       " ('Charcoal', 15),\n",
       " ('Brush', 15),\n",
       " ('Waterproofing', 13),\n",
       " ('Pollution', 13),\n",
       " ('Companion', 12),\n",
       " ('Cosmetic', 12),\n",
       " ('Musical', 12),\n",
       " ('Preservative', 11),\n",
       " ('Thatching', 11),\n",
       " ('Beads', 11),\n",
       " ('Baby', 10),\n",
       " ('care', 10),\n",
       " ('Fungicide', 10),\n",
       " ('Wick', 9),\n",
       " ('Insulation', 9),\n",
       " ('Pitch', 9),\n",
       " ('Containers', 8),\n",
       " ('Needles', 8),\n",
       " ('Teeth', 8),\n",
       " ('Ink', 8),\n",
       " ('Compost', 7),\n",
       " ('reclamation', 7),\n",
       " ('Biomass', 7),\n",
       " ('Pectin', 7),\n",
       " ('Roofing', 5),\n",
       " ('Scourer', 5),\n",
       " ('Liquid', 5),\n",
       " ('feed', 5),\n",
       " ('Rust', 5),\n",
       " ('Lighting', 5),\n",
       " ('Lining', 5),\n",
       " ('Bedding', 5),\n",
       " ('Wax', 5),\n",
       " ('Green', 5),\n",
       " ('manure', 5),\n",
       " ('Strewing', 5),\n",
       " ('Rooting', 5),\n",
       " ('hormone', 5),\n",
       " ('Kindling', 4),\n",
       " ('Microscope', 4),\n",
       " ('Deodorant', 4),\n",
       " ('Paint', 4),\n",
       " ('conditioner', 4),\n",
       " ('Sandpaper', 4),\n",
       " ('Pot-pourri', 4),\n",
       " ('Buttons', 4),\n",
       " ('Potash', 3),\n",
       " ('Straw', 3),\n",
       " ('Starch', 3),\n",
       " ('Varnish', 3),\n",
       " ('Polish', 3),\n",
       " ('Cleanser', 3),\n",
       " ('Litmus', 3),\n",
       " ('Plaster', 3),\n",
       " ('Pipes', 3),\n",
       " ('Friction', 2),\n",
       " ('sticks', 2),\n",
       " ('Pins', 2),\n",
       " ('Fire', 2),\n",
       " ('retardant', 2),\n",
       " ('Filter', 2),\n",
       " ('paper', 2),\n",
       " ('Fertilizer', 2),\n",
       " ('Packing', 2),\n",
       " ('Cork', 2),\n",
       " ('Besom', 1),\n",
       " ('Darning', 1),\n",
       " ('ball', 1),\n",
       " ('Blotting', 1),\n",
       " ('Other', 1),\n",
       " ('Uses', 1),\n",
       " ('Waxed', 1),\n",
       " ('Fruit', 1),\n",
       " ('ripening', 1),\n",
       " ('making', 1)]"
      ]
     },
     "execution_count": 238,
     "metadata": {},
     "output_type": "execute_result"
    }
   ],
   "source": [
    "other_uses_counter = Counter()\n",
    "other_uses_cols[0].str.split(' ').apply(other_uses_counter.update)\n",
    "common_uses = other_uses_counter.most_common()\n",
    "common_uses"
   ]
  },
  {
   "cell_type": "code",
   "execution_count": 240,
   "metadata": {},
   "outputs": [],
   "source": [
    "pfaf['Oil other uses'] = other_uses_cols[0].str.contains('Oil')"
   ]
  },
  {
   "cell_type": "code",
   "execution_count": 242,
   "metadata": {},
   "outputs": [],
   "source": [
    "del other_uses_counter['']\n",
    "del other_uses_counter['None']\n",
    "del other_uses_counter['known']\n",
    "del other_uses_counter['Oil']\n",
    "del other_uses_counter['Soil']\n",
    "other_uses_counter['Soil stabilization'] = other_uses_counter['stabilization']\n",
    "del other_uses_counter['stabilization']\n",
    "other_uses_counter['Baby care'] = other_uses_counter['Baby']\n",
    "del other_uses_counter['Baby']\n",
    "del other_uses_counter['care']\n",
    "other_uses_counter['Soil reclamation'] = other_uses_counter['reclamation']\n",
    "del other_uses_counter['reclamation']\n",
    "other_uses_counter['Liquid feed'] = other_uses_counter['Liquid']\n",
    "del other_uses_counter['Liquid']\n",
    "del other_uses_counter['feed']\n",
    "other_uses_counter['Green manure'] = other_uses_counter['Green']\n",
    "del other_uses_counter['Green']\n",
    "del other_uses_counter['manure']\n",
    "other_uses_counter['Rooting hormone'] = other_uses_counter['Rooting']\n",
    "del other_uses_counter['Rooting']\n",
    "del other_uses_counter['hormone']\n",
    "del other_uses_counter['Deodorant']\n",
    "other_uses_counter['Soil conditioner'] = other_uses_counter['conditioner']\n",
    "del other_uses_counter['conditioner']\n",
    "other_uses_counter['Friction sticks'] = other_uses_counter['Friction']\n",
    "del other_uses_counter['Friction']\n",
    "del other_uses_counter['sticks']\n",
    "other_uses_counter['Fire retardant'] = other_uses_counter['Fire']\n",
    "del other_uses_counter['Fire']\n",
    "del other_uses_counter['retardant']\n",
    "del other_uses_counter['paper']\n",
    "other_uses_counter = {k:v for k,v in other_uses_counter.items() if k not in ['Besom',\n",
    "                      'Darning', 'ball', 'Blotting', 'Other', 'Uses', 'Waxed', 'Fruit', \n",
    "                      'ripening', 'making']}"
   ]
  },
  {
   "cell_type": "code",
   "execution_count": 243,
   "metadata": {},
   "outputs": [],
   "source": [
    "for k in other_uses_counter.keys():\n",
    "    pfaf[k] = other_uses_cols[0].str.contains(k)"
   ]
  },
  {
   "cell_type": "code",
   "execution_count": 244,
   "metadata": {},
   "outputs": [],
   "source": [
    "pfaf['Other uses description'] = other_uses_cols[1]\n",
    "pfaf.drop('Other Uses', axis=1, inplace=True)"
   ]
  },
  {
   "cell_type": "code",
   "execution_count": 248,
   "metadata": {},
   "outputs": [],
   "source": [
    "to_drop = []\n",
    "pfaf['Fertilizer'] = (pfaf['Green manure'] | pfaf['Fertilizer'] | \n",
    "                      pfaf['Liquid feed'] | pfaf['Soil conditioner'])\n",
    "to_drop = to_drop + ['Green manure', 'Liquid feed', 'Soil conditioner']\n",
    "pfaf['Kindling'] = (pfaf['Kindling'] | pfaf['Tinder'])\n",
    "to_drop.append('Tinder')\n",
    "pfaf['Fibre'] = (pfaf['Fibre'] | pfaf['String'])\n",
    "to_drop.append('String')\n",
    "pfaf['Building material'] = (pfaf['Insulation'] | pfaf['Pipes'] | pfaf['Pitch'] | \n",
    "                             pfaf['Plaster'] | pfaf['Roofing'] | pfaf['Thatching'])\n",
    "to_drop = to_drop + ['Insulation', 'Pipes', 'Pitch', 'Plaster', 'Roofing', 'Thatching']\n",
    "pfaf['Sewing'] = (pfaf['Buttons'] | pfaf['Needles'] | pfaf['Pins'] | pfaf['Starch'] | \n",
    "                  pfaf['Stuffing'])\n",
    "to_drop = to_drop + ['Buttons', 'Needles', 'Pins', 'Starch', 'Stuffing']\n",
    "pfaf['Miscellany'] = (pfaf['Miscellany'] | pfaf['Microscope'] | pfaf['Bedding'] | \n",
    "                      pfaf['Brush'] | pfaf['Lining'] | pfaf['Packing'] | \n",
    "                      pfaf['Scourer'] | pfaf['Strewing'] | pfaf['Filter'] | \n",
    "                      pfaf['Straw'] | pfaf['Litmus'])\n",
    "to_drop = to_drop + ['Microscope', 'Bedding', 'Brush', 'Lining', 'Packing', 'Scourer', \n",
    "                     'Strewing', 'Filter', 'Straw', 'Litmus']\n",
    "pfaf['Weaving'] = (pfaf['Weaving'] | pfaf['Basketry'])\n",
    "pfaf.rename({'Essential': 'Essential oil', 'Teeth': 'Tooth care', \n",
    "             'Shelterbelt': 'Windbreak', 'Rust': 'Rust treatment'})\n",
    "pfaf.drop(to_drop, axis=1, inplace=True)"
   ]
  },
  {
   "cell_type": "code",
   "execution_count": 249,
   "metadata": {},
   "outputs": [],
   "source": [
    "pfaf.to_csv('pfaf_data.csv', index=False)"
   ]
  },
  {
   "cell_type": "markdown",
   "metadata": {},
   "source": [
    "### special uses"
   ]
  },
  {
   "cell_type": "code",
   "execution_count": 254,
   "metadata": {},
   "outputs": [],
   "source": [
    "# special uses section was not captured by previous scrape. \n",
    "import selenium\n",
    "from selenium.webdriver import Firefox\n",
    "from selenium.webdriver.firefox.options import Options\n",
    "from selenium.webdriver.support.ui import WebDriverWait\n",
    "from selenium.webdriver.support import expected_conditions as EC\n",
    "from selenium.webdriver.common.by import By"
   ]
  },
  {
   "cell_type": "code",
   "execution_count": 272,
   "metadata": {},
   "outputs": [],
   "source": [
    "options = Options()\n",
    "options.headless = True\n",
    "driver = Firefox(options=options)"
   ]
  },
  {
   "cell_type": "code",
   "execution_count": 283,
   "metadata": {},
   "outputs": [],
   "source": [
    "special_uses_df = pd.DataFrame()\n",
    "length = len(pfaf)\n",
    "for i, (genus,species) in enumerate(pfaf[['Genus', 'Species']].values):\n",
    "    if i % 100 == 0:\n",
    "        driver.quit()\n",
    "        driver = Firefox(options=options)\n",
    "        print(f'\\n {i}/{length}')\n",
    "    elif i % 5 == 0:\n",
    "        print('.', end='')\n",
    "    special_uses = {'Genus': genus, 'Species': species}\n",
    "    driver.get(f'https://pfaf.org/user/Plant.aspx?LatinName={genus}+{species}')\n",
    "    special_uses['Special uses'] = driver.find_element_by_xpath('//h3[contains('\n",
    "        'text(), \"Special Uses\")]/following-sibling::*/descendant::span').text\n",
    "    special_uses_df = special_uses_df.append(special_uses, ignore_index=True)\n",
    "driver.quit()\n",
    "pfaf = pfaf.merge(special_uses_df, on=['Genus', 'Species'])"
   ]
  },
  {
   "cell_type": "code",
   "execution_count": 282,
   "metadata": {},
   "outputs": [],
   "source": [
    "pfaf.to_csv('pfaf_data.csv', index=False)"
   ]
  },
  {
   "cell_type": "code",
   "execution_count": 307,
   "metadata": {},
   "outputs": [
    {
     "data": {
      "text/plain": [
       "[('', 5336),\n",
       " ('food', 335),\n",
       " ('forest', 335),\n",
       " ('scented', 201),\n",
       " ('plants', 201),\n",
       " ('ground', 112),\n",
       " ('cover', 112),\n",
       " ('attracts', 103),\n",
       " ('wildlife', 103),\n",
       " ('carbon', 90),\n",
       " ('farming', 90),\n",
       " ('hedge', 78),\n",
       " ('nitrogen', 74),\n",
       " ('fixer', 74),\n",
       " ('dynamic', 44),\n",
       " ('accumulator', 44)]"
      ]
     },
     "execution_count": 307,
     "metadata": {},
     "output_type": "execute_result"
    }
   ],
   "source": [
    "special_use_counter = Counter()\n",
    "pfaf['Special uses'].str.lower().str.split(' ').apply(special_use_counter.update)\n",
    "special_use_counter.most_common()"
   ]
  },
  {
   "cell_type": "code",
   "execution_count": 322,
   "metadata": {},
   "outputs": [],
   "source": [
    "special_uses = ['Food forest', 'Scented plants', 'Ground cover', 'Attracts wildlife', \n",
    "                'Carbon farming', 'Nitrogen fixer', 'Dynamic accumulator']"
   ]
  },
  {
   "cell_type": "code",
   "execution_count": 323,
   "metadata": {},
   "outputs": [],
   "source": [
    "for use in special_uses:\n",
    "    pfaf[use] = pfaf['Special uses'].str.lower().str.contains(use.lower())"
   ]
  },
  {
   "cell_type": "code",
   "execution_count": 337,
   "metadata": {},
   "outputs": [
    {
     "data": {
      "text/html": [
       "<div>\n",
       "<style scoped>\n",
       "    .dataframe tbody tr th:only-of-type {\n",
       "        vertical-align: middle;\n",
       "    }\n",
       "\n",
       "    .dataframe tbody tr th {\n",
       "        vertical-align: top;\n",
       "    }\n",
       "\n",
       "    .dataframe thead th {\n",
       "        text-align: right;\n",
       "    }\n",
       "</style>\n",
       "<table border=\"1\" class=\"dataframe\">\n",
       "  <thead>\n",
       "    <tr style=\"text-align: right;\">\n",
       "      <th></th>\n",
       "      <th>Food forest</th>\n",
       "      <th>Scented plants</th>\n",
       "      <th>Ground cover</th>\n",
       "      <th>Attracts wildlife</th>\n",
       "      <th>Carbon farming</th>\n",
       "      <th>Nitrogen fixer</th>\n",
       "      <th>Dynamic accumulator</th>\n",
       "    </tr>\n",
       "  </thead>\n",
       "  <tbody>\n",
       "    <tr>\n",
       "      <th>count</th>\n",
       "      <td>5577</td>\n",
       "      <td>5577</td>\n",
       "      <td>5577</td>\n",
       "      <td>5577</td>\n",
       "      <td>5577</td>\n",
       "      <td>5577</td>\n",
       "      <td>5577</td>\n",
       "    </tr>\n",
       "    <tr>\n",
       "      <th>unique</th>\n",
       "      <td>2</td>\n",
       "      <td>2</td>\n",
       "      <td>2</td>\n",
       "      <td>2</td>\n",
       "      <td>2</td>\n",
       "      <td>2</td>\n",
       "      <td>2</td>\n",
       "    </tr>\n",
       "    <tr>\n",
       "      <th>top</th>\n",
       "      <td>False</td>\n",
       "      <td>False</td>\n",
       "      <td>False</td>\n",
       "      <td>False</td>\n",
       "      <td>False</td>\n",
       "      <td>False</td>\n",
       "      <td>False</td>\n",
       "    </tr>\n",
       "    <tr>\n",
       "      <th>freq</th>\n",
       "      <td>5243</td>\n",
       "      <td>5376</td>\n",
       "      <td>5465</td>\n",
       "      <td>5474</td>\n",
       "      <td>5487</td>\n",
       "      <td>5503</td>\n",
       "      <td>5533</td>\n",
       "    </tr>\n",
       "  </tbody>\n",
       "</table>\n",
       "</div>"
      ],
      "text/plain": [
       "       Food forest Scented plants Ground cover Attracts wildlife  \\\n",
       "count         5577           5577         5577              5577   \n",
       "unique           2              2            2                 2   \n",
       "top          False          False        False             False   \n",
       "freq          5243           5376         5465              5474   \n",
       "\n",
       "       Carbon farming Nitrogen fixer Dynamic accumulator  \n",
       "count            5577           5577                5577  \n",
       "unique              2              2                   2  \n",
       "top             False          False               False  \n",
       "freq             5487           5503                5533  "
      ]
     },
     "execution_count": 337,
     "metadata": {},
     "output_type": "execute_result"
    }
   ],
   "source": [
    "pfaf[special_uses].describe()"
   ]
  },
  {
   "cell_type": "code",
   "execution_count": 381,
   "metadata": {},
   "outputs": [],
   "source": [
    "pfaf.drop('special uses', axis=1, inplace=True)"
   ]
  },
  {
   "cell_type": "code",
   "execution_count": 338,
   "metadata": {},
   "outputs": [],
   "source": [
    "pfaf.to_csv('pfaf_data.csv', index=False)"
   ]
  },
  {
   "cell_type": "markdown",
   "metadata": {},
   "source": [
    "### hardiness zone, care"
   ]
  },
  {
   "cell_type": "code",
   "execution_count": 352,
   "metadata": {},
   "outputs": [
    {
     "data": {
      "text/html": [
       "<div>\n",
       "<style scoped>\n",
       "    .dataframe tbody tr th:only-of-type {\n",
       "        vertical-align: middle;\n",
       "    }\n",
       "\n",
       "    .dataframe tbody tr th {\n",
       "        vertical-align: top;\n",
       "    }\n",
       "\n",
       "    .dataframe thead th {\n",
       "        text-align: right;\n",
       "    }\n",
       "</style>\n",
       "<table border=\"1\" class=\"dataframe\">\n",
       "  <thead>\n",
       "    <tr style=\"text-align: right;\">\n",
       "      <th></th>\n",
       "      <th>0</th>\n",
       "      <th>1</th>\n",
       "      <th>2</th>\n",
       "      <th>3</th>\n",
       "    </tr>\n",
       "  </thead>\n",
       "  <tbody>\n",
       "    <tr>\n",
       "      <th>0</th>\n",
       "      <td></td>\n",
       "      <td>None</td>\n",
       "      <td>None</td>\n",
       "      <td>None</td>\n",
       "    </tr>\n",
       "    <tr>\n",
       "      <th>1</th>\n",
       "      <td></td>\n",
       "      <td>4</td>\n",
       "      <td>8</td>\n",
       "      <td></td>\n",
       "    </tr>\n",
       "    <tr>\n",
       "      <th>2</th>\n",
       "      <td></td>\n",
       "      <td>3</td>\n",
       "      <td>6</td>\n",
       "      <td></td>\n",
       "    </tr>\n",
       "    <tr>\n",
       "      <th>3</th>\n",
       "      <td></td>\n",
       "      <td>None</td>\n",
       "      <td>None</td>\n",
       "      <td>None</td>\n",
       "    </tr>\n",
       "    <tr>\n",
       "      <th>4</th>\n",
       "      <td></td>\n",
       "      <td>None</td>\n",
       "      <td>None</td>\n",
       "      <td>None</td>\n",
       "    </tr>\n",
       "  </tbody>\n",
       "</table>\n",
       "</div>"
      ],
      "text/plain": [
       "  0     1     2     3\n",
       "0    None  None  None\n",
       "1       4     8      \n",
       "2       3     6      \n",
       "3    None  None  None\n",
       "4    None  None  None"
      ]
     },
     "execution_count": 352,
     "metadata": {},
     "output_type": "execute_result"
    }
   ],
   "source": [
    "hardiness = pfaf['USDA hardiness'].str.split(r'([0-9]+)-([0-9]+)',expand=True)\n",
    "hardiness.head()"
   ]
  },
  {
   "cell_type": "code",
   "execution_count": 354,
   "metadata": {},
   "outputs": [
    {
     "name": "stdout",
     "output_type": "stream",
     "text": [
      "               5198\n",
      "Coming soon     379\n",
      "Name: 0, dtype: int64\n",
      "4     394\n",
      "3     230\n",
      "5     201\n",
      "6     127\n",
      "7     110\n",
      "8      60\n",
      "2      32\n",
      "10     19\n",
      "9      16\n",
      "1       4\n",
      "Name: 1, dtype: int64\n",
      "9     374\n",
      "8     368\n",
      "7     170\n",
      "10    138\n",
      "11     85\n",
      "12     27\n",
      "6      24\n",
      "5       6\n",
      "4       1\n",
      "Name: 2, dtype: int64\n",
      "    1193\n",
      "Name: 3, dtype: int64\n"
     ]
    }
   ],
   "source": [
    "for i in hardiness.columns:\n",
    "    print(hardiness[i].value_counts())"
   ]
  },
  {
   "cell_type": "code",
   "execution_count": 356,
   "metadata": {},
   "outputs": [],
   "source": [
    "hardiness.drop([0, 3], axis=1, inplace=True)"
   ]
  },
  {
   "cell_type": "code",
   "execution_count": 359,
   "metadata": {},
   "outputs": [],
   "source": [
    "pfaf['Min zone'] = hardiness[1]\n",
    "pfaf['Max zone'] = hardiness[2]"
   ]
  },
  {
   "cell_type": "code",
   "execution_count": 366,
   "metadata": {},
   "outputs": [],
   "source": [
    "pfaf = pfaf.rename({c: c.lower() for c in pfaf.columns}, axis=1)"
   ]
  },
  {
   "cell_type": "code",
   "execution_count": 379,
   "metadata": {},
   "outputs": [],
   "source": [
    "pfaf.drop('usda hardiness', axis=1, inplace=True)"
   ]
  },
  {
   "cell_type": "code",
   "execution_count": 374,
   "metadata": {},
   "outputs": [
    {
     "data": {
      "text/plain": [
       "0                                                   []\n",
       "1    ['Fully Hardy', 'Moist Soil', 'Full shade', 'S...\n",
       "2    ['Fully Hardy', 'Moist Soil', 'Full shade', 'S...\n",
       "3                                                   []\n",
       "4                                                   []\n",
       "Name: care, dtype: object"
      ]
     },
     "execution_count": 374,
     "metadata": {},
     "output_type": "execute_result"
    }
   ],
   "source": [
    "pfaf['care'][~(pfaf['care']=='')].head()"
   ]
  },
  {
   "cell_type": "code",
   "execution_count": 375,
   "metadata": {},
   "outputs": [
    {
     "data": {
      "text/plain": [
       "[('Moist Soil', 1494),\n",
       " ('Full sun', 1455),\n",
       " ('Fully Hardy', 1051),\n",
       " ('Semi-shade', 969),\n",
       " ('Well drained soil', 552),\n",
       " ('Wet Soil', 226),\n",
       " ('Full shade', 125),\n",
       " ('Frost Hardy', 116),\n",
       " ('Water Plants', 76),\n",
       " ('Half Hardy', 42),\n",
       " ('Tender', 25)]"
      ]
     },
     "execution_count": 375,
     "metadata": {},
     "output_type": "execute_result"
    }
   ],
   "source": [
    "care_counter = Counter()\n",
    "\n",
    "def get_care(l):\n",
    "    care_counter.update(eval(l))\n",
    "    \n",
    "pfaf['care'].apply(get_care)\n",
    "care_counter.most_common()"
   ]
  },
  {
   "cell_type": "code",
   "execution_count": 376,
   "metadata": {},
   "outputs": [],
   "source": [
    "for k in care_counter.keys():\n",
    "    pfaf[k.lower()] = pfaf['care'].str.contains(k)"
   ]
  },
  {
   "cell_type": "code",
   "execution_count": 378,
   "metadata": {},
   "outputs": [
    {
     "data": {
      "text/plain": [
       "count      5577\n",
       "unique        2\n",
       "top       False\n",
       "freq       4083\n",
       "Name: moist soil, dtype: object"
      ]
     },
     "execution_count": 378,
     "metadata": {},
     "output_type": "execute_result"
    }
   ],
   "source": [
    "pfaf['moist soil'].describe()"
   ]
  },
  {
   "cell_type": "code",
   "execution_count": 380,
   "metadata": {},
   "outputs": [],
   "source": [
    "pfaf.drop('care', axis=1, inplace=True)"
   ]
  },
  {
   "cell_type": "code",
   "execution_count": 382,
   "metadata": {},
   "outputs": [],
   "source": [
    "pfaf.to_csv('pfaf_data.csv', index=False)"
   ]
  },
  {
   "cell_type": "markdown",
   "metadata": {},
   "source": [
    "### cultivation details"
   ]
  },
  {
   "cell_type": "code",
   "execution_count": 562,
   "metadata": {},
   "outputs": [],
   "source": [
    "import nltk\n",
    "from nltk.corpus import stopwords, wordnet\n",
    "from nltk import stem\n",
    "from nltk.tokenize import word_tokenize, sent_tokenize\n",
    "from sklearn.feature_extraction.text import CountVectorizer\n",
    "from sklearn.cluster import KMeans"
   ]
  },
  {
   "cell_type": "code",
   "execution_count": 465,
   "metadata": {},
   "outputs": [],
   "source": [
    "pfaf = pd.read_csv('pfaf_data.csv')"
   ]
  },
  {
   "cell_type": "code",
   "execution_count": 400,
   "metadata": {},
   "outputs": [],
   "source": [
    "def clean_strings(string):\n",
    "    sentences = sent_tokenize(string)\n",
    "    lemmas = []\n",
    "    for i, sent in enumerate(sentences):\n",
    "        sent = [word for word in re.findall('\\w+', sent.lower()) \n",
    "                if word not in stopwords.words('english')]\n",
    "        tagged = nltk.pos_tag(sent)\n",
    "        lemm = stem.WordNetLemmatizer()\n",
    "        sent = [lemm.lemmatize(t[0]) for t in tagged]\n",
    "        lemmas.append(sent)\n",
    "    return lemmas"
   ]
  },
  {
   "cell_type": "code",
   "execution_count": 501,
   "metadata": {},
   "outputs": [],
   "source": [
    "cultivation = pd.DataFrame()\n",
    "cultivation['text'] = pfaf['cultivation details'].replace({r'\\[([0-9]+(, )*)+[0-9]*\\]': \n",
    "                                                           ''}, regex=True)"
   ]
  },
  {
   "cell_type": "code",
   "execution_count": 503,
   "metadata": {},
   "outputs": [],
   "source": [
    "cultivation['genus'] = pfaf['genus']\n",
    "cultivation['species'] = pfaf['species']"
   ]
  },
  {
   "cell_type": "code",
   "execution_count": 502,
   "metadata": {},
   "outputs": [],
   "source": [
    "cultivation.fillna('', inplace=True)"
   ]
  },
  {
   "cell_type": "code",
   "execution_count": 508,
   "metadata": {},
   "outputs": [
    {
     "data": {
      "text/plain": [
       "CountVectorizer(stop_words='english')"
      ]
     },
     "execution_count": 508,
     "metadata": {},
     "output_type": "execute_result"
    }
   ],
   "source": [
    "count_vec = CountVectorizer(stop_words='english')\n",
    "count_vec.fit(cultivation['text'])"
   ]
  },
  {
   "cell_type": "code",
   "execution_count": 554,
   "metadata": {},
   "outputs": [],
   "source": [
    "def vectorize(text, genus, species):\n",
    "    sentences = sent_tokenize(text)\n",
    "    vectors = count_vec.transform(sentences)\n",
    "    vector_df = pd.DataFrame(data=vectors.toarray(), columns=count_vec.get_feature_names())\n",
    "    vector_df['genus'] = genus\n",
    "    vector_df['species'] = species\n",
    "    return vector_df"
   ]
  },
  {
   "cell_type": "code",
   "execution_count": 558,
   "metadata": {},
   "outputs": [],
   "source": [
    "all_sentences = pd.DataFrame()\n",
    "for _, (text, genus, species) in enumerate(cultivation.values):\n",
    "    if text:\n",
    "        vector_df = vectorize(text, genus, species)\n",
    "        all_sentences = all_sentences.append(vector_df, ignore_index=True)"
   ]
  },
  {
   "cell_type": "code",
   "execution_count": 559,
   "metadata": {},
   "outputs": [
    {
     "data": {
      "text/plain": [
       "(14911, 4758)"
      ]
     },
     "execution_count": 559,
     "metadata": {},
     "output_type": "execute_result"
    }
   ],
   "source": [
    "all_sentences.shape"
   ]
  },
  {
   "cell_type": "code",
   "execution_count": 563,
   "metadata": {},
   "outputs": [],
   "source": [
    "names = all_sentences[['genus', 'species']]\n",
    "all_sentences.drop(['genus', 'species'], axis=1, inplace=True)"
   ]
  },
  {
   "cell_type": "code",
   "execution_count": 564,
   "metadata": {},
   "outputs": [],
   "source": [
    "km = KMeans()\n",
    "clusters = km.fit_transform(all_sentences)"
   ]
  },
  {
   "cell_type": "code",
   "execution_count": 566,
   "metadata": {},
   "outputs": [
    {
     "data": {
      "text/plain": [
       "92189.20476954358"
      ]
     },
     "execution_count": 566,
     "metadata": {},
     "output_type": "execute_result"
    }
   ],
   "source": [
    "km.inertia_"
   ]
  },
  {
   "cell_type": "code",
   "execution_count": 567,
   "metadata": {},
   "outputs": [
    {
     "name": "stdout",
     "output_type": "stream",
     "text": [
      "5 97778.18836337097\n",
      "10 90594.74156603152\n",
      "15 87027.0635657646\n",
      "20 80407.23680482272\n",
      "25 78519.69642141205\n",
      "30 75761.57997907503\n",
      "35 74275.23223286551\n"
     ]
    }
   ],
   "source": [
    "scores = []\n",
    "for i in range(5,40,5):\n",
    "    km = KMeans(n_clusters=i)\n",
    "    clusters = km.fit_transform(all_sentences)\n",
    "    scores.append((i, km.inertia_, clusters))\n",
    "    print(i, km.inertia_)"
   ]
  },
  {
   "cell_type": "code",
   "execution_count": 569,
   "metadata": {},
   "outputs": [],
   "source": [
    "# looks like 20 is a good n"
   ]
  },
  {
   "cell_type": "code",
   "execution_count": 570,
   "metadata": {},
   "outputs": [],
   "source": [
    "all_sentences['genus'] = names['genus']\n",
    "all_sentences['species'] = names['species']"
   ]
  },
  {
   "cell_type": "code",
   "execution_count": 571,
   "metadata": {},
   "outputs": [],
   "source": [
    "all_sentences.to_csv('all_cultivation_sentences.csv', index=False)"
   ]
  },
  {
   "cell_type": "code",
   "execution_count": 574,
   "metadata": {},
   "outputs": [],
   "source": [
    "import pickle"
   ]
  },
  {
   "cell_type": "code",
   "execution_count": 573,
   "metadata": {},
   "outputs": [],
   "source": [
    "with open('clusters.pkl', 'wb') as f:\n",
    "    pickle.dump(scores, f)"
   ]
  },
  {
   "cell_type": "markdown",
   "metadata": {},
   "source": [
    "### Analyze clusters"
   ]
  },
  {
   "cell_type": "code",
   "execution_count": 580,
   "metadata": {},
   "outputs": [],
   "source": [
    "all_sentences = pd.read_csv('all_cultivation_sentences.csv')"
   ]
  },
  {
   "cell_type": "code",
   "execution_count": 575,
   "metadata": {},
   "outputs": [],
   "source": [
    "with open('clusters.pkl', 'rb') as f:\n",
    "    scores = pickle.load(f)\n",
    "# oops forgot to include km in the pickle nvm"
   ]
  },
  {
   "cell_type": "code",
   "execution_count": 591,
   "metadata": {},
   "outputs": [],
   "source": [
    "names = all_sentences[['genus', 'species']]\n",
    "all_sentences.drop(['genus', 'species'], axis=1, inplace=True)"
   ]
  },
  {
   "cell_type": "code",
   "execution_count": 592,
   "metadata": {},
   "outputs": [],
   "source": [
    "km = KMeans(n_clusters=20)\n",
    "clusters = km.fit_predict(all_sentences)"
   ]
  },
  {
   "cell_type": "code",
   "execution_count": 594,
   "metadata": {},
   "outputs": [],
   "source": [
    "all_sentences['cluster'] = clusters"
   ]
  },
  {
   "cell_type": "code",
   "execution_count": null,
   "metadata": {},
   "outputs": [],
   "source": [
    "all_sentences.to_csv('all_cultivation_sentences.csv')"
   ]
  },
  {
   "cell_type": "code",
   "execution_count": null,
   "metadata": {},
   "outputs": [],
   "source": []
  }
 ],
 "metadata": {
  "kernelspec": {
   "display_name": "Python 3",
   "language": "python",
   "name": "python3"
  },
  "language_info": {
   "codemirror_mode": {
    "name": "ipython",
    "version": 3
   },
   "file_extension": ".py",
   "mimetype": "text/x-python",
   "name": "python",
   "nbconvert_exporter": "python",
   "pygments_lexer": "ipython3",
   "version": "3.7.3"
  }
 },
 "nbformat": 4,
 "nbformat_minor": 4
}
