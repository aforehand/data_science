{
 "cells": [
  {
   "cell_type": "markdown",
   "metadata": {},
   "source": [
    "### clean data from PFAF"
   ]
  },
  {
   "cell_type": "code",
   "execution_count": 20,
   "metadata": {},
   "outputs": [],
   "source": [
    "import pandas as pd\n",
    "import re\n",
    "import numpy as np\n",
    "from collections import Counter"
   ]
  },
  {
   "cell_type": "code",
   "execution_count": 118,
   "metadata": {},
   "outputs": [],
   "source": [
    "pfaf = pd.read_csv('pfaf_data.csv')"
   ]
  },
  {
   "cell_type": "code",
   "execution_count": 3,
   "metadata": {},
   "outputs": [],
   "source": [
    "pfaf.to_csv('pfaf_data_original.csv', index=False)"
   ]
  },
  {
   "cell_type": "code",
   "execution_count": 119,
   "metadata": {},
   "outputs": [],
   "source": [
    "pfaf = pfaf.drop_duplicates()"
   ]
  },
  {
   "cell_type": "code",
   "execution_count": 89,
   "metadata": {},
   "outputs": [
    {
     "data": {
      "text/plain": [
       "Index(['Care', 'Common Name', 'Cultivation details', 'Edibility Rating',\n",
       "       'Edible Uses', 'Family', 'Found In', 'Genus', 'Habitats',\n",
       "       'Known Hazards', 'Medicinal Rating', 'Medicinal Uses', 'Other Names',\n",
       "       'Other Uses', 'Physical Characteristics', 'Propagation', 'Range',\n",
       "       'Species', 'Summary', 'Synonyms', 'USDA hardiness', 'Weed Potential',\n",
       "       'Unnamed: 22'],\n",
       "      dtype='object')"
      ]
     },
     "execution_count": 89,
     "metadata": {},
     "output_type": "execute_result"
    }
   ],
   "source": [
    "pfaf.columns"
   ]
  },
  {
   "cell_type": "code",
   "execution_count": 90,
   "metadata": {},
   "outputs": [
    {
     "name": "stdout",
     "output_type": "stream",
     "text": [
      "Care 0\n",
      "Common Name 4009\n",
      "Cultivation details 4007\n",
      "Edibility Rating 4005\n",
      "Edible Uses 4007\n",
      "Family 4005\n",
      "Found In 5432\n",
      "Genus 0\n",
      "Habitats 4112\n",
      "Known Hazards 4005\n",
      "Medicinal Rating 4005\n",
      "Medicinal Uses 4005\n",
      "Other Names 5435\n",
      "Other Uses 4005\n",
      "Physical Characteristics 4005\n",
      "Propagation 4027\n",
      "Range 4006\n",
      "Species 0\n",
      "Summary 5145\n",
      "Synonyms 4823\n",
      "USDA hardiness 4005\n",
      "Weed Potential 5449\n",
      "Unnamed: 22 5577\n"
     ]
    }
   ],
   "source": [
    "for c in pfaf.columns:\n",
    "    print(c, pfaf[c].isnull().sum())"
   ]
  },
  {
   "cell_type": "code",
   "execution_count": 91,
   "metadata": {},
   "outputs": [
    {
     "data": {
      "text/plain": [
       "array([nan, '   (1 of 5)', '   (3 of 5)', '   (0 of 5)', '   (2 of 5)',\n",
       "       '   (4 of 5)', '   (5 of 5)'], dtype=object)"
      ]
     },
     "execution_count": 91,
     "metadata": {},
     "output_type": "execute_result"
    }
   ],
   "source": [
    "pfaf['Edibility Rating'].unique()"
   ]
  },
  {
   "cell_type": "code",
   "execution_count": 120,
   "metadata": {},
   "outputs": [],
   "source": [
    "pfaf.fillna('', inplace=True)\n",
    "pfaf['Edibility Rating'].replace('', '0', inplace=True)"
   ]
  },
  {
   "cell_type": "code",
   "execution_count": 121,
   "metadata": {},
   "outputs": [],
   "source": [
    "pfaf['Edibility Rating'] = pfaf['Edibility Rating'].str.extract(r'([0-9])').astype(int)"
   ]
  },
  {
   "cell_type": "code",
   "execution_count": 122,
   "metadata": {},
   "outputs": [
    {
     "data": {
      "text/plain": [
       "'Edible Parts: Inner bark\\nEdible Uses: Gum  Tea\\n\\nYoung shoot tips are used as a substitute for tea[177, 183]. The pitch obtained from the bark can be hardened (probably by immersing it in cold water[K]) and used as a chewing gum[257]. Inner bark[257]. No further information is given, but inner bark can be dried, ground into a powder and then used with grain flours etc to make bread and other preparations[257].'"
      ]
     },
     "execution_count": 122,
     "metadata": {},
     "output_type": "execute_result"
    }
   ],
   "source": [
    "pfaf['Edible Uses'].iloc[1]"
   ]
  },
  {
   "cell_type": "code",
   "execution_count": 123,
   "metadata": {},
   "outputs": [],
   "source": [
    "edible_cols = pfaf['Edible Uses'].str.split('\\n', expand=True)\n",
    "edible_cols[['Genus', 'Species']] = pfaf[['Genus', 'Species']]\n",
    "edible_cols.fillna('', inplace=True)"
   ]
  },
  {
   "cell_type": "code",
   "execution_count": 143,
   "metadata": {},
   "outputs": [
    {
     "data": {
      "text/plain": [
       "Counter({'Edible': 1188,\n",
       "         'Parts:': 1188,\n",
       "         'Inner': 59,\n",
       "         'bark': 59,\n",
       "         'Root': 282,\n",
       "         'Seed': 361,\n",
       "         'Seedpod': 42,\n",
       "         'Sap': 35,\n",
       "         'Leaves': 400,\n",
       "         'Flowers': 155,\n",
       "         'Fruit': 331,\n",
       "         'Stem': 86,\n",
       "         'Nectar': 5,\n",
       "         'Apical': 1,\n",
       "         'bud': 1,\n",
       "         'Oil': 80,\n",
       "         'Shoots': 1,\n",
       "         'Manna': 3,\n",
       "         'Pollen': 3})"
      ]
     },
     "execution_count": 143,
     "metadata": {},
     "output_type": "execute_result"
    }
   ],
   "source": [
    "edible_parts_counts = Counter()\n",
    "edible_uses_counts = Counter()\n",
    "edible_cols[edible_cols[0].str.contains('Edible Parts')][0].str.split().apply(\n",
    "    edible_parts_counts.update)\n",
    "edible_cols[edible_cols[1].str.contains('Edible Uses')][1].str.split().apply(\n",
    "    edible_uses_counts.update)\n",
    "edible_parts_counts"
   ]
  },
  {
   "cell_type": "code",
   "execution_count": 134,
   "metadata": {},
   "outputs": [
    {
     "data": {
      "text/html": [
       "<div>\n",
       "<style scoped>\n",
       "    .dataframe tbody tr th:only-of-type {\n",
       "        vertical-align: middle;\n",
       "    }\n",
       "\n",
       "    .dataframe tbody tr th {\n",
       "        vertical-align: top;\n",
       "    }\n",
       "\n",
       "    .dataframe thead th {\n",
       "        text-align: right;\n",
       "    }\n",
       "</style>\n",
       "<table border=\"1\" class=\"dataframe\">\n",
       "  <thead>\n",
       "    <tr style=\"text-align: right;\">\n",
       "      <th></th>\n",
       "      <th>0</th>\n",
       "      <th>1</th>\n",
       "      <th>2</th>\n",
       "      <th>3</th>\n",
       "      <th>Genus</th>\n",
       "      <th>Species</th>\n",
       "    </tr>\n",
       "  </thead>\n",
       "  <tbody>\n",
       "    <tr>\n",
       "      <th>106</th>\n",
       "      <td>Edible Parts: Nectar  Seed</td>\n",
       "      <td>Edible Uses:</td>\n",
       "      <td></td>\n",
       "      <td>Seed - cooked. Said to be as sweet as a chestn...</td>\n",
       "      <td>Aesculus</td>\n",
       "      <td>flava</td>\n",
       "    </tr>\n",
       "    <tr>\n",
       "      <th>1658</th>\n",
       "      <td>Edible Parts: Fruit  Nectar</td>\n",
       "      <td>Edible Uses:</td>\n",
       "      <td></td>\n",
       "      <td>Fruit - raw[60, 105]. A sweet flavour[61]. The...</td>\n",
       "      <td>Comandra</td>\n",
       "      <td>umbellata</td>\n",
       "    </tr>\n",
       "    <tr>\n",
       "      <th>2858</th>\n",
       "      <td>Edible Parts: Nectar</td>\n",
       "      <td>Edible Uses: Tea</td>\n",
       "      <td></td>\n",
       "      <td>The plant has been boiled up as a tea[257]. Th...</td>\n",
       "      <td>Ipomopsis</td>\n",
       "      <td>aggregata</td>\n",
       "    </tr>\n",
       "    <tr>\n",
       "      <th>3132</th>\n",
       "      <td>Edible Parts: Fruit  Nectar</td>\n",
       "      <td>Edible Uses:</td>\n",
       "      <td></td>\n",
       "      <td>Fruit - raw or cooked[105, 177, 212]. Not tast...</td>\n",
       "      <td>Lonicera</td>\n",
       "      <td>ciliosa</td>\n",
       "    </tr>\n",
       "    <tr>\n",
       "      <th>3326</th>\n",
       "      <td>Edible Parts: Fruit  Nectar</td>\n",
       "      <td>Edible Uses:</td>\n",
       "      <td></td>\n",
       "      <td>Fruit - fresh or dried[61, 105, 183]. The frui...</td>\n",
       "      <td>Menziesia</td>\n",
       "      <td>ferruginea</td>\n",
       "    </tr>\n",
       "  </tbody>\n",
       "</table>\n",
       "</div>"
      ],
      "text/plain": [
       "                                0                 1 2  \\\n",
       "106    Edible Parts: Nectar  Seed      Edible Uses:     \n",
       "1658  Edible Parts: Fruit  Nectar      Edible Uses:     \n",
       "2858         Edible Parts: Nectar  Edible Uses: Tea     \n",
       "3132  Edible Parts: Fruit  Nectar      Edible Uses:     \n",
       "3326  Edible Parts: Fruit  Nectar      Edible Uses:     \n",
       "\n",
       "                                                      3      Genus     Species  \n",
       "106   Seed - cooked. Said to be as sweet as a chestn...   Aesculus       flava  \n",
       "1658  Fruit - raw[60, 105]. A sweet flavour[61]. The...   Comandra   umbellata  \n",
       "2858  The plant has been boiled up as a tea[257]. Th...  Ipomopsis   aggregata  \n",
       "3132  Fruit - raw or cooked[105, 177, 212]. Not tast...   Lonicera     ciliosa  \n",
       "3326  Fruit - fresh or dried[61, 105, 183]. The frui...  Menziesia  ferruginea  "
      ]
     },
     "execution_count": 134,
     "metadata": {},
     "output_type": "execute_result"
    }
   ],
   "source": [
    "edible_cols[edible_cols[0].str.contains('Nectar')]"
   ]
  },
  {
   "cell_type": "code",
   "execution_count": 135,
   "metadata": {},
   "outputs": [
    {
     "data": {
      "text/plain": [
       "'The plant has been boiled up as a tea[257]. The nectar is sucked from the flowers by children[257].'"
      ]
     },
     "execution_count": 135,
     "metadata": {},
     "output_type": "execute_result"
    }
   ],
   "source": [
    "edible_cols[3].loc[2858]"
   ]
  },
  {
   "cell_type": "code",
   "execution_count": 136,
   "metadata": {},
   "outputs": [
    {
     "data": {
      "text/html": [
       "<div>\n",
       "<style scoped>\n",
       "    .dataframe tbody tr th:only-of-type {\n",
       "        vertical-align: middle;\n",
       "    }\n",
       "\n",
       "    .dataframe tbody tr th {\n",
       "        vertical-align: top;\n",
       "    }\n",
       "\n",
       "    .dataframe thead th {\n",
       "        text-align: right;\n",
       "    }\n",
       "</style>\n",
       "<table border=\"1\" class=\"dataframe\">\n",
       "  <thead>\n",
       "    <tr style=\"text-align: right;\">\n",
       "      <th></th>\n",
       "      <th>0</th>\n",
       "      <th>1</th>\n",
       "      <th>2</th>\n",
       "      <th>3</th>\n",
       "      <th>Genus</th>\n",
       "      <th>Species</th>\n",
       "    </tr>\n",
       "  </thead>\n",
       "  <tbody>\n",
       "    <tr>\n",
       "      <th>2987</th>\n",
       "      <td>Edible Parts: Manna  Sap</td>\n",
       "      <td>Edible Uses: Gum  Sweetener</td>\n",
       "      <td></td>\n",
       "      <td>A gum, or resin, is produced under the bark. I...</td>\n",
       "      <td>Larix</td>\n",
       "      <td>occidentalis</td>\n",
       "    </tr>\n",
       "    <tr>\n",
       "      <th>4303</th>\n",
       "      <td>Edible Parts: Inner bark  Manna</td>\n",
       "      <td>Edible Uses: Coffee  Condiment  Gum  Tea</td>\n",
       "      <td></td>\n",
       "      <td>Young shoot tips - used as a flavouring in coo...</td>\n",
       "      <td>Pseudotsuga</td>\n",
       "      <td>menziesii</td>\n",
       "    </tr>\n",
       "    <tr>\n",
       "      <th>4653</th>\n",
       "      <td>Edible Parts: Flowers  Inner bark  Manna</td>\n",
       "      <td>Edible Uses: Tea</td>\n",
       "      <td></td>\n",
       "      <td>A honeydew can be obtained from the cut branch...</td>\n",
       "      <td>Salix</td>\n",
       "      <td>gooddingii</td>\n",
       "    </tr>\n",
       "  </tbody>\n",
       "</table>\n",
       "</div>"
      ],
      "text/plain": [
       "                                             0  \\\n",
       "2987                  Edible Parts: Manna  Sap   \n",
       "4303           Edible Parts: Inner bark  Manna   \n",
       "4653  Edible Parts: Flowers  Inner bark  Manna   \n",
       "\n",
       "                                             1 2  \\\n",
       "2987               Edible Uses: Gum  Sweetener     \n",
       "4303  Edible Uses: Coffee  Condiment  Gum  Tea     \n",
       "4653                          Edible Uses: Tea     \n",
       "\n",
       "                                                      3        Genus  \\\n",
       "2987  A gum, or resin, is produced under the bark. I...        Larix   \n",
       "4303  Young shoot tips - used as a flavouring in coo...  Pseudotsuga   \n",
       "4653  A honeydew can be obtained from the cut branch...        Salix   \n",
       "\n",
       "           Species  \n",
       "2987  occidentalis  \n",
       "4303     menziesii  \n",
       "4653    gooddingii  "
      ]
     },
     "execution_count": 136,
     "metadata": {},
     "output_type": "execute_result"
    }
   ],
   "source": [
    "edible_cols[edible_cols[0].str.contains('Manna')]"
   ]
  },
  {
   "cell_type": "code",
   "execution_count": 137,
   "metadata": {},
   "outputs": [
    {
     "data": {
      "text/html": [
       "<div>\n",
       "<style scoped>\n",
       "    .dataframe tbody tr th:only-of-type {\n",
       "        vertical-align: middle;\n",
       "    }\n",
       "\n",
       "    .dataframe tbody tr th {\n",
       "        vertical-align: top;\n",
       "    }\n",
       "\n",
       "    .dataframe thead th {\n",
       "        text-align: right;\n",
       "    }\n",
       "</style>\n",
       "<table border=\"1\" class=\"dataframe\">\n",
       "  <thead>\n",
       "    <tr style=\"text-align: right;\">\n",
       "      <th></th>\n",
       "      <th>0</th>\n",
       "      <th>1</th>\n",
       "      <th>2</th>\n",
       "      <th>3</th>\n",
       "      <th>Genus</th>\n",
       "      <th>Species</th>\n",
       "    </tr>\n",
       "  </thead>\n",
       "  <tbody>\n",
       "    <tr>\n",
       "      <th>4761</th>\n",
       "      <td>Edible Parts: Pollen  Root  Seed  Stem</td>\n",
       "      <td>Edible Uses:</td>\n",
       "      <td></td>\n",
       "      <td>Root - raw or cooked[172]. Rich in starch. Ste...</td>\n",
       "      <td>Scirpus</td>\n",
       "      <td>microcarpus</td>\n",
       "    </tr>\n",
       "    <tr>\n",
       "      <th>5378</th>\n",
       "      <td>Edible Parts: Flowers  Leaves  Oil  Pollen  Ro...</td>\n",
       "      <td>Edible Uses: Oil</td>\n",
       "      <td></td>\n",
       "      <td>Roots - raw or cooked[145]. Rich in starch[105...</td>\n",
       "      <td>Typha</td>\n",
       "      <td>domingensis</td>\n",
       "    </tr>\n",
       "    <tr>\n",
       "      <th>5379</th>\n",
       "      <td>Edible Parts: Flowers  Leaves  Oil  Pollen  Ro...</td>\n",
       "      <td>Edible Uses: Oil</td>\n",
       "      <td></td>\n",
       "      <td>Roots - raw or cooked[2, 12]. They can be boil...</td>\n",
       "      <td>Typha</td>\n",
       "      <td>latifolia</td>\n",
       "    </tr>\n",
       "  </tbody>\n",
       "</table>\n",
       "</div>"
      ],
      "text/plain": [
       "                                                      0                 1 2  \\\n",
       "4761             Edible Parts: Pollen  Root  Seed  Stem      Edible Uses:     \n",
       "5378  Edible Parts: Flowers  Leaves  Oil  Pollen  Ro...  Edible Uses: Oil     \n",
       "5379  Edible Parts: Flowers  Leaves  Oil  Pollen  Ro...  Edible Uses: Oil     \n",
       "\n",
       "                                                      3    Genus      Species  \n",
       "4761  Root - raw or cooked[172]. Rich in starch. Ste...  Scirpus  microcarpus  \n",
       "5378  Roots - raw or cooked[145]. Rich in starch[105...    Typha  domingensis  \n",
       "5379  Roots - raw or cooked[2, 12]. They can be boil...    Typha    latifolia  "
      ]
     },
     "execution_count": 137,
     "metadata": {},
     "output_type": "execute_result"
    }
   ],
   "source": [
    "edible_cols[edible_cols[0].str.contains('Pollen')]"
   ]
  },
  {
   "cell_type": "code",
   "execution_count": 138,
   "metadata": {},
   "outputs": [
    {
     "data": {
      "text/plain": [
       "76     Leaves - cooked[105]. Some caution is advised,...\n",
       "101         Seeds[257]. No further information is given.\n",
       "192    The heart of the plant is very rich in sacchar...\n",
       "278        Catkins - raw or cooked. A bitter taste[172].\n",
       "441    Young leaves - cooked[177]. Used as a potherb[...\n",
       "Name: 0, dtype: object"
      ]
     },
     "execution_count": 138,
     "metadata": {},
     "output_type": "execute_result"
    }
   ],
   "source": [
    "edible_cols[(~edible_cols[0].str.contains('Edible Parts:')) & \n",
    "            ~(edible_cols[0]=='') & ~(edible_cols[0]=='None known') & \n",
    "            ~(edible_cols[0]=='0')][0].head()"
   ]
  },
  {
   "cell_type": "code",
   "execution_count": 139,
   "metadata": {},
   "outputs": [],
   "source": [
    "edible_cols[3] = np.where(((~edible_cols[0].str.contains('Edible Parts:')) & \n",
    "            ~(edible_cols[0]=='') & ~(edible_cols[0]=='None known') & \n",
    "            ~(edible_cols[0]=='0')), edible_cols[0], edible_cols[3])"
   ]
  },
  {
   "cell_type": "code",
   "execution_count": 140,
   "metadata": {},
   "outputs": [
    {
     "data": {
      "text/plain": [
       "0          Leaves - cooked[105]. Some caution is advised,...\n",
       "1                                                           \n",
       "2                                                           \n",
       "3          Leaves - cooked[105]. Some caution is advised,...\n",
       "Genus                                                 Actaea\n",
       "Species                                             racemosa\n",
       "Name: 76, dtype: object"
      ]
     },
     "execution_count": 140,
     "metadata": {},
     "output_type": "execute_result"
    }
   ],
   "source": [
    "edible_cols.loc[76]"
   ]
  },
  {
   "cell_type": "code",
   "execution_count": 146,
   "metadata": {},
   "outputs": [],
   "source": [
    "pfaf['Edible inner bark'] = edible_cols[0].str.lower().str.contains('inner bark')\n",
    "pfaf['Edible roots'] = edible_cols[0].str.lower().str.contains('root')\n",
    "pfaf['Edible seeds'] = edible_cols[0].str.lower().str.contains('seed')\n",
    "pfaf['Edible seedpods'] = edible_cols[0].str.lower().str.contains('seedpod')\n",
    "pfaf['Edible sap'] = (edible_cols[0].str.lower().str.contains('sap') | \n",
    "                      edible_cols[0].str.lower().str.contains('manna'))\n",
    "pfaf['Edible leaves'] = edible_cols[0].str.lower().str.contains('leaves')\n",
    "pfaf['Edible flowers'] = edible_cols[0].str.lower().str.contains('flowers')\n",
    "pfaf['Edible fruit'] = edible_cols[0].str.lower().str.contains('fruit')\n",
    "pfaf['Edible stems'] = edible_cols[0].str.lower().str.contains('stem')\n",
    "pfaf['Edible oil'] = edible_cols[0].str.lower().str.contains('oil')\n",
    "pfaf['Edible shoots'] = edible_cols[3].str.lower().str.contains('shoots')"
   ]
  },
  {
   "cell_type": "code",
   "execution_count": 144,
   "metadata": {},
   "outputs": [
    {
     "data": {
      "text/plain": [
       "Counter({'Edible': 1188,\n",
       "         'Uses:': 1188,\n",
       "         'Gum': 61,\n",
       "         'Tea': 174,\n",
       "         'Condiment': 120,\n",
       "         'Drink': 38,\n",
       "         'Sweetener': 36,\n",
       "         'Oil': 80,\n",
       "         'Pectin': 7,\n",
       "         'Colouring': 7,\n",
       "         'Coffee': 58,\n",
       "         'Chocolate': 4,\n",
       "         'Milk': 2,\n",
       "         'Curdling': 3,\n",
       "         'agent': 3,\n",
       "         'Rutin': 1,\n",
       "         'Salt': 1,\n",
       "         'Stabilizer': 1,\n",
       "         'Gelatine': 1})"
      ]
     },
     "execution_count": 144,
     "metadata": {},
     "output_type": "execute_result"
    }
   ],
   "source": [
    "edible_uses_counts"
   ]
  },
  {
   "cell_type": "code",
   "execution_count": 149,
   "metadata": {},
   "outputs": [],
   "source": [
    "pfaf['Edible use gum'] = edible_cols[1].str.lower().str.contains('gum')\n",
    "pfaf['Edible use drink'] = (edible_cols[1].str.lower().str.contains('tea') | \n",
    "                            edible_cols[1].str.lower().str.contains('drink') |\n",
    "                            edible_cols[1].str.lower().str.contains('coffee'))\n",
    "pfaf['Edible use condiment'] = edible_cols[1].str.lower().str.contains('condiment')\n",
    "pfaf['Edible use sweetener'] = edible_cols[1].str.lower().str.contains('sweetener')\n",
    "pfaf['Edible use oil'] = edible_cols[1].str.lower().str.contains('oil')"
   ]
  },
  {
   "cell_type": "code",
   "execution_count": 164,
   "metadata": {},
   "outputs": [],
   "source": [
    "pfaf['Edible description'] = edible_cols[3]"
   ]
  },
  {
   "cell_type": "code",
   "execution_count": 160,
   "metadata": {},
   "outputs": [],
   "source": [
    "pfaf.drop('Edible Uses', axis=1, inplace=True)"
   ]
  },
  {
   "cell_type": "code",
   "execution_count": 150,
   "metadata": {},
   "outputs": [],
   "source": [
    "pfaf.to_csv('pfaf_data.csv', index=False)"
   ]
  },
  {
   "cell_type": "code",
   "execution_count": 151,
   "metadata": {},
   "outputs": [
    {
     "data": {
      "text/plain": [
       "array(['', '   (2 of 5)', '   (5 of 5)', '   (3 of 5)', '   (1 of 5)',\n",
       "       '   (0 of 5)', '   (4 of 5)'], dtype=object)"
      ]
     },
     "execution_count": 151,
     "metadata": {},
     "output_type": "execute_result"
    }
   ],
   "source": [
    "pfaf['Medicinal Rating'].unique()"
   ]
  },
  {
   "cell_type": "code",
   "execution_count": 153,
   "metadata": {},
   "outputs": [],
   "source": [
    "pfaf['Medicinal Rating'].replace('', '0', inplace=True)\n",
    "pfaf['Medicinal Rating'] = pfaf['Medicinal Rating'].str.extract(r'([0-9])').astype(int)"
   ]
  },
  {
   "cell_type": "code",
   "execution_count": 158,
   "metadata": {},
   "outputs": [
    {
     "data": {
      "text/plain": [
       "Counter({'': 5497,\n",
       "         'Woodland Garden Canopy': 194,\n",
       "         ' not Deep Shade': 82,\n",
       "         ' Cultivated Beds': 545,\n",
       "         ' East Wall. By. South Wall. By. West Wall. By.': 11,\n",
       "         ' South Wall. By. West Wall. By.': 24,\n",
       "         'Woodland Garden Secondary': 54,\n",
       "         ' Dappled Shade': 335,\n",
       "         ' Sunny Edge': 62,\n",
       "         ' Ground Cover': 91,\n",
       "         ' Lawn': 8,\n",
       "         ' Meadow': 28,\n",
       "         'Woodland Garden Dappled Shade': 193,\n",
       "         ' Secondary': 35,\n",
       "         ' Shady Edge': 272,\n",
       "         'Woodland Garden Sunny Edge': 446,\n",
       "         ' South Wall. By.': 2,\n",
       "         ' Bog Garden': 181,\n",
       "         ' Hedge': 39,\n",
       "         ' Hedgerow': 8,\n",
       "         'Woodland Garden Cultivated Beds': 1,\n",
       "         ' Pond': 73,\n",
       "         ' East Wall. In. South Wall. In. West Wall. In.': 8,\n",
       "         'Woodland Garden Shady Edge': 1,\n",
       "         ' North Wall. In. East Wall. In. West Wall. In.': 4,\n",
       "         ' East Wall. In. West Wall. In.': 1,\n",
       "         ' East Wall. By. South Wall. By.': 22,\n",
       "         ' North Wall. In. East Wall. In.': 4,\n",
       "         ' North Wall. By. East Wall. By.': 2,\n",
       "         ' East Wall. By. West Wall. By.': 1,\n",
       "         ' East Wall. In.': 1})"
      ]
     },
     "execution_count": 158,
     "metadata": {},
     "output_type": "execute_result"
    }
   ],
   "source": [
    "habitats = pfaf['Habitats'].copy()\n",
    "habitats_counts = Counter()\n",
    "habitats.str.split(';').apply(habitats_counts.update)\n",
    "habitats_counts"
   ]
  },
  {
   "cell_type": "code",
   "execution_count": 159,
   "metadata": {},
   "outputs": [],
   "source": [
    "pfaf['Canopy'] = habitats.str.contains('Canopy')\n",
    "pfaf['Understory'] = habitats.str.contains('Secondary')\n",
    "pfaf['Cultivated Beds'] = habitats.str.contains('Cultivated Beds')\n",
    "pfaf['Dappled Shade'] = habitats.str.contains('Dappled Shade')\n",
    "pfaf['Sunny Edge'] = habitats.str.contains('Sunny Edge')\n",
    "pfaf['Ground Cover'] = habitats.str.contains('Ground Cover')\n",
    "pfaf['Meadow'] = habitats.str.contains('Meadow')\n",
    "pfaf['Shade Edge'] = habitats.str.contains('Shady Edge')\n",
    "pfaf['Bog'] = habitats.str.contains('Bog')\n",
    "pfaf['Hedge'] = habitats.str.contains('Hedge')\n",
    "pfaf['Pond'] = habitats.str.contains('Pond')"
   ]
  },
  {
   "cell_type": "code",
   "execution_count": 161,
   "metadata": {},
   "outputs": [],
   "source": [
    "pfaf.drop('Habitats', axis=1, inplace=True)"
   ]
  },
  {
   "cell_type": "code",
   "execution_count": 163,
   "metadata": {},
   "outputs": [
    {
     "data": {
      "text/plain": [
       "\"Plants For A Future can not take any responsibility for any adverse effects from the use of plants. Always seek advice from a professional before using a plant medicinally.\\n\\n\\nThis plant was used quite widely by native North American Indians. An infusion of the bark was used as a tonic and to treat stomach ailments, TB, haemorrhoids and various minor complaints[257]. The pitch, or resin, was also used to treat colds, sore throats etc[257]. The bark of this tree contains blisters that are filled with a resin called 'Canadian Balsam'[226]. Although the report does not mention the uses of this resin, it can almost certainly be used in the same ways as the resin of A. balsamea, as detailed below:- The resin obtained from this tree (see 'Uses notes' below) has been used throughout the world and is a very effective antiseptic and healing agent. It is used as a healing and analgesic protective covering for burns, bruises, wounds and sores[213, 222, 226]. It is also used to treat sore nipples[213] and is said to be one of the best curatives for a sore throat[245]. The resin is also antiscorbutic, diuretic, stimulant and tonic[4, 171, 222]. It is used internally in propriety mixtures to treat coughs and diarrhoea, though taken in excess it is purgative[238]. A warm liquid of the gummy sap was drunk as a treatment for gonorrhoea[212]. A tea made from the leaves is antiscorbutic[4, 171]. It is used in the treatment of coughs, colds and fevers[222]. The leaves and young shoots are best harvested in the spring and dried for later use[238].\""
      ]
     },
     "execution_count": 163,
     "metadata": {},
     "output_type": "execute_result"
    }
   ],
   "source": [
    "pfaf['Medicinal Uses'].iloc[1]"
   ]
  },
  {
   "cell_type": "code",
   "execution_count": 165,
   "metadata": {},
   "outputs": [],
   "source": [
    "medicinal_cols = pfaf['Medicinal Uses'].str.split('\\n', expand=True)\n",
    "medicinal_cols[['Genus', 'Species']] = pfaf[['Genus', 'Species']]\n",
    "medicinal_cols.fillna('', inplace=True)"
   ]
  },
  {
   "cell_type": "code",
   "execution_count": 166,
   "metadata": {},
   "outputs": [
    {
     "data": {
      "text/html": [
       "<div>\n",
       "<style scoped>\n",
       "    .dataframe tbody tr th:only-of-type {\n",
       "        vertical-align: middle;\n",
       "    }\n",
       "\n",
       "    .dataframe tbody tr th {\n",
       "        vertical-align: top;\n",
       "    }\n",
       "\n",
       "    .dataframe thead th {\n",
       "        text-align: right;\n",
       "    }\n",
       "</style>\n",
       "<table border=\"1\" class=\"dataframe\">\n",
       "  <thead>\n",
       "    <tr style=\"text-align: right;\">\n",
       "      <th></th>\n",
       "      <th>0</th>\n",
       "      <th>1</th>\n",
       "      <th>2</th>\n",
       "      <th>3</th>\n",
       "      <th>4</th>\n",
       "      <th>5</th>\n",
       "      <th>Genus</th>\n",
       "      <th>Species</th>\n",
       "    </tr>\n",
       "  </thead>\n",
       "  <tbody>\n",
       "    <tr>\n",
       "      <th>0</th>\n",
       "      <td></td>\n",
       "      <td></td>\n",
       "      <td></td>\n",
       "      <td></td>\n",
       "      <td></td>\n",
       "      <td></td>\n",
       "      <td>Abutilon</td>\n",
       "      <td>abutiloides</td>\n",
       "    </tr>\n",
       "    <tr>\n",
       "      <th>1</th>\n",
       "      <td>Plants For A Future can not take any responsib...</td>\n",
       "      <td></td>\n",
       "      <td></td>\n",
       "      <td>This plant was used quite widely by native Nor...</td>\n",
       "      <td></td>\n",
       "      <td></td>\n",
       "      <td>Abies</td>\n",
       "      <td>amabilis</td>\n",
       "    </tr>\n",
       "    <tr>\n",
       "      <th>2</th>\n",
       "      <td>Plants For A Future can not take any responsib...</td>\n",
       "      <td>Analgesic  Antiscorbutic  Antiseptic  Diuretic...</td>\n",
       "      <td></td>\n",
       "      <td></td>\n",
       "      <td>The resin obtained from the balsam fir (see 'U...</td>\n",
       "      <td></td>\n",
       "      <td>Abies</td>\n",
       "      <td>balsamea</td>\n",
       "    </tr>\n",
       "    <tr>\n",
       "      <th>6</th>\n",
       "      <td></td>\n",
       "      <td></td>\n",
       "      <td></td>\n",
       "      <td></td>\n",
       "      <td></td>\n",
       "      <td></td>\n",
       "      <td>Abutilon</td>\n",
       "      <td>berlandieri</td>\n",
       "    </tr>\n",
       "    <tr>\n",
       "      <th>7</th>\n",
       "      <td></td>\n",
       "      <td></td>\n",
       "      <td></td>\n",
       "      <td></td>\n",
       "      <td></td>\n",
       "      <td></td>\n",
       "      <td>Abies</td>\n",
       "      <td>bracteata</td>\n",
       "    </tr>\n",
       "  </tbody>\n",
       "</table>\n",
       "</div>"
      ],
      "text/plain": [
       "                                                   0  \\\n",
       "0                                                      \n",
       "1  Plants For A Future can not take any responsib...   \n",
       "2  Plants For A Future can not take any responsib...   \n",
       "6                                                      \n",
       "7                                                      \n",
       "\n",
       "                                                   1 2  \\\n",
       "0                                                        \n",
       "1                                                        \n",
       "2  Analgesic  Antiscorbutic  Antiseptic  Diuretic...     \n",
       "6                                                        \n",
       "7                                                        \n",
       "\n",
       "                                                   3  \\\n",
       "0                                                      \n",
       "1  This plant was used quite widely by native Nor...   \n",
       "2                                                      \n",
       "6                                                      \n",
       "7                                                      \n",
       "\n",
       "                                                   4 5     Genus      Species  \n",
       "0                                                       Abutilon  abutiloides  \n",
       "1                                                          Abies     amabilis  \n",
       "2  The resin obtained from the balsam fir (see 'U...       Abies     balsamea  \n",
       "6                                                       Abutilon  berlandieri  \n",
       "7                                                          Abies    bracteata  "
      ]
     },
     "execution_count": 166,
     "metadata": {},
     "output_type": "execute_result"
    }
   ],
   "source": [
    "medicinal_cols.head()"
   ]
  },
  {
   "cell_type": "code",
   "execution_count": 167,
   "metadata": {},
   "outputs": [
    {
     "data": {
      "text/plain": [
       "array(['',\n",
       "       'Plants For A Future can not take any responsibility for any adverse effects from the use of plants. Always seek advice from a professional before using a plant medicinally.'],\n",
       "      dtype=object)"
      ]
     },
     "execution_count": 167,
     "metadata": {},
     "output_type": "execute_result"
    }
   ],
   "source": [
    "medicinal_cols[0].unique()"
   ]
  },
  {
   "cell_type": "code",
   "execution_count": 172,
   "metadata": {},
   "outputs": [
    {
     "data": {
      "text/plain": [
       "Counter({'Analgesic': 86,\n",
       "         'Antiscorbutic': 19,\n",
       "         'Antiseptic': 93,\n",
       "         'Diuretic': 224,\n",
       "         'Poultice': 221,\n",
       "         'Stimulant': 65,\n",
       "         'Tonic': 174,\n",
       "         'VD': 52,\n",
       "         'Antirheumatic': 85,\n",
       "         'Pectoral': 71,\n",
       "         'TB': 40,\n",
       "         'Cathartic': 40,\n",
       "         'Diaphoretic': 130,\n",
       "         'Emetic': 89,\n",
       "         'Laxative': 91,\n",
       "         'Ophthalmic': 95,\n",
       "         'Skin': 72,\n",
       "         'Stomachic': 132,\n",
       "         'Antihalitosis': 1,\n",
       "         'Deodorant': 4,\n",
       "         'Foot': 6,\n",
       "         'care': 6,\n",
       "         'Miscellany': 72,\n",
       "         'Astringent': 248,\n",
       "         'Antiemetic': 16,\n",
       "         'Birthing': 44,\n",
       "         'aid': 44,\n",
       "         'Galactogogue': 25,\n",
       "         'Antidiarrhoeal': 17,\n",
       "         'Antiinflammatory': 30,\n",
       "         'Antispasmodic': 76,\n",
       "         'Appetizer': 35,\n",
       "         'Aromatic': 14,\n",
       "         'Carminative': 49,\n",
       "         'Antipruritic': 15,\n",
       "         'Emmenagogue': 47,\n",
       "         'Hypnotic': 19,\n",
       "         'Oxytoxic': 14,\n",
       "         'Kidney': 40,\n",
       "         'Purgative': 26,\n",
       "         'Rubefacient': 28,\n",
       "         'Blood': 32,\n",
       "         'tonic': 16,\n",
       "         'Expectorant': 81,\n",
       "         'Hepatic': 12,\n",
       "         'Alterative': 35,\n",
       "         'Anaesthetic': 2,\n",
       "         'Antiarthritic': 2,\n",
       "         'Deobstruent': 5,\n",
       "         'Sedative': 66,\n",
       "         'Disinfectant': 22,\n",
       "         'Demulcent': 17,\n",
       "         'Febrifuge': 150,\n",
       "         'Haemostatic': 29,\n",
       "         'Odontalgic': 54,\n",
       "         'Salve': 95,\n",
       "         'Cancer': 49,\n",
       "         'Antiperiodic': 21,\n",
       "         'Cardiac': 30,\n",
       "         'Warts': 21,\n",
       "         'Antiasthmatic': 17,\n",
       "         'Lithontripic': 12,\n",
       "         'Antiflatulent': 2,\n",
       "         'Appetite': 1,\n",
       "         'Stimulants': 1,\n",
       "         'Bitter': 13,\n",
       "         'Narcotic': 20,\n",
       "         'Anodyne': 48,\n",
       "         'Cytostatic': 3,\n",
       "         'Digestive': 22,\n",
       "         'Hypotensive': 31,\n",
       "         'Contraceptive': 26,\n",
       "         'Anthelmintic': 34,\n",
       "         \"Women's\": 34,\n",
       "         'complaints': 34,\n",
       "         'Antidote': 18,\n",
       "         'Emollient': 10,\n",
       "         'Vermifuge': 38,\n",
       "         'Antiphlogistic': 18,\n",
       "         'purifier': 21,\n",
       "         'Vesicant': 2,\n",
       "         'Cardiotonic': 27,\n",
       "         'Parasiticide': 32,\n",
       "         'Resolvent': 9,\n",
       "         'Abortifacient': 15,\n",
       "         'Cholagogue': 16,\n",
       "         'Antiecchymotic': 2,\n",
       "         'Nervine': 21,\n",
       "         'Sternutatory': 6,\n",
       "         'Vulnerary': 44,\n",
       "         'Antipyretic': 4,\n",
       "         'Stings': 26,\n",
       "         'Irritant': 7,\n",
       "         'Antitumor': 5,\n",
       "         'Antitussive': 8,\n",
       "         'Hallucinogenic': 6,\n",
       "         'Homeopathy': 24,\n",
       "         'Sialagogue': 11,\n",
       "         'Acrid': 1,\n",
       "         'Antibiotic': 2,\n",
       "         'Adaptogen': 7,\n",
       "         'Antibacterial': 16,\n",
       "         'Antiseborrheic': 9,\n",
       "         'Styptic': 21,\n",
       "         'Aperient': 9,\n",
       "         'Antihaemorrhoidal': 12,\n",
       "         'Hypoglycaemic': 16,\n",
       "         'Detergent': 6,\n",
       "         'Antibilious': 2,\n",
       "         'Uterine': 5,\n",
       "         'Antiscrophulatic': 3,\n",
       "         'Antidandruff': 11,\n",
       "         'Aphrodisiac': 11,\n",
       "         'Antiaphonic': 5,\n",
       "         'Vasodilator': 7,\n",
       "         'Depurative': 16,\n",
       "         'Infertility': 6,\n",
       "         'Mydriatic': 1,\n",
       "         'Antipsoriatic': 2,\n",
       "         'Antianxiety': 2,\n",
       "         'Antifungal': 3,\n",
       "         'Aromatherapy': 2,\n",
       "         'Antiviral': 5,\n",
       "         'Hydrogogue': 2,\n",
       "         'Anaphrodisiac': 2,\n",
       "         'Anticholesterolemic': 2,\n",
       "         'Refrigerant': 4,\n",
       "         'Antidepressant': 2,\n",
       "         'Plaster': 3,\n",
       "         'Mouthwash': 1,\n",
       "         'Enuresis': 2,\n",
       "         'Anticoagulant': 1,\n",
       "         'Nutritive': 1,\n",
       "         'Vasoconstrictor': 1,\n",
       "         'Anticonvulsant': 1,\n",
       "         'Cytotoxic': 1})"
      ]
     },
     "execution_count": 172,
     "metadata": {},
     "output_type": "execute_result"
    }
   ],
   "source": [
    "medicinal_counter = Counter()\n",
    "medicinal_cols[1].str.split().apply(medicinal_counter.update)\n",
    "medicinal_cols[2].str.split().apply(medicinal_counter.update)\n",
    "medicinal_counter"
   ]
  },
  {
   "cell_type": "code",
   "execution_count": 173,
   "metadata": {},
   "outputs": [],
   "source": [
    "to_remove = ['Alterative', 'Aromatherapy', 'Bach', 'Homeopathy', \n",
    "             'Antiscorbutic', 'Balsamic', 'Tonic', \n",
    "             'tonic', 'Blood', 'purifier', 'Cardiotonic', \n",
    "             'Antibilous', 'Cholagogue', 'Uterine', 'complaints', \n",
    "             'Antihalitosis', 'care', 'Miscellany', 'aid', \n",
    "             'Aromatic', 'Deobstruent', 'Acrid', 'Enuresis', \n",
    "             'Nutritive']"
   ]
  },
  {
   "cell_type": "code",
   "execution_count": 175,
   "metadata": {},
   "outputs": [],
   "source": [
    "medicinal_counter['Laxative'] += medicinal_counter['Aperient']\n",
    "medicinal_counter['Laxative'] += medicinal_counter['Cathartic']\n",
    "to_remove.append('Aperient')\n",
    "to_remove.append('Cathartic')\n",
    "medicinal_counter['Purgative'] += medicinal_counter['Hydrogogue']\n",
    "to_remove.append('Hydrogogue')\n",
    "medicinal_counter['Cancer'] += medicinal_counter['Antitumor']\n",
    "medicinal_counter['Cancer'] += medicinal_counter['Cytostatic']\n",
    "medicinal_counter['Cancer'] += medicinal_counter['Cytotoxic']\n",
    "medicinal_counter['Cancer'] += medicinal_counter['Resolvent']\n",
    "to_remove.append('Antitumor')\n",
    "to_remove.append('Cytostatic')\n",
    "to_remove.append('Cytotoxic')\n",
    "to_remove.append('Resolvent')\n",
    "medicinal_counter['Fever'] = (medicinal_counter['Antipyretic'] + \n",
    "    medicinal_counter['Febrifuge'])\n",
    "to_remove.append('Antipyretic')\n",
    "to_remove.append('Febrifuge')\n",
    "medicinal_counter['Stimulant'] += medicinal_counter['Stimulants']\n",
    "to_remove.append('Stimulants')\n",
    "medicinal_counter['Birthing'] += medicinal_counter['Oxytoxic']\n",
    "to_remove.append('Oxytoxic')\n",
    "medicinal_counter['Female misc'] = medicinal_counter[\"Women's\"]\n",
    "to_remove.append(\"Women's\")"
   ]
  },
  {
   "cell_type": "code",
   "execution_count": 176,
   "metadata": {},
   "outputs": [],
   "source": [
    "medicinal_counter = {k:v for k,v in medicinal_counter.items() if \n",
    "                     k not in to_remove}"
   ]
  },
  {
   "cell_type": "code",
   "execution_count": 178,
   "metadata": {},
   "outputs": [],
   "source": [
    "for use in medicinal_counter.keys():\n",
    "    pfaf[use] = (medicinal_cols[1].str.contains(use) | \n",
    "                 medicinal_cols[2].str.contains(use))"
   ]
  },
  {
   "cell_type": "code",
   "execution_count": 179,
   "metadata": {},
   "outputs": [
    {
     "data": {
      "text/plain": [
       "False    5491\n",
       "True       86\n",
       "Name: Analgesic, dtype: int64"
      ]
     },
     "execution_count": 179,
     "metadata": {},
     "output_type": "execute_result"
    }
   ],
   "source": [
    "pfaf['Medicinal description'] = medicinal_cols[3] + \n",
    "    medicinal_cols[4] + medicinal_cols[5]"
   ]
  },
  {
   "cell_type": "code",
   "execution_count": 181,
   "metadata": {},
   "outputs": [
    {
     "data": {
      "text/plain": [
       "                                                                                                                                                                                                                                                                                                                                                                                                                                                                                                                                                                                                                                                                                                                                                                                                                                                                                                                                                                                                                                                                                                                                                                                                                                                                                                                                                                                                                                                                                                                                                                                                                                                                                                                                                                                                                                                                                                                                                                                                                                                                                                                                                                                                                                                                                                                                                                5572\n",
       "Yarrow has a high reputation and is widely employed in herbal medicine, administered both internally and externally. It is used in the treatment of a very wide range of disorders but is particularly valuable for treating wounds, stopping the flow of blood, treating colds, fevers, kidney diseases, menstrual pain etc[218, 238, 254, 257]. The whole plant is used, both fresh and dried, and is best harvested when in flower[222]. Some caution should be exercised in the use of this herb since large or frequent doses taken over a long period may be potentially harmful[222], causing allergic rashes and making the skin more sensitive to sunlight[238]. The herb combines well with Sambucus nigra flowers (Elder) and Mentha x piperita vulgaris (Peppermint) for treating colds and influenza[268]. The herb is antiseptic, antispasmodic, mildly aromatic, astringent, carminative, cholagogue, diaphoretic, digestive, emmenagogue, odontalgic, stimulant, bitter tonic, vasodilator and vulnerary[4, 9, 14, 21, 54, 145, 165, 172, 238, 240, 254]. It also contains the anti-inflammatory agent azulene, though the content of this varies even between plants in the same habitat[238]. The herb is harvested in the summer when in flower and can be dried for later use[4]. The fresh leaf can be applied direct to an aching tooth in order to relieve the pain[268].                                                                                                                                                                                                                                                                                                                                                                                                                                                                                                                                                                                                                                                                                                                                                                                                                                                                                                                                                                   1\n",
       "The leaves and root are anodyne, antirheumatic, appetizer, diaphoretic, diuretic, emollient, laxative and sedative[61, 147, 178, 222]. The plant is considered to be useful in treating long-standing cases of malaria[240] and is used as an adulterant for Datura stramonium[61]. An infusion of the plant has been used in the treatment of rheumatism, diseased kidneys and tuberculosis[257]. It has also been used as a liniment on the armpits to reduce perspiration[257]. The fruits contain a number of medically active compounds including glycosides and phytosterols[279]. They are anodyne, antibacterial, antifungal, antimalarial, antirheumatic, antispasmodic, antitussive, cytotxic, hypoglycaemic and stomachic[238, 279]. They are used internally in the treatment of allergic rhinitis, sinusitis, catarrh, rheumatism, rheumatoid arthritis, constipation, diarrhoea, lumbago, leprosy and pruritis[238, 257]. They are also used externally to treat pruritis[238]. The fruits are harvested when ripe and dried for later use[238]. The root is a bitter tonic and febrifuge[240]. It has historically been used in the treatment of scrofulous tumours[222]. A decoction of the root has been used in the treatment of high fevers and to help a woman expel the afterbirth[257]. A decoction of the seeds has been used in the treatment of bladder complaints[257]. A poultice of the powdered seed has been applied as a salve on open sores[257].                                                                                                                                                                                                                                                                                                                                                                                                                                                                                                                                                                                                                                                                                                                                                                                                                                                                                  1\n",
       "Smooth sumach was employed medicinally by various native North American Indian tribes who used it to treat a variety of complaints[257]. It is occasionally used in modern herbalism where it is valued for its astringent and antiseptic qualities. Some caution should be employed in the use of this species since it can possibly cause skin irritations. It is best only used under the supervision of a qualified practitioner. A tea made from the bark or root bark is alterative, antiseptic, astringent, galactogogue, haemostatic, rubefacient and tonic[4, 222, 238, 257]. It is used in the treatment of diarrhoea, fevers, general debility, sore mouths, rectal bleeding, uterine prolapse etc[222, 254]. It is used as a gargle to treat sore throats and applied externally to treat excessive vaginal discharge, burns and skin eruptions[254, 257]. The powdered bark can be applied as a poultice to old ulcers, it is a good antiseptic[4]. A tea made from the roots is appetizer, astringent, diuretic and emetic[222, 257]. An infusion is used in the treatment of colds, sore throats, painful urination, retention of urine and dysentery[257]. The root is harvested in the autumn and dried for later use[254]. An infusion of the green or dried branches has been used in the treatment of TB[257]. A decoction of the branches, with the seed heads, has been used to treat itchy scalps and as a bathing water for frost-bitten limbs[257]. The milky latex from the plant has been used as a salve on sores[257]. A tea made from the leaves was used in the treatment of asthma, diarrhoea and stomatitis[222]. A poultice of the leaves has been used to treat skin rashes[257]. The leaves have been chewed to treat sore gums and they have been rubbed on the lips to treat sore lips[257]. The berries are diuretic, emetic, emmenagogue, purgative and refrigerant[4, 257]. They are used in the treatment of late-onset diabetes, stranguary bowel complaints, febrile diseases, dysmenorrhoea etc[4, 254, 257]. They have been chewed as a remedy for bed-wetting[222, 257]. The blossoms have been chewed as a treatment for sore mouths[257]. A decoction of the blossoms has been used as a mouthwash for teething children[257]. An infusion of the blossoms has been used as an eye wash for sore eyes[257].       1\n",
       "Western red cedar was employed medicinally by a number of native North American Indian tribes, who used it to treat a wide range of complaints[257]. It is seldom, if ever, used in modern herbalism. An infusion of the leaves has been used in the treatment of stomach pains and diarrhoea[257]. A decoction of the leaves has been used in the treatment of colds[257]. A decoction of the powdered leaves has been used externally to treat various internal pains, including rheumatism[257]. The leaf buds have been chewed in the treatment of toothaches and sore lungs[257]. A decoction of the buds has been used as a gargle[257]. A decoction of the small branches has been used in the treatment of coughs, colds and tuberculosis[257]. A weak infusion has been drunk in the treatment of painful joints caused by rheumatism or arthritis[257]. A poultice of the crushed bough tips and oil has been applied to the back and chest in the treatment of bronchitis, rheumatism, stomach pains and swollen neck[257]. An infusion of the twigs has been used as a wash in the treatment of venereal disease sores[257]. A decoction of the boughs has been used as an antidandruff shampoo[257]. A decoction of the stem tips and the roots has been used in the treatment of colds[257]. An infusion of the bark and twigs has been used in the treatment of kidney complaints[257]. An infusion of the seeds and twigs has been used in the treatment of fevers[257]. The chewed bark, or a decoction of the bark, has been drunk to induce menstruation[257]. A moxa of the inner bark has been used as a counter-irritant for the skin[257]. A poultice of the inner bark has been applied to carbuncles[257]. The bark has been pounded until it is as soft as cotton and then used to rub the face[257]. The very soft bark has been used to bind wounds and cover dressings[257]. The shredded bark has been used to cauterize sores and swellings[257].                                                                                                                                                                                                                                                                                                                                                                                   1\n",
       "Snake root was widely employed as a medicinal herb by a number of native North American tribes who used it to treat a wide range of ailments[257]. It is still occasionally used in modern herbalism. The root is anthelmintic, carminative, diaphoretic, diuretic, expectorant, irritant, powerfully stimulant, stomachic and tonic[4, 21, 46, 200, 238, 257]. It is harvested in the autumn and dried for later use[4]. It is used in the treatment of chronic chest complaints, asthma, coughs, colds, dropsy, painful spasms of the bowels and stomach, scant or painful menstruation, infantile convulsions[4, 257]. The fresh leaves are applied as a poultice to wounds and inflammations, whilst a decoction or salve is applied to sores[257]. The root contains antibiotic substances effective against broad-spectrum bacteria and fungi[207]. It also contains aristolochic acid, which has antitumor activity[222]. The root and rhizome were slowly boiled in a small quantity of water for a long time and the resulting liquid drunk as a contraceptive by the women of one N. American Indian tribe[213].                                                                                                                                                                                                                                                                                                                                                                                                                                                                                                                                                                                                                                                                                                                                                                                                                                                                                                                                                                                                                                                                                                                                                                                                                                         1\n",
       "Name: 5, dtype: int64"
      ]
     },
     "execution_count": 181,
     "metadata": {},
     "output_type": "execute_result"
    }
   ],
   "source": [
    "medicinal_cols[5].value_counts()"
   ]
  },
  {
   "cell_type": "code",
   "execution_count": null,
   "metadata": {},
   "outputs": [],
   "source": []
  }
 ],
 "metadata": {
  "kernelspec": {
   "display_name": "Python 3",
   "language": "python",
   "name": "python3"
  },
  "language_info": {
   "codemirror_mode": {
    "name": "ipython",
    "version": 3
   },
   "file_extension": ".py",
   "mimetype": "text/x-python",
   "name": "python",
   "nbconvert_exporter": "python",
   "pygments_lexer": "ipython3",
   "version": "3.7.3"
  }
 },
 "nbformat": 4,
 "nbformat_minor": 4
}
