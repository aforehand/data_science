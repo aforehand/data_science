{
 "cells": [
  {
   "cell_type": "markdown",
   "metadata": {},
   "source": [
    "### Cleaning data gathered from plants.PlantRecommender.get_all_native_plants()"
   ]
  },
  {
   "cell_type": "code",
   "execution_count": 549,
   "metadata": {},
   "outputs": [],
   "source": [
    "import pandas as pd\n",
    "import numpy as np\n",
    "import seaborn as sns\n",
    "import re\n",
    "from plants import PlantRecommender\n",
    "import warnings\n",
    "warnings.filterwarnings('ignore')"
   ]
  },
  {
   "cell_type": "code",
   "execution_count": 329,
   "metadata": {},
   "outputs": [],
   "source": [
    "df = pd.read_csv('all_native_plants_original.csv')"
   ]
  },
  {
   "cell_type": "code",
   "execution_count": 254,
   "metadata": {},
   "outputs": [],
   "source": [
    "height_cols = df['Plant Height'].str.split(r'^\\D*([0-9]*\\.*[0-9]*)\\D*([0-9]*\\.*[0-9]*) *(feet\\b|ft\\b|inches\\b|in\\b).*$', expand=True)"
   ]
  },
  {
   "cell_type": "code",
   "execution_count": 255,
   "metadata": {},
   "outputs": [],
   "source": [
    "height_cols.drop([0,4], axis=1, inplace=True)"
   ]
  },
  {
   "cell_type": "code",
   "execution_count": 256,
   "metadata": {},
   "outputs": [],
   "source": [
    "height_cols.rename(columns={1:'Min Height', 2:'Max Height', 3:'Height Units'}, inplace=True)"
   ]
  },
  {
   "cell_type": "code",
   "execution_count": 258,
   "metadata": {},
   "outputs": [],
   "source": [
    "spread_cols = df['Plant Spread'].str.split(r'^\\D*([0-9]*\\.*[0-9]*)\\D*([0-9]*\\.*[0-9]*) *(feet\\b|ft\\b|inches\\b|in\\b).*$', expand=True)"
   ]
  },
  {
   "cell_type": "code",
   "execution_count": 259,
   "metadata": {},
   "outputs": [],
   "source": [
    "spread_cols.drop([0,4], axis=1, inplace=True)"
   ]
  },
  {
   "cell_type": "code",
   "execution_count": 260,
   "metadata": {},
   "outputs": [],
   "source": [
    "spread_cols.rename(columns={1:'Min Spread', 2:'Max Spread', 3:'Spread Units'}, inplace=True)"
   ]
  },
  {
   "cell_type": "code",
   "execution_count": 330,
   "metadata": {},
   "outputs": [],
   "source": [
    "df.drop(['Plant Height', 'Plant Spread'], axis=1, inplace=True)\n",
    "df = pd.concat([df, height_cols, spread_cols], axis=1)"
   ]
  },
  {
   "cell_type": "code",
   "execution_count": 331,
   "metadata": {
    "code_folding": [
     0
    ]
   },
   "outputs": [],
   "source": [
    "# to_drop = ['1\"-2\"', 'Bees', 'Birds', 'Blue', 'Bog gardening', 'Bumblebees',\n",
    "#        'Butterflies','Cuttings: Stem', 'Deer Resistant', \n",
    "#        'Flower Time_Late spring or early summer',\n",
    "#        'Flower Time_Late summer or early fall',\n",
    "#        'Flower Time_Late winter or early spring', 'Flower Time_Spring',\n",
    "#        'Flower Time_Summer', 'Flowers_Fragrant', 'Flowers_Inconspicuous',\n",
    "#        'Flowers_Showy', 'Fruit_Edible to birds','Fruit_Showy','Layering', \n",
    "#         'Leaves_Fragrant','Needs excellent drainage in pots', 'Pink','Purple',\n",
    "#         'Salt tolerant','Suitable in 3 gallon or larger', 'Under 1\"', 'Various insects',\n",
    "#         'White','Xeriscapic']"
   ]
  },
  {
   "cell_type": "code",
   "execution_count": 332,
   "metadata": {},
   "outputs": [],
   "source": [
    "df['Min Height'] = df['Min Height'].astype(float)\n",
    "df['Max Height'] = np.where(df['Max Height']=='', df['Min Height'], df['Max Height'])\n",
    "df['Max Height'] = df['Max Height'].astype(float)"
   ]
  },
  {
   "cell_type": "code",
   "execution_count": 333,
   "metadata": {},
   "outputs": [],
   "source": [
    "df['Min Spread'] = np.where(df['Min Spread']=='', np.nan, df['Min Spread'])\n",
    "df['Min Spread'] = df['Min Spread'].astype(float)\n",
    "df['Max Spread'] = np.where(df['Max Spread']=='', df['Min Spread'], df['Max Spread'])\n",
    "df['Max Spread'] = df['Max Spread'].astype(float)"
   ]
  },
  {
   "cell_type": "code",
   "execution_count": 608,
   "metadata": {},
   "outputs": [],
   "source": [
    "rec = PlantRecommender()"
   ]
  },
  {
   "cell_type": "code",
   "execution_count": 125,
   "metadata": {},
   "outputs": [
    {
     "data": {
      "text/plain": [
       "['Genus', 'Species', 'Varieties', 'Life cycle']"
      ]
     },
     "execution_count": 125,
     "metadata": {},
     "output_type": "execute_result"
    }
   ],
   "source": [
    "cat = rec.categorical_attributes\n",
    "cat"
   ]
  },
  {
   "cell_type": "code",
   "execution_count": 126,
   "metadata": {},
   "outputs": [
    {
     "data": {
      "text/plain": [
       "['Coarse Soil',\n",
       " 'Medium Soil',\n",
       " 'Fine Soil',\n",
       " 'Herb/Forb',\n",
       " 'Shrub',\n",
       " 'Tree',\n",
       " 'Cactus/Succulent',\n",
       " 'Grass/Grass-like',\n",
       " 'Fern',\n",
       " 'Vine',\n",
       " 'Full Sun',\n",
       " 'Full Sun to Partial Shade',\n",
       " 'Partial or Dappled Shade',\n",
       " 'Partial Shade to Full Shade',\n",
       " 'Full Shade',\n",
       " 'In Water',\n",
       " 'Wet',\n",
       " 'Wet Mesic',\n",
       " 'Mesic',\n",
       " 'Dry Mesic',\n",
       " 'Dry',\n",
       " 'Extremely acid (3.5 – 4.4)',\n",
       " 'Very strongly acid (4.5 – 5.0)',\n",
       " 'Strongly acid (5.1 – 5.5)',\n",
       " 'Moderately acid (5.6 – 6.0)',\n",
       " 'Slightly acid (6.1 – 6.5)',\n",
       " 'Neutral (6.6 – 7.3)',\n",
       " 'Slightly alkaline (7.4 – 7.8)',\n",
       " 'Moderately alkaline (7.9 – 8.4)',\n",
       " 'Strongly alkaline (8.5 – 9.0)',\n",
       " 'Leaves_Good fall color',\n",
       " 'Leaves_Glaucous',\n",
       " 'Leaves_Unusual foliage color',\n",
       " 'Leaves_Evergreen',\n",
       " 'Leaves_Semi-evergreen',\n",
       " 'Leaves_Deciduous',\n",
       " 'Leaves_Fragrant',\n",
       " 'Leaves_Malodorous',\n",
       " 'Leaves_Variegated',\n",
       " 'Leaves_Spring ephemeral',\n",
       " 'Leaves_Needled',\n",
       " 'Leaves_Broadleaf',\n",
       " 'Leaves_Other',\n",
       " 'Fruit_Showy',\n",
       " 'Fruit_Edible to birds',\n",
       " 'Fruit_Dehiscent',\n",
       " 'Fruit_Indehiscent',\n",
       " 'Fruit_Pops open explosively when ripe',\n",
       " 'Fruit_Other',\n",
       " 'Fruiting Time_Late winter or early spring',\n",
       " 'Fruiting Time_Spring',\n",
       " 'Fruiting Time_Late spring or early summer',\n",
       " 'Fruiting Time_Summer',\n",
       " 'Fruiting Time_Late summer or early fall',\n",
       " 'Fruiting Time_Fall',\n",
       " 'Fruiting Time_Late fall or early winter',\n",
       " 'Fruiting Time_Winter',\n",
       " 'Fruiting Time_Year Round',\n",
       " 'Fruiting Time_Other',\n",
       " 'Flowers_Showy',\n",
       " 'Flowers_Inconspicuous',\n",
       " 'Flowers_Fragrant',\n",
       " 'Flowers_Malodorous',\n",
       " 'Flowers_Nocturnal',\n",
       " 'Flowers_Blooms on old wood',\n",
       " 'Flowers_Blooms on new wood',\n",
       " 'Flowers_Other',\n",
       " 'Brown',\n",
       " 'Green',\n",
       " 'Blue',\n",
       " 'Lavender',\n",
       " 'Mauve',\n",
       " 'Orange',\n",
       " 'Pink',\n",
       " 'Purple',\n",
       " 'Red',\n",
       " 'Russet',\n",
       " 'White',\n",
       " 'Yellow',\n",
       " 'Bi-Color',\n",
       " 'Multi-Color',\n",
       " 'Other',\n",
       " 'Under 1\"',\n",
       " '1\"-2\"',\n",
       " '2\"-3\"',\n",
       " '3\"-4\"',\n",
       " '4\"-5\"',\n",
       " '5\"-6\"',\n",
       " '6\"-12\"',\n",
       " 'Over 12\"',\n",
       " 'Flower Time_Late winter or early spring',\n",
       " 'Flower Time_Spring',\n",
       " 'Flower Time_Late spring or early summer',\n",
       " 'Flower Time_Summer',\n",
       " 'Flower Time_Late summer or early fall',\n",
       " 'Flower Time_Fall',\n",
       " 'Flower Time_Late fall or early winter',\n",
       " 'Flower Time_Winter',\n",
       " 'Flower Time_Year Round',\n",
       " 'Flower Time_Other',\n",
       " 'Rhizome',\n",
       " 'Taproot',\n",
       " 'Corm',\n",
       " 'Bulb',\n",
       " 'Tuber',\n",
       " 'Caudex',\n",
       " 'Beach Front',\n",
       " 'Street Tree',\n",
       " 'Patio/Ornamental/Small Tree',\n",
       " 'Xeriscapic',\n",
       " 'Houseplant',\n",
       " 'Terrariums',\n",
       " 'Bog gardening',\n",
       " 'Alpine Gardening',\n",
       " 'Espalier',\n",
       " 'Topiary',\n",
       " 'Windbreak or Hedge',\n",
       " 'Dye production',\n",
       " 'Provides winter interest',\n",
       " 'Erosion control',\n",
       " 'Guardian plant',\n",
       " 'Groundcover',\n",
       " 'Shade Tree',\n",
       " 'Flowering Tree',\n",
       " 'Water gardens',\n",
       " 'Culinary Herb',\n",
       " 'Medicinal Herb',\n",
       " 'Vegetable',\n",
       " 'Salad greens',\n",
       " 'Cooked greens',\n",
       " 'Cut Flower',\n",
       " 'Dried Flower',\n",
       " 'Will Naturalize',\n",
       " 'Good as a cover crop',\n",
       " 'Suitable as Annual',\n",
       " 'Suitable for forage',\n",
       " 'Useful for timber production',\n",
       " 'Suitable for miniature gardens',\n",
       " 'Bark',\n",
       " 'Stem',\n",
       " 'Leaves',\n",
       " 'Roots',\n",
       " 'Seeds or Nuts',\n",
       " 'Sap',\n",
       " 'Fruit',\n",
       " 'Flowers',\n",
       " 'Tea',\n",
       " 'Culinary Herb/Spice',\n",
       " 'Raw',\n",
       " 'Cooked',\n",
       " 'Fermented',\n",
       " 'Nitrogen fixer',\n",
       " 'P (Phosphorus)',\n",
       " 'K (Potassium)',\n",
       " 'Ca (Calcium)',\n",
       " 'Mg (Magnesium)',\n",
       " 'S (Sulfur)',\n",
       " 'Fe (Iron)',\n",
       " 'B (Boron)',\n",
       " 'Mn (Manganese)',\n",
       " 'Zn (Zinc)',\n",
       " 'Cu (Copper)',\n",
       " 'Mo (Molybdenum)',\n",
       " 'Si (Silicon)',\n",
       " 'Co (Cobalt)',\n",
       " 'Na (Sodium)',\n",
       " 'I (Iodine)',\n",
       " 'Bees',\n",
       " 'Birds',\n",
       " 'Butterflies',\n",
       " 'Hummingbirds',\n",
       " 'Other Beneficial Insects',\n",
       " 'Powdery Mildew',\n",
       " 'Birds',\n",
       " 'Deer Resistant',\n",
       " 'Gophers/Voles',\n",
       " 'Rabbit Resistant',\n",
       " 'Squirrels',\n",
       " 'Pollution',\n",
       " 'Fire Resistant',\n",
       " 'Flood Resistant',\n",
       " 'Tolerates dry shade',\n",
       " 'Tolerates foot traffic',\n",
       " 'Humidity tolerant',\n",
       " 'Drought tolerant',\n",
       " 'Salt tolerant',\n",
       " 'Leaves are poisonous',\n",
       " 'Roots are poisonous',\n",
       " 'Fruit is poisonous',\n",
       " 'Other',\n",
       " 'Provide light',\n",
       " 'Self fertile',\n",
       " 'Provide darkness',\n",
       " 'Stratify seeds',\n",
       " 'Scarify seeds',\n",
       " 'Needs specific temperature',\n",
       " 'Days to germinate',\n",
       " 'Depth to plant seed',\n",
       " 'Suitable for wintersowing',\n",
       " 'Sow in situ',\n",
       " 'Start indoors',\n",
       " 'Can handle transplanting',\n",
       " 'Seeds are hydrophilic',\n",
       " 'Will not come true from seed',\n",
       " 'Other info',\n",
       " 'Cuttings: Stem',\n",
       " 'Cuttings: Tip',\n",
       " 'Cuttings: Cane',\n",
       " 'Cuttings: Leaf',\n",
       " 'Cuttings: Root',\n",
       " 'Layering',\n",
       " 'Division',\n",
       " 'Stolons and runners',\n",
       " 'Offsets',\n",
       " 'Bulbs',\n",
       " 'Corms',\n",
       " 'Crowns',\n",
       " 'Other',\n",
       " 'Self',\n",
       " 'Other',\n",
       " 'Hoverflies',\n",
       " 'Wasps',\n",
       " 'Water',\n",
       " 'Beetles',\n",
       " 'Moths and Butterflies',\n",
       " 'Midges',\n",
       " 'Flies',\n",
       " 'Bats',\n",
       " 'Birds',\n",
       " 'Bumblebees',\n",
       " 'Bees',\n",
       " 'Wind',\n",
       " 'Various insects',\n",
       " 'Cleistogamous',\n",
       " 'Suitable in 1 gallon',\n",
       " 'Suitable in 3 gallon or larger',\n",
       " 'Suitable for hanging baskets',\n",
       " 'Needs repotting every 2 to 3 years',\n",
       " 'Needs excellent drainage in pots',\n",
       " 'Preferred depth',\n",
       " 'Prefers to be under-potted',\n",
       " 'Not suitable for containers',\n",
       " 'Tolerates poor soil',\n",
       " 'With thorns/spines/prickles/teeth',\n",
       " 'Monoecious',\n",
       " 'Dioecious',\n",
       " \"Patent/Plant Breeders' Rights\",\n",
       " 'Genetically Modified',\n",
       " 'Epiphytic',\n",
       " 'Monocarpic',\n",
       " 'Carnivorous',\n",
       " 'Goes Dormant',\n",
       " 'Endangered',\n",
       " 'Texas Superstar®',\n",
       " 'RHS AGM',\n",
       " 'AAS (All-America Selection®)',\n",
       " 'A.H.G.A. Hosta of the Year',\n",
       " 'Other']"
      ]
     },
     "execution_count": 126,
     "metadata": {},
     "output_type": "execute_result"
    }
   ],
   "source": [
    "boolean = rec.boolean_attributes\n",
    "boolean"
   ]
  },
  {
   "cell_type": "code",
   "execution_count": 127,
   "metadata": {},
   "outputs": [
    {
     "data": {
      "text/plain": [
       "['Minimum cold hardiness',\n",
       " 'Maximum recommended zone',\n",
       " 'Plant Height',\n",
       " 'Plant Spread',\n",
       " 'Inflorescence Height',\n",
       " 'Foliage Mound Height']"
      ]
     },
     "execution_count": 127,
     "metadata": {},
     "output_type": "execute_result"
    }
   ],
   "source": [
    "num = rec.numeric_attributes\n",
    "num"
   ]
  },
  {
   "cell_type": "code",
   "execution_count": 334,
   "metadata": {},
   "outputs": [],
   "source": [
    "df[boolean] = df[boolean].fillna('False')\n",
    "df[boolean] = df[boolean].replace({'0.0': False, '1.0': True, 'False': False, 'True': True})"
   ]
  },
  {
   "cell_type": "code",
   "execution_count": 335,
   "metadata": {},
   "outputs": [],
   "source": [
    "df['Min Height'] = np.where((df['Height Units']=='inches') | (df['Height Units']=='in'),\n",
    "                           df['Min Height']/12.0, df['Min Height'])"
   ]
  },
  {
   "cell_type": "code",
   "execution_count": 336,
   "metadata": {},
   "outputs": [],
   "source": [
    "df['Max Height'] = np.where((df['Height Units']=='inches') | (df['Height Units']=='in'),\n",
    "                           df['Max Height']/12.0, df['Max Height'])"
   ]
  },
  {
   "cell_type": "code",
   "execution_count": 337,
   "metadata": {},
   "outputs": [],
   "source": [
    "df['Min Spread'] = np.where((df['Spread Units']=='inches') | (df['Spread Units']=='in'),\n",
    "                           df['Min Spread']/12.0, df['Min Spread'])"
   ]
  },
  {
   "cell_type": "code",
   "execution_count": 338,
   "metadata": {},
   "outputs": [],
   "source": [
    "df['Max Spread'] = np.where((df['Height Units']=='inches') | (df['Height Units']=='in'),\n",
    "                           df['Max Spread']/12.0, df['Max Spread'])"
   ]
  },
  {
   "cell_type": "markdown",
   "metadata": {},
   "source": [
    "Note: all heights are now in feet."
   ]
  },
  {
   "cell_type": "code",
   "execution_count": 339,
   "metadata": {},
   "outputs": [
    {
     "data": {
      "text/plain": [
       "0    Zone 5a -28.9 °C (-20 °F) to -26.1 °C (-15 °F)\n",
       "1                                               NaN\n",
       "2          Zone 3 -40 °C (-40 °F) to -37.2 °C (-35)\n",
       "3          Zone 3 -40 °C (-40 °F) to -37.2 °C (-35)\n",
       "4                                               NaN\n",
       "5                                               NaN\n",
       "6                                               NaN\n",
       "7    Zone 4a -34.4 °C (-30 °F) to -31.7 °C (-25 °F)\n",
       "8                                               NaN\n",
       "9          Zone 7a -17.8 °C (0 °F) to -15 °C (5 °F)\n",
       "Name: Minimum cold hardiness, dtype: object"
      ]
     },
     "execution_count": 339,
     "metadata": {},
     "output_type": "execute_result"
    }
   ],
   "source": [
    "df['Minimum cold hardiness'][:10]"
   ]
  },
  {
   "cell_type": "code",
   "execution_count": 350,
   "metadata": {},
   "outputs": [],
   "source": [
    "df['Minimum cold hardiness'] = df['Minimum cold hardiness'].str.extract(r'([0-9]+)')"
   ]
  },
  {
   "cell_type": "code",
   "execution_count": 355,
   "metadata": {},
   "outputs": [],
   "source": [
    "df['Maximum recommended zone'] = df['Maximum recommended zone'].str.extract(r'([0-9]+)')"
   ]
  },
  {
   "cell_type": "code",
   "execution_count": 359,
   "metadata": {},
   "outputs": [],
   "source": [
    "df['Minimum cold hardiness'] = df['Minimum cold hardiness'].astype(float)\n",
    "df['Maximum recommended zone'] = df['Maximum recommended zone'].astype(float)"
   ]
  },
  {
   "cell_type": "code",
   "execution_count": 360,
   "metadata": {},
   "outputs": [],
   "source": [
    "df.to_csv('all_native_plants.csv', index=False)"
   ]
  },
  {
   "cell_type": "markdown",
   "metadata": {},
   "source": [
    "### getting additional data from USDA plants database"
   ]
  },
  {
   "cell_type": "code",
   "execution_count": 413,
   "metadata": {},
   "outputs": [],
   "source": [
    "import selenium\n",
    "from selenium.webdriver import Firefox\n",
    "from selenium.webdriver.firefox.options import Options\n",
    "from selenium.webdriver.support.ui import WebDriverWait\n",
    "from selenium.webdriver.support import expected_conditions as EC\n",
    "from selenium.webdriver.common.by import By"
   ]
  },
  {
   "cell_type": "code",
   "execution_count": 397,
   "metadata": {},
   "outputs": [],
   "source": [
    "\"\"\"\n",
    "column equivalencies:\n",
    "Duration: Life cycle\n",
    "Height_Mature_feet: Min Height, Max Height\n",
    "ph_Minimum, pH_Maximum: acid/alkaline cols\n",
    "Growth_Habit: 'Herb/Forb', 'Shrub', 'Tree', 'Cactus/Succulent', 'Grass/Grass-like', \n",
    "            'Fern', 'Vine'\n",
    "Bloom_Period: Flower time cols\n",
    "\"\"\"\n",
    "columns = ['Genus', 'Species', 'State_and_Province', 'Duration', 'Coppice_Potential',\n",
    "          'Active_Growth_Period', 'Foliage_Porosity_Summer', 'Growth_Form', \n",
    "          'Growth_Rate', 'Height_Mature_feet', 'Known_Allelopath', 'Bloom_Period',\n",
    "          'Fertility_Requirement', 'pH_Minimum', 'pH_Maximum', 'Growth_Habit',\n",
    "          'Vegetative_Spread_Rate']"
   ]
  },
  {
   "cell_type": "code",
   "execution_count": 499,
   "metadata": {},
   "outputs": [],
   "source": [
    "cat += ['State_and_Province', 'Duration', 'Active_Growth_Period', \n",
    "           'Foliage_Porosity_Summer', 'Growth_Form', 'Growth_Rate', 'Bloom_Period', \n",
    "           'Fertility_Requirement', 'Growth_Habit', 'Vegetative_Spread_Rate']\n",
    "boolean += ['Coppice_Potential', 'Known_Allelopath']\n",
    "num += ['Height_Mature_feet', 'pH_Minimum', 'pH_Maximum']"
   ]
  },
  {
   "cell_type": "code",
   "execution_count": 428,
   "metadata": {},
   "outputs": [],
   "source": [
    "new_cols = pd.DataFrame()"
   ]
  },
  {
   "cell_type": "code",
   "execution_count": 429,
   "metadata": {},
   "outputs": [],
   "source": [
    "options = Options()\n",
    "options.headless = True\n",
    "driver = Firefox(options=options)"
   ]
  },
  {
   "cell_type": "code",
   "execution_count": 438,
   "metadata": {
    "code_folding": []
   },
   "outputs": [],
   "source": [
    "for i, (genus,species) in enumerate(df[['Genus', 'Species']].values):\n",
    "    if i % 100 == 1:\n",
    "        driver.quit()\n",
    "        driver = Firefox(options=options)\n",
    "        print('\\n')\n",
    "    elif i % 10 == 1:\n",
    "        print('.', end='')\n",
    "    driver.get(f'https://plantsdb.xyz/search?Genus={genus}&Species={species}')\n",
    "    WebDriverWait(driver, 5).until(EC.presence_of_element_located(\n",
    "                (By.ID, 'rawdata-tab'))).click()\n",
    "    data_list = WebDriverWait(driver, 5).until(\n",
    "                EC.presence_of_element_located((By.CLASS_NAME, 'data')))\n",
    "    data_list = eval(data_list.text.replace('null', 'None'))['data']\n",
    "    data = data_list[0]\n",
    "    row = {col: data[col] for col in columns}\n",
    "    new_cols = new_cols.append(row, ignore_index=True)"
   ]
  },
  {
   "cell_type": "code",
   "execution_count": 446,
   "metadata": {},
   "outputs": [],
   "source": [
    "new_cols.to_csv('new_cols_original.csv', index=False)"
   ]
  },
  {
   "cell_type": "code",
   "execution_count": 444,
   "metadata": {},
   "outputs": [
    {
     "name": "stdout",
     "output_type": "stream",
     "text": [
      "State_and_Province\n",
      "USA (CA)                                                                                                                                                                                                                                                     400\n",
      "USA (TX)                                                                                                                                                                                                                                                     223\n",
      "USA (CA, OR)                                                                                                                                                                                                                                                 128\n",
      "USA (FL)                                                                                                                                                                                                                                                     114\n",
      "USA (AZ, NM, TX)                                                                                                                                                                                                                                              92\n",
      "                                                                                                                                                                                                                                                            ... \n",
      "USA (AZ, ID, NM, NV, TX, UT)                                                                                                                                                                                                                                   1\n",
      "USA (ID, MN, MT, NC, OR)                                                                                                                                                                                                                                       1\n",
      "USA (AK, AL, CA, CT, DC, DE, FL, GA, IL, IN, LA, MA, MD, ME, MI, MN, MS, NC, NH, NJ, NY, OH, PA, RI, SC, VA, VT, WA, WI, WV), CAN (AB, BC, LB, MB, NB, NF, NS, NT, ON, PE, QC, SK), FRA (SPM)                                                                  1\n",
      "USA (AL, AR, CT, DC, DE, FL, GA, IL, IN, KS, KY, LA, MA, MD, MO, MS, NC, NJ, NY, OH, OK, PA, SC, TN, TX, VA, WV), USA+ (PR)                                                                                                                                    1\n",
      "USA (AK, AL, AR, AZ, CA, CO, CT, DC, DE, FL, GA, IA, ID, IL, IN, KS, KY, LA, MA, MD, ME, MI, MN, MO, MS, MT, NC, NE, NH, NJ, NM, NV, NY, OH, OK, OR, PA, RI, SC, SD, TN, TX, UT, VA, VT, WA, WI, WV), USA+ (PR), CAN (BC, MB, NB, NF, NS, ON, PE, QC, SK)      1\n",
      "Name: State_and_Province, Length: 3097, dtype: int64\n",
      "Duration\n",
      "Perennial                      4960\n",
      "Annual                          401\n",
      "Annual, Perennial               106\n",
      "Biennial, Perennial              36\n",
      "Annual, Biennial                 34\n",
      "Annual, Biennial, Perennial      26\n",
      "Biennial                         17\n",
      "                                 16\n",
      "Name: Duration, dtype: int64\n",
      "Coppice_Potential\n",
      "       5004\n",
      "No      486\n",
      "Yes     106\n",
      "Name: Coppice_Potential, dtype: int64\n",
      "Active_Growth_Period\n",
      "                           5005\n",
      "Spring and Summer           422\n",
      "Spring, Summer, Fall         62\n",
      "Spring                       40\n",
      "Summer                       38\n",
      "Summer and Fall              13\n",
      "Fall, Winter and Spring       8\n",
      "Spring and Fall               5\n",
      "Year Round                    3\n",
      "Name: Active_Growth_Period, dtype: int64\n",
      "Foliage_Porosity_Summer\n",
      "            5007\n",
      "Moderate     229\n",
      "Dense        201\n",
      "Porous       159\n",
      "Name: Foliage_Porosity_Summer, dtype: int64\n",
      "Growth_Form\n",
      "                   5004\n",
      "Multiple Stem       167\n",
      "Bunch               110\n",
      "Rhizomatous         102\n",
      "Single Stem          95\n",
      "Single Crown         68\n",
      "Thicket Forming      27\n",
      "Stoloniferous        19\n",
      "Colonizing            4\n",
      "Name: Growth_Form, dtype: int64\n",
      "Growth_Rate\n",
      "            5006\n",
      "Moderate     258\n",
      "Rapid        183\n",
      "Slow         149\n",
      "Name: Growth_Rate, dtype: int64\n",
      "Height_Mature_feet\n",
      "       5004\n",
      "3.0      67\n",
      "2.0      62\n",
      "6.0      30\n",
      "1.5      28\n",
      "       ... \n",
      "6.1       1\n",
      "99        1\n",
      "3.1       1\n",
      "36        1\n",
      "2.1       1\n",
      "Name: Height_Mature_feet, Length: 93, dtype: int64\n",
      "Known_Allelopath\n",
      "       5004\n",
      "No      570\n",
      "Yes      22\n",
      "Name: Known_Allelopath, dtype: int64\n",
      "Bloom_Period\n",
      "                 5007\n",
      "Late Spring       206\n",
      "Mid Spring        107\n",
      "Early Spring       59\n",
      "Early Summer       52\n",
      "Spring             47\n",
      "Late Summer        40\n",
      "Mid Summer         38\n",
      "Summer             22\n",
      "Indeterminate       9\n",
      "Fall                4\n",
      "Late Winter         3\n",
      "Winter              2\n",
      "Name: Bloom_Period, dtype: int64\n",
      "Fertility_Requirement\n",
      "          5004\n",
      "Low        299\n",
      "Medium     260\n",
      "High        33\n",
      "Name: Fertility_Requirement, dtype: int64\n",
      "pH_Minimum\n",
      "       5005\n",
      "6.0      93\n",
      "5.0      65\n",
      "7.0      55\n",
      "5.5      51\n",
      "4.5      46\n",
      "4.8      35\n",
      "6.5      32\n",
      "4.0      23\n",
      "5.8      21\n",
      "5.6      19\n",
      "4.7      18\n",
      "5.7      15\n",
      "6.2      13\n",
      "4.9      11\n",
      "5.2      10\n",
      "4.3       9\n",
      "4.6       9\n",
      "5.9       8\n",
      "5.3       7\n",
      "7.5       7\n",
      "6.6       7\n",
      "5.4       6\n",
      "6.4       6\n",
      "6.1       4\n",
      "4.2       4\n",
      "7.1       3\n",
      "5.1       3\n",
      "6.8       3\n",
      "3.7       2\n",
      "4.4       2\n",
      "3.5       2\n",
      "3.0       2\n",
      "Name: pH_Minimum, dtype: int64\n",
      "pH_Maximum\n",
      "        5005\n",
      "7.5      121\n",
      "7.0       86\n",
      "8.0       80\n",
      "8.5       63\n",
      "7.2       29\n",
      "6.5       22\n",
      "7.3       19\n",
      "6.8       18\n",
      "7.8       17\n",
      "7.4       15\n",
      "6.9       15\n",
      "9.0       12\n",
      "8.4       11\n",
      "6.0       10\n",
      "7.9        8\n",
      "8.2        8\n",
      "6.6        5\n",
      "7.7        5\n",
      "7.1        5\n",
      "7.6        4\n",
      "8.8        4\n",
      "9.5        4\n",
      "10.0       3\n",
      "6.2        2\n",
      "8.1        2\n",
      "8.3        2\n",
      "8.7        2\n",
      "5.5        2\n",
      "6.3        2\n",
      "6.7        2\n",
      "5.7        2\n",
      "5.8        2\n",
      "6.1        2\n",
      "8.6        2\n",
      "9.1        1\n",
      "6.4        1\n",
      "8.9        1\n",
      "5.3        1\n",
      "5.2        1\n",
      "Name: pH_Maximum, dtype: int64\n",
      "Growth_Habit\n",
      "Forb/herb                           2762\n",
      "Graminoid                            752\n",
      "Shrub                                471\n",
      "Tree, Shrub                          415\n",
      "Subshrub, Forb/herb                  349\n",
      "Tree                                 233\n",
      "Subshrub, Shrub                      144\n",
      "Vine, Forb/herb                       92\n",
      "Subshrub                              87\n",
      "Subshrub, Shrub, Forb/herb            62\n",
      "Vine                                  57\n",
      "Forb/herb, Subshrub                   37\n",
      "Shrub, Tree                           22\n",
      "Shrub, Subshrub                       22\n",
      "                                      16\n",
      "Vine, Shrub                           15\n",
      "Shrub, Vine                           12\n",
      "Forb/herb, Shrub, Subshrub             9\n",
      "Forb/herb, Vine                        7\n",
      "Tree, Subshrub, Shrub                  5\n",
      "Vine, Subshrub                         4\n",
      "Tree, Shrub, Forb/herb                 4\n",
      "Tree, Shrub, Vine                      3\n",
      "Tree, Shrub, Subshrub                  2\n",
      "Shrub, Subshrub, Vine                  2\n",
      "Vine, Subshrub, Forb/herb              2\n",
      "Forb/herb, Shrub, Subshrub, Vine       1\n",
      "Forb/herb, Shrub                       1\n",
      "Shrub, Subshrub, Graminoid             1\n",
      "Subshrub, Shrub, Tree                  1\n",
      "Subshrub, Vine                         1\n",
      "Shrub, Forb/herb, Subshrub, Vine       1\n",
      "Vine, Tree, Shrub                      1\n",
      "Shrub, Forb/herb, Subshrub             1\n",
      "Shrub, Forb/herb                       1\n",
      "Subshrub, Shrub, Graminoid             1\n",
      "Name: Growth_Habit, dtype: int64\n",
      "Vegetative_Spread_Rate\n",
      "            5008\n",
      "None         339\n",
      "Slow         120\n",
      "Moderate      85\n",
      "Rapid         44\n",
      "Name: Vegetative_Spread_Rate, dtype: int64\n"
     ]
    }
   ],
   "source": [
    "for col in columns[2:]:\n",
    "    print(col)\n",
    "    print(new_cols[col].value_counts())"
   ]
  },
  {
   "cell_type": "code",
   "execution_count": 451,
   "metadata": {},
   "outputs": [],
   "source": [
    "df = df.merge(new_cols, on=['Genus', 'Species'])"
   ]
  },
  {
   "cell_type": "code",
   "execution_count": 455,
   "metadata": {},
   "outputs": [],
   "source": [
    "df['Duration'] = df['Duration'].replace({'Annual, Perennial': 'Perennial', \n",
    "                                         'Biennial, Perennial': 'Perennial',\n",
    "                                         'Annual, Biennial': 'Biennial', \n",
    "                                         'Annual, Biennial, Perennial': 'Perennial'})"
   ]
  },
  {
   "cell_type": "code",
   "execution_count": 458,
   "metadata": {},
   "outputs": [],
   "source": [
    "df['Duration'] = np.where(df['Duration'] == '', df['Life cycle'], df['Duration'])"
   ]
  },
  {
   "cell_type": "code",
   "execution_count": 497,
   "metadata": {},
   "outputs": [],
   "source": [
    "df.drop(['Life cycle'], axis=1, inplace=True)\n",
    "cat.remove('Life cycle')"
   ]
  },
  {
   "cell_type": "code",
   "execution_count": 485,
   "metadata": {},
   "outputs": [],
   "source": [
    "rename = {col: col.replace('_', ' ') for col in df.columns}\n",
    "df.rename(rename, axis=1, inplace=True)"
   ]
  },
  {
   "cell_type": "code",
   "execution_count": 503,
   "metadata": {},
   "outputs": [],
   "source": [
    "num = [s.replace('_', ' ') for s in num]\n",
    "cat = [s.replace('_', ' ') for s in cat]\n",
    "boolean = [s.replace('_', ' ') for s in boolean]"
   ]
  },
  {
   "cell_type": "code",
   "execution_count": 513,
   "metadata": {},
   "outputs": [],
   "source": [
    "df['Coppice Potential'].replace({'No': False, '': False, 'Yes': True}, inplace=True)"
   ]
  },
  {
   "cell_type": "code",
   "execution_count": 465,
   "metadata": {},
   "outputs": [],
   "source": [
    "df['Growth Spring'] = np.where(('Spring' in df['Active Growth Period']) | \n",
    "                               ('Year Round' in df['Active Growth Period']), \n",
    "                               True, False)\n",
    "df['Growth Summer'] = np.where(('Summer' in df['Active Growth Period']) | \n",
    "                               ('Year Round' in df['Active Growth Period']), \n",
    "                               True, False)\n",
    "df['Growth Fall'] = np.where(('Fall' in df['Active Growth Period']) | \n",
    "                               ('Year Round' in df['Active Growth Period']), \n",
    "                               True, False)\n",
    "df['Growth Winter'] = np.where(('Winter' in df['Active Growth Period']) | \n",
    "                               ('Year Round' in df['Active Growth Period']), \n",
    "                               True, False)"
   ]
  },
  {
   "cell_type": "code",
   "execution_count": 466,
   "metadata": {},
   "outputs": [],
   "source": [
    "df['Growth Spring'] = np.where(df['Active Growth Period']=='', np.nan, \n",
    "                               df['Growth Spring'])\n",
    "df['Growth Summer'] = np.where(df['Active Growth Period']=='', np.nan, \n",
    "                               df['Growth Summer'])\n",
    "df['Growth Fall'] = np.where(df['Active Growth Period']=='', np.nan, \n",
    "                               df['Growth Fall'])\n",
    "df['Growth Winter'] = np.where(df['Active Growth Period']=='', np.nan, \n",
    "                               df['Growth Winter'])"
   ]
  },
  {
   "cell_type": "code",
   "execution_count": 500,
   "metadata": {},
   "outputs": [],
   "source": [
    "df.drop('Active Growth Period', axis=1, inplace=True)\n",
    "cat.remove('Active Growth Period')\n",
    "boolean += ['Growth Spring', 'Growth Summer', 'Growth Fall', 'Growth Winter']"
   ]
  },
  {
   "cell_type": "code",
   "execution_count": 467,
   "metadata": {},
   "outputs": [],
   "source": [
    "df['Min Height'] = np.where(df['Min Height'] == np.nan, df['Height Mature feet'], \n",
    "                           df['Min Height'])\n",
    "df['Max Height'] = np.where(df['Max Height'] == np.nan, df['Height Mature feet'], \n",
    "                           df['Max Height'])"
   ]
  },
  {
   "cell_type": "code",
   "execution_count": 504,
   "metadata": {},
   "outputs": [],
   "source": [
    "num.remove('Height Mature feet')\n",
    "df.drop('Height Mature feet', axis=1, inplace=True)"
   ]
  },
  {
   "cell_type": "code",
   "execution_count": 496,
   "metadata": {},
   "outputs": [],
   "source": [
    "no_flower_time_rows = df[df[flower_time].apply(lambda x: min(x)==max(x), axis=1)]"
   ]
  },
  {
   "cell_type": "code",
   "execution_count": 520,
   "metadata": {},
   "outputs": [],
   "source": [
    "df['Flower Time Early Spring'] = (df['Flower Time Spring'] | \n",
    "                                  df['Flower Time Late winter or early spring'] | \n",
    "                                  df['Flower Time Year Round'] | \n",
    "                                  (df['Bloom Period'] == 'Early Spring') | \n",
    "                                  (df['Bloom Period'] == 'Spring'))\n",
    "df['Flower Time Mid Spring'] = (df['Flower Time Spring'] | \n",
    "                                df['Flower Time Year Round'] | \n",
    "                                (df['Bloom Period'] == 'Mid Spring') | \n",
    "                                (df['Bloom Period'] == 'Spring'))\n",
    "df['Flower Time Late Spring'] = (df['Flower Time Spring'] | \n",
    "                                 df['Flower Time Late spring or early summer'] | \n",
    "                                 df['Flower Time Year Round'] | \n",
    "                                 (df['Bloom Period'] == 'Late Spring') | \n",
    "                                 (df['Bloom Period'] == 'Spring'))\n",
    "df['Flower Time Early Summer'] = (df['Flower Time Summer'] | \n",
    "                                  df['Flower Time Late spring or early summer'] | \n",
    "                                  df['Flower Time Year Round'] | \n",
    "                                  (df['Bloom Period'] == 'Early Summer') | \n",
    "                                  (df['Bloom Period'] == 'Summer'))\n",
    "df['Flower Time Mid Summer'] = (df['Flower Time Summer'] | \n",
    "                                df['Flower Time Year Round'] | \n",
    "                                (df['Bloom Period'] == 'Mid Summer') | \n",
    "                                (df['Bloom Period'] == 'Summer'))\n",
    "df['Flower Time Late Summer'] = (df['Flower Time Summer'] | \n",
    "                                 df['Flower Time Late summer or early fall'] | \n",
    "                                 df['Flower Time Year Round'] | \n",
    "                                 (df['Bloom Period'] == 'Late Summer') | \n",
    "                                 (df['Bloom Period'] == 'Summer'))\n",
    "df['Flower Time Fall'] = (df['Flower Time Fall'] | \n",
    "                          df['Flower Time Late summer or early fall'] | \n",
    "                          df['Flower Time Late fall or early winter'] | \n",
    "                          df['Flower Time Year Round'] | \n",
    "                          (df['Bloom Period'] == 'Fall'))\n",
    "df['Flower Time Winter'] = (df['Flower Time Winter'] | \n",
    "                            df['Flower Time Late fall or early winter'] | \n",
    "                            df['Flower Time Late winter or early spring'] | \n",
    "                            df['Flower Time Year Round'] | \n",
    "                            (df['Bloom Period'] == 'Winter') |\n",
    "                            (df['Bloom Period'] == 'Late Winter'))"
   ]
  },
  {
   "cell_type": "code",
   "execution_count": 523,
   "metadata": {},
   "outputs": [],
   "source": [
    "cat.remove('Bloom Period')\n",
    "boolean = [b for b in boolean if b not in flower_time]\n",
    "boolean += ['Flower Time Early Spring', 'Flower Time Mid Spring', \n",
    "            'Flower Time Late Spring', 'Flower Time Early Summer', \n",
    "            'Flower Time Mid Summer', 'Flower Time Late Summer', 'Flower Time Fall', \n",
    "            'Flower Time Winter']\n",
    "df.drop('Bloom Period', axis=1, inplace=True)\n",
    "df.drop(flower_time, axis=1, inplace=True)"
   ]
  },
  {
   "cell_type": "code",
   "execution_count": 530,
   "metadata": {},
   "outputs": [
    {
     "data": {
      "text/plain": [
       "['Extremely acid (3.5 – 4.4)',\n",
       " 'Moderately acid (5.6 – 6.0)',\n",
       " 'Moderately alkaline (7.9 – 8.4)',\n",
       " 'Neutral (6.6 – 7.3)',\n",
       " 'Slightly acid (6.1 – 6.5)',\n",
       " 'Slightly alkaline (7.4 – 7.8)',\n",
       " 'Strongly acid (5.1 – 5.5)',\n",
       " 'Strongly alkaline (8.5 – 9.0)',\n",
       " 'Very strongly acid (4.5 – 5.0)']"
      ]
     },
     "execution_count": 530,
     "metadata": {},
     "output_type": "execute_result"
    }
   ],
   "source": [
    "ph_cols = [c for c in df.columns if 'acid' in c or 'alkaline' in c or 'Neutral' in c]\n",
    "ph_cols"
   ]
  },
  {
   "cell_type": "code",
   "execution_count": 544,
   "metadata": {},
   "outputs": [],
   "source": [
    "df['pH Minimum'].replace('', '999', inplace=True)\n",
    "df['pH Minimum'] = df['pH Minimum'].astype(float)\n",
    "df['pH Maximum'].replace('', '999', inplace=True)\n",
    "df['pH Maximum'] = df['pH Maximum'].astype(float)"
   ]
  },
  {
   "cell_type": "code",
   "execution_count": 560,
   "metadata": {},
   "outputs": [],
   "source": [
    "range_maxes = [eval(re.search('([0-9]\\.[0-9])(?=\\))', s).group(0)) for s in ph_cols]"
   ]
  },
  {
   "cell_type": "code",
   "execution_count": 561,
   "metadata": {},
   "outputs": [],
   "source": [
    "for group,ph in zip(ph_cols, range_maxes):\n",
    "    df[group] = np.where((~df[group]) |(df['pH Minimum'] <= ph), True, False)"
   ]
  },
  {
   "cell_type": "code",
   "execution_count": 578,
   "metadata": {},
   "outputs": [],
   "source": [
    "habits = ['Herb/Forb', 'Shrub', 'Tree', 'Cactus/Succulent', 'Grass/Grass-like', 'Fern', \n",
    "        'Vine']\n",
    "no_habit = df[df[habits].apply(lambda x: min(x)==max(x), axis=1)]"
   ]
  },
  {
   "cell_type": "code",
   "execution_count": 575,
   "metadata": {},
   "outputs": [],
   "source": [
    "df['Growth Habit'] = df['Growth Habit'].str.replace('Subshrub', 'Shrub')\n",
    "df['Growth Habit'] = df['Growth Habit'].str.replace('Forb/herb', 'Herb/Forb')\n",
    "df['Growth Habit'] = df['Growth Habit'].str.replace('Graminoid', 'Grass/Grass-like')\n"
   ]
  },
  {
   "cell_type": "code",
   "execution_count": 602,
   "metadata": {},
   "outputs": [],
   "source": [
    "for h in habits:\n",
    "    df[h] = np.where(df['Growth Habit'].str.contains(h), True, df[h])"
   ]
  },
  {
   "cell_type": "code",
   "execution_count": 605,
   "metadata": {},
   "outputs": [],
   "source": [
    "cat.remove('Growth Habit')\n",
    "df.drop('Growth Habit', axis=1, inplace=True)"
   ]
  },
  {
   "cell_type": "code",
   "execution_count": 654,
   "metadata": {},
   "outputs": [],
   "source": [
    "df['State and Province'] = df['State and Province'].str.extract(r'\\((.+?)\\)')"
   ]
  },
  {
   "cell_type": "code",
   "execution_count": 660,
   "metadata": {},
   "outputs": [],
   "source": [
    "df['State and Province'] = df['State and Province'].str.split(', ')"
   ]
  },
  {
   "cell_type": "code",
   "execution_count": 647,
   "metadata": {},
   "outputs": [],
   "source": [
    "regions = {'Northeast': ['ME', 'NH', 'VT', 'MA', 'RI', 'CT', 'NY', \n",
    "                        'NJ', 'PA', 'DE', 'MD', 'WV', 'VA'], \n",
    "            'Southeast': ['NC', 'TN', 'AR', 'SC', 'GA', 'AL', 'MS', \n",
    "                        'LA', 'FL'], \n",
    "            'Midwest': ['MN', 'WI', 'MI', 'IA', 'IL', 'IN', 'OH', \n",
    "                        'MO', 'KY'],\n",
    "            'Plains': ['MT', 'ND', 'WY', 'SD', 'NE', 'CO', 'KS', \n",
    "                        'NM', 'TX', 'OK'],\n",
    "            'Pacific': ['WA', 'OR', 'ID', 'CA', 'NV', 'UT', 'AZ']}"
   ]
  },
  {
   "cell_type": "code",
   "execution_count": null,
   "metadata": {},
   "outputs": [],
   "source": []
  }
 ],
 "metadata": {
  "kernelspec": {
   "display_name": "Python 3",
   "language": "python",
   "name": "python3"
  },
  "language_info": {
   "codemirror_mode": {
    "name": "ipython",
    "version": 3
   },
   "file_extension": ".py",
   "mimetype": "text/x-python",
   "name": "python",
   "nbconvert_exporter": "python",
   "pygments_lexer": "ipython3",
   "version": "3.7.3"
  }
 },
 "nbformat": 4,
 "nbformat_minor": 4
}
