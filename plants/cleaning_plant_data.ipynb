{
 "cells": [
  {
   "cell_type": "markdown",
   "metadata": {},
   "source": [
    "### Cleaning data gathered from plants.PlantRecommender.get_all_native_plants()"
   ]
  },
  {
   "cell_type": "code",
   "execution_count": 123,
   "metadata": {},
   "outputs": [],
   "source": [
    "import pandas as pd\n",
    "import numpy as np\n",
    "import seaborn as sns\n",
    "from plants import PlantRecommender\n",
    "import warnings\n",
    "warnings.filterwarnings('ignore')"
   ]
  },
  {
   "cell_type": "code",
   "execution_count": 329,
   "metadata": {},
   "outputs": [],
   "source": [
    "df = pd.read_csv('all_native_plants_original.csv')"
   ]
  },
  {
   "cell_type": "code",
   "execution_count": 254,
   "metadata": {},
   "outputs": [],
   "source": [
    "height_cols = df['Plant Height'].str.split(r'^\\D*([0-9]*\\.*[0-9]*)\\D*([0-9]*\\.*[0-9]*) *(feet\\b|ft\\b|inches\\b|in\\b).*$', expand=True)"
   ]
  },
  {
   "cell_type": "code",
   "execution_count": 255,
   "metadata": {},
   "outputs": [],
   "source": [
    "height_cols.drop([0,4], axis=1, inplace=True)"
   ]
  },
  {
   "cell_type": "code",
   "execution_count": 256,
   "metadata": {},
   "outputs": [],
   "source": [
    "height_cols.rename(columns={1:'Min Height', 2:'Max Height', 3:'Height Units'}, inplace=True)"
   ]
  },
  {
   "cell_type": "code",
   "execution_count": 258,
   "metadata": {},
   "outputs": [],
   "source": [
    "spread_cols = df['Plant Spread'].str.split(r'^\\D*([0-9]*\\.*[0-9]*)\\D*([0-9]*\\.*[0-9]*) *(feet\\b|ft\\b|inches\\b|in\\b).*$', expand=True)"
   ]
  },
  {
   "cell_type": "code",
   "execution_count": 259,
   "metadata": {},
   "outputs": [],
   "source": [
    "spread_cols.drop([0,4], axis=1, inplace=True)"
   ]
  },
  {
   "cell_type": "code",
   "execution_count": 260,
   "metadata": {},
   "outputs": [],
   "source": [
    "spread_cols.rename(columns={1:'Min Spread', 2:'Max Spread', 3:'Spread Units'}, inplace=True)"
   ]
  },
  {
   "cell_type": "code",
   "execution_count": 330,
   "metadata": {},
   "outputs": [],
   "source": [
    "df.drop(['Plant Height', 'Plant Spread'], axis=1, inplace=True)\n",
    "df = pd.concat([df, height_cols, spread_cols], axis=1)"
   ]
  },
  {
   "cell_type": "code",
   "execution_count": 331,
   "metadata": {
    "code_folding": [
     0
    ]
   },
   "outputs": [],
   "source": [
    "# to_drop = ['1\"-2\"', 'Bees', 'Birds', 'Blue', 'Bog gardening', 'Bumblebees',\n",
    "#        'Butterflies','Cuttings: Stem', 'Deer Resistant', \n",
    "#        'Flower Time_Late spring or early summer',\n",
    "#        'Flower Time_Late summer or early fall',\n",
    "#        'Flower Time_Late winter or early spring', 'Flower Time_Spring',\n",
    "#        'Flower Time_Summer', 'Flowers_Fragrant', 'Flowers_Inconspicuous',\n",
    "#        'Flowers_Showy', 'Fruit_Edible to birds','Fruit_Showy','Layering', \n",
    "#         'Leaves_Fragrant','Needs excellent drainage in pots', 'Pink','Purple',\n",
    "#         'Salt tolerant','Suitable in 3 gallon or larger', 'Under 1\"', 'Various insects',\n",
    "#         'White','Xeriscapic']"
   ]
  },
  {
   "cell_type": "code",
   "execution_count": 332,
   "metadata": {},
   "outputs": [],
   "source": [
    "df['Min Height'] = df['Min Height'].astype(float)\n",
    "df['Max Height'] = np.where(df['Max Height']=='', df['Min Height'], df['Max Height'])\n",
    "df['Max Height'] = df['Max Height'].astype(float)"
   ]
  },
  {
   "cell_type": "code",
   "execution_count": 333,
   "metadata": {},
   "outputs": [],
   "source": [
    "df['Min Spread'] = np.where(df['Min Spread']=='', np.nan, df['Min Spread'])\n",
    "df['Min Spread'] = df['Min Spread'].astype(float)\n",
    "df['Max Spread'] = np.where(df['Max Spread']=='', df['Min Spread'], df['Max Spread'])\n",
    "df['Max Spread'] = df['Max Spread'].astype(float)"
   ]
  },
  {
   "cell_type": "code",
   "execution_count": 265,
   "metadata": {},
   "outputs": [
    {
     "ename": "TimeoutException",
     "evalue": "Message: connection refused\n",
     "output_type": "error",
     "traceback": [
      "\u001b[0;31m---------------------------------------------------------------------------\u001b[0m",
      "\u001b[0;31mTimeoutException\u001b[0m                          Traceback (most recent call last)",
      "\u001b[0;32m<ipython-input-265-db9397b165f4>\u001b[0m in \u001b[0;36m<module>\u001b[0;34m\u001b[0m\n\u001b[0;32m----> 1\u001b[0;31m \u001b[0mrec\u001b[0m \u001b[0;34m=\u001b[0m \u001b[0mPlantRecommender\u001b[0m\u001b[0;34m(\u001b[0m\u001b[0;34m)\u001b[0m\u001b[0;34m\u001b[0m\u001b[0;34m\u001b[0m\u001b[0m\n\u001b[0m",
      "\u001b[0;32m~/Code/data_science/plants/plants.py\u001b[0m in \u001b[0;36m__init__\u001b[0;34m(self, soil_texture, ph, moisture, zone, region, state)\u001b[0m\n\u001b[1;32m     89\u001b[0m         \u001b[0moptions\u001b[0m \u001b[0;34m=\u001b[0m \u001b[0mOptions\u001b[0m\u001b[0;34m(\u001b[0m\u001b[0;34m)\u001b[0m\u001b[0;34m\u001b[0m\u001b[0;34m\u001b[0m\u001b[0m\n\u001b[1;32m     90\u001b[0m         \u001b[0moptions\u001b[0m\u001b[0;34m.\u001b[0m\u001b[0mheadless\u001b[0m \u001b[0;34m=\u001b[0m \u001b[0;32mTrue\u001b[0m\u001b[0;34m\u001b[0m\u001b[0;34m\u001b[0m\u001b[0m\n\u001b[0;32m---> 91\u001b[0;31m         \u001b[0mself\u001b[0m\u001b[0;34m.\u001b[0m\u001b[0mdriver\u001b[0m \u001b[0;34m=\u001b[0m \u001b[0mFirefox\u001b[0m\u001b[0;34m(\u001b[0m\u001b[0moptions\u001b[0m\u001b[0;34m=\u001b[0m\u001b[0moptions\u001b[0m\u001b[0;34m)\u001b[0m\u001b[0;34m\u001b[0m\u001b[0;34m\u001b[0m\u001b[0m\n\u001b[0m\u001b[1;32m     92\u001b[0m         \u001b[0mself\u001b[0m\u001b[0;34m.\u001b[0m\u001b[0musda_url\u001b[0m \u001b[0;34m=\u001b[0m \u001b[0;34m'https://plantsdb.xyz/search'\u001b[0m\u001b[0;34m\u001b[0m\u001b[0;34m\u001b[0m\u001b[0m\n\u001b[1;32m     93\u001b[0m         \u001b[0mself\u001b[0m\u001b[0;34m.\u001b[0m\u001b[0mgarden_search_url\u001b[0m \u001b[0;34m=\u001b[0m \u001b[0;34m'https://garden.org/plants/search/advanced.php'\u001b[0m\u001b[0;34m\u001b[0m\u001b[0;34m\u001b[0m\u001b[0m\n",
      "\u001b[0;32m~/.local/share/virtualenvs/plants-L6j1Vt2q/lib/python3.7/site-packages/selenium/webdriver/firefox/webdriver.py\u001b[0m in \u001b[0;36m__init__\u001b[0;34m(self, firefox_profile, firefox_binary, timeout, capabilities, proxy, executable_path, options, service_log_path, firefox_options, service_args, desired_capabilities, log_path, keep_alive)\u001b[0m\n\u001b[1;32m    172\u001b[0m                 \u001b[0mcommand_executor\u001b[0m\u001b[0;34m=\u001b[0m\u001b[0mexecutor\u001b[0m\u001b[0;34m,\u001b[0m\u001b[0;34m\u001b[0m\u001b[0;34m\u001b[0m\u001b[0m\n\u001b[1;32m    173\u001b[0m                 \u001b[0mdesired_capabilities\u001b[0m\u001b[0;34m=\u001b[0m\u001b[0mcapabilities\u001b[0m\u001b[0;34m,\u001b[0m\u001b[0;34m\u001b[0m\u001b[0;34m\u001b[0m\u001b[0m\n\u001b[0;32m--> 174\u001b[0;31m                 keep_alive=True)\n\u001b[0m\u001b[1;32m    175\u001b[0m \u001b[0;34m\u001b[0m\u001b[0m\n\u001b[1;32m    176\u001b[0m         \u001b[0;31m# Selenium remote\u001b[0m\u001b[0;34m\u001b[0m\u001b[0;34m\u001b[0m\u001b[0;34m\u001b[0m\u001b[0m\n",
      "\u001b[0;32m~/.local/share/virtualenvs/plants-L6j1Vt2q/lib/python3.7/site-packages/selenium/webdriver/remote/webdriver.py\u001b[0m in \u001b[0;36m__init__\u001b[0;34m(self, command_executor, desired_capabilities, browser_profile, proxy, keep_alive, file_detector, options)\u001b[0m\n\u001b[1;32m    155\u001b[0m             warnings.warn(\"Please use FirefoxOptions to set browser profile\",\n\u001b[1;32m    156\u001b[0m                           DeprecationWarning, stacklevel=2)\n\u001b[0;32m--> 157\u001b[0;31m         \u001b[0mself\u001b[0m\u001b[0;34m.\u001b[0m\u001b[0mstart_session\u001b[0m\u001b[0;34m(\u001b[0m\u001b[0mcapabilities\u001b[0m\u001b[0;34m,\u001b[0m \u001b[0mbrowser_profile\u001b[0m\u001b[0;34m)\u001b[0m\u001b[0;34m\u001b[0m\u001b[0;34m\u001b[0m\u001b[0m\n\u001b[0m\u001b[1;32m    158\u001b[0m         \u001b[0mself\u001b[0m\u001b[0;34m.\u001b[0m\u001b[0m_switch_to\u001b[0m \u001b[0;34m=\u001b[0m \u001b[0mSwitchTo\u001b[0m\u001b[0;34m(\u001b[0m\u001b[0mself\u001b[0m\u001b[0;34m)\u001b[0m\u001b[0;34m\u001b[0m\u001b[0;34m\u001b[0m\u001b[0m\n\u001b[1;32m    159\u001b[0m         \u001b[0mself\u001b[0m\u001b[0;34m.\u001b[0m\u001b[0m_mobile\u001b[0m \u001b[0;34m=\u001b[0m \u001b[0mMobile\u001b[0m\u001b[0;34m(\u001b[0m\u001b[0mself\u001b[0m\u001b[0;34m)\u001b[0m\u001b[0;34m\u001b[0m\u001b[0;34m\u001b[0m\u001b[0m\n",
      "\u001b[0;32m~/.local/share/virtualenvs/plants-L6j1Vt2q/lib/python3.7/site-packages/selenium/webdriver/remote/webdriver.py\u001b[0m in \u001b[0;36mstart_session\u001b[0;34m(self, capabilities, browser_profile)\u001b[0m\n\u001b[1;32m    250\u001b[0m         parameters = {\"capabilities\": w3c_caps,\n\u001b[1;32m    251\u001b[0m                       \"desiredCapabilities\": capabilities}\n\u001b[0;32m--> 252\u001b[0;31m         \u001b[0mresponse\u001b[0m \u001b[0;34m=\u001b[0m \u001b[0mself\u001b[0m\u001b[0;34m.\u001b[0m\u001b[0mexecute\u001b[0m\u001b[0;34m(\u001b[0m\u001b[0mCommand\u001b[0m\u001b[0;34m.\u001b[0m\u001b[0mNEW_SESSION\u001b[0m\u001b[0;34m,\u001b[0m \u001b[0mparameters\u001b[0m\u001b[0;34m)\u001b[0m\u001b[0;34m\u001b[0m\u001b[0;34m\u001b[0m\u001b[0m\n\u001b[0m\u001b[1;32m    253\u001b[0m         \u001b[0;32mif\u001b[0m \u001b[0;34m'sessionId'\u001b[0m \u001b[0;32mnot\u001b[0m \u001b[0;32min\u001b[0m \u001b[0mresponse\u001b[0m\u001b[0;34m:\u001b[0m\u001b[0;34m\u001b[0m\u001b[0;34m\u001b[0m\u001b[0m\n\u001b[1;32m    254\u001b[0m             \u001b[0mresponse\u001b[0m \u001b[0;34m=\u001b[0m \u001b[0mresponse\u001b[0m\u001b[0;34m[\u001b[0m\u001b[0;34m'value'\u001b[0m\u001b[0;34m]\u001b[0m\u001b[0;34m\u001b[0m\u001b[0;34m\u001b[0m\u001b[0m\n",
      "\u001b[0;32m~/.local/share/virtualenvs/plants-L6j1Vt2q/lib/python3.7/site-packages/selenium/webdriver/remote/webdriver.py\u001b[0m in \u001b[0;36mexecute\u001b[0;34m(self, driver_command, params)\u001b[0m\n\u001b[1;32m    319\u001b[0m         \u001b[0mresponse\u001b[0m \u001b[0;34m=\u001b[0m \u001b[0mself\u001b[0m\u001b[0;34m.\u001b[0m\u001b[0mcommand_executor\u001b[0m\u001b[0;34m.\u001b[0m\u001b[0mexecute\u001b[0m\u001b[0;34m(\u001b[0m\u001b[0mdriver_command\u001b[0m\u001b[0;34m,\u001b[0m \u001b[0mparams\u001b[0m\u001b[0;34m)\u001b[0m\u001b[0;34m\u001b[0m\u001b[0;34m\u001b[0m\u001b[0m\n\u001b[1;32m    320\u001b[0m         \u001b[0;32mif\u001b[0m \u001b[0mresponse\u001b[0m\u001b[0;34m:\u001b[0m\u001b[0;34m\u001b[0m\u001b[0;34m\u001b[0m\u001b[0m\n\u001b[0;32m--> 321\u001b[0;31m             \u001b[0mself\u001b[0m\u001b[0;34m.\u001b[0m\u001b[0merror_handler\u001b[0m\u001b[0;34m.\u001b[0m\u001b[0mcheck_response\u001b[0m\u001b[0;34m(\u001b[0m\u001b[0mresponse\u001b[0m\u001b[0;34m)\u001b[0m\u001b[0;34m\u001b[0m\u001b[0;34m\u001b[0m\u001b[0m\n\u001b[0m\u001b[1;32m    322\u001b[0m             response['value'] = self._unwrap_value(\n\u001b[1;32m    323\u001b[0m                 response.get('value', None))\n",
      "\u001b[0;32m~/.local/share/virtualenvs/plants-L6j1Vt2q/lib/python3.7/site-packages/selenium/webdriver/remote/errorhandler.py\u001b[0m in \u001b[0;36mcheck_response\u001b[0;34m(self, response)\u001b[0m\n\u001b[1;32m    240\u001b[0m                 \u001b[0malert_text\u001b[0m \u001b[0;34m=\u001b[0m \u001b[0mvalue\u001b[0m\u001b[0;34m[\u001b[0m\u001b[0;34m'alert'\u001b[0m\u001b[0;34m]\u001b[0m\u001b[0;34m.\u001b[0m\u001b[0mget\u001b[0m\u001b[0;34m(\u001b[0m\u001b[0;34m'text'\u001b[0m\u001b[0;34m)\u001b[0m\u001b[0;34m\u001b[0m\u001b[0;34m\u001b[0m\u001b[0m\n\u001b[1;32m    241\u001b[0m             \u001b[0;32mraise\u001b[0m \u001b[0mexception_class\u001b[0m\u001b[0;34m(\u001b[0m\u001b[0mmessage\u001b[0m\u001b[0;34m,\u001b[0m \u001b[0mscreen\u001b[0m\u001b[0;34m,\u001b[0m \u001b[0mstacktrace\u001b[0m\u001b[0;34m,\u001b[0m \u001b[0malert_text\u001b[0m\u001b[0;34m)\u001b[0m\u001b[0;34m\u001b[0m\u001b[0;34m\u001b[0m\u001b[0m\n\u001b[0;32m--> 242\u001b[0;31m         \u001b[0;32mraise\u001b[0m \u001b[0mexception_class\u001b[0m\u001b[0;34m(\u001b[0m\u001b[0mmessage\u001b[0m\u001b[0;34m,\u001b[0m \u001b[0mscreen\u001b[0m\u001b[0;34m,\u001b[0m \u001b[0mstacktrace\u001b[0m\u001b[0;34m)\u001b[0m\u001b[0;34m\u001b[0m\u001b[0;34m\u001b[0m\u001b[0m\n\u001b[0m\u001b[1;32m    243\u001b[0m \u001b[0;34m\u001b[0m\u001b[0m\n\u001b[1;32m    244\u001b[0m     \u001b[0;32mdef\u001b[0m \u001b[0m_value_or_default\u001b[0m\u001b[0;34m(\u001b[0m\u001b[0mself\u001b[0m\u001b[0;34m,\u001b[0m \u001b[0mobj\u001b[0m\u001b[0;34m,\u001b[0m \u001b[0mkey\u001b[0m\u001b[0;34m,\u001b[0m \u001b[0mdefault\u001b[0m\u001b[0;34m)\u001b[0m\u001b[0;34m:\u001b[0m\u001b[0;34m\u001b[0m\u001b[0;34m\u001b[0m\u001b[0m\n",
      "\u001b[0;31mTimeoutException\u001b[0m: Message: connection refused\n"
     ]
    }
   ],
   "source": [
    "rec = PlantRecommender()"
   ]
  },
  {
   "cell_type": "code",
   "execution_count": 125,
   "metadata": {},
   "outputs": [
    {
     "data": {
      "text/plain": [
       "['Genus', 'Species', 'Varieties', 'Life cycle']"
      ]
     },
     "execution_count": 125,
     "metadata": {},
     "output_type": "execute_result"
    }
   ],
   "source": [
    "cat = rec.categorical_attributes\n",
    "cat"
   ]
  },
  {
   "cell_type": "code",
   "execution_count": 126,
   "metadata": {},
   "outputs": [
    {
     "data": {
      "text/plain": [
       "['Coarse Soil',\n",
       " 'Medium Soil',\n",
       " 'Fine Soil',\n",
       " 'Herb/Forb',\n",
       " 'Shrub',\n",
       " 'Tree',\n",
       " 'Cactus/Succulent',\n",
       " 'Grass/Grass-like',\n",
       " 'Fern',\n",
       " 'Vine',\n",
       " 'Full Sun',\n",
       " 'Full Sun to Partial Shade',\n",
       " 'Partial or Dappled Shade',\n",
       " 'Partial Shade to Full Shade',\n",
       " 'Full Shade',\n",
       " 'In Water',\n",
       " 'Wet',\n",
       " 'Wet Mesic',\n",
       " 'Mesic',\n",
       " 'Dry Mesic',\n",
       " 'Dry',\n",
       " 'Extremely acid (3.5 – 4.4)',\n",
       " 'Very strongly acid (4.5 – 5.0)',\n",
       " 'Strongly acid (5.1 – 5.5)',\n",
       " 'Moderately acid (5.6 – 6.0)',\n",
       " 'Slightly acid (6.1 – 6.5)',\n",
       " 'Neutral (6.6 – 7.3)',\n",
       " 'Slightly alkaline (7.4 – 7.8)',\n",
       " 'Moderately alkaline (7.9 – 8.4)',\n",
       " 'Strongly alkaline (8.5 – 9.0)',\n",
       " 'Leaves_Good fall color',\n",
       " 'Leaves_Glaucous',\n",
       " 'Leaves_Unusual foliage color',\n",
       " 'Leaves_Evergreen',\n",
       " 'Leaves_Semi-evergreen',\n",
       " 'Leaves_Deciduous',\n",
       " 'Leaves_Fragrant',\n",
       " 'Leaves_Malodorous',\n",
       " 'Leaves_Variegated',\n",
       " 'Leaves_Spring ephemeral',\n",
       " 'Leaves_Needled',\n",
       " 'Leaves_Broadleaf',\n",
       " 'Leaves_Other',\n",
       " 'Fruit_Showy',\n",
       " 'Fruit_Edible to birds',\n",
       " 'Fruit_Dehiscent',\n",
       " 'Fruit_Indehiscent',\n",
       " 'Fruit_Pops open explosively when ripe',\n",
       " 'Fruit_Other',\n",
       " 'Fruiting Time_Late winter or early spring',\n",
       " 'Fruiting Time_Spring',\n",
       " 'Fruiting Time_Late spring or early summer',\n",
       " 'Fruiting Time_Summer',\n",
       " 'Fruiting Time_Late summer or early fall',\n",
       " 'Fruiting Time_Fall',\n",
       " 'Fruiting Time_Late fall or early winter',\n",
       " 'Fruiting Time_Winter',\n",
       " 'Fruiting Time_Year Round',\n",
       " 'Fruiting Time_Other',\n",
       " 'Flowers_Showy',\n",
       " 'Flowers_Inconspicuous',\n",
       " 'Flowers_Fragrant',\n",
       " 'Flowers_Malodorous',\n",
       " 'Flowers_Nocturnal',\n",
       " 'Flowers_Blooms on old wood',\n",
       " 'Flowers_Blooms on new wood',\n",
       " 'Flowers_Other',\n",
       " 'Brown',\n",
       " 'Green',\n",
       " 'Blue',\n",
       " 'Lavender',\n",
       " 'Mauve',\n",
       " 'Orange',\n",
       " 'Pink',\n",
       " 'Purple',\n",
       " 'Red',\n",
       " 'Russet',\n",
       " 'White',\n",
       " 'Yellow',\n",
       " 'Bi-Color',\n",
       " 'Multi-Color',\n",
       " 'Other',\n",
       " 'Under 1\"',\n",
       " '1\"-2\"',\n",
       " '2\"-3\"',\n",
       " '3\"-4\"',\n",
       " '4\"-5\"',\n",
       " '5\"-6\"',\n",
       " '6\"-12\"',\n",
       " 'Over 12\"',\n",
       " 'Flower Time_Late winter or early spring',\n",
       " 'Flower Time_Spring',\n",
       " 'Flower Time_Late spring or early summer',\n",
       " 'Flower Time_Summer',\n",
       " 'Flower Time_Late summer or early fall',\n",
       " 'Flower Time_Fall',\n",
       " 'Flower Time_Late fall or early winter',\n",
       " 'Flower Time_Winter',\n",
       " 'Flower Time_Year Round',\n",
       " 'Flower Time_Other',\n",
       " 'Rhizome',\n",
       " 'Taproot',\n",
       " 'Corm',\n",
       " 'Bulb',\n",
       " 'Tuber',\n",
       " 'Caudex',\n",
       " 'Beach Front',\n",
       " 'Street Tree',\n",
       " 'Patio/Ornamental/Small Tree',\n",
       " 'Xeriscapic',\n",
       " 'Houseplant',\n",
       " 'Terrariums',\n",
       " 'Bog gardening',\n",
       " 'Alpine Gardening',\n",
       " 'Espalier',\n",
       " 'Topiary',\n",
       " 'Windbreak or Hedge',\n",
       " 'Dye production',\n",
       " 'Provides winter interest',\n",
       " 'Erosion control',\n",
       " 'Guardian plant',\n",
       " 'Groundcover',\n",
       " 'Shade Tree',\n",
       " 'Flowering Tree',\n",
       " 'Water gardens',\n",
       " 'Culinary Herb',\n",
       " 'Medicinal Herb',\n",
       " 'Vegetable',\n",
       " 'Salad greens',\n",
       " 'Cooked greens',\n",
       " 'Cut Flower',\n",
       " 'Dried Flower',\n",
       " 'Will Naturalize',\n",
       " 'Good as a cover crop',\n",
       " 'Suitable as Annual',\n",
       " 'Suitable for forage',\n",
       " 'Useful for timber production',\n",
       " 'Suitable for miniature gardens',\n",
       " 'Bark',\n",
       " 'Stem',\n",
       " 'Leaves',\n",
       " 'Roots',\n",
       " 'Seeds or Nuts',\n",
       " 'Sap',\n",
       " 'Fruit',\n",
       " 'Flowers',\n",
       " 'Tea',\n",
       " 'Culinary Herb/Spice',\n",
       " 'Raw',\n",
       " 'Cooked',\n",
       " 'Fermented',\n",
       " 'Nitrogen fixer',\n",
       " 'P (Phosphorus)',\n",
       " 'K (Potassium)',\n",
       " 'Ca (Calcium)',\n",
       " 'Mg (Magnesium)',\n",
       " 'S (Sulfur)',\n",
       " 'Fe (Iron)',\n",
       " 'B (Boron)',\n",
       " 'Mn (Manganese)',\n",
       " 'Zn (Zinc)',\n",
       " 'Cu (Copper)',\n",
       " 'Mo (Molybdenum)',\n",
       " 'Si (Silicon)',\n",
       " 'Co (Cobalt)',\n",
       " 'Na (Sodium)',\n",
       " 'I (Iodine)',\n",
       " 'Bees',\n",
       " 'Birds',\n",
       " 'Butterflies',\n",
       " 'Hummingbirds',\n",
       " 'Other Beneficial Insects',\n",
       " 'Powdery Mildew',\n",
       " 'Birds',\n",
       " 'Deer Resistant',\n",
       " 'Gophers/Voles',\n",
       " 'Rabbit Resistant',\n",
       " 'Squirrels',\n",
       " 'Pollution',\n",
       " 'Fire Resistant',\n",
       " 'Flood Resistant',\n",
       " 'Tolerates dry shade',\n",
       " 'Tolerates foot traffic',\n",
       " 'Humidity tolerant',\n",
       " 'Drought tolerant',\n",
       " 'Salt tolerant',\n",
       " 'Leaves are poisonous',\n",
       " 'Roots are poisonous',\n",
       " 'Fruit is poisonous',\n",
       " 'Other',\n",
       " 'Provide light',\n",
       " 'Self fertile',\n",
       " 'Provide darkness',\n",
       " 'Stratify seeds',\n",
       " 'Scarify seeds',\n",
       " 'Needs specific temperature',\n",
       " 'Days to germinate',\n",
       " 'Depth to plant seed',\n",
       " 'Suitable for wintersowing',\n",
       " 'Sow in situ',\n",
       " 'Start indoors',\n",
       " 'Can handle transplanting',\n",
       " 'Seeds are hydrophilic',\n",
       " 'Will not come true from seed',\n",
       " 'Other info',\n",
       " 'Cuttings: Stem',\n",
       " 'Cuttings: Tip',\n",
       " 'Cuttings: Cane',\n",
       " 'Cuttings: Leaf',\n",
       " 'Cuttings: Root',\n",
       " 'Layering',\n",
       " 'Division',\n",
       " 'Stolons and runners',\n",
       " 'Offsets',\n",
       " 'Bulbs',\n",
       " 'Corms',\n",
       " 'Crowns',\n",
       " 'Other',\n",
       " 'Self',\n",
       " 'Other',\n",
       " 'Hoverflies',\n",
       " 'Wasps',\n",
       " 'Water',\n",
       " 'Beetles',\n",
       " 'Moths and Butterflies',\n",
       " 'Midges',\n",
       " 'Flies',\n",
       " 'Bats',\n",
       " 'Birds',\n",
       " 'Bumblebees',\n",
       " 'Bees',\n",
       " 'Wind',\n",
       " 'Various insects',\n",
       " 'Cleistogamous',\n",
       " 'Suitable in 1 gallon',\n",
       " 'Suitable in 3 gallon or larger',\n",
       " 'Suitable for hanging baskets',\n",
       " 'Needs repotting every 2 to 3 years',\n",
       " 'Needs excellent drainage in pots',\n",
       " 'Preferred depth',\n",
       " 'Prefers to be under-potted',\n",
       " 'Not suitable for containers',\n",
       " 'Tolerates poor soil',\n",
       " 'With thorns/spines/prickles/teeth',\n",
       " 'Monoecious',\n",
       " 'Dioecious',\n",
       " \"Patent/Plant Breeders' Rights\",\n",
       " 'Genetically Modified',\n",
       " 'Epiphytic',\n",
       " 'Monocarpic',\n",
       " 'Carnivorous',\n",
       " 'Goes Dormant',\n",
       " 'Endangered',\n",
       " 'Texas Superstar®',\n",
       " 'RHS AGM',\n",
       " 'AAS (All-America Selection®)',\n",
       " 'A.H.G.A. Hosta of the Year',\n",
       " 'Other']"
      ]
     },
     "execution_count": 126,
     "metadata": {},
     "output_type": "execute_result"
    }
   ],
   "source": [
    "boolean = rec.boolean_attributes\n",
    "boolean"
   ]
  },
  {
   "cell_type": "code",
   "execution_count": 127,
   "metadata": {},
   "outputs": [
    {
     "data": {
      "text/plain": [
       "['Minimum cold hardiness',\n",
       " 'Maximum recommended zone',\n",
       " 'Plant Height',\n",
       " 'Plant Spread',\n",
       " 'Inflorescence Height',\n",
       " 'Foliage Mound Height']"
      ]
     },
     "execution_count": 127,
     "metadata": {},
     "output_type": "execute_result"
    }
   ],
   "source": [
    "num = rec.numeric_attributes\n",
    "num"
   ]
  },
  {
   "cell_type": "code",
   "execution_count": 334,
   "metadata": {},
   "outputs": [],
   "source": [
    "df[boolean] = df[boolean].fillna('False')\n",
    "df[boolean] = df[boolean].replace({'0.0': False, '1.0': True, 'False': False, 'True': True})"
   ]
  },
  {
   "cell_type": "code",
   "execution_count": 335,
   "metadata": {},
   "outputs": [],
   "source": [
    "df['Min Height'] = np.where((df['Height Units']=='inches') | (df['Height Units']=='in'),\n",
    "                           df['Min Height']/12.0, df['Min Height'])"
   ]
  },
  {
   "cell_type": "code",
   "execution_count": 336,
   "metadata": {},
   "outputs": [],
   "source": [
    "df['Max Height'] = np.where((df['Height Units']=='inches') | (df['Height Units']=='in'),\n",
    "                           df['Max Height']/12.0, df['Max Height'])"
   ]
  },
  {
   "cell_type": "code",
   "execution_count": 337,
   "metadata": {},
   "outputs": [],
   "source": [
    "df['Min Spread'] = np.where((df['Spread Units']=='inches') | (df['Spread Units']=='in'),\n",
    "                           df['Min Spread']/12.0, df['Min Spread'])"
   ]
  },
  {
   "cell_type": "code",
   "execution_count": 338,
   "metadata": {},
   "outputs": [],
   "source": [
    "df['Max Spread'] = np.where((df['Height Units']=='inches') | (df['Height Units']=='in'),\n",
    "                           df['Max Spread']/12.0, df['Max Spread'])"
   ]
  },
  {
   "cell_type": "markdown",
   "metadata": {},
   "source": [
    "Note: all heights are now in feet."
   ]
  },
  {
   "cell_type": "code",
   "execution_count": 339,
   "metadata": {},
   "outputs": [
    {
     "data": {
      "text/plain": [
       "0    Zone 5a -28.9 °C (-20 °F) to -26.1 °C (-15 °F)\n",
       "1                                               NaN\n",
       "2          Zone 3 -40 °C (-40 °F) to -37.2 °C (-35)\n",
       "3          Zone 3 -40 °C (-40 °F) to -37.2 °C (-35)\n",
       "4                                               NaN\n",
       "5                                               NaN\n",
       "6                                               NaN\n",
       "7    Zone 4a -34.4 °C (-30 °F) to -31.7 °C (-25 °F)\n",
       "8                                               NaN\n",
       "9          Zone 7a -17.8 °C (0 °F) to -15 °C (5 °F)\n",
       "Name: Minimum cold hardiness, dtype: object"
      ]
     },
     "execution_count": 339,
     "metadata": {},
     "output_type": "execute_result"
    }
   ],
   "source": [
    "df['Minimum cold hardiness'][:10]"
   ]
  },
  {
   "cell_type": "code",
   "execution_count": 350,
   "metadata": {},
   "outputs": [],
   "source": [
    "df['Minimum cold hardiness'] = df['Minimum cold hardiness'].str.extract(r'([0-9]+)')"
   ]
  },
  {
   "cell_type": "code",
   "execution_count": 355,
   "metadata": {},
   "outputs": [],
   "source": [
    "df['Maximum recommended zone'] = df['Maximum recommended zone'].str.extract(r'([0-9]+)')"
   ]
  },
  {
   "cell_type": "code",
   "execution_count": 359,
   "metadata": {},
   "outputs": [],
   "source": [
    "df['Minimum cold hardiness'] = df['Minimum cold hardiness'].astype(float)\n",
    "df['Maximum recommended zone'] = df['Maximum recommended zone'].astype(float)"
   ]
  },
  {
   "cell_type": "code",
   "execution_count": 360,
   "metadata": {},
   "outputs": [],
   "source": [
    "df.to_csv('all_native_plants.csv', index=False)"
   ]
  },
  {
   "cell_type": "code",
   "execution_count": 368,
   "metadata": {},
   "outputs": [],
   "source": [
    "zone = 7\n",
    "plants = df[(df['Minimum cold hardiness']<=zone) & \n",
    "            ((df['Maximum recommended zone']==np.nan) | \n",
    "            (df['Maximum recommended zone']>=zone))]"
   ]
  },
  {
   "cell_type": "code",
   "execution_count": 369,
   "metadata": {},
   "outputs": [
    {
     "data": {
      "text/plain": [
       "(942, 265)"
      ]
     },
     "execution_count": 369,
     "metadata": {},
     "output_type": "execute_result"
    }
   ],
   "source": [
    "plants.shape"
   ]
  },
  {
   "cell_type": "code",
   "execution_count": 365,
   "metadata": {},
   "outputs": [],
   "source": [
    "plants = plants[(df['Maximum recommended zone']==np.nan) | \n",
    "            (df['Maximum recommended zone']>=zone)]"
   ]
  },
  {
   "cell_type": "code",
   "execution_count": 366,
   "metadata": {},
   "outputs": [
    {
     "data": {
      "text/plain": [
       "(942, 265)"
      ]
     },
     "execution_count": 366,
     "metadata": {},
     "output_type": "execute_result"
    }
   ],
   "source": [
    "plants.shape"
   ]
  },
  {
   "cell_type": "code",
   "execution_count": null,
   "metadata": {},
   "outputs": [],
   "source": []
  }
 ],
 "metadata": {
  "kernelspec": {
   "display_name": "Python 3",
   "language": "python",
   "name": "python3"
  },
  "language_info": {
   "codemirror_mode": {
    "name": "ipython",
    "version": 3
   },
   "file_extension": ".py",
   "mimetype": "text/x-python",
   "name": "python",
   "nbconvert_exporter": "python",
   "pygments_lexer": "ipython3",
   "version": "3.7.3"
  }
 },
 "nbformat": 4,
 "nbformat_minor": 4
}
