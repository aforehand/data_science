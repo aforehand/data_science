{
 "cells": [
  {
   "cell_type": "code",
   "execution_count": 1,
   "metadata": {},
   "outputs": [],
   "source": [
    "import pandas as pd"
   ]
  },
  {
   "cell_type": "code",
   "execution_count": 2,
   "metadata": {},
   "outputs": [],
   "source": [
    "rankings = pd.read_csv('us_news_university_rankings.csv', encoding='ISO-8859-1')\n",
    "# UnicodeDecodeError: 'utf-8' codec can't decode byte 0xe4 in position 476: invalid continuation byte\n",
    "# solution: use ISO-8859-1 instead of utf-8\n",
    "scorecard = pd.read_csv('college_scorecard.csv')\n",
    "# using CollegeScorecardDataDictionary.xlsx' to understand info on scorecard"
   ]
  },
  {
   "cell_type": "code",
   "execution_count": 3,
   "metadata": {},
   "outputs": [
    {
     "name": "stdout",
     "output_type": "stream",
     "text": [
      "<class 'pandas.core.frame.DataFrame'>\n",
      "RangeIndex: 7703 entries, 0 to 7702\n",
      "Columns: 122 entries, UNITID to C150_4_POOLED_SUPP\n",
      "dtypes: float64(103), int64(7), object(12)\n",
      "memory usage: 7.2+ MB\n"
     ]
    }
   ],
   "source": [
    "scorecard.info()"
   ]
  },
  {
   "cell_type": "code",
   "execution_count": 4,
   "metadata": {},
   "outputs": [
    {
     "name": "stdout",
     "output_type": "stream",
     "text": [
      "<class 'pandas.core.frame.DataFrame'>\n",
      "RangeIndex: 231 entries, 0 to 230\n",
      "Data columns (total 7 columns):\n",
      " #   Column                Non-Null Count  Dtype \n",
      "---  ------                --------------  ----- \n",
      " 0   Name                  231 non-null    object\n",
      " 1   Location              231 non-null    object\n",
      " 2   Rank                  231 non-null    int64 \n",
      " 3   Description           231 non-null    object\n",
      " 4   Tuition and fees      231 non-null    object\n",
      " 5   In-state              133 non-null    object\n",
      " 6   Undergrad Enrollment  231 non-null    object\n",
      "dtypes: int64(1), object(6)\n",
      "memory usage: 12.8+ KB\n"
     ]
    }
   ],
   "source": [
    "rankings.info()"
   ]
  },
  {
   "cell_type": "code",
   "execution_count": 5,
   "metadata": {},
   "outputs": [
    {
     "data": {
      "text/plain": [
       "0               Alabama A & M University\n",
       "1    University of Alabama at Birmingham\n",
       "2                     Amridge University\n",
       "3    University of Alabama in Huntsville\n",
       "4               Alabama State University\n",
       "Name: INSTNM, dtype: object"
      ]
     },
     "execution_count": 5,
     "metadata": {},
     "output_type": "execute_result"
    }
   ],
   "source": [
    "# looking at name formats\n",
    "scorecard['INSTNM'].head()"
   ]
  },
  {
   "cell_type": "code",
   "execution_count": 6,
   "metadata": {},
   "outputs": [
    {
     "data": {
      "text/plain": [
       "0     Princeton University\n",
       "1       Harvard University\n",
       "2    University of Chicago\n",
       "3          Yale University\n",
       "4      Columbia University\n",
       "Name: Name, dtype: object"
      ]
     },
     "execution_count": 6,
     "metadata": {},
     "output_type": "execute_result"
    }
   ],
   "source": [
    "rankings['Name'].head()"
   ]
  },
  {
   "cell_type": "code",
   "execution_count": 7,
   "metadata": {},
   "outputs": [],
   "source": [
    "top_231 = scorecard[scorecard['INSTNM'].isin(rankings['Name'])]"
   ]
  },
  {
   "cell_type": "code",
   "execution_count": 8,
   "metadata": {},
   "outputs": [
    {
     "name": "stdout",
     "output_type": "stream",
     "text": [
      "<class 'pandas.core.frame.DataFrame'>\n",
      "Int64Index: 141 entries, 9 to 4260\n",
      "Columns: 122 entries, UNITID to C150_4_POOLED_SUPP\n",
      "dtypes: float64(103), int64(7), object(12)\n",
      "memory usage: 135.5+ KB\n"
     ]
    }
   ],
   "source": [
    "top_231.info()"
   ]
  },
  {
   "cell_type": "code",
   "execution_count": 9,
   "metadata": {},
   "outputs": [],
   "source": [
    "# that's not all of them\n",
    "hmm = rankings['Name'][~rankings['Name'].isin(scorecard['INSTNM'])]"
   ]
  },
  {
   "cell_type": "code",
   "execution_count": 10,
   "metadata": {},
   "outputs": [
    {
     "data": {
      "text/plain": [
       "4                           Columbia University\n",
       "18           Washington University in St. Louis\n",
       "21           University of California--Berkeley\n",
       "24        University of California--Los Angeles\n",
       "25                       University of Virginia\n",
       "                         ...                   \n",
       "222                 New Mexico State University\n",
       "225         University of Massachusetts--Boston\n",
       "226      University of Massachusetts--Dartmouth\n",
       "227           University of Missouri--St. Louis\n",
       "228    University of North Carolina--Greensboro\n",
       "Name: Name, Length: 90, dtype: object"
      ]
     },
     "execution_count": 10,
     "metadata": {},
     "output_type": "execute_result"
    }
   ],
   "source": [
    "hmm"
   ]
  },
  {
   "cell_type": "markdown",
   "metadata": {},
   "source": [
    "When names don't match, I will replace the scorecard name with the rankings name, even if they are inconsistent"
   ]
  },
  {
   "cell_type": "code",
   "execution_count": 11,
   "metadata": {},
   "outputs": [
    {
     "data": {
      "text/plain": [
       "2408    Columbia University in the City of New York\n",
       "2626        Teachers College at Columbia University\n",
       "Name: INSTNM, dtype: object"
      ]
     },
     "execution_count": 11,
     "metadata": {},
     "output_type": "execute_result"
    }
   ],
   "source": [
    "scorecard['INSTNM'][scorecard['INSTNM'].str.contains('Columbia University')]"
   ]
  },
  {
   "cell_type": "code",
   "execution_count": 12,
   "metadata": {},
   "outputs": [],
   "source": [
    "scorecard['INSTNM'].replace('Columbia University in the City of New York', 'Columbia University', inplace=True)"
   ]
  },
  {
   "cell_type": "code",
   "execution_count": 13,
   "metadata": {},
   "outputs": [
    {
     "data": {
      "text/plain": [
       "702          George Washington University\n",
       "708         Trinity Washington University\n",
       "2116    Washington University in St Louis\n",
       "3989        Central Washington University\n",
       "3998        Eastern Washington University\n",
       "4050        Western Washington University\n",
       "Name: INSTNM, dtype: object"
      ]
     },
     "execution_count": 13,
     "metadata": {},
     "output_type": "execute_result"
    }
   ],
   "source": [
    "scorecard['INSTNM'][scorecard['INSTNM'].str.contains('Washington University')]"
   ]
  },
  {
   "cell_type": "code",
   "execution_count": 14,
   "metadata": {},
   "outputs": [],
   "source": [
    "scorecard['INSTNM'].replace({'St ': 'St. '}, inplace=True, regex=True)"
   ]
  },
  {
   "cell_type": "code",
   "execution_count": 15,
   "metadata": {},
   "outputs": [
    {
     "data": {
      "text/plain": [
       "225     University of California-Hastings College of Law\n",
       "243                    University of California-Berkeley\n",
       "244                       University of California-Davis\n",
       "245                      University of California-Irvine\n",
       "246                 University of California-Los Angeles\n",
       "247                   University of California-Riverside\n",
       "248                   University of California-San Diego\n",
       "249               University of California-San Francisco\n",
       "250               University of California-Santa Barbara\n",
       "251                  University of California-Santa Cruz\n",
       "307                   Dominican University of California\n",
       "5631                     University of California-Merced\n",
       "Name: INSTNM, dtype: object"
      ]
     },
     "execution_count": 15,
     "metadata": {},
     "output_type": "execute_result"
    }
   ],
   "source": [
    "scorecard['INSTNM'][scorecard['INSTNM'].str.contains('University of California')]"
   ]
  },
  {
   "cell_type": "code",
   "execution_count": 16,
   "metadata": {},
   "outputs": [],
   "source": [
    "scorecard['INSTNM'].replace({'-': '--', ' - ': '--'}, inplace=True, regex=True)\n"
   ]
  },
  {
   "cell_type": "code",
   "execution_count": 17,
   "metadata": {},
   "outputs": [
    {
     "data": {
      "text/plain": [
       "25                                University of Virginia\n",
       "29             University of North Carolina--Chapel Hill\n",
       "31                             College of William & Mary\n",
       "34                       Georgia Institute of Technology\n",
       "41                                     Tulane University\n",
       "46              University of Illinois--Urbana-Champaign\n",
       "52        Pennsylvania State University--University Park\n",
       "53                       Ohio State University--Columbus\n",
       "54                              University of Washington\n",
       "58                           University of Texas--Austin\n",
       "60                     Purdue University--West Lafayette\n",
       "68                              University of Pittsburgh\n",
       "75                 Texas A&M University--College Station\n",
       "77                                         Virginia Tech\n",
       "85                           Binghamton University--SUNY\n",
       "92              North Carolina State University--Raleigh\n",
       "93                       University of Colorado--Boulder\n",
       "97                          Stony Brook University--SUNY\n",
       "101                          University at Buffalo--SUNY\n",
       "103                                University of Alabama\n",
       "105                              University of Tennessee\n",
       "107                          University of New Hampshire\n",
       "109                         University of South Carolina\n",
       "112                               University of Missouri\n",
       "114                               University of Oklahoma\n",
       "123                   The Catholic University of America\n",
       "130                            Colorado State University\n",
       "131                                           New School\n",
       "135              Louisiana State University--Baton Rouge\n",
       "140                             University of Cincinnati\n",
       "146                                      Ohio University\n",
       "148                              St. John Fisher College\n",
       "149                           University at Albany--SUNY\n",
       "150                          University of Texas--Dallas\n",
       "153                            Oklahoma State University\n",
       "155                      University of Illinois--Chicago\n",
       "159                    University of Alabama--Birmingham\n",
       "162                          University of South Florida\n",
       "164                    Maryville University of St. Louis\n",
       "165          Missouri University of Science & Technology\n",
       "166                                St. John's University\n",
       "169                          University of Hawaii--Manoa\n",
       "181                             University of New Mexico\n",
       "186                                   Widener University\n",
       "187                                Kent State University\n",
       "188                        North Dakota State University\n",
       "189                                      Pace University\n",
       "193                       Bowling Green State University\n",
       "196    Indiana University-Purdue University--Indianap...\n",
       "198                    University of Alabama--Huntsville\n",
       "199                       University of Colorado--Denver\n",
       "205                      University of Alaska--Fairbanks\n",
       "206              University of North Carolina--Charlotte\n",
       "218                                University of Montana\n",
       "221                              Gardner-Webb University\n",
       "222                          New Mexico State University\n",
       "228             University of North Carolina--Greensboro\n",
       "Name: Name, dtype: object"
      ]
     },
     "execution_count": 17,
     "metadata": {},
     "output_type": "execute_result"
    }
   ],
   "source": [
    "# how many does that fix?\n",
    "hmm = rankings['Name'][~rankings['Name'].isin(scorecard['INSTNM'])]\n",
    "hmm"
   ]
  },
  {
   "cell_type": "code",
   "execution_count": 18,
   "metadata": {},
   "outputs": [
    {
     "data": {
      "text/plain": [
       "2737              North Carolina A & T State University\n",
       "2738          University of North Carolina at Asheville\n",
       "2739        University of North Carolina at Chapel Hill\n",
       "2740          University of North Carolina at Charlotte\n",
       "2741         University of North Carolina at Greensboro\n",
       "2742                  North Carolina Central University\n",
       "2743    University of North Carolina School of the Arts\n",
       "2744         North Carolina State University at Raleigh\n",
       "2745                    North Carolina Wesleyan College\n",
       "2746            University of North Carolina Wilmington\n",
       "2749           University of North Carolina at Pembroke\n",
       "6090                 Strayer University--North Carolina\n",
       "7117                   DeVry University--North Carolina\n",
       "7240              University of Phoenix--North Carolina\n",
       "Name: INSTNM, dtype: object"
      ]
     },
     "execution_count": 18,
     "metadata": {},
     "output_type": "execute_result"
    }
   ],
   "source": [
    "scorecard['INSTNM'][scorecard['INSTNM'].str.contains('North Carolina')]"
   ]
  },
  {
   "cell_type": "code",
   "execution_count": 19,
   "metadata": {},
   "outputs": [],
   "source": [
    "scorecard['INSTNM'].replace({' at ': '--'}, inplace=True, regex=True)"
   ]
  },
  {
   "cell_type": "code",
   "execution_count": 20,
   "metadata": {},
   "outputs": [
    {
     "data": {
      "text/plain": [
       "3963    The University of Virginia's College--Wise\n",
       "3968           University of Virginia--Main Campus\n",
       "Name: INSTNM, dtype: object"
      ]
     },
     "execution_count": 20,
     "metadata": {},
     "output_type": "execute_result"
    }
   ],
   "source": [
    "scorecard['INSTNM'][scorecard['INSTNM'].str.contains('University of Virginia')]"
   ]
  },
  {
   "cell_type": "code",
   "execution_count": 21,
   "metadata": {},
   "outputs": [],
   "source": [
    "scorecard['INSTNM'].replace({'--Main Campus': ''}, inplace=True, regex=True)"
   ]
  },
  {
   "cell_type": "code",
   "execution_count": 22,
   "metadata": {},
   "outputs": [
    {
     "data": {
      "text/plain": [
       "31                             College of William & Mary\n",
       "41                                     Tulane University\n",
       "46              University of Illinois--Urbana-Champaign\n",
       "52        Pennsylvania State University--University Park\n",
       "53                       Ohio State University--Columbus\n",
       "54                              University of Washington\n",
       "58                           University of Texas--Austin\n",
       "60                     Purdue University--West Lafayette\n",
       "68                              University of Pittsburgh\n",
       "75                 Texas A&M University--College Station\n",
       "77                                         Virginia Tech\n",
       "85                           Binghamton University--SUNY\n",
       "93                       University of Colorado--Boulder\n",
       "97                          Stony Brook University--SUNY\n",
       "101                          University at Buffalo--SUNY\n",
       "103                                University of Alabama\n",
       "105                              University of Tennessee\n",
       "109                         University of South Carolina\n",
       "112                               University of Missouri\n",
       "114                               University of Oklahoma\n",
       "123                   The Catholic University of America\n",
       "130                            Colorado State University\n",
       "131                                           New School\n",
       "135              Louisiana State University--Baton Rouge\n",
       "148                              St. John Fisher College\n",
       "149                           University at Albany--SUNY\n",
       "150                          University of Texas--Dallas\n",
       "164                    Maryville University of St. Louis\n",
       "165          Missouri University of Science & Technology\n",
       "166                                St. John's University\n",
       "187                                Kent State University\n",
       "189                                      Pace University\n",
       "196    Indiana University-Purdue University--Indianap...\n",
       "198                    University of Alabama--Huntsville\n",
       "199                       University of Colorado--Denver\n",
       "205                      University of Alaska--Fairbanks\n",
       "218                                University of Montana\n",
       "221                              Gardner-Webb University\n",
       "Name: Name, dtype: object"
      ]
     },
     "execution_count": 22,
     "metadata": {},
     "output_type": "execute_result"
    }
   ],
   "source": [
    "# how many does that fix?\n",
    "hmm = rankings['Name'][~rankings['Name'].isin(scorecard['INSTNM'])]\n",
    "hmm"
   ]
  },
  {
   "cell_type": "code",
   "execution_count": 23,
   "metadata": {},
   "outputs": [
    {
     "data": {
      "text/plain": [
       "100    SUNY College of Environmental Science and Fore...\n",
       "Name: Name, dtype: object"
      ]
     },
     "execution_count": 23,
     "metadata": {},
     "output_type": "execute_result"
    }
   ],
   "source": [
    "rankings['Name'][rankings['Name'].str.contains(' and ')]"
   ]
  },
  {
   "cell_type": "code",
   "execution_count": 24,
   "metadata": {},
   "outputs": [
    {
     "data": {
      "text/plain": [
       "2603    SUNY College of Environmental Science and Fore...\n",
       "Name: INSTNM, dtype: object"
      ]
     },
     "execution_count": 24,
     "metadata": {},
     "output_type": "execute_result"
    }
   ],
   "source": [
    "scorecard['INSTNM'][scorecard['INSTNM'].str.contains('SUNY College of Environmental Science')]"
   ]
  },
  {
   "cell_type": "code",
   "execution_count": 25,
   "metadata": {},
   "outputs": [
    {
     "name": "stderr",
     "output_type": "stream",
     "text": [
      "/Users/alice/.local/share/virtualenvs/education-YQATvGOP/lib/python3.7/site-packages/pandas/core/indexing.py:671: SettingWithCopyWarning: \n",
      "A value is trying to be set on a copy of a slice from a DataFrame\n",
      "\n",
      "See the caveats in the documentation: https://pandas.pydata.org/pandas-docs/stable/user_guide/indexing.html#returning-a-view-versus-a-copy\n",
      "  self._setitem_with_indexer(indexer, value)\n"
     ]
    }
   ],
   "source": [
    "scorecard['INSTNM'].replace({' and ': ' & '}, inplace=True, regex=True)\n",
    "scorecard['INSTNM'].iloc[2603] = rankings['Name'].iloc[100]"
   ]
  },
  {
   "cell_type": "code",
   "execution_count": 26,
   "metadata": {},
   "outputs": [
    {
     "data": {
      "text/plain": [
       "41                                     Tulane University\n",
       "46              University of Illinois--Urbana-Champaign\n",
       "52        Pennsylvania State University--University Park\n",
       "53                       Ohio State University--Columbus\n",
       "54                              University of Washington\n",
       "58                           University of Texas--Austin\n",
       "60                     Purdue University--West Lafayette\n",
       "68                              University of Pittsburgh\n",
       "75                 Texas A&M University--College Station\n",
       "77                                         Virginia Tech\n",
       "85                           Binghamton University--SUNY\n",
       "93                       University of Colorado--Boulder\n",
       "97                          Stony Brook University--SUNY\n",
       "101                          University at Buffalo--SUNY\n",
       "103                                University of Alabama\n",
       "105                              University of Tennessee\n",
       "109                         University of South Carolina\n",
       "112                               University of Missouri\n",
       "114                               University of Oklahoma\n",
       "123                   The Catholic University of America\n",
       "130                            Colorado State University\n",
       "131                                           New School\n",
       "135              Louisiana State University--Baton Rouge\n",
       "148                              St. John Fisher College\n",
       "149                           University at Albany--SUNY\n",
       "150                          University of Texas--Dallas\n",
       "164                    Maryville University of St. Louis\n",
       "166                                St. John's University\n",
       "187                                Kent State University\n",
       "189                                      Pace University\n",
       "196    Indiana University-Purdue University--Indianap...\n",
       "198                    University of Alabama--Huntsville\n",
       "199                       University of Colorado--Denver\n",
       "205                      University of Alaska--Fairbanks\n",
       "218                                University of Montana\n",
       "221                              Gardner-Webb University\n",
       "Name: Name, dtype: object"
      ]
     },
     "execution_count": 26,
     "metadata": {},
     "output_type": "execute_result"
    }
   ],
   "source": [
    "# how many does that fix?\n",
    "hmm = rankings['Name'][~rankings['Name'].isin(scorecard['INSTNM'])]\n",
    "hmm"
   ]
  },
  {
   "cell_type": "code",
   "execution_count": 27,
   "metadata": {},
   "outputs": [
    {
     "data": {
      "text/plain": [
       "1529    Tulane University of Louisiana\n",
       "Name: INSTNM, dtype: object"
      ]
     },
     "execution_count": 27,
     "metadata": {},
     "output_type": "execute_result"
    }
   ],
   "source": [
    "scorecard['INSTNM'][scorecard['INSTNM'].str.contains('Tulane')]"
   ]
  },
  {
   "cell_type": "code",
   "execution_count": 28,
   "metadata": {},
   "outputs": [],
   "source": [
    "scorecard['INSTNM'].replace({'Tulane University of Louisiana': 'Tulane University'}, inplace=True, regex=True)"
   ]
  },
  {
   "cell_type": "code",
   "execution_count": 29,
   "metadata": {},
   "outputs": [
    {
     "data": {
      "text/plain": [
       "1048              University of Illinois--Chicago\n",
       "1051    University of Illinois--Urbana--Champaign\n",
       "1137          University of Illinois--Springfield\n",
       "Name: INSTNM, dtype: object"
      ]
     },
     "execution_count": 29,
     "metadata": {},
     "output_type": "execute_result"
    }
   ],
   "source": [
    "scorecard['INSTNM'][scorecard['INSTNM'].str.contains('University of Illinois')]"
   ]
  },
  {
   "cell_type": "code",
   "execution_count": 30,
   "metadata": {},
   "outputs": [],
   "source": [
    "scorecard['INSTNM'].replace({'University of Illinois--Urbana--Champaign': 'University of Illinois--Urbana-Champaign'}, inplace=True, regex=True)"
   ]
  },
  {
   "cell_type": "code",
   "execution_count": 31,
   "metadata": {},
   "outputs": [
    {
     "data": {
      "text/plain": [
       "3211         Pennsylvania State University--Dickinson Law\n",
       "3312    Pennsylvania State University--Penn State Erie...\n",
       "3313    Pennsylvania State University--Penn State Grea...\n",
       "3314    Pennsylvania State University--College of Medi...\n",
       "3315    Pennsylvania State University--Penn State New ...\n",
       "3316    Pennsylvania State University--Penn State Shen...\n",
       "3317    Pennsylvania State University--Penn State Wilk...\n",
       "3318    Pennsylvania State University--Penn State Wort...\n",
       "3319    Pennsylvania State University--Penn State Lehi...\n",
       "3320    Pennsylvania State University--Penn State Altoona\n",
       "3321     Pennsylvania State University--Penn State Beaver\n",
       "3322      Pennsylvania State University--Penn State Berks\n",
       "3323    Pennsylvania State University--Penn State Harr...\n",
       "3324    Pennsylvania State University--Penn State Bran...\n",
       "3325     Pennsylvania State University--Penn State DuBois\n",
       "3326    Pennsylvania State University--Penn State Faye...\n",
       "3327    Pennsylvania State University--Penn State Hazl...\n",
       "3328                        Pennsylvania State University\n",
       "3329    Pennsylvania State University--Penn State Grea...\n",
       "3330    Pennsylvania State University--Penn State Mont...\n",
       "3331    Pennsylvania State University--Penn State Abin...\n",
       "3332    Pennsylvania State University--Penn State Schu...\n",
       "3333       Pennsylvania State University--Penn State York\n",
       "6947          Pennsylvania State University--World Campus\n",
       "Name: INSTNM, dtype: object"
      ]
     },
     "execution_count": 31,
     "metadata": {},
     "output_type": "execute_result"
    }
   ],
   "source": [
    "scorecard['INSTNM'][scorecard['INSTNM'].str.contains('Pennsylvania State University')]"
   ]
  },
  {
   "cell_type": "code",
   "execution_count": 32,
   "metadata": {},
   "outputs": [],
   "source": [
    "scorecard['INSTNM'].iloc[3328] = 'Pennsylvania State University--University Park'"
   ]
  },
  {
   "cell_type": "code",
   "execution_count": 33,
   "metadata": {},
   "outputs": [
    {
     "data": {
      "text/plain": [
       "2956    Ohio State University Agricultural Technical I...\n",
       "2957                   Ohio State University--Lima Campus\n",
       "2958              Ohio State University--Mansfield Campus\n",
       "2959                 Ohio State University--Marion Campus\n",
       "2960                 Ohio State University--Newark Campus\n",
       "2965                                Ohio State University\n",
       "Name: INSTNM, dtype: object"
      ]
     },
     "execution_count": 33,
     "metadata": {},
     "output_type": "execute_result"
    }
   ],
   "source": [
    "scorecard['INSTNM'][scorecard['INSTNM'].str.contains('Ohio State University')]"
   ]
  },
  {
   "cell_type": "code",
   "execution_count": 34,
   "metadata": {},
   "outputs": [
    {
     "data": {
      "text/plain": [
       "46              University of Illinois--Urbana-Champaign\n",
       "52        Pennsylvania State University--University Park\n",
       "53                       Ohio State University--Columbus\n",
       "58                           University of Texas--Austin\n",
       "60                     Purdue University--West Lafayette\n",
       "75                 Texas A&M University--College Station\n",
       "85                           Binghamton University--SUNY\n",
       "93                       University of Colorado--Boulder\n",
       "97                          Stony Brook University--SUNY\n",
       "101                          University at Buffalo--SUNY\n",
       "135              Louisiana State University--Baton Rouge\n",
       "149                           University at Albany--SUNY\n",
       "150                          University of Texas--Dallas\n",
       "196    Indiana University-Purdue University--Indianap...\n",
       "198                    University of Alabama--Huntsville\n",
       "199                       University of Colorado--Denver\n",
       "205                      University of Alaska--Fairbanks\n",
       "Name: Name, dtype: object"
      ]
     },
     "execution_count": 34,
     "metadata": {},
     "output_type": "execute_result"
    }
   ],
   "source": [
    "# a lot of the missing names seem to be due to rankings including the name of the \n",
    "# main campus of a university with multiple campuses while scorecard leaves it plain\n",
    "hmm[hmm.str.contains('--')]"
   ]
  },
  {
   "cell_type": "code",
   "execution_count": 35,
   "metadata": {},
   "outputs": [],
   "source": [
    "scorecard['INSTNM'].replace({'Ohio State University':'Ohio State University--Columbus', \n",
    "                            'University of Texas':'University of Texas--Austin',\n",
    "                            'Purdue University':'Purdue University--West Lafayette',\n",
    "                            'University of Maryland':'University of Maryland--College Park',\n",
    "                            'Texas A&M University':'Texas A&M University--College Station',\n",
    "                            'Louisiana State University':'Louisiana State University--Baton Rouge',\n",
    "                            'University of Texas':'University of Texas--Dallas',\n",
    "                            'University of Alabama':'University of Alabama--Huntsville',\n",
    "                            'University of Alaska':'University of Alaska--Fairbanks'}, inplace=True)"
   ]
  },
  {
   "cell_type": "code",
   "execution_count": 36,
   "metadata": {},
   "outputs": [
    {
     "data": {
      "text/plain": [
       "572    University of Colorado Denver/Anschutz Medical...\n",
       "573              University of Colorado Colorado Springs\n",
       "575                       University of Colorado Boulder\n",
       "Name: INSTNM, dtype: object"
      ]
     },
     "execution_count": 36,
     "metadata": {},
     "output_type": "execute_result"
    }
   ],
   "source": [
    "scorecard['INSTNM'][scorecard['INSTNM'].str.contains('University of Colorado')]"
   ]
  },
  {
   "cell_type": "code",
   "execution_count": 37,
   "metadata": {},
   "outputs": [],
   "source": [
    "# I think row 572 is uc denver and just labeled weirdly?\n",
    "# doesn't make sense hwy it wouldn't be in there\n",
    "scorecard['INSTNM'].iloc[572] = 'University of Colorado--Denver'\n",
    "scorecard['INSTNM'].iloc[575] = 'University of Colorado--Boulder'"
   ]
  },
  {
   "cell_type": "code",
   "execution_count": 38,
   "metadata": {},
   "outputs": [
    {
     "data": {
      "text/plain": [
       "85      Binghamton University--SUNY\n",
       "97     Stony Brook University--SUNY\n",
       "101     University at Buffalo--SUNY\n",
       "149      University at Albany--SUNY\n",
       "Name: Name, dtype: object"
      ]
     },
     "execution_count": 38,
     "metadata": {},
     "output_type": "execute_result"
    }
   ],
   "source": [
    "# the SUNYs are messed up\n",
    "hmm[hmm.str.contains('SUNY')]"
   ]
  },
  {
   "cell_type": "code",
   "execution_count": 39,
   "metadata": {},
   "outputs": [
    {
     "data": {
      "text/plain": [
       "2561    Ridley--Lowell Business & Technical Institute-...\n",
       "2600                                     SUNY--Binghamton\n",
       "Name: INSTNM, dtype: object"
      ]
     },
     "execution_count": 39,
     "metadata": {},
     "output_type": "execute_result"
    }
   ],
   "source": [
    "scorecard['INSTNM'][scorecard['INSTNM'].str.contains('Binghamton')]"
   ]
  },
  {
   "cell_type": "code",
   "execution_count": 40,
   "metadata": {},
   "outputs": [],
   "source": [
    "scorecard['INSTNM'].iloc[2600] = rankings['Name'].iloc[85]"
   ]
  },
  {
   "cell_type": "code",
   "execution_count": 41,
   "metadata": {},
   "outputs": [
    {
     "data": {
      "text/plain": [
       "2602    Stony Brook University\n",
       "Name: INSTNM, dtype: object"
      ]
     },
     "execution_count": 41,
     "metadata": {},
     "output_type": "execute_result"
    }
   ],
   "source": [
    "scorecard['INSTNM'][scorecard['INSTNM'].str.contains('Stony Brook')]"
   ]
  },
  {
   "cell_type": "code",
   "execution_count": 42,
   "metadata": {},
   "outputs": [],
   "source": [
    "scorecard['INSTNM'].iloc[2602] = rankings['Name'].iloc[97]"
   ]
  },
  {
   "cell_type": "code",
   "execution_count": 43,
   "metadata": {},
   "outputs": [
    {
     "data": {
      "text/plain": [
       "2389               Bryant & Stratton College--Buffalo\n",
       "2412    Continental School of Beauty Culture--Buffalo\n",
       "2601                              University--Buffalo\n",
       "2606                               SUNY Buffalo State\n",
       "4577     National Tractor Trailer School Inc--Buffalo\n",
       "7256                    Empire Beauty School--Buffalo\n",
       "Name: INSTNM, dtype: object"
      ]
     },
     "execution_count": 43,
     "metadata": {},
     "output_type": "execute_result"
    }
   ],
   "source": [
    "scorecard['INSTNM'][scorecard['INSTNM'].str.contains('Buffalo')]"
   ]
  },
  {
   "cell_type": "code",
   "execution_count": 44,
   "metadata": {},
   "outputs": [],
   "source": [
    "scorecard['INSTNM'].iloc[2606] = rankings['Name'].iloc[101]"
   ]
  },
  {
   "cell_type": "code",
   "execution_count": 45,
   "metadata": {},
   "outputs": [
    {
     "data": {
      "text/plain": [
       "865                          Albany Technical College\n",
       "867                           Albany State University\n",
       "2355                Bryant & Stratton College--Albany\n",
       "2356     Albany College of Pharmacy & Health Sciences\n",
       "2357                                Albany Law School\n",
       "2358                           Albany Medical College\n",
       "2498                          Maria College of Albany\n",
       "2512              Mildred Elley School--Albany Campus\n",
       "2599                                     SUNY--Albany\n",
       "4967    Albany BOCES--Adult Practical Nursing Program\n",
       "5224                  ITT Technical Institute--Albany\n",
       "5859    Branford Hall Career Institute--Albany Campus\n",
       "Name: INSTNM, dtype: object"
      ]
     },
     "execution_count": 45,
     "metadata": {},
     "output_type": "execute_result"
    }
   ],
   "source": [
    "scorecard['INSTNM'][scorecard['INSTNM'].str.contains('Albany')]"
   ]
  },
  {
   "cell_type": "code",
   "execution_count": 46,
   "metadata": {},
   "outputs": [],
   "source": [
    "scorecard['INSTNM'].iloc[2599] = rankings['Name'].iloc[149]"
   ]
  },
  {
   "cell_type": "code",
   "execution_count": 47,
   "metadata": {},
   "outputs": [
    {
     "data": {
      "text/plain": [
       "54                              University of Washington\n",
       "58                           University of Texas--Austin\n",
       "68                              University of Pittsburgh\n",
       "75                 Texas A&M University--College Station\n",
       "77                                         Virginia Tech\n",
       "103                                University of Alabama\n",
       "105                              University of Tennessee\n",
       "109                         University of South Carolina\n",
       "112                               University of Missouri\n",
       "114                               University of Oklahoma\n",
       "123                   The Catholic University of America\n",
       "130                            Colorado State University\n",
       "131                                           New School\n",
       "135              Louisiana State University--Baton Rouge\n",
       "148                              St. John Fisher College\n",
       "150                          University of Texas--Dallas\n",
       "164                    Maryville University of St. Louis\n",
       "166                                St. John's University\n",
       "187                                Kent State University\n",
       "189                                      Pace University\n",
       "196    Indiana University-Purdue University--Indianap...\n",
       "198                    University of Alabama--Huntsville\n",
       "205                      University of Alaska--Fairbanks\n",
       "218                                University of Montana\n",
       "221                              Gardner-Webb University\n",
       "Name: Name, dtype: object"
      ]
     },
     "execution_count": 47,
     "metadata": {},
     "output_type": "execute_result"
    }
   ],
   "source": [
    "# how many does that fix?\n",
    "hmm = rankings['Name'][~rankings['Name'].isin(scorecard['INSTNM'])]\n",
    "hmm"
   ]
  },
  {
   "cell_type": "code",
   "execution_count": 48,
   "metadata": {},
   "outputs": [
    {
     "data": {
      "text/plain": [
       "3754            The University of Texas Rio Grande Valley\n",
       "3755                 The University of Texas--Brownsville\n",
       "3792      University of Texas Southwestern Medical Center\n",
       "3793    The University of Texas Health Science Center-...\n",
       "3794               The University of Texas Medical Branch\n",
       "3799                   The University of Texas--Arlington\n",
       "3800                      The University of Texas--Austin\n",
       "3801                      The University of Texas--Dallas\n",
       "3802                     The University of Texas--El Paso\n",
       "3803                       The University of Texas--Tyler\n",
       "3809         The University of Texas of the Permian Basin\n",
       "3810                 The University of Texas--San Antonio\n",
       "3818    The University of Texas Health Science Center-...\n",
       "4922    The University of Texas MD Anderson Cancer Center\n",
       "Name: INSTNM, dtype: object"
      ]
     },
     "execution_count": 48,
     "metadata": {},
     "output_type": "execute_result"
    }
   ],
   "source": [
    "scorecard['INSTNM'][scorecard['INSTNM'].str.contains('University of Texas')]"
   ]
  },
  {
   "cell_type": "code",
   "execution_count": 49,
   "metadata": {},
   "outputs": [
    {
     "data": {
      "text/plain": [
       "123    The Catholic University of America\n",
       "Name: Name, dtype: object"
      ]
     },
     "execution_count": 49,
     "metadata": {},
     "output_type": "execute_result"
    }
   ],
   "source": [
    "rankings['Name'][rankings['Name'].str.contains('The')]"
   ]
  },
  {
   "cell_type": "code",
   "execution_count": 50,
   "metadata": {},
   "outputs": [],
   "source": [
    "scorecard['INSTNM'].replace({'The University': 'University'}, inplace=True, regex=True)"
   ]
  },
  {
   "cell_type": "code",
   "execution_count": 51,
   "metadata": {},
   "outputs": [
    {
     "data": {
      "text/plain": [
       "54                              University of Washington\n",
       "68                              University of Pittsburgh\n",
       "75                 Texas A&M University--College Station\n",
       "77                                         Virginia Tech\n",
       "105                              University of Tennessee\n",
       "109                         University of South Carolina\n",
       "112                               University of Missouri\n",
       "114                               University of Oklahoma\n",
       "123                   The Catholic University of America\n",
       "130                            Colorado State University\n",
       "131                                           New School\n",
       "135              Louisiana State University--Baton Rouge\n",
       "148                              St. John Fisher College\n",
       "164                    Maryville University of St. Louis\n",
       "166                                St. John's University\n",
       "187                                Kent State University\n",
       "189                                      Pace University\n",
       "196    Indiana University-Purdue University--Indianap...\n",
       "198                    University of Alabama--Huntsville\n",
       "205                      University of Alaska--Fairbanks\n",
       "221                              Gardner-Webb University\n",
       "Name: Name, dtype: object"
      ]
     },
     "execution_count": 51,
     "metadata": {},
     "output_type": "execute_result"
    }
   ],
   "source": [
    "# how many does that fix?\n",
    "hmm = rankings['Name'][~rankings['Name'].isin(scorecard['INSTNM'])]\n",
    "hmm"
   ]
  },
  {
   "cell_type": "code",
   "execution_count": 64,
   "metadata": {},
   "outputs": [
    {
     "data": {
      "text/plain": [
       "4047    University of Washington--Seattle Campus\n",
       "4627    University of Washington--Bothell Campus\n",
       "4628     University of Washington--Tacoma Campus\n",
       "Name: INSTNM, dtype: object"
      ]
     },
     "execution_count": 64,
     "metadata": {},
     "output_type": "execute_result"
    }
   ],
   "source": [
    "scorecard['INSTNM'][scorecard['INSTNM'].str.contains('University of Washington')]"
   ]
  },
  {
   "cell_type": "code",
   "execution_count": 76,
   "metadata": {},
   "outputs": [],
   "source": [
    "# and some of the rankings universities don't include the main campus\n",
    "# where scorecard does\n",
    "scorecard['INSTNM'].iloc[4047] = rankings['Name'].iloc[54]"
   ]
  },
  {
   "cell_type": "code",
   "execution_count": 77,
   "metadata": {},
   "outputs": [
    {
     "data": {
      "text/plain": [
       "3350                   University of Pittsburgh--Bradford\n",
       "3351                 University of Pittsburgh--Greensburg\n",
       "3352                  University of Pittsburgh--Johnstown\n",
       "3353                             University of Pittsburgh\n",
       "3354                 University of Pittsburgh--Titusville\n",
       "3380    University of Pittsburgh Medical Center--Shady...\n",
       "Name: INSTNM, dtype: object"
      ]
     },
     "execution_count": 77,
     "metadata": {},
     "output_type": "execute_result"
    }
   ],
   "source": [
    "scorecard['INSTNM'][scorecard['INSTNM'].str.contains('University of Pittsburgh')]"
   ]
  },
  {
   "cell_type": "code",
   "execution_count": 52,
   "metadata": {},
   "outputs": [],
   "source": [
    "scorecard['INSTNM'].iloc[3353] = rankings['Name'].iloc[68]"
   ]
  },
  {
   "cell_type": "code",
   "execution_count": 56,
   "metadata": {},
   "outputs": [
    {
     "data": {
      "text/plain": [
       "0                           Alabama A & M University\n",
       "1524             Southern University & A & M College\n",
       "3670          Texas A & M University--Corpus Christi\n",
       "3681               Texas A & M University--Texarkana\n",
       "3682                Texas A & M University--Commerce\n",
       "3721            Texas A & M International University\n",
       "3759                   Prairie View A & M University\n",
       "3797              Texas A & M University--Kingsville\n",
       "3798         Texas A & M University--College Station\n",
       "3831                     West Texas A & M University\n",
       "7525    Texas A & M University Health Science Center\n",
       "Name: INSTNM, dtype: object"
      ]
     },
     "execution_count": 56,
     "metadata": {},
     "output_type": "execute_result"
    }
   ],
   "source": [
    "scorecard['INSTNM'][scorecard['INSTNM'].str.contains('A & M')]"
   ]
  },
  {
   "cell_type": "code",
   "execution_count": 57,
   "metadata": {},
   "outputs": [],
   "source": [
    "scorecard['INSTNM'].replace({'A & M': 'A&M'}, inplace=True, regex=True)"
   ]
  },
  {
   "cell_type": "code",
   "execution_count": 60,
   "metadata": {},
   "outputs": [
    {
     "data": {
      "text/plain": [
       "3965    Virginia Polytechnic Institute & State University\n",
       "Name: INSTNM, dtype: object"
      ]
     },
     "execution_count": 60,
     "metadata": {},
     "output_type": "execute_result"
    }
   ],
   "source": [
    "scorecard['INSTNM'][scorecard['INSTNM'].str.contains('Virginia Poly')]"
   ]
  },
  {
   "cell_type": "code",
   "execution_count": 61,
   "metadata": {},
   "outputs": [],
   "source": [
    "scorecard['INSTNM'].iloc[3965] = rankings['Name'].iloc[77]"
   ]
  },
  {
   "cell_type": "code",
   "execution_count": 64,
   "metadata": {},
   "outputs": [
    {
     "data": {
      "text/plain": [
       "3621    University of Tennessee--Chattanooga\n",
       "3622      University of Tennessee--Knoxville\n",
       "3623         University of Tennessee--Martin\n",
       "Name: INSTNM, dtype: object"
      ]
     },
     "execution_count": 64,
     "metadata": {},
     "output_type": "execute_result"
    }
   ],
   "source": [
    "scorecard['INSTNM'][scorecard['INSTNM'].str.contains('University of Tennessee')]"
   ]
  },
  {
   "cell_type": "code",
   "execution_count": 65,
   "metadata": {},
   "outputs": [],
   "source": [
    "scorecard['INSTNM'].iloc[3622] = rankings['Name'].iloc[105]"
   ]
  },
  {
   "cell_type": "code",
   "execution_count": 66,
   "metadata": {},
   "outputs": [
    {
     "data": {
      "text/plain": [
       "3476          Medical University of South Carolina\n",
       "3484           University of South Carolina--Aiken\n",
       "3485        University of South Carolina--Beaufort\n",
       "3486        University of South Carolina--Columbia\n",
       "3487       University of South Carolina--Lancaster\n",
       "3488    University of South Carolina--Salkehatchie\n",
       "3489          University of South Carolina--Sumter\n",
       "3490           University of South Carolina--Union\n",
       "3493         University of South Carolina--Upstate\n",
       "Name: INSTNM, dtype: object"
      ]
     },
     "execution_count": 66,
     "metadata": {},
     "output_type": "execute_result"
    }
   ],
   "source": [
    "scorecard['INSTNM'][scorecard['INSTNM'].str.contains('University of South Carolina')]"
   ]
  },
  {
   "cell_type": "code",
   "execution_count": 67,
   "metadata": {},
   "outputs": [],
   "source": [
    "scorecard['INSTNM'].iloc[3486] = rankings['Name'].iloc[109]"
   ]
  },
  {
   "cell_type": "code",
   "execution_count": 69,
   "metadata": {},
   "outputs": [
    {
     "data": {
      "text/plain": [
       "2074       University of Missouri--Columbia\n",
       "2075    University of Missouri--Kansas City\n",
       "2077      University of Missouri--St. Louis\n",
       "Name: INSTNM, dtype: object"
      ]
     },
     "execution_count": 69,
     "metadata": {},
     "output_type": "execute_result"
    }
   ],
   "source": [
    "scorecard['INSTNM'][scorecard['INSTNM'].str.contains('University of Missouri')]"
   ]
  },
  {
   "cell_type": "code",
   "execution_count": 70,
   "metadata": {},
   "outputs": [],
   "source": [
    "scorecard['INSTNM'].iloc[2074] = rankings['Name'].iloc[112]"
   ]
  },
  {
   "cell_type": "code",
   "execution_count": 71,
   "metadata": {},
   "outputs": [
    {
     "data": {
      "text/plain": [
       "3060    University of Oklahoma--Health Sciences Center\n",
       "3067             University of Oklahoma--Norman Campus\n",
       "Name: INSTNM, dtype: object"
      ]
     },
     "execution_count": 71,
     "metadata": {},
     "output_type": "execute_result"
    }
   ],
   "source": [
    "scorecard['INSTNM'][scorecard['INSTNM'].str.contains('University of Oklahoma')]"
   ]
  },
  {
   "cell_type": "code",
   "execution_count": 72,
   "metadata": {},
   "outputs": [],
   "source": [
    "scorecard['INSTNM'].iloc[3067] = rankings['Name'].iloc[114]"
   ]
  },
  {
   "cell_type": "code",
   "execution_count": 73,
   "metadata": {},
   "outputs": [
    {
     "data": {
      "text/plain": [
       "698                        Catholic University of America\n",
       "1006                  Catholic Theological Union--Chicago\n",
       "2208                           Northeast Catholic College\n",
       "4197    Pontifical Catholic University of Puerto Rico-...\n",
       "4198    Pontifical Catholic University of Puerto Rico-...\n",
       "4255    Pontifical Catholic University of Puerto Rico-...\n",
       "5561    Byzantine Catholic Seminary of Saints Cyril & ...\n",
       "6699              John Paul the Great Catholic University\n",
       "Name: INSTNM, dtype: object"
      ]
     },
     "execution_count": 73,
     "metadata": {},
     "output_type": "execute_result"
    }
   ],
   "source": [
    "scorecard['INSTNM'][scorecard['INSTNM'].str.contains('Catholic')]"
   ]
  },
  {
   "cell_type": "code",
   "execution_count": 74,
   "metadata": {},
   "outputs": [],
   "source": [
    "scorecard['INSTNM'].iloc[698] = rankings['Name'].iloc[123]"
   ]
  },
  {
   "cell_type": "code",
   "execution_count": 78,
   "metadata": {},
   "outputs": [
    {
     "data": {
      "text/plain": [
       "130                            Colorado State University\n",
       "131                                           New School\n",
       "135              Louisiana State University--Baton Rouge\n",
       "148                              St. John Fisher College\n",
       "164                    Maryville University of St. Louis\n",
       "166                                St. John's University\n",
       "187                                Kent State University\n",
       "189                                      Pace University\n",
       "196    Indiana University-Purdue University--Indianap...\n",
       "198                    University of Alabama--Huntsville\n",
       "205                      University of Alaska--Fairbanks\n",
       "221                              Gardner-Webb University\n",
       "Name: Name, dtype: object"
      ]
     },
     "execution_count": 78,
     "metadata": {},
     "output_type": "execute_result"
    }
   ],
   "source": [
    "# just to see it easier\n",
    "hmm = rankings['Name'][~rankings['Name'].isin(scorecard['INSTNM'])]\n",
    "hmm"
   ]
  },
  {
   "cell_type": "code",
   "execution_count": 79,
   "metadata": {},
   "outputs": [
    {
     "data": {
      "text/plain": [
       "584      Colorado State University--Fort Collins\n",
       "622            Colorado State University--Pueblo\n",
       "6913    Colorado State University--Global Campus\n",
       "Name: INSTNM, dtype: object"
      ]
     },
     "execution_count": 79,
     "metadata": {},
     "output_type": "execute_result"
    }
   ],
   "source": [
    "scorecard['INSTNM'][scorecard['INSTNM'].str.contains('Colorado State')]"
   ]
  },
  {
   "cell_type": "code",
   "execution_count": 80,
   "metadata": {},
   "outputs": [],
   "source": [
    "scorecard['INSTNM'].iloc[584] = rankings['Name'].iloc[130]"
   ]
  },
  {
   "cell_type": "code",
   "execution_count": 81,
   "metadata": {},
   "outputs": [
    {
     "data": {
      "text/plain": [
       "2526                      The New School\n",
       "2527    New School of Radio & Television\n",
       "Name: INSTNM, dtype: object"
      ]
     },
     "execution_count": 81,
     "metadata": {},
     "output_type": "execute_result"
    }
   ],
   "source": [
    "scorecard['INSTNM'][scorecard['INSTNM'].str.contains('New School')]"
   ]
  },
  {
   "cell_type": "code",
   "execution_count": 82,
   "metadata": {},
   "outputs": [],
   "source": [
    "scorecard['INSTNM'].iloc[2526] = rankings['Name'].iloc[131]"
   ]
  },
  {
   "cell_type": "code",
   "execution_count": 83,
   "metadata": {},
   "outputs": [
    {
     "data": {
      "text/plain": [
       "1490    Louisiana State University Health Sciences Cen...\n",
       "1491               Louisiana State University--Alexandria\n",
       "1492    Louisiana State University & Agricultural & Me...\n",
       "1493                   Louisiana State University--Eunice\n",
       "1494               Louisiana State University--Shreveport\n",
       "5237    Louisiana State University Health Sciences Cen...\n",
       "Name: INSTNM, dtype: object"
      ]
     },
     "execution_count": 83,
     "metadata": {},
     "output_type": "execute_result"
    }
   ],
   "source": [
    "scorecard['INSTNM'][scorecard['INSTNM'].str.contains('Louisiana State')]"
   ]
  },
  {
   "cell_type": "code",
   "execution_count": 90,
   "metadata": {},
   "outputs": [
    {
     "data": {
      "text/plain": [
       "1492    Louisiana State University--Baton Rouge\n",
       "Name: INSTNM, dtype: object"
      ]
     },
     "execution_count": 90,
     "metadata": {},
     "output_type": "execute_result"
    }
   ],
   "source": [
    "scorecard['INSTNM'][scorecard['INSTNM'].str.contains('Louisiana State') & scorecard['CITY'].str.contains('Baton Rouge')]"
   ]
  },
  {
   "cell_type": "code",
   "execution_count": 87,
   "metadata": {},
   "outputs": [],
   "source": [
    "scorecard['INSTNM'].iloc[1492] = rankings['Name'].iloc[135]"
   ]
  },
  {
   "cell_type": "code",
   "execution_count": 93,
   "metadata": {},
   "outputs": [
    {
     "data": {
      "text/plain": [
       "2586    Saint John Fisher College\n",
       "Name: INSTNM, dtype: object"
      ]
     },
     "execution_count": 93,
     "metadata": {},
     "output_type": "execute_result"
    }
   ],
   "source": [
    "scorecard['INSTNM'][scorecard['INSTNM'].str.contains('John Fisher')]"
   ]
  },
  {
   "cell_type": "code",
   "execution_count": 94,
   "metadata": {},
   "outputs": [],
   "source": [
    "scorecard['INSTNM'].replace({'Saint': 'St.'}, inplace=True, regex=True)"
   ]
  },
  {
   "cell_type": "code",
   "execution_count": 96,
   "metadata": {},
   "outputs": [
    {
     "data": {
      "text/plain": [
       "2904         Kent State University--Ashtabula\n",
       "2905    Kent State University--East Liverpool\n",
       "2906             Kent State University--Stark\n",
       "2907          Kent State University--Trumbull\n",
       "2908        Kent State University--Tuscarawas\n",
       "2909             Kent State University--Salem\n",
       "2910              Kent State University--Kent\n",
       "2911            Kent State University--Geauga\n",
       "Name: INSTNM, dtype: object"
      ]
     },
     "execution_count": 96,
     "metadata": {},
     "output_type": "execute_result"
    }
   ],
   "source": [
    "scorecard['INSTNM'][scorecard['INSTNM'].str.contains('Kent State')]"
   ]
  },
  {
   "cell_type": "code",
   "execution_count": 97,
   "metadata": {},
   "outputs": [],
   "source": [
    "scorecard['INSTNM'].iloc[2910] = rankings['Name'].iloc[187]"
   ]
  },
  {
   "cell_type": "code",
   "execution_count": 98,
   "metadata": {},
   "outputs": [
    {
     "data": {
      "text/plain": [
       "2547    Pace University--New York\n",
       "Name: INSTNM, dtype: object"
      ]
     },
     "execution_count": 98,
     "metadata": {},
     "output_type": "execute_result"
    }
   ],
   "source": [
    "scorecard['INSTNM'][scorecard['INSTNM'].str.contains('Pace University')]"
   ]
  },
  {
   "cell_type": "code",
   "execution_count": 99,
   "metadata": {},
   "outputs": [],
   "source": [
    "scorecard['INSTNM'].iloc[2547] = rankings['Name'].iloc[189]"
   ]
  },
  {
   "cell_type": "code",
   "execution_count": 102,
   "metadata": {},
   "outputs": [
    {
     "data": {
      "text/plain": [
       "1192    Indiana University--Purdue University--Fort Wayne\n",
       "1193    Indiana University--Purdue University--Indiana...\n",
       "1199                           Indiana University--Kokomo\n",
       "1200                       Indiana University--South Bend\n",
       "1201                      Indiana University--Bloomington\n",
       "1202                        Indiana University--Northwest\n",
       "1203                        Indiana University--Southeast\n",
       "1204                             Indiana University--East\n",
       "3255                   Indiana University of Pennsylvania\n",
       "Name: INSTNM, dtype: object"
      ]
     },
     "execution_count": 102,
     "metadata": {},
     "output_type": "execute_result"
    }
   ],
   "source": [
    "scorecard['INSTNM'][scorecard['INSTNM'].str.contains('Indiana University')]"
   ]
  },
  {
   "cell_type": "code",
   "execution_count": 103,
   "metadata": {},
   "outputs": [],
   "source": [
    "scorecard['INSTNM'].iloc[1193] = rankings['Name'].iloc[196]"
   ]
  },
  {
   "cell_type": "code",
   "execution_count": 104,
   "metadata": {},
   "outputs": [
    {
     "data": {
      "text/plain": [
       "1      University of Alabama--Birmingham\n",
       "3    University of Alabama in Huntsville\n",
       "5                  University of Alabama\n",
       "Name: INSTNM, dtype: object"
      ]
     },
     "execution_count": 104,
     "metadata": {},
     "output_type": "execute_result"
    }
   ],
   "source": [
    "scorecard['INSTNM'][scorecard['INSTNM'].str.contains('University of Alabama')]"
   ]
  },
  {
   "cell_type": "code",
   "execution_count": 105,
   "metadata": {},
   "outputs": [],
   "source": [
    "scorecard['INSTNM'].iloc[3] = rankings['Name'].iloc[198]"
   ]
  },
  {
   "cell_type": "code",
   "execution_count": 106,
   "metadata": {},
   "outputs": [
    {
     "data": {
      "text/plain": [
       "60    University of Alaska Anchorage\n",
       "62    University of Alaska Fairbanks\n",
       "63    University of Alaska Southeast\n",
       "Name: INSTNM, dtype: object"
      ]
     },
     "execution_count": 106,
     "metadata": {},
     "output_type": "execute_result"
    }
   ],
   "source": [
    "scorecard['INSTNM'][scorecard['INSTNM'].str.contains('University of Alaska')]"
   ]
  },
  {
   "cell_type": "code",
   "execution_count": 107,
   "metadata": {},
   "outputs": [],
   "source": [
    "scorecard['INSTNM'].iloc[62] = rankings['Name'].iloc[205]"
   ]
  },
  {
   "cell_type": "code",
   "execution_count": 108,
   "metadata": {},
   "outputs": [
    {
     "data": {
      "text/plain": [
       "2701    Gardner--Webb University\n",
       "Name: INSTNM, dtype: object"
      ]
     },
     "execution_count": 108,
     "metadata": {},
     "output_type": "execute_result"
    }
   ],
   "source": [
    "scorecard['INSTNM'][scorecard['INSTNM'].str.contains('Gardner--Webb')]"
   ]
  },
  {
   "cell_type": "code",
   "execution_count": 109,
   "metadata": {},
   "outputs": [],
   "source": [
    "scorecard['INSTNM'].iloc[2701] = rankings['Name'].iloc[221]"
   ]
  },
  {
   "cell_type": "code",
   "execution_count": 110,
   "metadata": {},
   "outputs": [
    {
     "data": {
      "text/plain": [
       "96     Saint Louis University\n",
       "166     St. John's University\n",
       "Name: Name, dtype: object"
      ]
     },
     "execution_count": 110,
     "metadata": {},
     "output_type": "execute_result"
    }
   ],
   "source": [
    "# did i get them all?\n",
    "hmm = rankings['Name'][~rankings['Name'].isin(scorecard['INSTNM'])]\n",
    "hmm"
   ]
  },
  {
   "cell_type": "code",
   "execution_count": 114,
   "metadata": {},
   "outputs": [
    {
     "data": {
      "text/plain": [
       "2095    St. Louis University\n",
       "Name: INSTNM, dtype: object"
      ]
     },
     "execution_count": 114,
     "metadata": {},
     "output_type": "execute_result"
    }
   ],
   "source": [
    "scorecard['INSTNM'][scorecard['INSTNM'].str.contains('St. Louis University')]"
   ]
  },
  {
   "cell_type": "code",
   "execution_count": 115,
   "metadata": {},
   "outputs": [],
   "source": [
    "scorecard['INSTNM'].iloc[2095] = rankings['Name'].iloc[96]"
   ]
  },
  {
   "cell_type": "code",
   "execution_count": 117,
   "metadata": {},
   "outputs": [
    {
     "data": {
      "text/plain": [
       "2589    St. John's University--New York\n",
       "Name: INSTNM, dtype: object"
      ]
     },
     "execution_count": 117,
     "metadata": {},
     "output_type": "execute_result"
    }
   ],
   "source": [
    "scorecard['INSTNM'][scorecard['INSTNM'].str.contains('St. John\\'s University')]"
   ]
  },
  {
   "cell_type": "code",
   "execution_count": 118,
   "metadata": {},
   "outputs": [],
   "source": [
    "scorecard['INSTNM'].iloc[2589] = rankings['Name'].iloc[166]"
   ]
  },
  {
   "cell_type": "code",
   "execution_count": 119,
   "metadata": {},
   "outputs": [
    {
     "data": {
      "text/plain": [
       "Series([], Name: Name, dtype: object)"
      ]
     },
     "execution_count": 119,
     "metadata": {},
     "output_type": "execute_result"
    }
   ],
   "source": [
    "# this time?\n",
    "hmm = rankings['Name'][~rankings['Name'].isin(scorecard['INSTNM'])]\n",
    "hmm"
   ]
  },
  {
   "cell_type": "code",
   "execution_count": 120,
   "metadata": {},
   "outputs": [],
   "source": [
    "# yaaaay\n",
    "scorecard.to_csv('scorecard.csv')"
   ]
  },
  {
   "cell_type": "code",
   "execution_count": null,
   "metadata": {},
   "outputs": [],
   "source": []
  }
 ],
 "metadata": {
  "kernelspec": {
   "display_name": "Python 3",
   "language": "python",
   "name": "python3"
  },
  "language_info": {
   "codemirror_mode": {
    "name": "ipython",
    "version": 3
   },
   "file_extension": ".py",
   "mimetype": "text/x-python",
   "name": "python",
   "nbconvert_exporter": "python",
   "pygments_lexer": "ipython3",
   "version": "3.7.3"
  }
 },
 "nbformat": 4,
 "nbformat_minor": 4
}
