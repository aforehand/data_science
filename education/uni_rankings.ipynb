{
 "cells": [
  {
   "cell_type": "markdown",
   "metadata": {},
   "source": [
    "# To what extent do university rankings on US news correlate with other data about these insitutuions?"
   ]
  },
  {
   "cell_type": "markdown",
   "metadata": {},
   "source": [
    "### scorecard data from 2016: https://data.world/education/college-scorecard\n",
    "### rankings data from 2017: https://data.world/education/university-rankings-2017"
   ]
  },
  {
   "cell_type": "code",
   "execution_count": 1,
   "metadata": {},
   "outputs": [],
   "source": [
    "import pandas as pd\n",
    "import numpy as np"
   ]
  },
  {
   "cell_type": "code",
   "execution_count": 2,
   "metadata": {},
   "outputs": [],
   "source": [
    "import sys\n",
    "sys.path.append('/Users/alice/Code/data_science/pandas_helper')\n",
    "import df_info"
   ]
  },
  {
   "cell_type": "code",
   "execution_count": 3,
   "metadata": {},
   "outputs": [],
   "source": [
    "scorecard = pd.read_csv('scorecard.csv', index_col=0)\n",
    "rankings = pd.read_csv('us_news_university_rankings.csv', encoding='ISO-8859-1')\n",
    "top_scorecard = scorecard[scorecard['INSTNM'].isin(rankings['Name'])]"
   ]
  },
  {
   "cell_type": "code",
   "execution_count": 4,
   "metadata": {},
   "outputs": [
    {
     "name": "stderr",
     "output_type": "stream",
     "text": [
      "/Users/alice/.local/share/virtualenvs/education-YQATvGOP/lib/python3.7/site-packages/pandas/core/frame.py:4133: SettingWithCopyWarning: \n",
      "A value is trying to be set on a copy of a slice from a DataFrame\n",
      "\n",
      "See the caveats in the documentation: https://pandas.pydata.org/pandas-docs/stable/user_guide/indexing.html#returning-a-view-versus-a-copy\n",
      "  errors=errors,\n"
     ]
    }
   ],
   "source": [
    "top_scorecard.rename(columns={'INSTNM': 'Name'}, inplace=True)"
   ]
  },
  {
   "cell_type": "code",
   "execution_count": 5,
   "metadata": {},
   "outputs": [],
   "source": [
    "# combine both tables into one\n",
    "uni_df = rankings.merge(top_scorecard, on='Name')"
   ]
  },
  {
   "cell_type": "code",
   "execution_count": 6,
   "metadata": {},
   "outputs": [],
   "source": [
    "target = uni_df['Rank']\n",
    "description = uni_df['Description']\n",
    "city = uni_df['CITY']\n",
    "uni_df.drop(['Rank', 'Description', 'CITY'], axis=1, inplace=True)"
   ]
  },
  {
   "cell_type": "code",
   "execution_count": 7,
   "metadata": {},
   "outputs": [
    {
     "data": {
      "text/html": [
       "<div>\n",
       "<style scoped>\n",
       "    .dataframe tbody tr th:only-of-type {\n",
       "        vertical-align: middle;\n",
       "    }\n",
       "\n",
       "    .dataframe tbody tr th {\n",
       "        vertical-align: top;\n",
       "    }\n",
       "\n",
       "    .dataframe thead th {\n",
       "        text-align: right;\n",
       "    }\n",
       "</style>\n",
       "<table border=\"1\" class=\"dataframe\">\n",
       "  <thead>\n",
       "    <tr style=\"text-align: right;\">\n",
       "      <th></th>\n",
       "      <th>Name</th>\n",
       "      <th>Location</th>\n",
       "      <th>Tuition and fees</th>\n",
       "      <th>In-state</th>\n",
       "      <th>Undergrad Enrollment</th>\n",
       "      <th>UNITID</th>\n",
       "      <th>OPEID</th>\n",
       "      <th>OPEID6</th>\n",
       "      <th>STABBR</th>\n",
       "      <th>INSTURL</th>\n",
       "      <th>...</th>\n",
       "      <th>RET_PTL4</th>\n",
       "      <th>PCTFLOAN</th>\n",
       "      <th>UG25ABV</th>\n",
       "      <th>MD_EARN_WNE_P10</th>\n",
       "      <th>GT_25K_P6</th>\n",
       "      <th>GRAD_DEBT_MDN_SUPP</th>\n",
       "      <th>GRAD_DEBT_MDN10YR_SUPP</th>\n",
       "      <th>RPY_3YR_RT_SUPP</th>\n",
       "      <th>C150_L4_POOLED_SUPP</th>\n",
       "      <th>C150_4_POOLED_SUPP</th>\n",
       "    </tr>\n",
       "  </thead>\n",
       "  <tbody>\n",
       "    <tr>\n",
       "      <th>0</th>\n",
       "      <td>Princeton University</td>\n",
       "      <td>Princeton, NJ</td>\n",
       "      <td>$45,320</td>\n",
       "      <td>NaN</td>\n",
       "      <td>5,402</td>\n",
       "      <td>186131</td>\n",
       "      <td>262700</td>\n",
       "      <td>2627</td>\n",
       "      <td>NJ</td>\n",
       "      <td>www.princeton.edu</td>\n",
       "      <td>...</td>\n",
       "      <td>nan</td>\n",
       "      <td>0.05</td>\n",
       "      <td>0.00</td>\n",
       "      <td>77900</td>\n",
       "      <td>0.792</td>\n",
       "      <td>7500</td>\n",
       "      <td>76.9718280616645</td>\n",
       "      <td>0.8198757764</td>\n",
       "      <td>NaN</td>\n",
       "      <td>0.9686</td>\n",
       "    </tr>\n",
       "    <tr>\n",
       "      <th>1</th>\n",
       "      <td>Harvard University</td>\n",
       "      <td>Cambridge, MA</td>\n",
       "      <td>$47,074</td>\n",
       "      <td>NaN</td>\n",
       "      <td>6,699</td>\n",
       "      <td>166027</td>\n",
       "      <td>215500</td>\n",
       "      <td>2155</td>\n",
       "      <td>MA</td>\n",
       "      <td>www.harvard.edu</td>\n",
       "      <td>...</td>\n",
       "      <td>nan</td>\n",
       "      <td>0.04</td>\n",
       "      <td>0.23</td>\n",
       "      <td>95500</td>\n",
       "      <td>0.858</td>\n",
       "      <td>6500</td>\n",
       "      <td>66.7089176534426</td>\n",
       "      <td>0.6598639456</td>\n",
       "      <td>NaN</td>\n",
       "      <td>0.97494992453969</td>\n",
       "    </tr>\n",
       "    <tr>\n",
       "      <th>2</th>\n",
       "      <td>University of Chicago</td>\n",
       "      <td>Chicago, IL</td>\n",
       "      <td>$52,491</td>\n",
       "      <td>NaN</td>\n",
       "      <td>5,844</td>\n",
       "      <td>144050</td>\n",
       "      <td>177400</td>\n",
       "      <td>1774</td>\n",
       "      <td>IL</td>\n",
       "      <td>WWW.UCHICAGO.EDU</td>\n",
       "      <td>...</td>\n",
       "      <td>nan</td>\n",
       "      <td>0.27</td>\n",
       "      <td>0.00</td>\n",
       "      <td>64000</td>\n",
       "      <td>0.822</td>\n",
       "      <td>12500</td>\n",
       "      <td>128.286380102774</td>\n",
       "      <td>0.8679245283</td>\n",
       "      <td>NaN</td>\n",
       "      <td>0.92780345754898</td>\n",
       "    </tr>\n",
       "    <tr>\n",
       "      <th>3</th>\n",
       "      <td>Yale University</td>\n",
       "      <td>New Haven, CT</td>\n",
       "      <td>$49,480</td>\n",
       "      <td>NaN</td>\n",
       "      <td>5,532</td>\n",
       "      <td>130794</td>\n",
       "      <td>142600</td>\n",
       "      <td>1426</td>\n",
       "      <td>CT</td>\n",
       "      <td>www.yale.edu</td>\n",
       "      <td>...</td>\n",
       "      <td>nan</td>\n",
       "      <td>0.09</td>\n",
       "      <td>0.01</td>\n",
       "      <td>74200</td>\n",
       "      <td>0.822</td>\n",
       "      <td>13774</td>\n",
       "      <td>141.361327962849</td>\n",
       "      <td>0.8765432099</td>\n",
       "      <td>NaN</td>\n",
       "      <td>0.96994092810954</td>\n",
       "    </tr>\n",
       "    <tr>\n",
       "      <th>4</th>\n",
       "      <td>Columbia University</td>\n",
       "      <td>New York, NY</td>\n",
       "      <td>$55,056</td>\n",
       "      <td>NaN</td>\n",
       "      <td>6,102</td>\n",
       "      <td>190150</td>\n",
       "      <td>270700</td>\n",
       "      <td>2707</td>\n",
       "      <td>NY</td>\n",
       "      <td>www.columbia.edu</td>\n",
       "      <td>...</td>\n",
       "      <td>nan</td>\n",
       "      <td>0.26</td>\n",
       "      <td>0.17</td>\n",
       "      <td>75200</td>\n",
       "      <td>0.835</td>\n",
       "      <td>23000</td>\n",
       "      <td>236.046939389104</td>\n",
       "      <td>0.7725366876</td>\n",
       "      <td>NaN</td>\n",
       "      <td>0.93990765027322</td>\n",
       "    </tr>\n",
       "  </tbody>\n",
       "</table>\n",
       "<p>5 rows × 125 columns</p>\n",
       "</div>"
      ],
      "text/plain": [
       "                    Name       Location Tuition and fees In-state  \\\n",
       "0   Princeton University  Princeton, NJ         $45,320       NaN   \n",
       "1     Harvard University  Cambridge, MA         $47,074       NaN   \n",
       "2  University of Chicago    Chicago, IL         $52,491       NaN   \n",
       "3        Yale University  New Haven, CT         $49,480       NaN   \n",
       "4    Columbia University   New York, NY         $55,056       NaN   \n",
       "\n",
       "  Undergrad Enrollment  UNITID   OPEID  OPEID6 STABBR            INSTURL  ...  \\\n",
       "0                5,402  186131  262700    2627     NJ  www.princeton.edu  ...   \n",
       "1                6,699  166027  215500    2155     MA    www.harvard.edu  ...   \n",
       "2                5,844  144050  177400    1774     IL   WWW.UCHICAGO.EDU  ...   \n",
       "3                5,532  130794  142600    1426     CT       www.yale.edu  ...   \n",
       "4                6,102  190150  270700    2707     NY   www.columbia.edu  ...   \n",
       "\n",
       "  RET_PTL4  PCTFLOAN  UG25ABV  MD_EARN_WNE_P10  GT_25K_P6  GRAD_DEBT_MDN_SUPP  \\\n",
       "0      nan      0.05     0.00            77900      0.792                7500   \n",
       "1      nan      0.04     0.23            95500      0.858                6500   \n",
       "2      nan      0.27     0.00            64000      0.822               12500   \n",
       "3      nan      0.09     0.01            74200      0.822               13774   \n",
       "4      nan      0.26     0.17            75200      0.835               23000   \n",
       "\n",
       "   GRAD_DEBT_MDN10YR_SUPP  RPY_3YR_RT_SUPP  C150_L4_POOLED_SUPP  \\\n",
       "0        76.9718280616645     0.8198757764                  NaN   \n",
       "1        66.7089176534426     0.6598639456                  NaN   \n",
       "2        128.286380102774     0.8679245283                  NaN   \n",
       "3        141.361327962849     0.8765432099                  NaN   \n",
       "4        236.046939389104     0.7725366876                  NaN   \n",
       "\n",
       "   C150_4_POOLED_SUPP  \n",
       "0              0.9686  \n",
       "1    0.97494992453969  \n",
       "2    0.92780345754898  \n",
       "3    0.96994092810954  \n",
       "4    0.93990765027322  \n",
       "\n",
       "[5 rows x 125 columns]"
      ]
     },
     "execution_count": 7,
     "metadata": {},
     "output_type": "execute_result"
    }
   ],
   "source": [
    "uni_df.head()"
   ]
  },
  {
   "cell_type": "markdown",
   "metadata": {},
   "source": [
    "## removing nulls"
   ]
  },
  {
   "cell_type": "code",
   "execution_count": 8,
   "metadata": {},
   "outputs": [],
   "source": [
    "# scorecard already has location info\n",
    "uni_df.drop(labels='Location', axis=1, inplace=True)\n",
    "uni_df['In-state'].fillna(uni_df['Tuition and fees'], inplace=True)"
   ]
  },
  {
   "cell_type": "code",
   "execution_count": 9,
   "metadata": {},
   "outputs": [],
   "source": [
    "# drop any all-null columns\n",
    "uni_df = uni_df[uni_df.columns[~uni_df.isnull().all()]]"
   ]
  },
  {
   "cell_type": "code",
   "execution_count": 10,
   "metadata": {},
   "outputs": [],
   "source": [
    "null_cols = df_info.get_nulls(uni_df)"
   ]
  },
  {
   "cell_type": "code",
   "execution_count": 11,
   "metadata": {},
   "outputs": [
    {
     "data": {
      "text/html": [
       "<div>\n",
       "<style scoped>\n",
       "    .dataframe tbody tr th:only-of-type {\n",
       "        vertical-align: middle;\n",
       "    }\n",
       "\n",
       "    .dataframe tbody tr th {\n",
       "        vertical-align: top;\n",
       "    }\n",
       "\n",
       "    .dataframe thead th {\n",
       "        text-align: right;\n",
       "    }\n",
       "</style>\n",
       "<table border=\"1\" class=\"dataframe\">\n",
       "  <thead>\n",
       "    <tr style=\"text-align: right;\">\n",
       "      <th></th>\n",
       "      <th>total</th>\n",
       "      <th>percent</th>\n",
       "    </tr>\n",
       "  </thead>\n",
       "  <tbody>\n",
       "    <tr>\n",
       "      <th>ACTWR25</th>\n",
       "      <td>153</td>\n",
       "      <td>65.95</td>\n",
       "    </tr>\n",
       "    <tr>\n",
       "      <th>ACTWR75</th>\n",
       "      <td>153</td>\n",
       "      <td>65.95</td>\n",
       "    </tr>\n",
       "    <tr>\n",
       "      <th>ACTWRMID</th>\n",
       "      <td>153</td>\n",
       "      <td>65.95</td>\n",
       "    </tr>\n",
       "    <tr>\n",
       "      <th>NPT4_PRIV</th>\n",
       "      <td>133</td>\n",
       "      <td>57.33</td>\n",
       "    </tr>\n",
       "    <tr>\n",
       "      <th>NPT42_PRIV</th>\n",
       "      <td>133</td>\n",
       "      <td>57.33</td>\n",
       "    </tr>\n",
       "    <tr>\n",
       "      <th>NPT41_PRIV</th>\n",
       "      <td>133</td>\n",
       "      <td>57.33</td>\n",
       "    </tr>\n",
       "    <tr>\n",
       "      <th>NPT45_PRIV</th>\n",
       "      <td>133</td>\n",
       "      <td>57.33</td>\n",
       "    </tr>\n",
       "    <tr>\n",
       "      <th>NPT44_PRIV</th>\n",
       "      <td>133</td>\n",
       "      <td>57.33</td>\n",
       "    </tr>\n",
       "    <tr>\n",
       "      <th>NPT43_PRIV</th>\n",
       "      <td>133</td>\n",
       "      <td>57.33</td>\n",
       "    </tr>\n",
       "    <tr>\n",
       "      <th>NPT4_PUB</th>\n",
       "      <td>99</td>\n",
       "      <td>42.67</td>\n",
       "    </tr>\n",
       "    <tr>\n",
       "      <th>NPT41_PUB</th>\n",
       "      <td>99</td>\n",
       "      <td>42.67</td>\n",
       "    </tr>\n",
       "    <tr>\n",
       "      <th>NPT42_PUB</th>\n",
       "      <td>99</td>\n",
       "      <td>42.67</td>\n",
       "    </tr>\n",
       "    <tr>\n",
       "      <th>NPT43_PUB</th>\n",
       "      <td>99</td>\n",
       "      <td>42.67</td>\n",
       "    </tr>\n",
       "    <tr>\n",
       "      <th>NPT44_PUB</th>\n",
       "      <td>99</td>\n",
       "      <td>42.67</td>\n",
       "    </tr>\n",
       "    <tr>\n",
       "      <th>NPT45_PUB</th>\n",
       "      <td>99</td>\n",
       "      <td>42.67</td>\n",
       "    </tr>\n",
       "    <tr>\n",
       "      <th>SATWRMID</th>\n",
       "      <td>87</td>\n",
       "      <td>37.50</td>\n",
       "    </tr>\n",
       "    <tr>\n",
       "      <th>SATWR75</th>\n",
       "      <td>87</td>\n",
       "      <td>37.50</td>\n",
       "    </tr>\n",
       "    <tr>\n",
       "      <th>SATWR25</th>\n",
       "      <td>87</td>\n",
       "      <td>37.50</td>\n",
       "    </tr>\n",
       "    <tr>\n",
       "      <th>ACTEN25</th>\n",
       "      <td>47</td>\n",
       "      <td>20.26</td>\n",
       "    </tr>\n",
       "    <tr>\n",
       "      <th>ACTEN75</th>\n",
       "      <td>47</td>\n",
       "      <td>20.26</td>\n",
       "    </tr>\n",
       "    <tr>\n",
       "      <th>ACTENMID</th>\n",
       "      <td>47</td>\n",
       "      <td>20.26</td>\n",
       "    </tr>\n",
       "    <tr>\n",
       "      <th>RET_PT4</th>\n",
       "      <td>47</td>\n",
       "      <td>20.26</td>\n",
       "    </tr>\n",
       "    <tr>\n",
       "      <th>ACTMTMID</th>\n",
       "      <td>46</td>\n",
       "      <td>19.83</td>\n",
       "    </tr>\n",
       "    <tr>\n",
       "      <th>ACTMT75</th>\n",
       "      <td>46</td>\n",
       "      <td>19.83</td>\n",
       "    </tr>\n",
       "    <tr>\n",
       "      <th>ACTMT25</th>\n",
       "      <td>46</td>\n",
       "      <td>19.83</td>\n",
       "    </tr>\n",
       "    <tr>\n",
       "      <th>ACTCM25</th>\n",
       "      <td>14</td>\n",
       "      <td>6.03</td>\n",
       "    </tr>\n",
       "    <tr>\n",
       "      <th>ACTCMMID</th>\n",
       "      <td>14</td>\n",
       "      <td>6.03</td>\n",
       "    </tr>\n",
       "    <tr>\n",
       "      <th>ACTCM75</th>\n",
       "      <td>14</td>\n",
       "      <td>6.03</td>\n",
       "    </tr>\n",
       "    <tr>\n",
       "      <th>SATVRMID</th>\n",
       "      <td>13</td>\n",
       "      <td>5.60</td>\n",
       "    </tr>\n",
       "    <tr>\n",
       "      <th>SATVR25</th>\n",
       "      <td>13</td>\n",
       "      <td>5.60</td>\n",
       "    </tr>\n",
       "    <tr>\n",
       "      <th>SATVR75</th>\n",
       "      <td>13</td>\n",
       "      <td>5.60</td>\n",
       "    </tr>\n",
       "    <tr>\n",
       "      <th>SATMT25</th>\n",
       "      <td>12</td>\n",
       "      <td>5.17</td>\n",
       "    </tr>\n",
       "    <tr>\n",
       "      <th>SATMTMID</th>\n",
       "      <td>12</td>\n",
       "      <td>5.17</td>\n",
       "    </tr>\n",
       "    <tr>\n",
       "      <th>SATMT75</th>\n",
       "      <td>12</td>\n",
       "      <td>5.17</td>\n",
       "    </tr>\n",
       "    <tr>\n",
       "      <th>SAT_AVG</th>\n",
       "      <td>8</td>\n",
       "      <td>3.45</td>\n",
       "    </tr>\n",
       "    <tr>\n",
       "      <th>SAT_AVG_ALL</th>\n",
       "      <td>8</td>\n",
       "      <td>3.45</td>\n",
       "    </tr>\n",
       "  </tbody>\n",
       "</table>\n",
       "</div>"
      ],
      "text/plain": [
       "             total  percent\n",
       "ACTWR25        153    65.95\n",
       "ACTWR75        153    65.95\n",
       "ACTWRMID       153    65.95\n",
       "NPT4_PRIV      133    57.33\n",
       "NPT42_PRIV     133    57.33\n",
       "NPT41_PRIV     133    57.33\n",
       "NPT45_PRIV     133    57.33\n",
       "NPT44_PRIV     133    57.33\n",
       "NPT43_PRIV     133    57.33\n",
       "NPT4_PUB        99    42.67\n",
       "NPT41_PUB       99    42.67\n",
       "NPT42_PUB       99    42.67\n",
       "NPT43_PUB       99    42.67\n",
       "NPT44_PUB       99    42.67\n",
       "NPT45_PUB       99    42.67\n",
       "SATWRMID        87    37.50\n",
       "SATWR75         87    37.50\n",
       "SATWR25         87    37.50\n",
       "ACTEN25         47    20.26\n",
       "ACTEN75         47    20.26\n",
       "ACTENMID        47    20.26\n",
       "RET_PT4         47    20.26\n",
       "ACTMTMID        46    19.83\n",
       "ACTMT75         46    19.83\n",
       "ACTMT25         46    19.83\n",
       "ACTCM25         14     6.03\n",
       "ACTCMMID        14     6.03\n",
       "ACTCM75         14     6.03\n",
       "SATVRMID        13     5.60\n",
       "SATVR25         13     5.60\n",
       "SATVR75         13     5.60\n",
       "SATMT25         12     5.17\n",
       "SATMTMID        12     5.17\n",
       "SATMT75         12     5.17\n",
       "SAT_AVG          8     3.45\n",
       "SAT_AVG_ALL      8     3.45"
      ]
     },
     "execution_count": 11,
     "metadata": {},
     "output_type": "execute_result"
    }
   ],
   "source": [
    "null_cols[null_cols['percent'] > 0]"
   ]
  },
  {
   "cell_type": "code",
   "execution_count": 12,
   "metadata": {},
   "outputs": [],
   "source": [
    "# drop first 3 cols, combine npt priv and pub columns\n",
    "uni_df.drop(labels=['ACTWR25','ACTWR75','ACTWRMID'], axis=1, inplace=True)"
   ]
  },
  {
   "cell_type": "code",
   "execution_count": 13,
   "metadata": {},
   "outputs": [],
   "source": [
    "uni_df.drop(labels=['SATWR25','SATWR75','SATWRMID'], axis=1, inplace=True)"
   ]
  },
  {
   "cell_type": "code",
   "execution_count": 14,
   "metadata": {},
   "outputs": [],
   "source": [
    "# combining private and public columns to remove nulls\n",
    "npt4 = uni_df['NPT4_PRIV']\n",
    "npt4.fillna(uni_df['NPT4_PUB'], inplace=True)\n",
    "for e in [4,41,42,43,44,45]:\n",
    "    col = f'NPT{e}'\n",
    "    uni_df[col] = uni_df[col+'_PRIV']\n",
    "    uni_df[col].fillna(uni_df[col+'_PUB'], inplace=True)"
   ]
  },
  {
   "cell_type": "code",
   "execution_count": 15,
   "metadata": {},
   "outputs": [],
   "source": [
    "for e in [4,41,42,43,44,45]:\n",
    "    col = f'NPT{e}'\n",
    "    uni_df.drop(labels=[col+'_PRIV', col+'_PUB'], axis=1, inplace=True)"
   ]
  },
  {
   "cell_type": "code",
   "execution_count": 16,
   "metadata": {},
   "outputs": [],
   "source": [
    "# for each missing ACT/SAT measure fill in with median\n",
    "sat_act = [col for col in uni_df.columns if 'SAT' in col or 'ACT' in col]"
   ]
  },
  {
   "cell_type": "code",
   "execution_count": 17,
   "metadata": {},
   "outputs": [],
   "source": [
    "for col in sat_act:\n",
    "    uni_df[col].fillna(uni_df[col].median(), inplace=True)"
   ]
  },
  {
   "cell_type": "code",
   "execution_count": 18,
   "metadata": {},
   "outputs": [
    {
     "data": {
      "text/html": [
       "<div>\n",
       "<style scoped>\n",
       "    .dataframe tbody tr th:only-of-type {\n",
       "        vertical-align: middle;\n",
       "    }\n",
       "\n",
       "    .dataframe tbody tr th {\n",
       "        vertical-align: top;\n",
       "    }\n",
       "\n",
       "    .dataframe thead th {\n",
       "        text-align: right;\n",
       "    }\n",
       "</style>\n",
       "<table border=\"1\" class=\"dataframe\">\n",
       "  <thead>\n",
       "    <tr style=\"text-align: right;\">\n",
       "      <th></th>\n",
       "      <th>total</th>\n",
       "      <th>percent</th>\n",
       "    </tr>\n",
       "  </thead>\n",
       "  <tbody>\n",
       "    <tr>\n",
       "      <th>RET_PT4</th>\n",
       "      <td>47</td>\n",
       "      <td>20.26</td>\n",
       "    </tr>\n",
       "  </tbody>\n",
       "</table>\n",
       "</div>"
      ],
      "text/plain": [
       "         total  percent\n",
       "RET_PT4     47    20.26"
      ]
     },
     "execution_count": 18,
     "metadata": {},
     "output_type": "execute_result"
    }
   ],
   "source": [
    "null_cols = df_info.get_nulls(uni_df)\n",
    "null_cols[null_cols['percent'] > 0]"
   ]
  },
  {
   "cell_type": "code",
   "execution_count": 19,
   "metadata": {},
   "outputs": [
    {
     "data": {
      "text/html": [
       "<div>\n",
       "<style scoped>\n",
       "    .dataframe tbody tr th:only-of-type {\n",
       "        vertical-align: middle;\n",
       "    }\n",
       "\n",
       "    .dataframe tbody tr th {\n",
       "        vertical-align: top;\n",
       "    }\n",
       "\n",
       "    .dataframe thead th {\n",
       "        text-align: right;\n",
       "    }\n",
       "</style>\n",
       "<table border=\"1\" class=\"dataframe\">\n",
       "  <thead>\n",
       "    <tr style=\"text-align: right;\">\n",
       "      <th></th>\n",
       "      <th>Name</th>\n",
       "      <th>PPTUG_EF</th>\n",
       "    </tr>\n",
       "  </thead>\n",
       "  <tbody>\n",
       "    <tr>\n",
       "      <th>0</th>\n",
       "      <td>Princeton University</td>\n",
       "      <td>0.00</td>\n",
       "    </tr>\n",
       "    <tr>\n",
       "      <th>1</th>\n",
       "      <td>Harvard University</td>\n",
       "      <td>0.05</td>\n",
       "    </tr>\n",
       "    <tr>\n",
       "      <th>2</th>\n",
       "      <td>University of Chicago</td>\n",
       "      <td>0.01</td>\n",
       "    </tr>\n",
       "    <tr>\n",
       "      <th>3</th>\n",
       "      <td>Yale University</td>\n",
       "      <td>0.00</td>\n",
       "    </tr>\n",
       "    <tr>\n",
       "      <th>5</th>\n",
       "      <td>Stanford University</td>\n",
       "      <td>0.00</td>\n",
       "    </tr>\n",
       "    <tr>\n",
       "      <th>6</th>\n",
       "      <td>Massachusetts Institute of Technology</td>\n",
       "      <td>0.01</td>\n",
       "    </tr>\n",
       "    <tr>\n",
       "      <th>7</th>\n",
       "      <td>Duke University</td>\n",
       "      <td>0.00</td>\n",
       "    </tr>\n",
       "    <tr>\n",
       "      <th>9</th>\n",
       "      <td>Johns Hopkins University</td>\n",
       "      <td>0.01</td>\n",
       "    </tr>\n",
       "    <tr>\n",
       "      <th>10</th>\n",
       "      <td>Dartmouth College</td>\n",
       "      <td>0.00</td>\n",
       "    </tr>\n",
       "    <tr>\n",
       "      <th>11</th>\n",
       "      <td>California Institute of Technology</td>\n",
       "      <td>0.00</td>\n",
       "    </tr>\n",
       "    <tr>\n",
       "      <th>12</th>\n",
       "      <td>Northwestern University</td>\n",
       "      <td>0.04</td>\n",
       "    </tr>\n",
       "    <tr>\n",
       "      <th>13</th>\n",
       "      <td>Brown University</td>\n",
       "      <td>0.00</td>\n",
       "    </tr>\n",
       "    <tr>\n",
       "      <th>14</th>\n",
       "      <td>Cornell University</td>\n",
       "      <td>0.00</td>\n",
       "    </tr>\n",
       "    <tr>\n",
       "      <th>15</th>\n",
       "      <td>Rice University</td>\n",
       "      <td>0.01</td>\n",
       "    </tr>\n",
       "    <tr>\n",
       "      <th>16</th>\n",
       "      <td>University of Notre Dame</td>\n",
       "      <td>0.00</td>\n",
       "    </tr>\n",
       "    <tr>\n",
       "      <th>17</th>\n",
       "      <td>Vanderbilt University</td>\n",
       "      <td>0.01</td>\n",
       "    </tr>\n",
       "    <tr>\n",
       "      <th>19</th>\n",
       "      <td>Emory University</td>\n",
       "      <td>0.01</td>\n",
       "    </tr>\n",
       "    <tr>\n",
       "      <th>23</th>\n",
       "      <td>Carnegie Mellon University</td>\n",
       "      <td>0.02</td>\n",
       "    </tr>\n",
       "    <tr>\n",
       "      <th>26</th>\n",
       "      <td>Tufts University</td>\n",
       "      <td>0.01</td>\n",
       "    </tr>\n",
       "    <tr>\n",
       "      <th>28</th>\n",
       "      <td>Wake Forest University</td>\n",
       "      <td>0.01</td>\n",
       "    </tr>\n",
       "    <tr>\n",
       "      <th>31</th>\n",
       "      <td>College of William &amp; Mary</td>\n",
       "      <td>0.01</td>\n",
       "    </tr>\n",
       "    <tr>\n",
       "      <th>32</th>\n",
       "      <td>University of Rochester</td>\n",
       "      <td>0.03</td>\n",
       "    </tr>\n",
       "    <tr>\n",
       "      <th>33</th>\n",
       "      <td>Brandeis University</td>\n",
       "      <td>0.00</td>\n",
       "    </tr>\n",
       "    <tr>\n",
       "      <th>36</th>\n",
       "      <td>Case Western Reserve University</td>\n",
       "      <td>0.01</td>\n",
       "    </tr>\n",
       "    <tr>\n",
       "      <th>38</th>\n",
       "      <td>Boston University</td>\n",
       "      <td>0.02</td>\n",
       "    </tr>\n",
       "    <tr>\n",
       "      <th>39</th>\n",
       "      <td>Northeastern University</td>\n",
       "      <td>0.00</td>\n",
       "    </tr>\n",
       "    <tr>\n",
       "      <th>40</th>\n",
       "      <td>Rensselaer Polytechnic Institute</td>\n",
       "      <td>0.00</td>\n",
       "    </tr>\n",
       "    <tr>\n",
       "      <th>41</th>\n",
       "      <td>Tulane University</td>\n",
       "      <td>0.21</td>\n",
       "    </tr>\n",
       "    <tr>\n",
       "      <th>43</th>\n",
       "      <td>Lehigh University</td>\n",
       "      <td>0.01</td>\n",
       "    </tr>\n",
       "    <tr>\n",
       "      <th>64</th>\n",
       "      <td>Worcester Polytechnic Institute</td>\n",
       "      <td>0.02</td>\n",
       "    </tr>\n",
       "    <tr>\n",
       "      <th>71</th>\n",
       "      <td>Stevens Institute of Technology</td>\n",
       "      <td>0.00</td>\n",
       "    </tr>\n",
       "    <tr>\n",
       "      <th>81</th>\n",
       "      <td>Colorado School of Mines</td>\n",
       "      <td>0.04</td>\n",
       "    </tr>\n",
       "    <tr>\n",
       "      <th>88</th>\n",
       "      <td>University of Denver</td>\n",
       "      <td>0.06</td>\n",
       "    </tr>\n",
       "    <tr>\n",
       "      <th>89</th>\n",
       "      <td>University of San Diego</td>\n",
       "      <td>0.03</td>\n",
       "    </tr>\n",
       "    <tr>\n",
       "      <th>96</th>\n",
       "      <td>Saint Louis University</td>\n",
       "      <td>0.10</td>\n",
       "    </tr>\n",
       "    <tr>\n",
       "      <th>100</th>\n",
       "      <td>SUNY College of Environmental Science and Fore...</td>\n",
       "      <td>0.03</td>\n",
       "    </tr>\n",
       "    <tr>\n",
       "      <th>102</th>\n",
       "      <td>Illinois Institute of Technology</td>\n",
       "      <td>0.04</td>\n",
       "    </tr>\n",
       "    <tr>\n",
       "      <th>107</th>\n",
       "      <td>University of New Hampshire</td>\n",
       "      <td>0.02</td>\n",
       "    </tr>\n",
       "    <tr>\n",
       "      <th>115</th>\n",
       "      <td>University of the Pacific</td>\n",
       "      <td>0.02</td>\n",
       "    </tr>\n",
       "    <tr>\n",
       "      <th>122</th>\n",
       "      <td>University of St. Thomas</td>\n",
       "      <td>0.03</td>\n",
       "    </tr>\n",
       "    <tr>\n",
       "      <th>130</th>\n",
       "      <td>Clarkson University</td>\n",
       "      <td>0.00</td>\n",
       "    </tr>\n",
       "    <tr>\n",
       "      <th>149</th>\n",
       "      <td>St. John Fisher College</td>\n",
       "      <td>0.06</td>\n",
       "    </tr>\n",
       "    <tr>\n",
       "      <th>164</th>\n",
       "      <td>Biola University</td>\n",
       "      <td>0.02</td>\n",
       "    </tr>\n",
       "    <tr>\n",
       "      <th>171</th>\n",
       "      <td>Edgewood College</td>\n",
       "      <td>0.13</td>\n",
       "    </tr>\n",
       "    <tr>\n",
       "      <th>183</th>\n",
       "      <td>Andrews University</td>\n",
       "      <td>0.08</td>\n",
       "    </tr>\n",
       "    <tr>\n",
       "      <th>222</th>\n",
       "      <td>Gardner-Webb University</td>\n",
       "      <td>0.21</td>\n",
       "    </tr>\n",
       "    <tr>\n",
       "      <th>224</th>\n",
       "      <td>Shenandoah University</td>\n",
       "      <td>0.03</td>\n",
       "    </tr>\n",
       "  </tbody>\n",
       "</table>\n",
       "</div>"
      ],
      "text/plain": [
       "                                                  Name  PPTUG_EF\n",
       "0                                 Princeton University      0.00\n",
       "1                                   Harvard University      0.05\n",
       "2                                University of Chicago      0.01\n",
       "3                                      Yale University      0.00\n",
       "5                                  Stanford University      0.00\n",
       "6                Massachusetts Institute of Technology      0.01\n",
       "7                                      Duke University      0.00\n",
       "9                             Johns Hopkins University      0.01\n",
       "10                                   Dartmouth College      0.00\n",
       "11                  California Institute of Technology      0.00\n",
       "12                             Northwestern University      0.04\n",
       "13                                    Brown University      0.00\n",
       "14                                  Cornell University      0.00\n",
       "15                                     Rice University      0.01\n",
       "16                            University of Notre Dame      0.00\n",
       "17                               Vanderbilt University      0.01\n",
       "19                                    Emory University      0.01\n",
       "23                          Carnegie Mellon University      0.02\n",
       "26                                    Tufts University      0.01\n",
       "28                              Wake Forest University      0.01\n",
       "31                           College of William & Mary      0.01\n",
       "32                             University of Rochester      0.03\n",
       "33                                 Brandeis University      0.00\n",
       "36                     Case Western Reserve University      0.01\n",
       "38                                   Boston University      0.02\n",
       "39                             Northeastern University      0.00\n",
       "40                    Rensselaer Polytechnic Institute      0.00\n",
       "41                                   Tulane University      0.21\n",
       "43                                   Lehigh University      0.01\n",
       "64                     Worcester Polytechnic Institute      0.02\n",
       "71                     Stevens Institute of Technology      0.00\n",
       "81                            Colorado School of Mines      0.04\n",
       "88                                University of Denver      0.06\n",
       "89                             University of San Diego      0.03\n",
       "96                              Saint Louis University      0.10\n",
       "100  SUNY College of Environmental Science and Fore...      0.03\n",
       "102                   Illinois Institute of Technology      0.04\n",
       "107                        University of New Hampshire      0.02\n",
       "115                          University of the Pacific      0.02\n",
       "122                           University of St. Thomas      0.03\n",
       "130                                Clarkson University      0.00\n",
       "149                            St. John Fisher College      0.06\n",
       "164                                   Biola University      0.02\n",
       "171                                   Edgewood College      0.13\n",
       "183                                 Andrews University      0.08\n",
       "222                            Gardner-Webb University      0.21\n",
       "224                              Shenandoah University      0.03"
      ]
     },
     "execution_count": 19,
     "metadata": {},
     "output_type": "execute_result"
    }
   ],
   "source": [
    "# do schools with nulls have part time students?\n",
    "uni_df[['Name','PPTUG_EF']][uni_df['RET_PT4'].isnull()]"
   ]
  },
  {
   "cell_type": "code",
   "execution_count": 20,
   "metadata": {},
   "outputs": [
    {
     "data": {
      "text/html": [
       "<div>\n",
       "<style scoped>\n",
       "    .dataframe tbody tr th:only-of-type {\n",
       "        vertical-align: middle;\n",
       "    }\n",
       "\n",
       "    .dataframe tbody tr th {\n",
       "        vertical-align: top;\n",
       "    }\n",
       "\n",
       "    .dataframe thead th {\n",
       "        text-align: right;\n",
       "    }\n",
       "</style>\n",
       "<table border=\"1\" class=\"dataframe\">\n",
       "  <thead>\n",
       "    <tr style=\"text-align: right;\">\n",
       "      <th></th>\n",
       "      <th>Name</th>\n",
       "      <th>PPTUG_EF</th>\n",
       "    </tr>\n",
       "  </thead>\n",
       "  <tbody>\n",
       "    <tr>\n",
       "      <th>20</th>\n",
       "      <td>Georgetown University</td>\n",
       "      <td>0.03</td>\n",
       "    </tr>\n",
       "    <tr>\n",
       "      <th>87</th>\n",
       "      <td>Marquette University</td>\n",
       "      <td>0.02</td>\n",
       "    </tr>\n",
       "    <tr>\n",
       "      <th>97</th>\n",
       "      <td>Stony Brook University--SUNY</td>\n",
       "      <td>0.06</td>\n",
       "    </tr>\n",
       "    <tr>\n",
       "      <th>117</th>\n",
       "      <td>Michigan Technological University</td>\n",
       "      <td>0.06</td>\n",
       "    </tr>\n",
       "    <tr>\n",
       "      <th>125</th>\n",
       "      <td>DePaul University</td>\n",
       "      <td>0.14</td>\n",
       "    </tr>\n",
       "    <tr>\n",
       "      <th>153</th>\n",
       "      <td>Immaculata University</td>\n",
       "      <td>0.45</td>\n",
       "    </tr>\n",
       "    <tr>\n",
       "      <th>177</th>\n",
       "      <td>Lipscomb University</td>\n",
       "      <td>0.10</td>\n",
       "    </tr>\n",
       "  </tbody>\n",
       "</table>\n",
       "</div>"
      ],
      "text/plain": [
       "                                  Name  PPTUG_EF\n",
       "20               Georgetown University      0.03\n",
       "87                Marquette University      0.02\n",
       "97        Stony Brook University--SUNY      0.06\n",
       "117  Michigan Technological University      0.06\n",
       "125                  DePaul University      0.14\n",
       "153              Immaculata University      0.45\n",
       "177                Lipscomb University      0.10"
      ]
     },
     "execution_count": 20,
     "metadata": {},
     "output_type": "execute_result"
    }
   ],
   "source": [
    "# do schools with 0 have part time students?\n",
    "uni_df[['Name','PPTUG_EF']][uni_df['RET_PT4']==0]"
   ]
  },
  {
   "cell_type": "code",
   "execution_count": 21,
   "metadata": {},
   "outputs": [
    {
     "data": {
      "text/plain": [
       "count   185.00\n",
       "mean      0.59\n",
       "std       0.24\n",
       "min       0.00\n",
       "25%       0.45\n",
       "50%       0.60\n",
       "75%       0.75\n",
       "max       1.00\n",
       "Name: RET_PT4, dtype: float64"
      ]
     },
     "execution_count": 21,
     "metadata": {},
     "output_type": "execute_result"
    }
   ],
   "source": [
    "uni_df['RET_PT4'].describe()"
   ]
  },
  {
   "cell_type": "code",
   "execution_count": 22,
   "metadata": {},
   "outputs": [],
   "source": [
    "# filling in part time nulls with full time - median difference (0.24)\n",
    "uni_df['RET_PT4'].fillna(uni_df['RET_PT4'].median(), inplace=True)"
   ]
  },
  {
   "cell_type": "markdown",
   "metadata": {},
   "source": [
    "## get and fix dtypes"
   ]
  },
  {
   "cell_type": "code",
   "execution_count": 23,
   "metadata": {},
   "outputs": [
    {
     "name": "stderr",
     "output_type": "stream",
     "text": [
      "/Users/alice/Code/data_science/pandas_helper/df_info.py:14: FutureWarning: Conversion of the second argument of issubdtype from `object` to `np.generic` is deprecated. In future, it will be treated as `np.object_ == np.dtype(object).type`.\n",
      "  cat_cols = [col for col in df.columns if np.issubdtype(df[col].dtype, np.object) and col not in num_cols]\n"
     ]
    }
   ],
   "source": [
    "num_cols,cat_cols = df_info.get_num_cat_cols(uni_df)"
   ]
  },
  {
   "cell_type": "code",
   "execution_count": 24,
   "metadata": {},
   "outputs": [],
   "source": [
    "cat_cols = [col for col in cat_cols if col not in num_cols]"
   ]
  },
  {
   "cell_type": "code",
   "execution_count": 25,
   "metadata": {},
   "outputs": [
    {
     "data": {
      "text/plain": [
       "['Name',\n",
       " 'Tuition and fees',\n",
       " 'In-state',\n",
       " 'Undergrad Enrollment',\n",
       " 'STABBR',\n",
       " 'INSTURL',\n",
       " 'NPCURL',\n",
       " 'MD_EARN_WNE_P10',\n",
       " 'GT_25K_P6',\n",
       " 'GRAD_DEBT_MDN_SUPP',\n",
       " 'GRAD_DEBT_MDN10YR_SUPP',\n",
       " 'RPY_3YR_RT_SUPP',\n",
       " 'C150_4_POOLED_SUPP']"
      ]
     },
     "execution_count": 25,
     "metadata": {},
     "output_type": "execute_result"
    }
   ],
   "source": [
    "cat_cols"
   ]
  },
  {
   "cell_type": "code",
   "execution_count": 26,
   "metadata": {},
   "outputs": [
    {
     "data": {
      "text/plain": [
       "0    $45,320 \n",
       "1    $47,074 \n",
       "2    $52,491 \n",
       "3    $49,480 \n",
       "4    $55,056 \n",
       "Name: Tuition and fees, dtype: object"
      ]
     },
     "execution_count": 26,
     "metadata": {},
     "output_type": "execute_result"
    }
   ],
   "source": [
    "uni_df['Tuition and fees'].head()"
   ]
  },
  {
   "cell_type": "code",
   "execution_count": 27,
   "metadata": {},
   "outputs": [],
   "source": [
    "uni_df['Tuition and fees'].replace({'\\$':'', ',':''}, inplace=True, regex=True)"
   ]
  },
  {
   "cell_type": "code",
   "execution_count": 28,
   "metadata": {},
   "outputs": [],
   "source": [
    "uni_df['Tuition and fees'] = uni_df['Tuition and fees'].astype(int)"
   ]
  },
  {
   "cell_type": "code",
   "execution_count": 29,
   "metadata": {},
   "outputs": [
    {
     "data": {
      "text/plain": [
       "0    5,402\n",
       "1    6,699\n",
       "2    5,844\n",
       "3    5,532\n",
       "4    6,102\n",
       "Name: Undergrad Enrollment, dtype: object"
      ]
     },
     "execution_count": 29,
     "metadata": {},
     "output_type": "execute_result"
    }
   ],
   "source": [
    "uni_df['Undergrad Enrollment'].head()"
   ]
  },
  {
   "cell_type": "code",
   "execution_count": 30,
   "metadata": {},
   "outputs": [],
   "source": [
    "uni_df['Undergrad Enrollment'].replace({',':''}, inplace=True, regex=True)\n",
    "uni_df['Undergrad Enrollment'] = uni_df['Undergrad Enrollment'].astype(int)"
   ]
  },
  {
   "cell_type": "code",
   "execution_count": 31,
   "metadata": {},
   "outputs": [],
   "source": [
    "uni_df.drop(labels=['INSTURL', 'NPCURL'], axis=1, inplace=True)"
   ]
  },
  {
   "cell_type": "code",
   "execution_count": 32,
   "metadata": {},
   "outputs": [],
   "source": [
    "uni_df['MD_EARN_WNE_P10'].replace({'\\$':'', ',':''}, inplace=True, regex=True)"
   ]
  },
  {
   "cell_type": "code",
   "execution_count": 33,
   "metadata": {},
   "outputs": [],
   "source": [
    "priv_cols = [col for col in uni_df.columns if uni_df[col].isin(['PrivacySuppressed']).any()]"
   ]
  },
  {
   "cell_type": "code",
   "execution_count": 34,
   "metadata": {},
   "outputs": [],
   "source": [
    "for col in priv_cols:\n",
    "    med = uni_df[col][uni_df[col]!='PrivacySuppressed'].astype(float).median()\n",
    "    uni_df[col].replace({'PrivacySuppressed': med}, inplace=True, regex=True)\n",
    "    uni_df[col] = uni_df[col].astype(float)"
   ]
  },
  {
   "cell_type": "code",
   "execution_count": 35,
   "metadata": {},
   "outputs": [
    {
     "data": {
      "text/plain": [
       "['Name', 'In-state', 'STABBR', 'C150_4_POOLED_SUPP']"
      ]
     },
     "execution_count": 35,
     "metadata": {},
     "output_type": "execute_result"
    }
   ],
   "source": [
    "# what cat cols remain\n",
    "num_cols,cat_cols = df_info.get_num_cat_cols(uni_df)\n",
    "cat_cols = [col for col in cat_cols if col not in num_cols]\n",
    "cat_cols"
   ]
  },
  {
   "cell_type": "code",
   "execution_count": 36,
   "metadata": {},
   "outputs": [],
   "source": [
    "uni_df['C150_4_POOLED_SUPP'] = uni_df['C150_4_POOLED_SUPP'].astype(float)"
   ]
  },
  {
   "cell_type": "code",
   "execution_count": 37,
   "metadata": {},
   "outputs": [
    {
     "data": {
      "text/plain": [
       "0    $45,320 \n",
       "1    $47,074 \n",
       "2    $52,491 \n",
       "3    $49,480 \n",
       "4    $55,056 \n",
       "Name: In-state, dtype: object"
      ]
     },
     "execution_count": 37,
     "metadata": {},
     "output_type": "execute_result"
    }
   ],
   "source": [
    "uni_df['In-state'].head()"
   ]
  },
  {
   "cell_type": "code",
   "execution_count": 38,
   "metadata": {},
   "outputs": [],
   "source": [
    "uni_df['In-state'].replace({'\\$':'', ',':''}, inplace=True, regex=True)"
   ]
  },
  {
   "cell_type": "markdown",
   "metadata": {},
   "source": [
    "## drop useless and correlated columns"
   ]
  },
  {
   "cell_type": "code",
   "execution_count": 39,
   "metadata": {},
   "outputs": [],
   "source": [
    "# ST_FIPS has the same info\n",
    "uni_df.drop(labels='STABBR', axis=1, inplace=True)"
   ]
  },
  {
   "cell_type": "code",
   "execution_count": 40,
   "metadata": {},
   "outputs": [],
   "source": [
    "Names = uni_df['Name']"
   ]
  },
  {
   "cell_type": "code",
   "execution_count": 41,
   "metadata": {},
   "outputs": [],
   "source": [
    "uni_df.drop(['Name', 'UNITID', 'OPEID', 'OPEID6'], axis=1, inplace=True)"
   ]
  },
  {
   "cell_type": "code",
   "execution_count": 42,
   "metadata": {},
   "outputs": [],
   "source": [
    "# drop columns with only one value\n",
    "to_drop = [col for col in uni_df.columns if len(uni_df[col].unique())==1]"
   ]
  },
  {
   "cell_type": "code",
   "execution_count": 43,
   "metadata": {},
   "outputs": [],
   "source": [
    "uni_df.drop(to_drop, axis=1, inplace=True)"
   ]
  },
  {
   "cell_type": "code",
   "execution_count": 44,
   "metadata": {},
   "outputs": [],
   "source": [
    "may_drop = [col for col in uni_df.columns if len(uni_df[col].unique())==2 \n",
    "            and (uni_df[col].value_counts() < 10).any()]"
   ]
  },
  {
   "cell_type": "code",
   "execution_count": 45,
   "metadata": {},
   "outputs": [
    {
     "name": "stdout",
     "output_type": "stream",
     "text": [
      "0.00    231\n",
      "1.00      1\n",
      "Name: HBCU, dtype: int64\n",
      "0.00    230\n",
      "1.00      2\n",
      "Name: ANNHI, dtype: int64\n",
      "0.00    230\n",
      "1.00      2\n",
      "Name: NANTI, dtype: int64\n",
      "0.00    231\n",
      "0.00      1\n",
      "Name: PCIP25, dtype: int64\n"
     ]
    }
   ],
   "source": [
    "for col in may_drop:\n",
    "    print(uni_df[col].value_counts())"
   ]
  },
  {
   "cell_type": "code",
   "execution_count": 46,
   "metadata": {},
   "outputs": [],
   "source": [
    "# that's few enough to drop\n",
    "uni_df.drop(may_drop, axis=1, inplace=True)"
   ]
  },
  {
   "cell_type": "code",
   "execution_count": 47,
   "metadata": {},
   "outputs": [
    {
     "data": {
      "text/plain": [
       "Index(['Tuition and fees', 'In-state', 'Undergrad Enrollment', 'CONTROL',\n",
       "       'LOCALE', 'AANAPII', 'HSI', 'RELAFFIL', 'SATVR25', 'SATVR75', 'SATMT25',\n",
       "       'SATMT75', 'SATVRMID', 'SATMTMID', 'ACTCM25', 'ACTCM75', 'ACTEN25',\n",
       "       'ACTEN75', 'ACTMT25', 'ACTMT75', 'ACTCMMID', 'ACTENMID', 'ACTMTMID',\n",
       "       'SAT_AVG', 'SAT_AVG_ALL', 'PCIP01', 'PCIP03', 'PCIP04', 'PCIP05',\n",
       "       'PCIP09', 'PCIP10', 'PCIP11', 'PCIP12', 'PCIP13', 'PCIP14', 'PCIP15',\n",
       "       'PCIP16', 'PCIP19', 'PCIP22', 'PCIP23', 'PCIP24', 'PCIP26', 'PCIP27',\n",
       "       'PCIP30', 'PCIP31', 'PCIP38', 'PCIP39', 'PCIP40', 'PCIP41', 'PCIP42',\n",
       "       'PCIP43', 'PCIP44', 'PCIP45', 'PCIP46', 'PCIP47', 'PCIP48', 'PCIP49',\n",
       "       'PCIP50', 'PCIP51', 'PCIP52', 'PCIP54', 'UGDS', 'UGDS_WHITE',\n",
       "       'UGDS_BLACK', 'UGDS_HISP', 'UGDS_ASIAN', 'UGDS_AIAN', 'UGDS_NHPI',\n",
       "       'UGDS_2MOR', 'UGDS_NRA', 'UGDS_UNKN', 'PPTUG_EF', 'PCTPELL', 'RET_FT4',\n",
       "       'RET_PT4', 'PCTFLOAN', 'UG25ABV', 'MD_EARN_WNE_P10', 'GT_25K_P6',\n",
       "       'GRAD_DEBT_MDN_SUPP', 'GRAD_DEBT_MDN10YR_SUPP', 'RPY_3YR_RT_SUPP',\n",
       "       'C150_4_POOLED_SUPP', 'NPT4', 'NPT41', 'NPT42', 'NPT43', 'NPT44',\n",
       "       'NPT45'],\n",
       "      dtype='object')"
      ]
     },
     "execution_count": 47,
     "metadata": {},
     "output_type": "execute_result"
    }
   ],
   "source": [
    "uni_df.columns"
   ]
  },
  {
   "cell_type": "code",
   "execution_count": 50,
   "metadata": {},
   "outputs": [],
   "source": [
    "# the SAT/ACT quartile info will be correlated with medians, dropping\n",
    "uni_df.drop(['SATVR25', 'SATVR75', 'SATMT25', 'SATMT75', 'ACTCM25', 'ACTCM75', 'ACTEN25',\n",
    "             'ACTEN75', 'ACTMT25', 'ACTMT75', 'SAT_AVG_ALL'], axis=1, inplace=True)"
   ]
  },
  {
   "cell_type": "code",
   "execution_count": 51,
   "metadata": {},
   "outputs": [
    {
     "data": {
      "text/plain": [
       "78"
      ]
     },
     "execution_count": 51,
     "metadata": {},
     "output_type": "execute_result"
    }
   ],
   "source": [
    "len(uni_df.columns)"
   ]
  },
  {
   "cell_type": "markdown",
   "metadata": {},
   "source": [
    "## let's try a model"
   ]
  },
  {
   "cell_type": "code",
   "execution_count": 52,
   "metadata": {},
   "outputs": [],
   "source": [
    "# using random forest because data isn't normalized and there's a lot of ordinal\n",
    "# and categorical data\n",
    "from sklearn.ensemble import RandomForestRegressor\n",
    "from sklearn.model_selection import train_test_split, GridSearchCV\n",
    "import numpy as np"
   ]
  },
  {
   "cell_type": "code",
   "execution_count": 53,
   "metadata": {},
   "outputs": [],
   "source": [
    "params = {'n_estimators': [100,200,500,1000], \n",
    "          'max_depth': [2,5,10,20,None], \n",
    "          'min_samples_leaf': [1,2,5,10], \n",
    "          'max_features': ['auto', 'sqrt', 'log2']}"
   ]
  },
  {
   "cell_type": "code",
   "execution_count": 54,
   "metadata": {},
   "outputs": [
    {
     "data": {
      "text/plain": [
       "GridSearchCV(cv=None, error_score=nan,\n",
       "             estimator=RandomForestRegressor(bootstrap=True, ccp_alpha=0.0,\n",
       "                                             criterion='mse', max_depth=None,\n",
       "                                             max_features='auto',\n",
       "                                             max_leaf_nodes=None,\n",
       "                                             max_samples=None,\n",
       "                                             min_impurity_decrease=0.0,\n",
       "                                             min_impurity_split=None,\n",
       "                                             min_samples_leaf=1,\n",
       "                                             min_samples_split=2,\n",
       "                                             min_weight_fraction_leaf=0.0,\n",
       "                                             n_estimators=100, n_jobs=None,\n",
       "                                             oob_score=False, random_state=None,\n",
       "                                             verbose=0, warm_start=False),\n",
       "             iid='deprecated', n_jobs=None,\n",
       "             param_grid={'max_depth': [2, 5, 10, 20, None],\n",
       "                         'max_features': ['auto', 'sqrt', 'log2'],\n",
       "                         'min_samples_leaf': [1, 2, 5, 10],\n",
       "                         'n_estimators': [100, 200, 500, 1000]},\n",
       "             pre_dispatch='2*n_jobs', refit=True, return_train_score=False,\n",
       "             scoring=None, verbose=0)"
      ]
     },
     "execution_count": 54,
     "metadata": {},
     "output_type": "execute_result"
    }
   ],
   "source": [
    "rf = RandomForestRegressor()\n",
    "model = GridSearchCV(rf, params)\n",
    "model.fit(uni_df, target)"
   ]
  },
  {
   "cell_type": "code",
   "execution_count": 55,
   "metadata": {},
   "outputs": [
    {
     "data": {
      "text/plain": [
       "RandomForestRegressor(bootstrap=True, ccp_alpha=0.0, criterion='mse',\n",
       "                      max_depth=10, max_features='auto', max_leaf_nodes=None,\n",
       "                      max_samples=None, min_impurity_decrease=0.0,\n",
       "                      min_impurity_split=None, min_samples_leaf=5,\n",
       "                      min_samples_split=2, min_weight_fraction_leaf=0.0,\n",
       "                      n_estimators=100, n_jobs=None, oob_score=False,\n",
       "                      random_state=None, verbose=0, warm_start=False)"
      ]
     },
     "execution_count": 55,
     "metadata": {},
     "output_type": "execute_result"
    }
   ],
   "source": [
    "model.best_estimator_"
   ]
  },
  {
   "cell_type": "code",
   "execution_count": 56,
   "metadata": {},
   "outputs": [
    {
     "data": {
      "text/plain": [
       "-7.934758552974321"
      ]
     },
     "execution_count": 56,
     "metadata": {},
     "output_type": "execute_result"
    }
   ],
   "source": [
    "model.best_score_"
   ]
  },
  {
   "cell_type": "code",
   "execution_count": 57,
   "metadata": {},
   "outputs": [
    {
     "data": {
      "text/plain": [
       "RandomForestRegressor(bootstrap=True, ccp_alpha=0.0, criterion='mse',\n",
       "                      max_depth=10, max_features='auto', max_leaf_nodes=None,\n",
       "                      max_samples=None, min_impurity_decrease=0.0,\n",
       "                      min_impurity_split=None, min_samples_leaf=5,\n",
       "                      min_samples_split=2, min_weight_fraction_leaf=0.0,\n",
       "                      n_estimators=100, n_jobs=None, oob_score=False,\n",
       "                      random_state=None, verbose=0, warm_start=False)"
      ]
     },
     "execution_count": 57,
     "metadata": {},
     "output_type": "execute_result"
    }
   ],
   "source": [
    "rf = RandomForestRegressor(min_samples_leaf=5, max_depth=10)\n",
    "x_train, x_test, y_train, y_test = train_test_split(uni_df, target, test_size=0.1)\n",
    "rf.fit(x_train, y_train)"
   ]
  },
  {
   "cell_type": "code",
   "execution_count": 58,
   "metadata": {},
   "outputs": [
    {
     "data": {
      "text/plain": [
       "0.9675921373723183"
      ]
     },
     "execution_count": 58,
     "metadata": {},
     "output_type": "execute_result"
    }
   ],
   "source": [
    "y_pred = rf.predict(x_test)\n",
    "rf.score(x_train, y_train)"
   ]
  },
  {
   "cell_type": "code",
   "execution_count": 59,
   "metadata": {},
   "outputs": [
    {
     "data": {
      "text/plain": [
       "0.939139373721399"
      ]
     },
     "execution_count": 59,
     "metadata": {},
     "output_type": "execute_result"
    }
   ],
   "source": [
    "rf.score(x_test, y_test)"
   ]
  },
  {
   "cell_type": "code",
   "execution_count": 63,
   "metadata": {},
   "outputs": [],
   "source": [
    "importances, feature_names = zip(*sorted(zip(rf.feature_importances_, uni_df.columns)))"
   ]
  },
  {
   "cell_type": "code",
   "execution_count": 64,
   "metadata": {},
   "outputs": [
    {
     "data": {
      "image/png": "[encoded data removed]",
      "text/plain": [
       "<Figure size 432x288 with 1 Axes>"
      ]
     },
     "metadata": {
      "needs_background": "light"
     },
     "output_type": "display_data"
    }
   ],
   "source": [
    "import matplotlib.pyplot as plt\n",
    "# copied from plots.feature_importances() and fixed an error\n",
    "plt.figure()\n",
    "plt.title('Feature Importances')\n",
    "patches = plt.barh(np.arange(len(feature_names)), importances, color='red', align='center')\n",
    "plt.yticks(np.arange(len(feature_names)), feature_names)\n",
    "plt.xlabel('Importance')\n",
    "plt.ylabel('Feature')\n",
    "\n",
    "cm = plt.cm.get_cmap('jet')\n",
    "# idfk how this used to work\n",
    "# col = importances - min(importances)\n",
    "# col /= max(col)\n",
    "max_importance = max(importances)\n",
    "col = [x/max_importance for x in importances]\n",
    "\n",
    "for c,p in zip(col, patches):\n",
    "    plt.setp(p, 'facecolor', cm(c))\n",
    "\n",
    "plt.show()"
   ]
  },
  {
   "cell_type": "code",
   "execution_count": 65,
   "metadata": {},
   "outputs": [
    {
     "name": "stdout",
     "output_type": "stream",
     "text": [
      "AANAPII 0.0\n",
      "CONTROL 0.0\n",
      "HSI 0.0\n",
      "PCIP12 0.0\n",
      "PCIP22 0.0\n",
      "PCIP39 0.0\n",
      "PCIP41 0.0\n",
      "PCIP46 0.0\n",
      "PCIP47 0.0\n",
      "PCIP48 0.0\n",
      "PCIP49 0.0\n",
      "RELAFFIL 0.0\n",
      "PCIP19 2.6879292670192997e-05\n",
      "PCIP44 2.7975124599104152e-05\n",
      "PCIP15 5.997827583551305e-05\n",
      "NPT41 6.255384480599832e-05\n",
      "NPT44 6.681869256916782e-05\n",
      "NPT42 0.00010134672160166278\n",
      "PCIP54 0.00011099492697403597\n",
      "NPT4 0.0001331940303263317\n",
      "PCIP01 0.00013389490321699934\n",
      "PCIP10 0.00020711815263807292\n",
      "UGDS 0.00020725123691648598\n",
      "PCIP11 0.00020918846104921372\n",
      "PCIP13 0.00021208779348376824\n",
      "RET_PT4 0.00027655749220282654\n",
      "GRAD_DEBT_MDN_SUPP 0.00030697929674643225\n",
      "PCIP23 0.0003183076742836386\n",
      "NPT43 0.00035492796027420336\n",
      "NPT45 0.00037013639282976445\n",
      "PCIP04 0.0003936319943841366\n",
      "GRAD_DEBT_MDN10YR_SUPP 0.0003951466072592706\n",
      "UGDS_HISP 0.00040736144341656363\n",
      "UGDS_NHPI 0.000412119500793773\n",
      "Undergrad Enrollment 0.00041263558996114695\n",
      "GT_25K_P6 0.0004154518346440837\n",
      "PCIP24 0.0004467359116993605\n",
      "LOCALE 0.00047411117261964166\n",
      "In-state 0.0006060416785389633\n",
      "PCIP52 0.0006319959206648782\n",
      "RPY_3YR_RT_SUPP 0.0006526740181986836\n",
      "PCIP38 0.0006871342932398305\n",
      "PCIP42 0.0007391597994494122\n",
      "UGDS_BLACK 0.0007448272040898402\n",
      "PCIP16 0.000748088415009005\n",
      "PCIP30 0.0007512212105598968\n",
      "PCIP26 0.0007645268185726781\n",
      "PCIP14 0.0007729199069088648\n",
      "PCIP27 0.0008027787907156212\n",
      "PCIP43 0.000815953050919345\n",
      "UGDS_ASIAN 0.0008404701070587207\n",
      "UGDS_AIAN 0.000845304345597124\n",
      "PCIP50 0.0008542912945161378\n",
      "PCIP05 0.0008768283122641315\n",
      "PCIP31 0.0009346918421758232\n",
      "UGDS_2MOR 0.0009519584295393719\n",
      "UGDS_UNKN 0.0009772874325696783\n",
      "PCIP45 0.0011703780723360227\n",
      "UGDS_WHITE 0.001216642541993757\n",
      "PCIP09 0.0013761669022938877\n",
      "PCIP40 0.0015908369289788316\n",
      "ACTENMID 0.0016703030460533826\n",
      "Tuition and fees 0.001703691135610715\n",
      "ACTCMMID 0.002218941571374885\n",
      "PCIP03 0.002385087020542561\n",
      "ACTMTMID 0.0024468127532908755\n",
      "UG25ABV 0.0024478613711673225\n",
      "PCTFLOAN 0.0024858193977994837\n",
      "PPTUG_EF 0.00300958664362996\n",
      "UGDS_NRA 0.0030368175579379817\n",
      "PCIP51 0.0038520937154112016\n",
      "MD_EARN_WNE_P10 0.0038981965694834153\n",
      "PCTPELL 0.004992832730558117\n",
      "SATVRMID 0.01629730593490796\n",
      "SAT_AVG 0.01655374173544402\n",
      "SATMTMID 0.018337831304962478\n",
      "RET_FT4 0.038201417250948465\n",
      "C150_4_POOLED_SUPP 0.8495660986168851\n"
     ]
    }
   ],
   "source": [
    "for n,i in zip(feature_names, importances):\n",
    "    print(n,i)"
   ]
  },
  {
   "cell_type": "code",
   "execution_count": 66,
   "metadata": {},
   "outputs": [],
   "source": [
    "# C150_4_POOLED_SUPP\n",
    "# Completion rate for first-time, full-time students at four-year institutions \n",
    "# (150% of expected time to completion) , pooled in two-year rolling averages and \n",
    "# suppressed for small n size."
   ]
  },
  {
   "cell_type": "code",
   "execution_count": 67,
   "metadata": {},
   "outputs": [],
   "source": [
    "# this is weird. last time i ran this the most important features were about the same,\n",
    "# but the difference between them was *not* an order of magnitude"
   ]
  },
  {
   "cell_type": "code",
   "execution_count": 71,
   "metadata": {},
   "outputs": [],
   "source": [
    "import seaborn as sns"
   ]
  },
  {
   "cell_type": "code",
   "execution_count": 75,
   "metadata": {},
   "outputs": [
    {
     "data": {
      "image/png": "[encoded data removed]",
      "text/plain": [
       "<Figure size 432x288 with 1 Axes>"
      ]
     },
     "metadata": {
      "needs_background": "light"
     },
     "output_type": "display_data"
    },
    {
     "data": {
      "image/png": "[encoded data removed]",
      "text/plain": [
       "<Figure size 432x288 with 1 Axes>"
      ]
     },
     "metadata": {
      "needs_background": "light"
     },
     "output_type": "display_data"
    },
    {
     "data": {
      "image/png": "[encoded data removed]",
      "text/plain": [
       "<Figure size 432x288 with 1 Axes>"
      ]
     },
     "metadata": {
      "needs_background": "light"
     },
     "output_type": "display_data"
    },
    {
     "data": {
      "image/png": "[encoded data removed]",
      "text/plain": [
       "<Figure size 432x288 with 1 Axes>"
      ]
     },
     "metadata": {
      "needs_background": "light"
     },
     "output_type": "display_data"
    },
    {
     "data": {
      "image/png": "[encoded data removed]",
      "text/plain": [
       "<Figure size 432x288 with 1 Axes>"
      ]
     },
     "metadata": {
      "needs_background": "light"
     },
     "output_type": "display_data"
    },
    {
     "data": {
      "image/png": "[encoded data removed]",
      "text/plain": [
       "<Figure size 432x288 with 1 Axes>"
      ]
     },
     "metadata": {
      "needs_background": "light"
     },
     "output_type": "display_data"
    },
    {
     "data": {
      "image/png": "[encoded data removed]",
      "text/plain": [
       "<Figure size 432x288 with 1 Axes>"
      ]
     },
     "metadata": {
      "needs_background": "light"
     },
     "output_type": "display_data"
    },
    {
     "data": {
      "image/png": "[encoded data removed]",
      "text/plain": [
       "<Figure size 432x288 with 1 Axes>"
      ]
     },
     "metadata": {
      "needs_background": "light"
     },
     "output_type": "display_data"
    },
    {
     "data": {
      "image/png": "[encoded data removed]",
      "text/plain": [
       "<Figure size 432x288 with 1 Axes>"
      ]
     },
     "metadata": {
      "needs_background": "light"
     },
     "output_type": "display_data"
    },
    {
     "data": {
      "image/png": "[encoded data removed]",
      "text/plain": [
       "<Figure size 432x288 with 1 Axes>"
      ]
     },
     "metadata": {
      "needs_background": "light"
     },
     "output_type": "display_data"
    }
   ],
   "source": [
    "for col in uni_df[list(feature_names[-10:])]:\n",
    "    sns.scatterplot(uni_df[col], target)\n",
    "    plt.show()"
   ]
  },
  {
   "cell_type": "code",
   "execution_count": 76,
   "metadata": {},
   "outputs": [
    {
     "data": {
      "text/plain": [
       "(-0.939464209648718, 5.784737223158431e-109)"
      ]
     },
     "execution_count": 76,
     "metadata": {},
     "output_type": "execute_result"
    }
   ],
   "source": [
    "from scipy.stats import pearsonr\n",
    "\n",
    "pearsonr(uni_df['C150_4_POOLED_SUPP'], target)"
   ]
  },
  {
   "cell_type": "code",
   "execution_count": 89,
   "metadata": {},
   "outputs": [
    {
     "data": {
      "text/plain": [
       "<matplotlib.axes._subplots.AxesSubplot at 0x11ca52400>"
      ]
     },
     "execution_count": 89,
     "metadata": {},
     "output_type": "execute_result"
    },
    {
     "data": {
      "image/png": "[encoded data removed]",
      "text/plain": [
       "<Figure size 432x288 with 1 Axes>"
      ]
     },
     "metadata": {
      "needs_background": "light"
     },
     "output_type": "display_data"
    }
   ],
   "source": [
    "sns.scatterplot(uni_df['Tuition and fees'], target)"
   ]
  },
  {
   "cell_type": "markdown",
   "metadata": {},
   "source": [
    "## interpretation\n",
    "\n",
    "That SAT scores are among the most important features in determining college rank is not surprising. It's not terribly surprising that proportion of Pell grant recipients is also important--highly ranked schools take fewer poor students. \n",
    "\n",
    "What I find most interesting is the high correlation between completion rate and rank (r^2=-0.94, p~=0). Considering the strength of this relationship, I would like to look at the unranked schools from the scorecard data and see if there are some that are overlooked and maybe deserve more attention based on this metric."
   ]
  },
  {
   "cell_type": "code",
   "execution_count": 94,
   "metadata": {},
   "outputs": [
    {
     "data": {
      "text/html": [
       "<div>\n",
       "<style scoped>\n",
       "    .dataframe tbody tr th:only-of-type {\n",
       "        vertical-align: middle;\n",
       "    }\n",
       "\n",
       "    .dataframe tbody tr th {\n",
       "        vertical-align: top;\n",
       "    }\n",
       "\n",
       "    .dataframe thead th {\n",
       "        text-align: right;\n",
       "    }\n",
       "</style>\n",
       "<table border=\"1\" class=\"dataframe\">\n",
       "  <thead>\n",
       "    <tr style=\"text-align: right;\">\n",
       "      <th></th>\n",
       "      <th>INSTNM</th>\n",
       "      <th>C150_4_POOLED_SUPP</th>\n",
       "    </tr>\n",
       "  </thead>\n",
       "  <tbody>\n",
       "    <tr>\n",
       "      <th>3</th>\n",
       "      <td>Franklin W Olin College of Engineering</td>\n",
       "      <td>0.97</td>\n",
       "    </tr>\n",
       "    <tr>\n",
       "      <th>5</th>\n",
       "      <td>Williams College</td>\n",
       "      <td>0.95</td>\n",
       "    </tr>\n",
       "    <tr>\n",
       "      <th>9</th>\n",
       "      <td>Amherst College</td>\n",
       "      <td>0.95</td>\n",
       "    </tr>\n",
       "    <tr>\n",
       "      <th>11</th>\n",
       "      <td>Pacific Islands University</td>\n",
       "      <td>0.95</td>\n",
       "    </tr>\n",
       "    <tr>\n",
       "      <th>14</th>\n",
       "      <td>Pomona College</td>\n",
       "      <td>0.94</td>\n",
       "    </tr>\n",
       "    <tr>\n",
       "      <th>16</th>\n",
       "      <td>Middlebury College</td>\n",
       "      <td>0.94</td>\n",
       "    </tr>\n",
       "    <tr>\n",
       "      <th>17</th>\n",
       "      <td>Haverford College</td>\n",
       "      <td>0.94</td>\n",
       "    </tr>\n",
       "    <tr>\n",
       "      <th>18</th>\n",
       "      <td>Swarthmore College</td>\n",
       "      <td>0.94</td>\n",
       "    </tr>\n",
       "    <tr>\n",
       "      <th>23</th>\n",
       "      <td>Bowdoin College</td>\n",
       "      <td>0.93</td>\n",
       "    </tr>\n",
       "    <tr>\n",
       "      <th>26</th>\n",
       "      <td>Vassar College</td>\n",
       "      <td>0.93</td>\n",
       "    </tr>\n",
       "    <tr>\n",
       "      <th>28</th>\n",
       "      <td>Davidson College</td>\n",
       "      <td>0.93</td>\n",
       "    </tr>\n",
       "    <tr>\n",
       "      <th>29</th>\n",
       "      <td>Carleton College</td>\n",
       "      <td>0.93</td>\n",
       "    </tr>\n",
       "    <tr>\n",
       "      <th>33</th>\n",
       "      <td>Wesleyan University</td>\n",
       "      <td>0.92</td>\n",
       "    </tr>\n",
       "    <tr>\n",
       "      <th>34</th>\n",
       "      <td>Hamilton College</td>\n",
       "      <td>0.92</td>\n",
       "    </tr>\n",
       "    <tr>\n",
       "      <th>35</th>\n",
       "      <td>College of the Holy Cross</td>\n",
       "      <td>0.92</td>\n",
       "    </tr>\n",
       "    <tr>\n",
       "      <th>36</th>\n",
       "      <td>Colgate University</td>\n",
       "      <td>0.92</td>\n",
       "    </tr>\n",
       "    <tr>\n",
       "      <th>37</th>\n",
       "      <td>Colby College</td>\n",
       "      <td>0.91</td>\n",
       "    </tr>\n",
       "    <tr>\n",
       "      <th>38</th>\n",
       "      <td>West Virginia University Hospital Departments ...</td>\n",
       "      <td>0.91</td>\n",
       "    </tr>\n",
       "    <tr>\n",
       "      <th>39</th>\n",
       "      <td>Claremont McKenna College</td>\n",
       "      <td>0.91</td>\n",
       "    </tr>\n",
       "    <tr>\n",
       "      <th>42</th>\n",
       "      <td>Wellesley College</td>\n",
       "      <td>0.91</td>\n",
       "    </tr>\n",
       "  </tbody>\n",
       "</table>\n",
       "</div>"
      ],
      "text/plain": [
       "                                               INSTNM  C150_4_POOLED_SUPP\n",
       "3              Franklin W Olin College of Engineering                0.97\n",
       "5                                    Williams College                0.95\n",
       "9                                     Amherst College                0.95\n",
       "11                         Pacific Islands University                0.95\n",
       "14                                     Pomona College                0.94\n",
       "16                                 Middlebury College                0.94\n",
       "17                                  Haverford College                0.94\n",
       "18                                 Swarthmore College                0.94\n",
       "23                                    Bowdoin College                0.93\n",
       "26                                     Vassar College                0.93\n",
       "28                                   Davidson College                0.93\n",
       "29                                   Carleton College                0.93\n",
       "33                                Wesleyan University                0.92\n",
       "34                                   Hamilton College                0.92\n",
       "35                          College of the Holy Cross                0.92\n",
       "36                                 Colgate University                0.92\n",
       "37                                      Colby College                0.91\n",
       "38  West Virginia University Hospital Departments ...                0.91\n",
       "39                          Claremont McKenna College                0.91\n",
       "42                                  Wellesley College                0.91"
      ]
     },
     "execution_count": 94,
     "metadata": {},
     "output_type": "execute_result"
    }
   ],
   "source": [
    "completion = scorecard[['INSTNM','C150_4_POOLED_SUPP']]\n",
    "# removing for-profit schools\n",
    "completion = completion[scorecard['CONTROL']!=3]\n",
    "completion['C150_4_POOLED_SUPP'] = pd.to_numeric(completion['C150_4_POOLED_SUPP'], errors='coerce')\n",
    "completion.dropna(inplace=True)\n",
    "completion.sort_values(by='C150_4_POOLED_SUPP', ascending=False, inplace=True)\n",
    "best = completion[completion['C150_4_POOLED_SUPP']>0.8]\n",
    "best.reset_index(drop=True, inplace=True)\n",
    "overlooked = best[~best['INSTNM'].isin(Names)]\n",
    "overlooked[:20]"
   ]
  },
  {
   "cell_type": "markdown",
   "metadata": {},
   "source": [
    "Almost all of the top schools here, while not appearing on the Top Universities, list, do appear on other top lists by US News:\n",
    "\n",
    "School | List | Rank\n",
    "--- | --- | ---\n",
    "Olin | Undergraduate Engineering Programs | 3\n",
    "Williams | National Liberal Arts Colleges | 1\n",
    "Amherst | National Liberal Arts Colleges | 2\n",
    "Pacific Islands | NA | NA\n",
    "Pomona | National Liberal Arts Colleges | 5\n",
    "Middlebury | National Liberal Arts Colleges | 7\n",
    "Haverford | National Liberal Arts Colleges | 11\n",
    "Swarthmore | National Liberal Arts Colleges | 3\n",
    "Bowdoin | National Liberal Arts Colleges | 6\n",
    "Vassar | National Liberal Arts Colleges | 14\n",
    "\n",
    "The only exception out of the top 10 is Pacific Islands University, a tiny (double digit student body size), relatively new school in Guam."
   ]
  },
  {
   "cell_type": "code",
   "execution_count": null,
   "metadata": {},
   "outputs": [],
   "source": []
  }
 ],
 "metadata": {
  "kernelspec": {
   "display_name": "Python 3",
   "language": "python",
   "name": "python3"
  },
  "language_info": {
   "codemirror_mode": {
    "name": "ipython",
    "version": 3
   },
   "file_extension": ".py",
   "mimetype": "text/x-python",
   "name": "python",
   "nbconvert_exporter": "python",
   "pygments_lexer": "ipython3",
   "version": "3.7.3"
  }
 },
 "nbformat": 4,
 "nbformat_minor": 4
}
