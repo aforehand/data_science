{
 "cells": [
  {
   "cell_type": "markdown",
   "metadata": {},
   "source": [
    "To what extent do university rankings on US news correlate with other data about these insitutuions?"
   ]
  },
  {
   "cell_type": "code",
   "execution_count": 1,
   "metadata": {},
   "outputs": [],
   "source": [
    "import pandas as pd"
   ]
  },
  {
   "cell_type": "code",
   "execution_count": 2,
   "metadata": {},
   "outputs": [],
   "source": [
    "rankings = pd.read_csv('us_news_university_rankings.csv', encoding='ISO-8859-1')\n",
    "# UnicodeDecodeError: 'utf-8' codec can't decode byte 0xe4 in position 476: invalid continuation byte\n",
    "# solution: use ISO-8859-1 instead of utf-8\n",
    "scorecard = pd.read_csv('college_scorecard.csv')\n",
    "# using CollegeScorecardDataDictionary.xlsx' to understand info on scorecard"
   ]
  },
  {
   "cell_type": "code",
   "execution_count": 3,
   "metadata": {},
   "outputs": [
    {
     "name": "stdout",
     "output_type": "stream",
     "text": [
      "<class 'pandas.core.frame.DataFrame'>\n",
      "RangeIndex: 7703 entries, 0 to 7702\n",
      "Columns: 122 entries, UNITID to C150_4_POOLED_SUPP\n",
      "dtypes: float64(103), int64(7), object(12)\n",
      "memory usage: 7.2+ MB\n"
     ]
    }
   ],
   "source": [
    "scorecard.info()"
   ]
  },
  {
   "cell_type": "code",
   "execution_count": 4,
   "metadata": {},
   "outputs": [
    {
     "name": "stdout",
     "output_type": "stream",
     "text": [
      "<class 'pandas.core.frame.DataFrame'>\n",
      "RangeIndex: 231 entries, 0 to 230\n",
      "Data columns (total 7 columns):\n",
      " #   Column                Non-Null Count  Dtype \n",
      "---  ------                --------------  ----- \n",
      " 0   Name                  231 non-null    object\n",
      " 1   Location              231 non-null    object\n",
      " 2   Rank                  231 non-null    int64 \n",
      " 3   Description           231 non-null    object\n",
      " 4   Tuition and fees      231 non-null    object\n",
      " 5   In-state              133 non-null    object\n",
      " 6   Undergrad Enrollment  231 non-null    object\n",
      "dtypes: int64(1), object(6)\n",
      "memory usage: 12.8+ KB\n"
     ]
    }
   ],
   "source": [
    "rankings.info()"
   ]
  },
  {
   "cell_type": "code",
   "execution_count": 5,
   "metadata": {},
   "outputs": [
    {
     "data": {
      "text/plain": [
       "0               Alabama A & M University\n",
       "1    University of Alabama at Birmingham\n",
       "2                     Amridge University\n",
       "3    University of Alabama in Huntsville\n",
       "4               Alabama State University\n",
       "Name: INSTNM, dtype: object"
      ]
     },
     "execution_count": 5,
     "metadata": {},
     "output_type": "execute_result"
    }
   ],
   "source": [
    "# looking at name formats\n",
    "scorecard['INSTNM'].head()"
   ]
  },
  {
   "cell_type": "code",
   "execution_count": 6,
   "metadata": {},
   "outputs": [
    {
     "data": {
      "text/plain": [
       "0     Princeton University\n",
       "1       Harvard University\n",
       "2    University of Chicago\n",
       "3          Yale University\n",
       "4      Columbia University\n",
       "Name: Name, dtype: object"
      ]
     },
     "execution_count": 6,
     "metadata": {},
     "output_type": "execute_result"
    }
   ],
   "source": [
    "rankings['Name'].head()"
   ]
  },
  {
   "cell_type": "code",
   "execution_count": 7,
   "metadata": {},
   "outputs": [],
   "source": [
    "top_231 = scorecard[scorecard['INSTNM'].isin(rankings['Name'])]"
   ]
  },
  {
   "cell_type": "code",
   "execution_count": 8,
   "metadata": {},
   "outputs": [
    {
     "name": "stdout",
     "output_type": "stream",
     "text": [
      "<class 'pandas.core.frame.DataFrame'>\n",
      "Int64Index: 141 entries, 9 to 4260\n",
      "Columns: 122 entries, UNITID to C150_4_POOLED_SUPP\n",
      "dtypes: float64(103), int64(7), object(12)\n",
      "memory usage: 135.5+ KB\n"
     ]
    }
   ],
   "source": [
    "top_231.info()"
   ]
  },
  {
   "cell_type": "code",
   "execution_count": 9,
   "metadata": {},
   "outputs": [],
   "source": [
    "# that's not all of them\n",
    "hmm = rankings['Name'][~rankings['Name'].isin(scorecard['INSTNM'])]"
   ]
  },
  {
   "cell_type": "code",
   "execution_count": 10,
   "metadata": {},
   "outputs": [
    {
     "data": {
      "text/plain": [
       "4                           Columbia University\n",
       "18           Washington University in St. Louis\n",
       "21           University of California--Berkeley\n",
       "24        University of California--Los Angeles\n",
       "25                       University of Virginia\n",
       "                         ...                   \n",
       "222                 New Mexico State University\n",
       "225         University of Massachusetts--Boston\n",
       "226      University of Massachusetts--Dartmouth\n",
       "227           University of Missouri--St. Louis\n",
       "228    University of North Carolina--Greensboro\n",
       "Name: Name, Length: 90, dtype: object"
      ]
     },
     "execution_count": 10,
     "metadata": {},
     "output_type": "execute_result"
    }
   ],
   "source": [
    "hmm"
   ]
  },
  {
   "cell_type": "code",
   "execution_count": 11,
   "metadata": {},
   "outputs": [
    {
     "data": {
      "text/plain": [
       "2408    Columbia University in the City of New York\n",
       "2626        Teachers College at Columbia University\n",
       "Name: INSTNM, dtype: object"
      ]
     },
     "execution_count": 11,
     "metadata": {},
     "output_type": "execute_result"
    }
   ],
   "source": [
    "scorecard['INSTNM'][scorecard['INSTNM'].str.contains('Columbia University')]"
   ]
  },
  {
   "cell_type": "code",
   "execution_count": 12,
   "metadata": {},
   "outputs": [],
   "source": [
    "scorecard['INSTNM'].replace('Columbia University in the City of New York', 'Columbia University', inplace=True)"
   ]
  },
  {
   "cell_type": "code",
   "execution_count": 13,
   "metadata": {},
   "outputs": [
    {
     "data": {
      "text/plain": [
       "702          George Washington University\n",
       "708         Trinity Washington University\n",
       "2116    Washington University in St Louis\n",
       "3989        Central Washington University\n",
       "3998        Eastern Washington University\n",
       "4050        Western Washington University\n",
       "Name: INSTNM, dtype: object"
      ]
     },
     "execution_count": 13,
     "metadata": {},
     "output_type": "execute_result"
    }
   ],
   "source": [
    "scorecard['INSTNM'][scorecard['INSTNM'].str.contains('Washington University')]"
   ]
  },
  {
   "cell_type": "code",
   "execution_count": 14,
   "metadata": {},
   "outputs": [],
   "source": [
    "scorecard['INSTNM'].replace({'St ': 'St. '}, inplace=True, regex=True)"
   ]
  },
  {
   "cell_type": "code",
   "execution_count": 15,
   "metadata": {},
   "outputs": [
    {
     "data": {
      "text/plain": [
       "225     University of California-Hastings College of Law\n",
       "243                    University of California-Berkeley\n",
       "244                       University of California-Davis\n",
       "245                      University of California-Irvine\n",
       "246                 University of California-Los Angeles\n",
       "247                   University of California-Riverside\n",
       "248                   University of California-San Diego\n",
       "249               University of California-San Francisco\n",
       "250               University of California-Santa Barbara\n",
       "251                  University of California-Santa Cruz\n",
       "307                   Dominican University of California\n",
       "5631                     University of California-Merced\n",
       "Name: INSTNM, dtype: object"
      ]
     },
     "execution_count": 15,
     "metadata": {},
     "output_type": "execute_result"
    }
   ],
   "source": [
    "scorecard['INSTNM'][scorecard['INSTNM'].str.contains('University of California')]"
   ]
  },
  {
   "cell_type": "code",
   "execution_count": 16,
   "metadata": {},
   "outputs": [],
   "source": [
    "scorecard['INSTNM'].replace({'-': '--', ' - ': '--'}, inplace=True, regex=True)\n"
   ]
  },
  {
   "cell_type": "code",
   "execution_count": 17,
   "metadata": {},
   "outputs": [
    {
     "data": {
      "text/plain": [
       "25                                University of Virginia\n",
       "29             University of North Carolina--Chapel Hill\n",
       "31                             College of William & Mary\n",
       "34                       Georgia Institute of Technology\n",
       "41                                     Tulane University\n",
       "46              University of Illinois--Urbana-Champaign\n",
       "52        Pennsylvania State University--University Park\n",
       "53                       Ohio State University--Columbus\n",
       "54                              University of Washington\n",
       "58                           University of Texas--Austin\n",
       "60                     Purdue University--West Lafayette\n",
       "68                              University of Pittsburgh\n",
       "75                 Texas A&M University--College Station\n",
       "77                                         Virginia Tech\n",
       "85                           Binghamton University--SUNY\n",
       "92              North Carolina State University--Raleigh\n",
       "93                       University of Colorado--Boulder\n",
       "97                          Stony Brook University--SUNY\n",
       "101                          University at Buffalo--SUNY\n",
       "103                                University of Alabama\n",
       "105                              University of Tennessee\n",
       "107                          University of New Hampshire\n",
       "109                         University of South Carolina\n",
       "112                               University of Missouri\n",
       "114                               University of Oklahoma\n",
       "123                   The Catholic University of America\n",
       "130                            Colorado State University\n",
       "131                                           New School\n",
       "135              Louisiana State University--Baton Rouge\n",
       "140                             University of Cincinnati\n",
       "146                                      Ohio University\n",
       "148                              St. John Fisher College\n",
       "149                           University at Albany--SUNY\n",
       "150                          University of Texas--Dallas\n",
       "153                            Oklahoma State University\n",
       "155                      University of Illinois--Chicago\n",
       "159                    University of Alabama--Birmingham\n",
       "162                          University of South Florida\n",
       "164                    Maryville University of St. Louis\n",
       "165          Missouri University of Science & Technology\n",
       "166                                St. John's University\n",
       "169                          University of Hawaii--Manoa\n",
       "181                             University of New Mexico\n",
       "186                                   Widener University\n",
       "187                                Kent State University\n",
       "188                        North Dakota State University\n",
       "189                                      Pace University\n",
       "193                       Bowling Green State University\n",
       "196    Indiana University-Purdue University--Indianap...\n",
       "198                    University of Alabama--Huntsville\n",
       "199                       University of Colorado--Denver\n",
       "205                      University of Alaska--Fairbanks\n",
       "206              University of North Carolina--Charlotte\n",
       "218                                University of Montana\n",
       "221                              Gardner-Webb University\n",
       "222                          New Mexico State University\n",
       "228             University of North Carolina--Greensboro\n",
       "Name: Name, dtype: object"
      ]
     },
     "execution_count": 17,
     "metadata": {},
     "output_type": "execute_result"
    }
   ],
   "source": [
    "# how many does that fix?\n",
    "hmm = rankings['Name'][~rankings['Name'].isin(scorecard['INSTNM'])]\n",
    "hmm"
   ]
  },
  {
   "cell_type": "code",
   "execution_count": 18,
   "metadata": {},
   "outputs": [
    {
     "data": {
      "text/plain": [
       "2737              North Carolina A & T State University\n",
       "2738          University of North Carolina at Asheville\n",
       "2739        University of North Carolina at Chapel Hill\n",
       "2740          University of North Carolina at Charlotte\n",
       "2741         University of North Carolina at Greensboro\n",
       "2742                  North Carolina Central University\n",
       "2743    University of North Carolina School of the Arts\n",
       "2744         North Carolina State University at Raleigh\n",
       "2745                    North Carolina Wesleyan College\n",
       "2746            University of North Carolina Wilmington\n",
       "2749           University of North Carolina at Pembroke\n",
       "6090                 Strayer University--North Carolina\n",
       "7117                   DeVry University--North Carolina\n",
       "7240              University of Phoenix--North Carolina\n",
       "Name: INSTNM, dtype: object"
      ]
     },
     "execution_count": 18,
     "metadata": {},
     "output_type": "execute_result"
    }
   ],
   "source": [
    "scorecard['INSTNM'][scorecard['INSTNM'].str.contains('North Carolina')]"
   ]
  },
  {
   "cell_type": "code",
   "execution_count": 20,
   "metadata": {},
   "outputs": [],
   "source": [
    "scorecard['INSTNM'].replace({' at ': '--'}, inplace=True, regex=True)"
   ]
  },
  {
   "cell_type": "code",
   "execution_count": 28,
   "metadata": {},
   "outputs": [
    {
     "data": {
      "text/plain": [
       "3963    The University of Virginia's College--Wise\n",
       "3968           University of Virginia--Main Campus\n",
       "Name: INSTNM, dtype: object"
      ]
     },
     "execution_count": 28,
     "metadata": {},
     "output_type": "execute_result"
    }
   ],
   "source": [
    "scorecard['INSTNM'][scorecard['INSTNM'].str.contains('University of Virginia')]"
   ]
  },
  {
   "cell_type": "code",
   "execution_count": 29,
   "metadata": {},
   "outputs": [],
   "source": [
    "scorecard['INSTNM'].replace({'--Main Campus': ''}, inplace=True, regex=True)"
   ]
  },
  {
   "cell_type": "code",
   "execution_count": 36,
   "metadata": {},
   "outputs": [
    {
     "data": {
      "text/plain": [
       "31                             College of William & Mary\n",
       "41                                     Tulane University\n",
       "46              University of Illinois--Urbana-Champaign\n",
       "52        Pennsylvania State University--University Park\n",
       "53                       Ohio State University--Columbus\n",
       "54                              University of Washington\n",
       "58                           University of Texas--Austin\n",
       "60                     Purdue University--West Lafayette\n",
       "68                              University of Pittsburgh\n",
       "75                 Texas A&M University--College Station\n",
       "77                                         Virginia Tech\n",
       "85                           Binghamton University--SUNY\n",
       "93                       University of Colorado--Boulder\n",
       "97                          Stony Brook University--SUNY\n",
       "101                          University at Buffalo--SUNY\n",
       "103                                University of Alabama\n",
       "105                              University of Tennessee\n",
       "109                         University of South Carolina\n",
       "112                               University of Missouri\n",
       "114                               University of Oklahoma\n",
       "123                   The Catholic University of America\n",
       "130                            Colorado State University\n",
       "131                                           New School\n",
       "135              Louisiana State University--Baton Rouge\n",
       "148                              St. John Fisher College\n",
       "149                           University at Albany--SUNY\n",
       "150                          University of Texas--Dallas\n",
       "164                    Maryville University of St. Louis\n",
       "165          Missouri University of Science & Technology\n",
       "166                                St. John's University\n",
       "187                                Kent State University\n",
       "189                                      Pace University\n",
       "196    Indiana University-Purdue University--Indianap...\n",
       "198                    University of Alabama--Huntsville\n",
       "199                       University of Colorado--Denver\n",
       "205                      University of Alaska--Fairbanks\n",
       "218                                University of Montana\n",
       "221                              Gardner-Webb University\n",
       "Name: Name, dtype: object"
      ]
     },
     "execution_count": 36,
     "metadata": {},
     "output_type": "execute_result"
    }
   ],
   "source": [
    "# how many does that fix?\n",
    "hmm = rankings['Name'][~rankings['Name'].isin(scorecard['INSTNM'])]\n",
    "hmm"
   ]
  },
  {
   "cell_type": "code",
   "execution_count": 38,
   "metadata": {},
   "outputs": [
    {
     "data": {
      "text/plain": [
       "100    SUNY College of Environmental Science and Fore...\n",
       "Name: Name, dtype: object"
      ]
     },
     "execution_count": 38,
     "metadata": {},
     "output_type": "execute_result"
    }
   ],
   "source": [
    "rankings['Name'][rankings['Name'].str.contains(' and ')]"
   ]
  },
  {
   "cell_type": "code",
   "execution_count": 39,
   "metadata": {},
   "outputs": [
    {
     "data": {
      "text/plain": [
       "2603    SUNY College of Environmental Science and Fore...\n",
       "Name: INSTNM, dtype: object"
      ]
     },
     "execution_count": 39,
     "metadata": {},
     "output_type": "execute_result"
    }
   ],
   "source": [
    "scorecard['INSTNM'][scorecard['INSTNM'].str.contains('SUNY College of Environmental Science')]"
   ]
  },
  {
   "cell_type": "code",
   "execution_count": 41,
   "metadata": {},
   "outputs": [
    {
     "name": "stderr",
     "output_type": "stream",
     "text": [
      "/Users/alice/.local/share/virtualenvs/education-YQATvGOP/lib/python3.7/site-packages/pandas/core/indexing.py:671: SettingWithCopyWarning: \n",
      "A value is trying to be set on a copy of a slice from a DataFrame\n",
      "\n",
      "See the caveats in the documentation: https://pandas.pydata.org/pandas-docs/stable/user_guide/indexing.html#returning-a-view-versus-a-copy\n",
      "  self._setitem_with_indexer(indexer, value)\n"
     ]
    }
   ],
   "source": [
    "scorecard['INSTNM'].replace({'and': '&'}, inplace=True, regex=True)\n",
    "scorecard['INSTNM'].iloc[2603] = rankings['Name'].iloc[100]"
   ]
  },
  {
   "cell_type": "code",
   "execution_count": 42,
   "metadata": {},
   "outputs": [
    {
     "data": {
      "text/plain": [
       "17                                 Vanderbilt University\n",
       "33                                   Brandeis University\n",
       "41                                     Tulane University\n",
       "46              University of Illinois--Urbana-Champaign\n",
       "52        Pennsylvania State University--University Park\n",
       "53                       Ohio State University--Columbus\n",
       "54                              University of Washington\n",
       "58                           University of Texas--Austin\n",
       "60                     Purdue University--West Lafayette\n",
       "63                  University of Maryland--College Park\n",
       "68                              University of Pittsburgh\n",
       "75                 Texas A&M University--College Station\n",
       "77                                         Virginia Tech\n",
       "85                           Binghamton University--SUNY\n",
       "93                       University of Colorado--Boulder\n",
       "97                          Stony Brook University--SUNY\n",
       "101                          University at Buffalo--SUNY\n",
       "103                                University of Alabama\n",
       "105                              University of Tennessee\n",
       "109                         University of South Carolina\n",
       "112                               University of Missouri\n",
       "114                               University of Oklahoma\n",
       "123                   The Catholic University of America\n",
       "130                            Colorado State University\n",
       "131                                           New School\n",
       "135              Louisiana State University--Baton Rouge\n",
       "148                              St. John Fisher College\n",
       "149                           University at Albany--SUNY\n",
       "150                          University of Texas--Dallas\n",
       "160             University of Maryland--Baltimore County\n",
       "161                           University of Rhode Island\n",
       "164                    Maryville University of St. Louis\n",
       "166                                St. John's University\n",
       "187                                Kent State University\n",
       "189                                      Pace University\n",
       "196    Indiana University-Purdue University--Indianap...\n",
       "198                    University of Alabama--Huntsville\n",
       "199                       University of Colorado--Denver\n",
       "205                      University of Alaska--Fairbanks\n",
       "213                                   Ashland University\n",
       "218                                University of Montana\n",
       "221                              Gardner-Webb University\n",
       "223                                Shenandoah University\n",
       "Name: Name, dtype: object"
      ]
     },
     "execution_count": 42,
     "metadata": {},
     "output_type": "execute_result"
    }
   ],
   "source": [
    "# how many does that fix?\n",
    "hmm = rankings['Name'][~rankings['Name'].isin(scorecard['INSTNM'])]\n",
    "hmm"
   ]
  },
  {
   "cell_type": "code",
   "execution_count": 49,
   "metadata": {},
   "outputs": [
    {
     "data": {
      "text/plain": [
       "1529    Tulane University of Louisiana\n",
       "Name: INSTNM, dtype: object"
      ]
     },
     "execution_count": 49,
     "metadata": {},
     "output_type": "execute_result"
    }
   ],
   "source": [
    "# scorecard doesn't have Vanderbilt U\n",
    "scorecard['INSTNM'][scorecard['INSTNM'].str.contains('Tulane')]"
   ]
  },
  {
   "cell_type": "code",
   "execution_count": 50,
   "metadata": {},
   "outputs": [],
   "source": [
    "scorecard['INSTNM'].replace({'Tulane University of Louisiana': 'Tulane University'}, inplace=True, regex=True)"
   ]
  },
  {
   "cell_type": "code",
   "execution_count": 51,
   "metadata": {},
   "outputs": [
    {
     "data": {
      "text/plain": [
       "1048              University of Illinois--Chicago\n",
       "1051    University of Illinois--Urbana--Champaign\n",
       "1137          University of Illinois--Springfield\n",
       "Name: INSTNM, dtype: object"
      ]
     },
     "execution_count": 51,
     "metadata": {},
     "output_type": "execute_result"
    }
   ],
   "source": [
    "scorecard['INSTNM'][scorecard['INSTNM'].str.contains('University of Illinois')]"
   ]
  },
  {
   "cell_type": "code",
   "execution_count": 52,
   "metadata": {},
   "outputs": [],
   "source": [
    "scorecard['INSTNM'].replace({'University of Illinois--Urbana--Champaign': 'University of Illinois--Urbana-Champaign'}, inplace=True, regex=True)"
   ]
  },
  {
   "cell_type": "code",
   "execution_count": 55,
   "metadata": {},
   "outputs": [
    {
     "data": {
      "text/plain": [
       "3211         Pennsylvania State University--Dickinson Law\n",
       "3312    Pennsylvania State University--Penn State Erie...\n",
       "3313    Pennsylvania State University--Penn State Grea...\n",
       "3314    Pennsylvania State University--College of Medi...\n",
       "3315    Pennsylvania State University--Penn State New ...\n",
       "3316    Pennsylvania State University--Penn State Shen...\n",
       "3317    Pennsylvania State University--Penn State Wilk...\n",
       "3318    Pennsylvania State University--Penn State Wort...\n",
       "3319    Pennsylvania State University--Penn State Lehi...\n",
       "3320    Pennsylvania State University--Penn State Altoona\n",
       "3321     Pennsylvania State University--Penn State Beaver\n",
       "3322      Pennsylvania State University--Penn State Berks\n",
       "3323    Pennsylvania State University--Penn State Harr...\n",
       "3324    Pennsylvania State University--Penn State Br&y...\n",
       "3325     Pennsylvania State University--Penn State DuBois\n",
       "3326    Pennsylvania State University--Penn State Faye...\n",
       "3327    Pennsylvania State University--Penn State Hazl...\n",
       "3328                        Pennsylvania State University\n",
       "3329    Pennsylvania State University--Penn State Grea...\n",
       "3330    Pennsylvania State University--Penn State Mont...\n",
       "3331    Pennsylvania State University--Penn State Abin...\n",
       "3332    Pennsylvania State University--Penn State Schu...\n",
       "3333       Pennsylvania State University--Penn State York\n",
       "6947          Pennsylvania State University--World Campus\n",
       "Name: INSTNM, dtype: object"
      ]
     },
     "execution_count": 55,
     "metadata": {},
     "output_type": "execute_result"
    }
   ],
   "source": [
    "scorecard['INSTNM'][scorecard['INSTNM'].str.contains('Pennsylvania State University')]"
   ]
  },
  {
   "cell_type": "code",
   "execution_count": 56,
   "metadata": {},
   "outputs": [],
   "source": [
    "scorecard['INSTNM'].iloc[3328] = 'Pennsylvania State University--University Park'"
   ]
  },
  {
   "cell_type": "code",
   "execution_count": 57,
   "metadata": {},
   "outputs": [
    {
     "data": {
      "text/plain": [
       "2956    Ohio State University Agricultural Technical I...\n",
       "2957                   Ohio State University--Lima Campus\n",
       "2958              Ohio State University--Mansfield Campus\n",
       "2959                 Ohio State University--Marion Campus\n",
       "2960                 Ohio State University--Newark Campus\n",
       "2965                                Ohio State University\n",
       "Name: INSTNM, dtype: object"
      ]
     },
     "execution_count": 57,
     "metadata": {},
     "output_type": "execute_result"
    }
   ],
   "source": [
    "scorecard['INSTNM'][scorecard['INSTNM'].str.contains('Ohio State University')]"
   ]
  },
  {
   "cell_type": "code",
   "execution_count": 60,
   "metadata": {},
   "outputs": [
    {
     "data": {
      "text/plain": [
       "46              University of Illinois--Urbana-Champaign\n",
       "52        Pennsylvania State University--University Park\n",
       "53                       Ohio State University--Columbus\n",
       "58                           University of Texas--Austin\n",
       "60                     Purdue University--West Lafayette\n",
       "63                  University of Maryland--College Park\n",
       "75                 Texas A&M University--College Station\n",
       "85                           Binghamton University--SUNY\n",
       "93                       University of Colorado--Boulder\n",
       "97                          Stony Brook University--SUNY\n",
       "101                          University at Buffalo--SUNY\n",
       "135              Louisiana State University--Baton Rouge\n",
       "149                           University at Albany--SUNY\n",
       "150                          University of Texas--Dallas\n",
       "160             University of Maryland--Baltimore County\n",
       "196    Indiana University-Purdue University--Indianap...\n",
       "198                    University of Alabama--Huntsville\n",
       "199                       University of Colorado--Denver\n",
       "205                      University of Alaska--Fairbanks\n",
       "Name: Name, dtype: object"
      ]
     },
     "execution_count": 60,
     "metadata": {},
     "output_type": "execute_result"
    }
   ],
   "source": [
    "# a lot of the missing names seem to be due to rankings including the name of the \n",
    "# main campus of a university with multiple campuses while scorecard leaves it plain\n",
    "hmm[hmm.str.contains('--')]"
   ]
  },
  {
   "cell_type": "code",
   "execution_count": null,
   "metadata": {},
   "outputs": [],
   "source": []
  }
 ],
 "metadata": {
  "kernelspec": {
   "display_name": "Python 3",
   "language": "python",
   "name": "python3"
  },
  "language_info": {
   "codemirror_mode": {
    "name": "ipython",
    "version": 3
   },
   "file_extension": ".py",
   "mimetype": "text/x-python",
   "name": "python",
   "nbconvert_exporter": "python",
   "pygments_lexer": "ipython3",
   "version": "3.7.3"
  }
 },
 "nbformat": 4,
 "nbformat_minor": 4
}
